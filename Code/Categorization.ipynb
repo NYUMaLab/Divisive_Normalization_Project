{
 "metadata": {
  "name": "",
  "signature": "sha256:17aa33f481dc4cb0f8578b2e8968d9059184198e8571483c7ed891c5064b2780"
 },
 "nbformat": 3,
 "nbformat_minor": 0,
 "worksheets": [
  {
   "cells": [
    {
     "cell_type": "code",
     "collapsed": false,
     "input": [
      "import numpy as np\n",
      "import scipy as sp\n",
      "import math\n",
      "import random\n",
      "from scipy.stats import norm, poisson\n",
      "C = random.randint(0, 1)\n",
      "tau_0 = 1/float(3)\n",
      "tau_1 = 1/float(12)\n",
      "d_tau = tau_0 - tau_1\n",
      "mean = 0\n",
      "sd = 1/tau_0\n",
      "if C == 1:\n",
      "    sd = 1/tau_1\n",
      "s = random.gauss(mean, sd)\n",
      "sigma_tc = 10\n",
      "sigma_tc_2 = sigma_tc**2\n",
      "class Neuron(object):    \n",
      "    def __init__(self, s_pref):\n",
      "        self.s_pref = s_pref\n",
      "    \n",
      "    def response(self, s, g):\n",
      "        f_s = self.f(s, g)\n",
      "        r = np.random.poisson(f_s, 1)[0]\n",
      "        return r\n",
      "    \n",
      "    def f(self, s, g):\n",
      "        num = float(- math.pow((s - self.s_pref), 2))\n",
      "        denom = 2 * sigma_tc_2\n",
      "        return g * math.exp(num/denom)\n",
      "\n",
      "print C\n",
      "print s\n",
      "responses = []\n",
      "neurons = []\n",
      "min_angle = -60\n",
      "max_angle = 60\n",
      "step = 3\n",
      "g = 1\n",
      "for x in np.arange(min_angle, max_angle + 1, step):\n",
      "    n = Neuron(x)\n",
      "    neurons.append(n)\n",
      "    responses.append(n.response(s, g))\n",
      "print responses\n",
      "print len(neurons)"
     ],
     "language": "python",
     "metadata": {},
     "outputs": [
      {
       "output_type": "stream",
       "stream": "stdout",
       "text": [
        "0\n",
        "-1.04980851576\n",
        "[0, 0, 0, 0, 0, 0, 0, 0, 0, 0, 0, 0, 0, 0, 0, 2, 0, 0, 0, 3, 3, 0, 2, 2, 0, 2, 0, 0, 0, 0, 0, 0, 0, 0, 0, 0, 0, 0, 0, 0, 0]\n",
        "41\n"
       ]
      }
     ],
     "prompt_number": 14
    },
    {
     "cell_type": "code",
     "collapsed": false,
     "input": [
      "%matplotlib inline\n",
      "import matplotlib.pyplot as plt\n",
      "fig, ax = plt.subplots(1, 1)\n",
      "s = np.arange(min_angle, max_angle + 1, step)\n",
      "ax.plot(s, responses,'r-', lw=5, alpha=0.6, label='responses')"
     ],
     "language": "python",
     "metadata": {},
     "outputs": [
      {
       "metadata": {},
       "output_type": "pyout",
       "prompt_number": 15,
       "text": [
        "[<matplotlib.lines.Line2D at 0x107848e90>]"
       ]
      },
      {
       "metadata": {},
       "output_type": "display_data",
       "png": "[encoded data removed]",
       "text": [
        "<matplotlib.figure.Figure at 0x1078c5b90>"
       ]
      }
     ],
     "prompt_number": 15
    },
    {
     "cell_type": "code",
     "collapsed": false,
     "input": [
      "import operator\n",
      "def prod(factors):\n",
      "    return reduce(operator.mul, factors, 1)"
     ],
     "language": "python",
     "metadata": {},
     "outputs": [],
     "prompt_number": 16
    },
    {
     "cell_type": "code",
     "collapsed": false,
     "input": [
      "%matplotlib inline\n",
      "fig, ax = plt.subplots(2, sharex=True)\n",
      "p = random.random()\n",
      "tau = random.random() * .5\n",
      "eta = sum([neurons[i].s_pref * (responses[i]/float(sigma_tc_2)) for i in range(len(neurons))])\n",
      "print p\n",
      "print tau\n",
      "print eta\n",
      "\n",
      "\"\"\"\n",
      "for n in range(10):\n",
      "    tau += sum([(responses[i]/sigma_tc_2) for i in range(len(neurons))]) + (tau_0 - (d_tau * p)) - tau\n",
      "    prefact = math.sqrt(tau_0/tau_1)\n",
      "    xpnt = ((eta/tau)**2 + 1/tau * d_tau)/2\n",
      "    p += 1 - (p * (1 + prefact * math.exp(xpnt)))\n",
      "    print \"update\"\n",
      "    print p\n",
      "    print tau\n",
      "\"\"\"\n",
      "\n",
      "for n in range(10):\n",
      "    tau = sum([(responses[i]/sigma_tc_2) for i in range(len(neurons))]) + (tau_0 - (d_tau * p))\n",
      "    prefact = math.sqrt(tau_0/tau_1)\n",
      "    xpnt = ((eta/tau)**2 + 1/tau * d_tau)/2\n",
      "    p = 1/(1 + prefact * math.exp(xpnt))\n",
      "    print \"update\"\n",
      "    print p\n",
      "    print tau\n",
      "\n",
      "#Variational\n",
      "s = np.linspace(norm.ppf(0.01, loc=0, scale=(1/tau_1)), norm.ppf(0.99, loc=0, scale=(1/tau_1)), 100)\n",
      "ax[0].set_ylabel(\"Probability\")\n",
      "ax[0].set_title(\"Variational Inference\")\n",
      "ax[0].plot(s, norm.pdf(s, loc=(eta/tau), scale=(1/tau)) * (1 - p), 'r-', lw=5, alpha=0.6, label='C_0')\n",
      "ax[0].plot(s, norm.pdf(s, loc=(eta/tau), scale=(1/tau)) * p, 'b-', lw=5, alpha=0.6, label='C_1')\n",
      "ax[0].legend()\n",
      "\n",
      "#Analytic\n",
      "def r_sc(stim, tau):\n",
      "    r_s = [prod([poisson.pmf(responses[i], mu = neurons[i].f(s, g)) for i in range(len(neurons))]) for s in stim]\n",
      "    return r_s * norm.pdf(stim, loc=mean, scale=(1/tau))\n",
      "s = np.linspace(norm.ppf(0.01, loc=0, scale=(1/tau_1)), norm.ppf(0.99, loc=0, scale=(1/tau_1)), 100)\n",
      "p_r = sum(r_sc(s, tau_0)) + sum(r_sc(s, tau_1))\n",
      "ax[1].set_xlabel(\"Degrees\")\n",
      "ax[1].set_ylabel(\"Probability\")\n",
      "ax[1].set_title(\"Exact Inference\")\n",
      "ax[1].plot(s, r_sc(s, tau_0)/p_r, 'r-', lw=5, alpha=0.6, label='C_0')\n",
      "ax[1].plot(s, r_sc(s, tau_1)/p_r, 'b-', lw=5, alpha=0.6, label='C_1')"
     ],
     "language": "python",
     "metadata": {},
     "outputs": [
      {
       "output_type": "stream",
       "stream": "stdout",
       "text": [
        "0.465220831924\n",
        "0.410801845188\n",
        "0.21\n",
        "update\n",
        "0.14966253899\n",
        "0.217028125352\n",
        "update\n",
        "0.203045370208\n",
        "0.295917698586\n",
        "update\n",
        "0.19597146282\n",
        "0.282571990781\n",
        "update\n",
        "0.196946383105\n",
        "0.284340467628\n",
        "update\n",
        "0.196812725045\n",
        "0.284096737557\n",
        "update\n",
        "0.19683106235\n",
        "0.284130152072\n",
        "update\n",
        "0.196828546801\n",
        "0.284125567746\n",
        "update\n",
        "0.196828891894\n",
        "0.284126196633\n",
        "update\n",
        "0.196828844553\n",
        "0.28412611036\n",
        "update\n",
        "0.196828851047\n",
        "0.284126122195\n"
       ]
      },
      {
       "metadata": {},
       "output_type": "pyout",
       "prompt_number": 27,
       "text": [
        "[<matplotlib.lines.Line2D at 0x10910f8d0>]"
       ]
      },
      {
       "metadata": {},
       "output_type": "display_data",
       "png": "[encoded data removed]",
       "text": [
        "<matplotlib.figure.Figure at 0x108f6b650>"
       ]
      }
     ],
     "prompt_number": 27
    },
    {
     "cell_type": "code",
     "collapsed": false,
     "input": [],
     "language": "python",
     "metadata": {},
     "outputs": []
    }
   ],
   "metadata": {}
  }
 ]
}