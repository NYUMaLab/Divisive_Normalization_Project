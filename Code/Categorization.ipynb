{
 "metadata": {
  "name": "",
  "signature": "sha256:296d75ed7b1239094a9fce30279682581472293c11d2abf13d1b9015747d7093"
 },
 "nbformat": 3,
 "nbformat_minor": 0,
 "worksheets": [
  {
   "cells": [
    {
     "cell_type": "code",
     "collapsed": false,
     "input": [
      "import numpy as np\n",
      "import scipy as sp\n",
      "import math\n",
      "import random\n",
      "from scipy.stats import norm, poisson\n",
      "C = random.randint(0, 1)\n",
      "tau_0 = 1/float(3)\n",
      "tau_1 = 1/float(12)\n",
      "d_tau = tau_0 - tau_1\n",
      "mean = 0\n",
      "sd = 1/tau_0\n",
      "if C == 1:\n",
      "    sd = 1/tau_1\n",
      "s = random.gauss(mean, sd)\n",
      "sigma_tc = 10\n",
      "sigma_tc_2 = sigma_tc**2\n",
      "class Neuron(object):    \n",
      "    def __init__(self, s_pref):\n",
      "        self.s_pref = s_pref\n",
      "    \n",
      "    def response(self, s, g):\n",
      "        f_s = self.f(s, g)\n",
      "        r = np.random.poisson(f_s, 1)[0]\n",
      "        return r\n",
      "    \n",
      "    def f(self, s, g):\n",
      "        num = float(- math.pow((s - self.s_pref), 2))\n",
      "        denom = 2 * sigma_tc_2\n",
      "        return g * math.exp(num/denom)\n",
      "\n",
      "print C\n",
      "print s\n",
      "responses = []\n",
      "neurons = []\n",
      "min_angle = -60\n",
      "max_angle = 60\n",
      "step = 3\n",
      "g = 1\n",
      "for x in np.arange(min_angle, max_angle + 1, step):\n",
      "    n = Neuron(x)\n",
      "    neurons.append(n)\n",
      "    responses.append(n.response(s, g))\n",
      "print responses\n",
      "print len(neurons)"
     ],
     "language": "python",
     "metadata": {},
     "outputs": [
      {
       "output_type": "stream",
       "stream": "stdout",
       "text": [
        "0\n",
        "-1.04980851576\n",
        "[0, 0, 0, 0, 0, 0, 0, 0, 0, 0, 0, 0, 0, 0, 0, 2, 0, 0, 0, 3, 3, 0, 2, 2, 0, 2, 0, 0, 0, 0, 0, 0, 0, 0, 0, 0, 0, 0, 0, 0, 0]\n",
        "41\n"
       ]
      }
     ],
     "prompt_number": 14
    },
    {
     "cell_type": "code",
     "collapsed": false,
     "input": [
      "%matplotlib inline\n",
      "import matplotlib.pyplot as plt\n",
      "fig, ax = plt.subplots(1, 1)\n",
      "s = np.arange(min_angle, max_angle + 1, step)\n",
      "ax.plot(s, responses,'r-', lw=5, alpha=0.6, label='responses')"
     ],
     "language": "python",
     "metadata": {},
     "outputs": [
      {
       "metadata": {},
       "output_type": "pyout",
       "prompt_number": 15,
       "text": [
        "[<matplotlib.lines.Line2D at 0x107848e90>]"
       ]
      },
      {
       "metadata": {},
       "output_type": "display_data",
       "png": "[encoded data removed]",
       "text": [
        "<matplotlib.figure.Figure at 0x1078c5b90>"
       ]
      }
     ],
     "prompt_number": 15
    },
    {
     "cell_type": "code",
     "collapsed": false,
     "input": [
      "import operator\n",
      "def prod(factors):\n",
      "    return reduce(operator.mul, factors, 1)"
     ],
     "language": "python",
     "metadata": {},
     "outputs": [],
     "prompt_number": 16
    },
    {
     "cell_type": "code",
     "collapsed": false,
     "input": [
      "%matplotlib inline\n",
      "fig, ax = plt.subplots(2, sharex=True)\n",
      "p = random.random()\n",
      "tau = random.random() * .5\n",
      "eta = sum([neurons[i].s_pref * (responses[i]/float(sigma_tc_2)) for i in range(len(neurons))])\n",
      "print p\n",
      "print tau\n",
      "print eta\n",
      "\n",
      "\"\"\"\n",
      "for n in range(10):\n",
      "    tau += sum([(responses[i]/sigma_tc_2) for i in range(len(neurons))]) + (tau_0 - (d_tau * p)) - tau\n",
      "    prefact = math.sqrt(tau_0/tau_1)\n",
      "    xpnt = ((eta/tau)**2 + 1/tau * d_tau)/2\n",
      "    p += 1 - (p * (1 + prefact * math.exp(xpnt)))\n",
      "    print \"update\"\n",
      "    print p\n",
      "    print tau\n",
      "\"\"\"\n",
      "\n",
      "for n in range(10):\n",
      "    tau = sum([(responses[i]/sigma_tc_2) for i in range(len(neurons))]) + (tau_0 - (d_tau * p))\n",
      "    prefact = math.sqrt(tau_0/tau_1)\n",
      "    xpnt = ((eta/tau)**2 + 1/tau * d_tau)/2\n",
      "    p = 1/(1 + prefact * math.exp(xpnt))\n",
      "    print \"update\"\n",
      "    print p\n",
      "    print tau\n",
      "\n",
      "#Variational\n",
      "s = np.linspace(norm.ppf(0.01, loc=0, scale=(1/tau_1)), norm.ppf(0.99, loc=0, scale=(1/tau_1)), 100)\n",
      "ax[0].set_ylabel(\"Probability\")\n",
      "ax[0].set_title(\"Variational Inference\")\n",
      "ax[0].legend()\n",
      "ax[0].plot(s, norm.pdf(s, loc=(eta/tau), scale=(1/tau)) * (1 - p), 'r-', lw=5, alpha=0.6, label='C_0')\n",
      "ax[0].plot(s, norm.pdf(s, loc=(eta/tau), scale=(1/tau)) * p, 'b-', lw=5, alpha=0.6, label='C_1')\n",
      "\n",
      "#Analytic\n",
      "def r_sc(stim, tau):\n",
      "    r_s = [prod([poisson.pmf(responses[i], mu = neurons[i].f(s, g)) for i in range(len(neurons))]) for s in stim]\n",
      "    return r_s * norm.pdf(stim, loc=mean, scale=(1/tau))\n",
      "s = np.linspace(norm.ppf(0.01, loc=0, scale=(1/tau_1)), norm.ppf(0.99, loc=0, scale=(1/tau_1)), 100)\n",
      "p_r = sum(r_sc(s, tau_0)) + sum(r_sc(s, tau_1))\n",
      "ax[1].set_xlabel(\"Degrees\")\n",
      "ax[1].set_ylabel(\"Probability\")\n",
      "ax[1].set_title(\"Exact Inference\")\n",
      "ax[1].plot(s, r_sc(s, tau_0)/p_r, 'r-', lw=5, alpha=0.6, label='C_0')\n",
      "ax[1].plot(s, r_sc(s, tau_1)/p_r, 'b-', lw=5, alpha=0.6, label='C_1')"
     ],
     "language": "python",
     "metadata": {},
     "outputs": [
      {
       "output_type": "stream",
       "stream": "stdout",
       "text": [
        "0.564504826756\n",
        "0.135639709939\n",
        "0.21\n",
        "update\n",
        "0.125610140914\n",
        "0.192207126644\n",
        "update\n",
        "0.20602967395\n",
        "0.301930798105\n",
        "update\n",
        "0.195556587795\n",
        "0.281825914846\n",
        "update\n",
        "0.197003193011\n",
        "0.284444186385\n",
        "update\n",
        "0.196804929695\n",
        "0.284082535081\n",
        "update\n",
        "0.196832131708\n",
        "0.28413210091\n",
        "update\n",
        "0.196828400102\n",
        "0.284125300406\n",
        "update\n",
        "0.196828912018\n",
        "0.284126233308\n",
        "update\n",
        "0.196828841792\n",
        "0.284126105329\n",
        "update\n",
        "0.196828851426\n",
        "0.284126122885\n"
       ]
      },
      {
       "output_type": "stream",
       "stream": "stderr",
       "text": [
        "//anaconda/lib/python2.7/site-packages/matplotlib/axes/_axes.py:475: UserWarning: No labelled objects found. Use label='...' kwarg on individual plots.\n",
        "  warnings.warn(\"No labelled objects found. \"\n"
       ]
      },
      {
       "metadata": {},
       "output_type": "pyout",
       "prompt_number": 26,
       "text": [
        "[<matplotlib.lines.Line2D at 0x108f23090>]"
       ]
      },
      {
       "metadata": {},
       "output_type": "display_data",
       "png": "[encoded data removed]",
       "text": [
        "<matplotlib.figure.Figure at 0x108a2fb10>"
       ]
      }
     ],
     "prompt_number": 26
    },
    {
     "cell_type": "code",
     "collapsed": false,
     "input": [],
     "language": "python",
     "metadata": {},
     "outputs": []
    }
   ],
   "metadata": {}
  }
 ]
}