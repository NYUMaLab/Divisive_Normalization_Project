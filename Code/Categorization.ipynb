{
 "metadata": {
  "name": "",
  "signature": "sha256:841ccb9f028a4b75071101aa389ad12cc39f36972fb153a24e0b581be98e8f27"
 },
 "nbformat": 3,
 "nbformat_minor": 0,
 "worksheets": [
  {
   "cells": [
    {
     "cell_type": "code",
     "collapsed": false,
     "input": [
      "import numpy as np\n",
      "import scipy as sp\n",
      "import math\n",
      "import random\n",
      "from scipy.stats import norm, poisson, entropy\n",
      "C = random.randint(0, 1)\n",
      "tau_0 = 1/float(3)\n",
      "tau_1 = 1/float(12)\n",
      "d_tau = tau_0 - tau_1\n",
      "mean = 0\n",
      "sd = 1/tau_0\n",
      "if C == 1:\n",
      "    sd = 1/tau_1\n",
      "s = random.gauss(mean, sd)\n",
      "sigma_tc = 10\n",
      "sigma_tc_2 = sigma_tc**2\n",
      "class Neuron(object):    \n",
      "    def __init__(self, s_pref):\n",
      "        self.s_pref = s_pref\n",
      "    \n",
      "    def response(self, s, g):\n",
      "        f_s = self.f(s, g)\n",
      "        r = np.random.poisson(f_s, 1)[0]\n",
      "        return r\n",
      "    \n",
      "    def f(self, s, g):\n",
      "        num = float(- math.pow((s - self.s_pref), 2))\n",
      "        denom = 2 * sigma_tc_2\n",
      "        return g * math.exp(num/denom)\n",
      "\n",
      "print C\n",
      "print s\n",
      "responses = []\n",
      "neurons = []\n",
      "min_angle = -60\n",
      "max_angle = 60\n",
      "step = 3\n",
      "g = 1\n",
      "for x in np.arange(min_angle, max_angle + 1, step):\n",
      "    n = Neuron(x)\n",
      "    neurons.append(n)\n",
      "    responses.append(n.response(s, g))\n",
      "print responses\n",
      "print len(neurons)"
     ],
     "language": "python",
     "metadata": {},
     "outputs": [
      {
       "output_type": "stream",
       "stream": "stdout",
       "text": [
        "0\n",
        "-2.50449664268\n",
        "[0, 0, 0, 0, 0, 0, 0, 0, 0, 0, 0, 0, 0, 0, 0, 0, 0, 2, 0, 3, 2, 1, 0, 0, 1, 0, 0, 0, 0, 0, 0, 0, 0, 0, 0, 0, 0, 0, 0, 0, 0]\n",
        "41\n"
       ]
      }
     ],
     "prompt_number": 32
    },
    {
     "cell_type": "code",
     "collapsed": false,
     "input": [
      "%matplotlib inline\n",
      "import matplotlib.pyplot as plt\n",
      "fig, ax = plt.subplots(1, 1)\n",
      "x = np.arange(min_angle, max_angle + 1, step)\n",
      "ax.plot(x, responses,'r-', lw=5, alpha=0.6, label='responses')"
     ],
     "language": "python",
     "metadata": {},
     "outputs": [
      {
       "metadata": {},
       "output_type": "pyout",
       "prompt_number": 33,
       "text": [
        "[<matplotlib.lines.Line2D at 0x108333590>]"
       ]
      },
      {
       "metadata": {},
       "output_type": "display_data",
       "png": "[encoded data removed]",
       "text": [
        "<matplotlib.figure.Figure at 0x107fc8d90>"
       ]
      }
     ],
     "prompt_number": 33
    },
    {
     "cell_type": "code",
     "collapsed": false,
     "input": [
      "import operator\n",
      "def prod(factors):\n",
      "    return reduce(operator.mul, factors, 1)"
     ],
     "language": "python",
     "metadata": {},
     "outputs": [],
     "prompt_number": 34
    },
    {
     "cell_type": "code",
     "collapsed": false,
     "input": [
      "%matplotlib inline\n",
      "fig, ax = plt.subplots(2, sharex=True, sharey=True)\n",
      "p = random.random()\n",
      "tau = random.random() * .5\n",
      "eta = sum([neurons[i].s_pref * (responses[i]/float(sigma_tc_2)) for i in range(len(neurons))])\n",
      "print p\n",
      "print tau\n",
      "print eta\n",
      "\n",
      "\"\"\"\n",
      "for n in range(10):\n",
      "    tau += sum([(responses[i]/sigma_tc_2) for i in range(len(neurons))]) + (tau_0 - (d_tau * p)) - tau\n",
      "    prefact = math.sqrt(tau_0/tau_1)\n",
      "    xpnt = ((eta/tau)**2 + 1/tau * d_tau)/2\n",
      "    p += 1 - (p * (1 + prefact * math.exp(xpnt)))\n",
      "    print \"update\"\n",
      "    print p\n",
      "    print tau\n",
      "\"\"\"\n",
      "\n",
      "for n in range(10):\n",
      "    tau = sum([(responses[i]/sigma_tc_2) for i in range(len(neurons))]) + (tau_0 - (d_tau * p))\n",
      "    prefact = math.sqrt(tau_0/tau_1)\n",
      "    xpnt = ((eta/tau)**2 + 1/tau * d_tau)/2\n",
      "    p = 1/(1 + prefact * math.exp(xpnt))\n",
      "    print \"update\"\n",
      "    print p\n",
      "    print tau\n",
      "\n",
      "#Variational\n",
      "x = np.linspace(norm.ppf(0.01, loc=0, scale=(1/tau_1)), norm.ppf(0.99, loc=0, scale=(1/tau_1)), 100)\n",
      "ax[0].set_ylabel(\"Probability\")\n",
      "ax[0].set_title(\"Variational Inference\")\n",
      "ax[0].plot(x, norm.pdf(x, loc=(eta/tau), scale=(1/tau)) * (1 - p), 'r-', lw=5, alpha=0.6, label='C_0')\n",
      "ax[0].plot(x, norm.pdf(x, loc=(eta/tau), scale=(1/tau)) * p, 'b-', lw=5, alpha=0.6, label='C_1')\n",
      "ax[0].legend()\n",
      "\n",
      "#Analytic\n",
      "def r_sc(x, tau):\n",
      "    r_s = [prod([poisson.pmf(responses[i], mu = neurons[i].f(s, g)) for i in range(len(neurons))]) for s in x]\n",
      "    return r_s * norm.pdf(x, loc=mean, scale=(1/tau))\n",
      "\n",
      "p_r = sum(r_sc(x, tau_0)) + sum(r_sc(x, tau_1))\n",
      "ax[1].set_xlabel(\"Degrees\")\n",
      "ax[1].set_ylabel(\"Probability\")\n",
      "ax[1].set_title(\"Exact Inference\")\n",
      "ax[1].plot(x, r_sc(x, tau_0)/p_r, 'r-', lw=5, alpha=0.6, label='C_0')\n",
      "ax[1].plot(x, r_sc(x, tau_1)/p_r, 'b-', lw=5, alpha=0.6, label='C_1')"
     ],
     "language": "python",
     "metadata": {},
     "outputs": [
      {
       "output_type": "stream",
       "stream": "stdout",
       "text": [
        "0.197776043237\n",
        "0.444158041765\n",
        "-0.12\n",
        "update\n",
        "0.227444562992\n",
        "0.283889322524\n",
        "update\n",
        "0.224528672606\n",
        "0.276472192585\n",
        "update\n",
        "0.224821975895\n",
        "0.277201165182\n",
        "update\n",
        "0.224792540906\n",
        "0.277127839359\n",
        "update\n",
        "0.224795495591\n",
        "0.277135198107\n",
        "update\n",
        "0.224795199007\n",
        "0.277134459435\n",
        "update\n",
        "0.224795228777\n",
        "0.277134533582\n",
        "update\n",
        "0.224795225789\n",
        "0.277134526139\n",
        "update\n",
        "0.224795226089\n",
        "0.277134526886\n",
        "update\n",
        "0.224795226059\n",
        "0.277134526811\n"
       ]
      },
      {
       "metadata": {},
       "output_type": "pyout",
       "prompt_number": 42,
       "text": [
        "[<matplotlib.lines.Line2D at 0x10a819e90>]"
       ]
      },
      {
       "metadata": {},
       "output_type": "display_data",
       "png": "[encoded data removed]",
       "text": [
        "<matplotlib.figure.Figure at 0x1093501d0>"
       ]
      }
     ],
     "prompt_number": 42
    },
    {
     "cell_type": "code",
     "collapsed": false,
     "input": [
      "v_C0 = [norm.pdf(stim, loc=(eta/tau), scale=(1/tau)) * (1 - p) for stim in x] \n",
      "v_C1 = [norm.pdf(stim, loc=(eta/tau), scale=(1/tau)) * p for stim in x]\n",
      "a_C0 = list(r_sc(x, tau_0)/p_r)\n",
      "a_C1 = list(r_sc(x, tau_1)/p_r)\n",
      "variational = v_C0 + v_C1\n",
      "analytic = a_C0 + a_C1\n",
      "print entropy(analytic, variational)"
     ],
     "language": "python",
     "metadata": {},
     "outputs": [
      {
       "output_type": "stream",
       "stream": "stdout",
       "text": [
        "0.14247649513\n"
       ]
      }
     ],
     "prompt_number": 50
    },
    {
     "cell_type": "code",
     "collapsed": false,
     "input": [],
     "language": "python",
     "metadata": {},
     "outputs": []
    }
   ],
   "metadata": {}
  }
 ]
}