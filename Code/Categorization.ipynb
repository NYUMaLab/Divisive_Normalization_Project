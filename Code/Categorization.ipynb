{
 "metadata": {
  "name": "",
  "signature": "sha256:080bb08226bf1c7a08bb0e4f02cd7da5d782329bbaa554b9a6d7d93728c9947e"
 },
 "nbformat": 3,
 "nbformat_minor": 0,
 "worksheets": [
  {
   "cells": [
    {
     "cell_type": "code",
     "collapsed": false,
     "input": [
      "import numpy as np\n",
      "import scipy as sp\n",
      "import math\n",
      "import random\n",
      "from scipy.stats import norm, poisson\n",
      "C = random.randint(0, 1)\n",
      "tau_0 = 1/float(3)\n",
      "tau_1 = 1/float(12)\n",
      "d_tau = tau_0 - tau_1\n",
      "mean = 0\n",
      "sd = 1/tau_0\n",
      "if C == 1:\n",
      "    sd = tau_1\n",
      "s = random.gauss(mean, sd)\n",
      "sigma_tc = 10\n",
      "sigma_tc_2 = sigma_tc**2\n",
      "class Neuron(object):    \n",
      "    def __init__(self, s_pref):\n",
      "        self.s_pref = s_pref\n",
      "    \n",
      "    def response(self, s, g):\n",
      "        f_s = self.f(s, g)\n",
      "        r = np.random.poisson(f_s, 1)[0]\n",
      "        return r\n",
      "    \n",
      "    def f(self, s, g):\n",
      "        num = float(- math.pow((s - self.s_pref), 2))\n",
      "        denom = 2 * sigma_tc_2\n",
      "        return g * math.exp(num/denom)\n",
      "\n",
      "print C\n",
      "print s\n",
      "responses = []\n",
      "neurons = []\n",
      "min_angle = -60\n",
      "max_angle = 60\n",
      "step = 3\n",
      "g = 1\n",
      "for x in np.arange(min_angle, max_angle + 1, step):\n",
      "    n = Neuron(x)\n",
      "    neurons.append(n)\n",
      "    responses.append(n.response(s, g))\n",
      "print responses\n",
      "print len(neurons)"
     ],
     "language": "python",
     "metadata": {},
     "outputs": [
      {
       "output_type": "stream",
       "stream": "stdout",
       "text": [
        "0\n",
        "1.87854342917\n",
        "[0, 0, 0, 0, 0, 0, 0, 0, 0, 0, 0, 0, 0, 0, 0, 0, 1, 0, 0, 2, 0, 0, 0, 1, 3, 1, 0, 1, 1, 0, 0, 0, 0, 0, 0, 0, 0, 0, 0, 0, 0]\n",
        "41\n"
       ]
      }
     ],
     "prompt_number": 11
    },
    {
     "cell_type": "code",
     "collapsed": false,
     "input": [
      "%matplotlib inline\n",
      "import matplotlib.pyplot as plt\n",
      "fig, ax = plt.subplots(1, 1)\n",
      "x = np.arange(min_angle, max_angle + 1, step)\n",
      "ax.plot(x, responses,'r-', lw=5, alpha=0.6, label='responses')"
     ],
     "language": "python",
     "metadata": {},
     "outputs": [
      {
       "metadata": {},
       "output_type": "pyout",
       "prompt_number": 12,
       "text": [
        "[<matplotlib.lines.Line2D at 0x1078d9750>]"
       ]
      },
      {
       "metadata": {},
       "output_type": "display_data",
       "png": "[encoded data removed]",
       "text": [
        "<matplotlib.figure.Figure at 0x106008190>"
       ]
      }
     ],
     "prompt_number": 12
    },
    {
     "cell_type": "code",
     "collapsed": false,
     "input": [
      "p = random.random()\n",
      "tau = random.random() * .5\n",
      "eta = sum([neurons[i].s_pref * (responses[i]/sigma_tc_2) for i in range(len(neurons))])\n",
      "print p\n",
      "print tau\n",
      "print eta\n",
      "\n",
      "\"\"\"\n",
      "for n in range(10):\n",
      "    tau += sum([(responses[i]/sigma_tc_2) for i in range(len(neurons))]) + (tau_0 - (d_tau * p)) - tau\n",
      "    prefact = math.sqrt(tau_0/tau_1)\n",
      "    xpnt = ((eta/tau)**2 + 1/tau * d_tau)/2\n",
      "    p += 1 - (p * (1 + prefact * math.exp(xpnt)))\n",
      "    print \"update\"\n",
      "    print p\n",
      "    print tau\n",
      "\"\"\"\n",
      "\n",
      "for n in range(10):\n",
      "    tau = sum([(responses[i]/sigma_tc_2) for i in range(len(neurons))]) + (tau_0 - (d_tau * p))\n",
      "    prefact = math.sqrt(tau_0/tau_1)\n",
      "    xpnt = ((eta/tau)**2 + 1/tau * d_tau)/2\n",
      "    p = 1/(1 + prefact * math.exp(xpnt))\n",
      "    print \"update\"\n",
      "    print p\n",
      "    print tau"
     ],
     "language": "python",
     "metadata": {},
     "outputs": [
      {
       "output_type": "stream",
       "stream": "stdout",
       "text": [
        "0.387284703251\n",
        "0.348293606559\n",
        "0.87\n",
        "update\n",
        "0.0120495052815\n",
        "0.336512157521\n",
        "update\n",
        "0.0462051203855\n",
        "0.430320957013\n",
        "update\n",
        "0.0424184983329\n",
        "0.421782053237\n",
        "update\n",
        "0.0428339658421\n",
        "0.42272870875\n",
        "update\n",
        "0.0427883254811\n",
        "0.422624841873\n",
        "update\n",
        "0.0427933385492\n",
        "0.422636251963\n",
        "update\n",
        "0.0427927879134\n",
        "0.422634998696\n",
        "update\n",
        "0.0427928483952\n",
        "0.422635136355\n",
        "update\n",
        "0.0427928417519\n",
        "0.422635121235\n",
        "update\n",
        "0.0427928424816\n",
        "0.422635122895\n"
       ]
      }
     ],
     "prompt_number": 35
    }
   ],
   "metadata": {}
  }
 ]
}