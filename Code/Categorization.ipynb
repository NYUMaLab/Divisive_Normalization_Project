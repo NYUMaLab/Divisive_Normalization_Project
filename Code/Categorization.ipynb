{
 "metadata": {
  "name": "",
  "signature": "sha256:4ab1aef213fc630cbe99bcd704670a87c5c0cace90b74cc82bdde6e9f19bd59b"
 },
 "nbformat": 3,
 "nbformat_minor": 0,
 "worksheets": [
  {
   "cells": [
    {
     "cell_type": "markdown",
     "metadata": {},
     "source": [
      "Variational Inference!\n",
      "Generate input responses:"
     ]
    },
    {
     "cell_type": "code",
     "collapsed": false,
     "input": [
      "import numpy as np\n",
      "import scipy as sp\n",
      "import math\n",
      "import random\n",
      "from scipy.stats import norm, poisson, entropy\n",
      "import operator\n",
      "\n",
      "def prod(factors):\n",
      "    return reduce(operator.mul, factors, 1)\n",
      "C = random.randint(0, 1)\n",
      "C = 1\n",
      "s = -7.630375753\n",
      "tau_0 = 1/float(3)\n",
      "tau_1 = 1/float(12)\n",
      "d_tau = tau_0 - tau_1\n",
      "mean = 0\n",
      "sd = 1/tau_0\n",
      "if C == 1:\n",
      "    sd = 1/tau_1\n",
      "#s = random.gauss(mean, sd)\n",
      "sigma_tc = 10\n",
      "sigma_tc_2 = sigma_tc**2\n",
      "class Neuron(object):    \n",
      "    def __init__(self, s_pref):\n",
      "        self.s_pref = s_pref\n",
      "    \n",
      "    def response(self, s, g):\n",
      "        f_s = self.f(s, g)\n",
      "        r = np.random.poisson(f_s, 1)[0]\n",
      "        return r\n",
      "    \n",
      "    def f(self, s, g):\n",
      "        num = float(- math.pow((s - self.s_pref), 2))\n",
      "        denom = 2 * sigma_tc_2\n",
      "        return g * math.exp(num/denom)\n",
      "\n",
      "print C\n",
      "print s\n",
      "responses = []\n",
      "neurons = []\n",
      "min_angle = -60\n",
      "max_angle = 60\n",
      "step = 3\n",
      "g = 1\n",
      "for x in np.arange(min_angle, max_angle + 1, step):\n",
      "    n = Neuron(x)\n",
      "    neurons.append(n)\n",
      "    responses.append(n.response(s, g))\n",
      "print responses\n",
      "print len(neurons)"
     ],
     "language": "python",
     "metadata": {},
     "outputs": [
      {
       "output_type": "stream",
       "stream": "stdout",
       "text": [
        "1\n",
        "-7.630375753\n",
        "[0, 0, 0, 0, 0, 0, 0, 0, 0, 0, 0, 2, 0, 1, 0, 2, 0, 1, 1, 2, 0, 0, 0, 0, 0, 1, 0, 0, 0, 0, 0, 0, 0, 0, 0, 0, 0, 0, 0, 0, 0]\n",
        "41\n"
       ]
      }
     ],
     "prompt_number": 117
    },
    {
     "cell_type": "markdown",
     "metadata": {},
     "source": [
      "Plot them:"
     ]
    },
    {
     "cell_type": "code",
     "collapsed": false,
     "input": [
      "%matplotlib inline\n",
      "import matplotlib.pyplot as plt\n",
      "fig, ax = plt.subplots(1, 1)\n",
      "x = np.arange(min_angle, max_angle + 1, step)\n",
      "ax.plot(x, responses,'r-', lw=5, alpha=0.6, label='responses')"
     ],
     "language": "python",
     "metadata": {},
     "outputs": [
      {
       "metadata": {},
       "output_type": "pyout",
       "prompt_number": 118,
       "text": [
        "[<matplotlib.lines.Line2D at 0x114cecd90>]"
       ]
      },
      {
       "metadata": {},
       "output_type": "display_data",
       "png": "[encoded data removed]",
       "text": [
        "<matplotlib.figure.Figure at 0x1165b7d90>"
       ]
      }
     ],
     "prompt_number": 118
    },
    {
     "cell_type": "markdown",
     "metadata": {},
     "source": [
      "Run inference algorithm:"
     ]
    },
    {
     "cell_type": "code",
     "collapsed": false,
     "input": [
      "p = random.random()\n",
      "tau = random.random() * .5\n",
      "eta = sum([neurons[i].s_pref * (responses[i]/float(sigma_tc_2)) for i in range(len(neurons))])\n",
      "print p\n",
      "print tau\n",
      "print eta\n",
      "\n",
      "\"\"\"\n",
      "for n in range(10):\n",
      "    tau += sum([(responses[i]/sigma_tc_2) for i in range(len(neurons))]) + (tau_0 - (d_tau * p)) - tau\n",
      "    prefact = math.sqrt(tau_0/tau_1)\n",
      "    xpnt = ((eta/tau)**2 + 1/tau * d_tau)/2\n",
      "    p += 1 - (p * (1 + prefact * math.exp(xpnt)))\n",
      "    print \"update\"\n",
      "    print p\n",
      "    print tau\n",
      "\"\"\"\n",
      "\n",
      "for n in range(10):\n",
      "    tau = sum([(responses[i]/sigma_tc_2) for i in range(len(neurons))]) + (tau_0 - (d_tau * p))\n",
      "    prefact = math.sqrt(tau_0/tau_1)\n",
      "    xpnt = ((eta/tau)**2 + 1/tau * d_tau)/2\n",
      "    p = 1/(1 + prefact * math.exp(xpnt))\n",
      "    print \"update\"\n",
      "    print p\n",
      "    print tau\n",
      "\n",
      "%matplotlib inline\n",
      "fig, ax = plt.subplots(2, sharex=True, sharey=True)\n",
      "#Variational\n",
      "x = np.linspace(-60, 60, 1000)\n",
      "ax[0].set_ylabel(\"Probability\")\n",
      "ax[0].set_title(\"Variational Inference\")\n",
      "ax[0].plot(x, norm.pdf(x, loc=(eta/tau), scale=(1/tau)) * (1 - p), 'r-', lw=5, alpha=0.6, label='C_0')\n",
      "ax[0].plot(x, norm.pdf(x, loc=(eta/tau), scale=(1/tau)) * p, 'b-', lw=5, alpha=0.6, label='C_1')\n",
      "ax[0].legend()\n",
      "\n",
      "#Analytic\n",
      "def r_sc(x, tau):\n",
      "    r_s = [prod([poisson.pmf(responses[i], mu = neurons[i].f(s, g)) for i in range(len(neurons))]) for s in x]\n",
      "    return r_s * norm.pdf(x, loc=mean, scale=(1/tau))\n",
      "p_r = sum(r_sc(x, tau_0)) + sum(r_sc(x, tau_1))\n",
      "ax[1].set_xlabel(\"Degrees\")\n",
      "ax[1].set_ylabel(\"Probability\")\n",
      "ax[1].set_title(\"Exact Inference\")\n",
      "ax[1].plot(x, r_sc(x, tau_0)/p_r, 'r-', lw=5, alpha=0.6, label='C_0')\n",
      "ax[1].plot(x, r_sc(x, tau_1)/p_r, 'b-', lw=5, alpha=0.6, label='C_1')"
     ],
     "language": "python",
     "metadata": {},
     "outputs": [
      {
       "output_type": "stream",
       "stream": "stdout",
       "text": [
        "0.572463663368\n",
        "0.0805487949093\n",
        "-1.11\n",
        "update\n",
        "1.04527725713e-08\n",
        "0.190217417491\n",
        "update\n",
        "0.00134153646319\n",
        "0.33333333072\n",
        "update\n",
        "0.00132614919159\n",
        "0.332997949218\n",
        "update\n",
        "0.00132632493939\n",
        "0.333001796035\n",
        "update\n",
        "0.00132632293196\n",
        "0.333001752098\n",
        "update\n",
        "0.00132632295489\n",
        "0.3330017526\n",
        "update\n",
        "0.00132632295463\n",
        "0.333001752595\n",
        "update\n",
        "0.00132632295463\n",
        "0.333001752595\n",
        "update\n",
        "0.00132632295463\n",
        "0.333001752595\n",
        "update\n",
        "0.00132632295463\n",
        "0.333001752595\n"
       ]
      },
      {
       "metadata": {},
       "output_type": "pyout",
       "prompt_number": 120,
       "text": [
        "[<matplotlib.lines.Line2D at 0x1142e64d0>]"
       ]
      },
      {
       "metadata": {},
       "output_type": "display_data",
       "png": "[encoded data removed]",
       "text": [
        "<matplotlib.figure.Figure at 0x115c04b90>"
       ]
      }
     ],
     "prompt_number": 120
    },
    {
     "cell_type": "markdown",
     "metadata": {},
     "source": [
      "Compute Entropy:"
     ]
    },
    {
     "cell_type": "code",
     "collapsed": false,
     "input": [
      "v_C0 = [norm.pdf(stim, loc=(eta/tau), scale=(1/tau)) * (1 - p) for stim in x] \n",
      "v_C1 = [norm.pdf(stim, loc=(eta/tau), scale=(1/tau)) * p for stim in x]\n",
      "a_C0 = list(r_sc(x, tau_0)/p_r)\n",
      "a_C1 = list(r_sc(x, tau_1)/p_r)\n",
      "variational = v_C0 + v_C1\n",
      "analytic = a_C0 + a_C1\n",
      "print entropy(analytic, variational)"
     ],
     "language": "python",
     "metadata": {},
     "outputs": [
      {
       "output_type": "stream",
       "stream": "stdout",
       "text": [
        "0.142476494534\n"
       ]
      }
     ],
     "prompt_number": 65
    },
    {
     "cell_type": "markdown",
     "metadata": {},
     "source": [
      "Compare analytic vs variational posteriors:"
     ]
    },
    {
     "cell_type": "code",
     "collapsed": false,
     "input": [
      "%matplotlib inline\n",
      "import numpy as np\n",
      "import scipy as sp\n",
      "import math\n",
      "import random\n",
      "from scipy.stats import norm, poisson, entropy\n",
      "\n",
      "class Neuron(object):    \n",
      "    def __init__(self, s_pref):\n",
      "        self.s_pref = s_pref\n",
      "    \n",
      "    def response(self, s, g):\n",
      "        f_s = self.f(s, g)\n",
      "        r = np.random.poisson(f_s, 1)[0]\n",
      "        return r\n",
      "    \n",
      "    def f(self, s, g):\n",
      "        num = float(- math.pow((s - self.s_pref), 2))\n",
      "        denom = 2 * sigma_tc_2\n",
      "        return g * math.exp(num/denom)\n",
      "\n",
      "tau_0 = 1/float(3)\n",
      "tau_1 = 1/float(12)\n",
      "d_tau = tau_0 - tau_1\n",
      "sigma_tc = 10\n",
      "sigma_tc_2 = sigma_tc**2\n",
      "min_angle = -60\n",
      "max_angle = 60\n",
      "step = 3\n",
      "samples = np.linspace(norm.ppf(0.01, loc=0, scale=(1/tau_1)), norm.ppf(0.99, loc=0, scale=(1/tau_1)), 100)\n",
      "\n",
      "def r_sc(x, tau, neurons, responses):\n",
      "        r_s = [prod([poisson.pmf(responses[i], mu = neurons[i].f(s, g)) for i in range(len(neurons))]) for s in x]\n",
      "        return r_s * norm.pdf(x, loc=mean, scale=(1/tau))\n",
      "\n",
      "def run_trial(g):\n",
      "    #generate stimulus\n",
      "    #C = random.randint(0, 1)\n",
      "    C = 1\n",
      "    mean = 0\n",
      "    sd = 1/tau_0\n",
      "    if C == 1:\n",
      "        sd = 1/tau_1\n",
      "    s = random.gauss(mean, sd)\n",
      "    \n",
      "    #generate input responses\n",
      "    responses = []\n",
      "    neurons = []\n",
      "    for x in np.arange(min_angle, max_angle + 1, step):\n",
      "        n = Neuron(x)\n",
      "        neurons.append(n)\n",
      "        responses.append(n.response(s, g))\n",
      "    \n",
      "    #variational inference\n",
      "    p = random.random()\n",
      "    tau = random.random() * .5\n",
      "    eta = sum([neurons[i].s_pref * (responses[i]/float(sigma_tc_2)) for i in range(len(neurons))])\n",
      "\n",
      "    for n in range(10):\n",
      "        tau = sum([(responses[i]/sigma_tc_2) for i in range(len(neurons))]) + (tau_0 - (d_tau * p))\n",
      "        prefact = math.sqrt(tau_0/tau_1)\n",
      "        xpnt = ((eta/tau)**2 + 1/tau * d_tau)/2\n",
      "        p = 1/(1 + prefact * math.exp(xpnt))\n",
      "    \n",
      "    p_r = sum(r_sc(samples, tau_0, neurons, responses)) + sum(r_sc(samples, tau_1, neurons, responses))\n",
      "    \n",
      "    #variational posterior\n",
      "    v_C0 = 1 - p\n",
      "    \n",
      "    #analytic posterior\n",
      "    a_C0 = sum(r_sc(samples, tau_0, neurons, responses)/p_r)\n",
      "    \n",
      "    if v_C0 > a_C0 + .5:\n",
      "        print s\n",
      "        \"\"\"\n",
      "        print \"hit\"\n",
      "        fig, ax = plt.subplots(2, sharex=True, sharey=True)\n",
      "        #Variational\n",
      "        i = np.linspace(-60, 60, 1000)\n",
      "        ax[0].set_ylabel(\"Probability\")\n",
      "        ax[0].set_title(\"Variational Inference\")\n",
      "        ax[0].plot(i, norm.pdf(i, loc=(eta/tau), scale=(1/tau)) * (1 - p), 'r-', lw=5, alpha=0.6, label='C_0')\n",
      "        ax[0].plot(i, norm.pdf(i, loc=(eta/tau), scale=(1/tau)) * p, 'b-', lw=5, alpha=0.6, label='C_1')\n",
      "        ax[0].legend()\n",
      "\n",
      "        #Analytic\n",
      "        ax[1].set_xlabel(\"Degrees\")\n",
      "        ax[1].set_ylabel(\"Probability\")\n",
      "        ax[1].set_title(\"Exact Inference\")\n",
      "        ax[1].plot(i, r_sc(i, tau_0, neurons, responses)/p_r, 'r-', lw=5, alpha=0.6, label='C_0')\n",
      "        ax[1].plot(i, r_sc(i, tau_0, neurons, responses)/p_r, 'b-', lw=5, alpha=0.6, label='C_1')\n",
      "        plt.draw()\n",
      "        \"\"\"\n",
      "    \n",
      "    return (v_C0, a_C0)\n",
      "\n",
      "v1 = [0] * 100\n",
      "a1 = [0] * 100\n",
      "v3 = [0] * 100\n",
      "a3 = [0] * 100\n",
      "v15 = [0] * 100\n",
      "a15 = [0] * 100\n",
      "for i in range(15):\n",
      "    v1[i], a1[i] = run_trial(1)\n",
      "    #v3[i], a3[i] = run_trial(3)\n",
      "    #v15[i], a15[i] = run_trial(15)  \n",
      "\n",
      "%matplotlib inline\n",
      "fig, ax = plt.subplots(1, 1)\n",
      "ax.plot(a1, v1, 'bo', lw=5, alpha=0.6, label='g = 1')\n",
      "#ax.plot(a3, v3, 'go', lw=5, alpha=0.6, label='g = 3')\n",
      "#ax.plot(a15, v15, 'ro', lw=5, alpha=0.6, label='g = 15')\n",
      "ax.axis([0, 1, 0, 1])\n",
      "ax.set_xlabel(\"Analytic\")\n",
      "ax.set_ylabel(\"Variational\")"
     ],
     "language": "python",
     "metadata": {},
     "outputs": [
      {
       "output_type": "stream",
       "stream": "stdout",
       "text": [
        "-7.630375753\n",
        "-26.0840881379"
       ]
      },
      {
       "output_type": "stream",
       "stream": "stdout",
       "text": [
        "\n",
        "6.85204347199"
       ]
      },
      {
       "output_type": "stream",
       "stream": "stdout",
       "text": [
        "\n",
        "-9.40607527653"
       ]
      },
      {
       "output_type": "stream",
       "stream": "stdout",
       "text": [
        "\n",
        "-17.3666280077"
       ]
      },
      {
       "output_type": "stream",
       "stream": "stdout",
       "text": [
        "\n",
        "-19.9483448105"
       ]
      },
      {
       "output_type": "stream",
       "stream": "stdout",
       "text": [
        "\n",
        "-15.8555560394"
       ]
      },
      {
       "output_type": "stream",
       "stream": "stdout",
       "text": [
        "\n",
        "-25.060822823"
       ]
      },
      {
       "output_type": "stream",
       "stream": "stdout",
       "text": [
        "\n",
        "-12.4247946167"
       ]
      },
      {
       "output_type": "stream",
       "stream": "stdout",
       "text": [
        "\n"
       ]
      },
      {
       "metadata": {},
       "output_type": "pyout",
       "prompt_number": 116,
       "text": [
        "<matplotlib.text.Text at 0x1121a7f90>"
       ]
      },
      {
       "metadata": {},
       "output_type": "display_data",
       "png": "[encoded data removed]",
       "text": [
        "<matplotlib.figure.Figure at 0x1165cf7d0>"
       ]
      }
     ],
     "prompt_number": 116
    },
    {
     "cell_type": "code",
     "collapsed": false,
     "input": [],
     "language": "python",
     "metadata": {},
     "outputs": []
    }
   ],
   "metadata": {}
  }
 ]
}