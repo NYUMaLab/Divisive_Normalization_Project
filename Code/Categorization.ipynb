{
 "metadata": {
  "name": "",
  "signature": "sha256:5bc879d53e333a9f85b46fb8dfd690fdc8de90573f1a4c32031b2dbc903056e5"
 },
 "nbformat": 3,
 "nbformat_minor": 0,
 "worksheets": [
  {
   "cells": [
    {
     "cell_type": "code",
     "collapsed": false,
     "input": [
      "import numpy as np\n",
      "import scipy as sp\n",
      "import math\n",
      "import random\n",
      "from scipy.stats import norm, poisson\n",
      "C = random.randint(0, 1)\n",
      "tau_0 = 1/float(3)\n",
      "tau_1 = 1/float(12)\n",
      "d_tau = tau_0 - tau_1\n",
      "mean = 0\n",
      "sd = 1/tau_0\n",
      "if C == 1:\n",
      "    sd = 1/tau_1\n",
      "s = random.gauss(mean, sd)\n",
      "sigma_tc = 10\n",
      "sigma_tc_2 = sigma_tc**2\n",
      "class Neuron(object):    \n",
      "    def __init__(self, s_pref):\n",
      "        self.s_pref = s_pref\n",
      "    \n",
      "    def response(self, s, g):\n",
      "        f_s = self.f(s, g)\n",
      "        r = np.random.poisson(f_s, 1)[0]\n",
      "        return r\n",
      "    \n",
      "    def f(self, s, g):\n",
      "        num = float(- math.pow((s - self.s_pref), 2))\n",
      "        denom = 2 * sigma_tc_2\n",
      "        return g * math.exp(num/denom)\n",
      "\n",
      "print C\n",
      "print s\n",
      "responses = []\n",
      "neurons = []\n",
      "min_angle = -60\n",
      "max_angle = 60\n",
      "step = 3\n",
      "g = 1\n",
      "for x in np.arange(min_angle, max_angle + 1, step):\n",
      "    n = Neuron(x)\n",
      "    neurons.append(n)\n",
      "    responses.append(n.response(s, g))\n",
      "print responses\n",
      "print len(neurons)"
     ],
     "language": "python",
     "metadata": {},
     "outputs": [
      {
       "output_type": "stream",
       "stream": "stdout",
       "text": [
        "1\n",
        "1.75542754456\n",
        "[0, 0, 0, 0, 0, 0, 0, 0, 0, 0, 0, 0, 0, 0, 0, 0, 0, 0, 1, 0, 0, 1, 2, 1, 0, 1, 0, 0, 0, 0, 0, 0, 0, 0, 0, 0, 0, 0, 0, 0, 0]\n",
        "41\n"
       ]
      }
     ],
     "prompt_number": 43
    },
    {
     "cell_type": "code",
     "collapsed": false,
     "input": [
      "%matplotlib inline\n",
      "import matplotlib.pyplot as plt\n",
      "fig, ax = plt.subplots(1, 1)\n",
      "s = np.arange(min_angle, max_angle + 1, step)\n",
      "ax.plot(s, responses,'r-', lw=5, alpha=0.6, label='responses')"
     ],
     "language": "python",
     "metadata": {},
     "outputs": [
      {
       "metadata": {},
       "output_type": "pyout",
       "prompt_number": 25,
       "text": [
        "[<matplotlib.lines.Line2D at 0x1088123d0>]"
       ]
      },
      {
       "metadata": {},
       "output_type": "display_data",
       "png": "[encoded data removed]",
       "text": [
        "<matplotlib.figure.Figure at 0x108108f50>"
       ]
      }
     ],
     "prompt_number": 25
    },
    {
     "cell_type": "code",
     "collapsed": false,
     "input": [
      "%matplotlib inline\n",
      "fig, ax = plt.subplots(1, 1)\n",
      "p = random.random()\n",
      "tau = random.random() * .5\n",
      "eta = sum([neurons[i].s_pref * (responses[i]/float(sigma_tc_2)) for i in range(len(neurons))])\n",
      "print p\n",
      "print tau\n",
      "print eta\n",
      "\n",
      "\"\"\"\n",
      "for n in range(10):\n",
      "    tau += sum([(responses[i]/sigma_tc_2) for i in range(len(neurons))]) + (tau_0 - (d_tau * p)) - tau\n",
      "    prefact = math.sqrt(tau_0/tau_1)\n",
      "    xpnt = ((eta/tau)**2 + 1/tau * d_tau)/2\n",
      "    p += 1 - (p * (1 + prefact * math.exp(xpnt)))\n",
      "    print \"update\"\n",
      "    print p\n",
      "    print tau\n",
      "\"\"\"\n",
      "\n",
      "for n in range(10):\n",
      "    tau = sum([(responses[i]/sigma_tc_2) for i in range(len(neurons))]) + (tau_0 - (d_tau * p))\n",
      "    prefact = math.sqrt(tau_0/tau_1)\n",
      "    xpnt = ((eta/tau)**2 + 1/tau * d_tau)/2\n",
      "    p = 1/(1 + prefact * math.exp(xpnt))\n",
      "    print \"update\"\n",
      "    print p\n",
      "    print tau\n",
      "s = np.linspace(norm.ppf(0.01, loc=(eta/tau), scale=(1/tau)), norm.ppf(0.99, loc=(eta/tau), scale=(1/tau)), 100)\n",
      "ax.plot(s, norm.pdf(s, loc=(eta/tau), scale=(1/tau)) * p, 'r-', lw=5, alpha=0.6, label='variational')\n",
      "ax.plot(s, norm.pdf(s, loc=(eta/tau), scale=(1/tau)) * (1 - p), 'b-', lw=5, alpha=0.6, label='variational')"
     ],
     "language": "python",
     "metadata": {},
     "outputs": [
      {
       "output_type": "stream",
       "stream": "stdout",
       "text": [
        "0.945704754559\n",
        "0.173165900025\n",
        "-0.45\n",
        "update\n",
        "2.86011103533e-06\n",
        "0.0969071446936\n",
        "update\n",
        "0.121382610737\n",
        "0.333332618306\n",
        "update\n",
        "0.0989783677945\n",
        "0.302987680649\n",
        "update\n",
        "0.103264638955\n",
        "0.308588741385\n",
        "update\n",
        "0.102449430818\n",
        "0.307517173595\n",
        "update\n",
        "0.102604655141\n",
        "0.307720975629\n",
        "update\n",
        "0.102575105247\n",
        "0.307682169548\n",
        "update\n",
        "0.102580730865\n",
        "0.307689557022\n",
        "update\n",
        "0.102579659885\n",
        "0.307688150617\n",
        "update\n",
        "0.102579863774\n",
        "0.307688418362\n"
       ]
      },
      {
       "metadata": {},
       "output_type": "pyout",
       "prompt_number": 42,
       "text": [
        "[<matplotlib.lines.Line2D at 0x10ae6b990>]"
       ]
      },
      {
       "metadata": {},
       "output_type": "display_data",
       "png": "[encoded data removed]",
       "text": [
        "<matplotlib.figure.Figure at 0x10ae19a10>"
       ]
      }
     ],
     "prompt_number": 42
    },
    {
     "cell_type": "code",
     "collapsed": false,
     "input": [
      "import operator\n",
      "def prod(factors):\n",
      "    return reduce(operator.mul, factors, 1)"
     ],
     "language": "python",
     "metadata": {},
     "outputs": [],
     "prompt_number": 7
    },
    {
     "cell_type": "code",
     "collapsed": false,
     "input": [
      "%matplotlib inline\n",
      "#Not normalized?\n",
      "fig, ax = plt.subplots(1, 1)\n",
      "def r_s(stim):\n",
      "    return [prod([poisson.pmf(responses[i], mu = neurons[i].f(s, g)) for i in range(len(neurons))]) for s in stim]\n",
      "s = np.linspace(norm.ppf(0.01, loc=0, scale=(1/tau_1)), norm.ppf(0.99, loc=(eta/tau), scale=(1/tau)), 100)\n",
      "ax.plot(s, r_s(s) * norm.pdf(s, loc=mean, scale=(1/tau_0)), 'b-', lw=5, alpha=0.6, label='C_0')\n",
      "ax.plot(s, r_s(s) * norm.pdf(s, loc=mean, scale=(1/tau_1)), 'r-', lw=5, alpha=0.6, label='C_1')"
     ],
     "language": "python",
     "metadata": {},
     "outputs": [
      {
       "metadata": {},
       "output_type": "pyout",
       "prompt_number": 27,
       "text": [
        "[<matplotlib.lines.Line2D at 0x107c32590>]"
       ]
      },
      {
       "metadata": {},
       "output_type": "display_data",
       "png": "[encoded data removed]",
       "text": [
        "<matplotlib.figure.Figure at 0x10882b6d0>"
       ]
      }
     ],
     "prompt_number": 27
    }
   ],
   "metadata": {}
  }
 ]
}