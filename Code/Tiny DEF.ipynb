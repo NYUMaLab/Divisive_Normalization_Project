{
 "metadata": {
  "name": "",
  "signature": "sha256:bd920e8968f1a992990058679bdc5a02387ebe4b71695d1513e414c679e12e50"
 },
 "nbformat": 3,
 "nbformat_minor": 0,
 "worksheets": [
  {
   "cells": [
    {
     "cell_type": "code",
     "collapsed": false,
     "input": [
      "import numpy as np\n",
      "import math\n",
      "from scipy.stats import poisson, norm, bernoulli, gamma\n",
      "from scipy.special import psi\n",
      "\n",
      "#nneuron = 41\n",
      "#sprefs = np.linspace(-60, 60, nneuron)\n",
      "\n",
      "nneuron = 3\n",
      "sprefs = np.linspace(-3, 3, nneuron)\n",
      "\n",
      "sigtc_sq     = float(1**2)\n",
      "ndatapergain = 3000\n",
      "mu = 0\n",
      "gain = 15\n",
      "\n",
      "def generate_popcode_data(ndatapergain, nneuron, sig0_sq, sig1_sq, sigtc_sq, gain, noise):\n",
      "    s = np.random.normal(mu, np.sqrt(sig0_sq), ndatapergain)\n",
      "    sprefs_data = np.tile(sprefs, (ndatapergain, 1))\n",
      "    r = gain * np.exp(-np.square((np.transpose(np.tile(s, (nneuron, 1))) - sprefs_data))/(2 * sigtc_sq))\n",
      "    if noise == \"poisson\":\n",
      "        r = np.random.poisson(r) + 0.0\n",
      "    ar = np.sum(r, axis=1)/sigtc_sq\n",
      "    br = np.sum(r*sprefs_data, axis=1)/sigtc_sq\n",
      "    mean = br/ar\n",
      "    var = 1/ar\n",
      "    return r, s, mean, var\n",
      "r, actual, mean, var = generate_popcode_data(ndatapergain, nneuron, sig0_sq, sig1_sq, sigtc_sq, 1, \"poisson\")\n",
      "print r\n",
      "print mean\n",
      "print var"
     ],
     "language": "python",
     "metadata": {},
     "outputs": []
    }
   ],
   "metadata": {}
  }
 ]
}