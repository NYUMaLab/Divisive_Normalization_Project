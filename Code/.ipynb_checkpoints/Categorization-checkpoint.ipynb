{
 "metadata": {
  "name": "",
  "signature": "sha256:bda703b500ff5f3c33ef9f840b3aaf58f99272432612e1737851d5588f02156d"
 },
 "nbformat": 3,
 "nbformat_minor": 0,
 "worksheets": [
  {
   "cells": [
    {
     "cell_type": "markdown",
     "metadata": {},
     "source": [
      "Variational Inference!\n",
      "Generate input responses:"
     ]
    },
    {
     "cell_type": "code",
     "collapsed": false,
     "input": [
      "import numpy as np\n",
      "import scipy as sp\n",
      "import math\n",
      "import random\n",
      "from scipy.stats import norm, poisson, entropy\n",
      "import operator\n",
      "\n",
      "def prod(factors):\n",
      "    return reduce(operator.mul, factors, 1)\n",
      "C = random.randint(0, 1)\n",
      "C = 0\n",
      "tau_0 = 1/float(3)\n",
      "tau_1 = 1/float(12)\n",
      "sigma_0 = 1/tau_0\n",
      "sigma_1 = 1/tau_1\n",
      "d_tau = tau_0 - tau_1\n",
      "mean = 0\n",
      "sd = sigma_0\n",
      "if C == 1:\n",
      "    sd = sigma_1\n",
      "s = random.gauss(mean, sd)\n",
      "sigma_tc = 10\n",
      "sigma_tc_2 = float(sigma_tc**2)\n",
      "class Neuron(object):    \n",
      "    def __init__(self, s_pref):\n",
      "        self.s_pref = s_pref\n",
      "    \n",
      "    def response(self, s, g):\n",
      "        f_s = self.f(s, g)\n",
      "        r = np.random.poisson(f_s, 1)[0]\n",
      "        return r\n",
      "    \n",
      "    def f(self, s, g):\n",
      "        num = float(- math.pow((s - self.s_pref), 2))\n",
      "        denom = 2 * sigma_tc_2\n",
      "        return g * math.exp(num/denom)\n",
      "\n",
      "print C\n",
      "print s\n",
      "responses = []\n",
      "neurons = []\n",
      "min_angle = -60\n",
      "max_angle = 60\n",
      "step = 3\n",
      "g = 1\n",
      "for x in np.arange(min_angle, max_angle + 1, step):\n",
      "    n = Neuron(x)\n",
      "    neurons.append(n)\n",
      "    responses.append(n.response(s, g))\n",
      "print responses\n",
      "print len(neurons)"
     ],
     "language": "python",
     "metadata": {},
     "outputs": [
      {
       "output_type": "stream",
       "stream": "stdout",
       "text": [
        "0\n",
        "2.00636900733\n",
        "[0, 0, 0, 0, 0, 0, 0, 0, 0, 0, 0, 0, 0, 0, 0, 0, 1, 1, 0, 1, 2, 0, 2, 1, 0, 0, 1, 0, 0, 0, 0, 0, 0, 0, 0, 0, 0, 0, 0, 0, 0]\n",
        "41\n"
       ]
      }
     ],
     "prompt_number": 1
    },
    {
     "cell_type": "markdown",
     "metadata": {},
     "source": [
      "Plot them:"
     ]
    },
    {
     "cell_type": "code",
     "collapsed": false,
     "input": [
      "%matplotlib inline\n",
      "import matplotlib.pyplot as plt\n",
      "fig, ax = plt.subplots(1, 1)\n",
      "x = np.arange(min_angle, max_angle + 1, step)\n",
      "ax.plot(x, responses,'r-', lw=5, alpha=0.6, label='responses')"
     ],
     "language": "python",
     "metadata": {},
     "outputs": [
      {
       "metadata": {},
       "output_type": "pyout",
       "prompt_number": 3,
       "text": [
        "[<matplotlib.lines.Line2D at 0x10762b190>]"
       ]
      },
      {
       "metadata": {},
       "output_type": "display_data",
       "png": "[encoded data removed]",
       "text": [
        "<matplotlib.figure.Figure at 0x107488e90>"
       ]
      }
     ],
     "prompt_number": 3
    },
    {
     "cell_type": "markdown",
     "metadata": {},
     "source": [
      "Run inference algorithm:"
     ]
    },
    {
     "cell_type": "code",
     "collapsed": false,
     "input": [
      "print responses\n",
      "a_r = sum(responses)/sigma_tc_2\n",
      "b_r = sum([neurons[i].s_pref * (responses[i]/sigma_tc_2) for i in range(len(neurons))])\n",
      "p = random.random()\n",
      "tau = random.random() * .5\n",
      "eta = b_r\n",
      "prefact = math.sqrt(tau_0/tau_1)\n",
      "print prefact\n",
      "print p\n",
      "print tau\n",
      "print eta\n",
      "\n",
      "\"\"\"\n",
      "for n in range(10):\n",
      "    tau += a_r + (tau_0 - (d_tau * p)) - tau\n",
      "    xpnt = ((eta/tau)**2 + 1/tau * d_tau)/2\n",
      "    p += 1 - (p * (1 + prefact * math.exp(-xpnt)))\n",
      "    print \"update\"\n",
      "    print p\n",
      "    print tau\n",
      "\"\"\"\n",
      "\n",
      "for n in range(10):\n",
      "    tau = a_r + (tau_0 - (d_tau * p))\n",
      "    xpnt = (((eta/tau)**2 + 1/tau) * d_tau)/2\n",
      "    p = 1/(1 + prefact * math.exp(-xpnt))\n",
      "    print \"update\"\n",
      "    print p\n",
      "    print tau\n",
      "\n",
      "%matplotlib inline\n",
      "fig, ax = plt.subplots(2, sharex=True, sharey=True)\n",
      "#Variational\n",
      "x = np.linspace(-60, 60, 1000)\n",
      "ax[0].set_ylabel(\"Probability\")\n",
      "ax[0].set_title(\"Variational Inference\")\n",
      "ax[0].plot(x, norm.pdf(x, loc=(eta/tau), scale=(1/tau)) * (1 - p), 'r-', lw=5, alpha=0.6, label='C_0')\n",
      "ax[0].plot(x, norm.pdf(x, loc=(eta/tau), scale=(1/tau)) * p, 'b-', lw=5, alpha=0.6, label='C_1')\n",
      "ax[0].legend()\n",
      "\n",
      "#Analytic\n",
      "def r_sc(x, tau):\n",
      "    r_s = [prod([poisson.pmf(responses[i], mu = neurons[i].f(s, g)) for i in range(len(neurons))]) for s in x]\n",
      "    return r_s * norm.pdf(x, loc=mean, scale=(1/tau))\n",
      "p_r = sum(r_sc(x, tau_0)) + sum(r_sc(x, tau_1))\n",
      "ax[1].set_xlabel(\"Degrees\")\n",
      "ax[1].set_ylabel(\"Probability\")\n",
      "ax[1].set_title(\"Exact Inference\")\n",
      "ax[1].plot(x, r_sc(x, tau_0)/p_r, 'r-', lw=5, alpha=0.6, label='C_0')\n",
      "ax[1].plot(x, r_sc(x, tau_1)/p_r, 'b-', lw=5, alpha=0.6, label='C_1')"
     ],
     "language": "python",
     "metadata": {},
     "outputs": [
      {
       "output_type": "stream",
       "stream": "stdout",
       "text": [
        "[0, 0, 0, 0, 0, 0, 0, 0, 0, 0, 0, 0, 0, 0, 0, 0, 1, 1, 0, 1, 2, 0, 2, 1, 0, 0, 1, 0, 0, 0, 0, 0, 0, 0, 0, 0, 0, 0, 0, 0, 0]\n",
        "2.0\n",
        "0.385027426962\n",
        "0.453914364943\n",
        "0.15\n",
        "update\n",
        "0.429305963263\n",
        "0.327076476593\n",
        "update\n",
        "0.433049051004\n",
        "0.316006842518\n",
        "update\n",
        "0.433378657598\n",
        "0.315071070582\n",
        "update\n",
        "0.433407784422\n",
        "0.314988668934\n",
        "update\n",
        "0.433410359115\n",
        "0.314981387228\n",
        "update\n",
        "0.433410586714\n",
        "0.314980743554\n",
        "update\n",
        "0.433410606833\n",
        "0.314980686655\n",
        "update\n",
        "0.433410608612\n",
        "0.314980681625\n",
        "update\n",
        "0.433410608769\n",
        "0.31498068118\n",
        "update\n",
        "0.433410608783\n",
        "0.314980681141\n"
       ]
      },
      {
       "metadata": {},
       "output_type": "pyout",
       "prompt_number": 4,
       "text": [
        "[<matplotlib.lines.Line2D at 0x10792b2d0>]"
       ]
      },
      {
       "metadata": {},
       "output_type": "display_data",
       "png": "[encoded data removed]",
       "text": [
        "<matplotlib.figure.Figure at 0x107699dd0>"
       ]
      }
     ],
     "prompt_number": 4
    },
    {
     "cell_type": "code",
     "collapsed": false,
     "input": [
      "a_r = sum(responses)/float(sigma_tc_2)"
     ],
     "language": "python",
     "metadata": {},
     "outputs": [],
     "prompt_number": 5
    },
    {
     "cell_type": "markdown",
     "metadata": {},
     "source": [
      "Compute Entropy:"
     ]
    },
    {
     "cell_type": "code",
     "collapsed": false,
     "input": [
      "v_C0 = [norm.pdf(stim, loc=(eta/tau), scale=(1/tau)) * (1 - p) for stim in x] \n",
      "v_C1 = [norm.pdf(stim, loc=(eta/tau), scale=(1/tau)) * p for stim in x]\n",
      "a_C0 = list(r_sc(x, tau_0)/p_r)\n",
      "a_C1 = list(r_sc(x, tau_1)/p_r)\n",
      "variational = v_C0 + v_C1\n",
      "analytic = a_C0 + a_C1\n",
      "print entropy(analytic, variational)"
     ],
     "language": "python",
     "metadata": {},
     "outputs": [
      {
       "output_type": "stream",
       "stream": "stdout",
       "text": [
        "0.143208089995\n"
       ]
      }
     ],
     "prompt_number": 6
    },
    {
     "cell_type": "markdown",
     "metadata": {},
     "source": [
      "Compare analytic vs variational posteriors:"
     ]
    },
    {
     "cell_type": "code",
     "collapsed": false,
     "input": [
      "%matplotlib inline\n",
      "%config InlineBackend.figure_format = 'svg'\n",
      "import numpy as np\n",
      "import scipy as sp\n",
      "import math\n",
      "import random\n",
      "from scipy.stats import norm, poisson, entropy\n",
      "#import seaborn\n",
      "\n",
      "class Neuron(object):    \n",
      "    def __init__(self, s_pref):\n",
      "        self.s_pref = s_pref\n",
      "    \n",
      "    def response(self, s, g):\n",
      "        f_s = self.f(s, g)\n",
      "        r = np.random.poisson(f_s, 1)[0]\n",
      "        return r\n",
      "    \n",
      "    def f(self, s, g):\n",
      "        num = float(- math.pow((s - self.s_pref), 2))\n",
      "        denom = 2 * sigma_tc_2\n",
      "        return g * math.exp(num/denom)\n",
      "\n",
      "tau_0 = 1/float(3)\n",
      "tau_1 = 1/float(12)\n",
      "d_tau = tau_0 - tau_1\n",
      "sigma_tc = 10\n",
      "sigma_tc_2 = float(sigma_tc**2)\n",
      "sigma_0_2 = 1/tau_0\n",
      "sigma_1_2 = 1/tau_1\n",
      "min_angle = -60\n",
      "max_angle = 60\n",
      "step = 3\n",
      "prefact = math.sqrt(tau_0/tau_1)\n",
      "print \"h\"\n",
      "\n",
      "def run_trial(g):\n",
      "    #generate stimulus\n",
      "    C = random.randint(0, 1)\n",
      "    mean = 0\n",
      "    sd = 1/tau_0\n",
      "    if C == 1:\n",
      "        sd = 1/tau_1\n",
      "    s = random.gauss(mean, sd)\n",
      "    \n",
      "    #generate input responses\n",
      "    responses = []\n",
      "    neurons = []\n",
      "    for x in np.arange(min_angle, max_angle + 1, step):\n",
      "        n = Neuron(x)\n",
      "        neurons.append(n)\n",
      "        responses.append(n.response(s, g))\n",
      "    \n",
      "    a_r = sum(responses)/sigma_tc_2\n",
      "    b_r = sum([neurons[i].s_pref * (responses[i]/sigma_tc_2) for i in range(len(neurons))])\n",
      "    \n",
      "    #variational inference\n",
      "    p = random.random()\n",
      "    tau = random.random() * .5\n",
      "    eta = b_r\n",
      "    \n",
      "    prev_tau = 0\n",
      "    prev_p = 0\n",
      "    c = 0\n",
      "    while prev_tau != tau and prev_p != p:\n",
      "        prev_tau = p\n",
      "        prev_p = tau\n",
      "        c += 1\n",
      "        tau = a_r + (tau_0 - (d_tau * p))\n",
      "        xpnt = (((eta/tau)**2 + 1/tau) * d_tau)/2\n",
      "        p = 1/(1 + prefact * math.exp(-xpnt))\n",
      "    c -= 1\n",
      "    \n",
      "    #variational posterior\n",
      "    v_C0 = 1 - p\n",
      "    \n",
      "    #analytic posterior\n",
      "    term_1 = (1 + sigma_1 * a_r) / (1 + sigma_0 * a_r)\n",
      "    term_2_num = (sigma_1 - sigma_0) * b_r**2\n",
      "    term_2_denom = 2 * (1 + sigma_0 * a_r) * (1 + sigma_1 * a_r)\n",
      "    xpnt_a = .5 * math.log(term_1) - term_2_num/term_2_denom\n",
      "    a_C0 = 1/(1 + math.exp(-xpnt_a)) \n",
      "    \n",
      "    return (v_C0, a_C0, converge)\n",
      "\n",
      "v1 = [0] * 100\n",
      "a1 = [0] * 100\n",
      "v3 = [0] * 100\n",
      "a3 = [0] * 100\n",
      "v15 = [0] * 100\n",
      "a15 = [0] * 100\n",
      "converge1 = [0] * 10\n",
      "converge3 = [0] * 10\n",
      "converge15 = [0] * 10\n",
      "print \"hey\"\n",
      "for i in range(100):\n",
      "    v1[i], a1[i], c1 = run_trial(1)\n",
      "    v3[i], a3[i], c3 = run_trial(3)\n",
      "    v15[i], a15[i], c15 = run_trial(15)\n",
      "    converge1[c1] += 1\n",
      "    converge3[c3] += 1\n",
      "    converge15[c15] += 1\n",
      "    print i\n",
      "    \n",
      "%matplotlib inline\n",
      "fig, ax = plt.subplots(1, 1)\n",
      "ax.plot(a1, v1, 'bo', lw=5, alpha=0.6, label='g = 1')\n",
      "ax.plot(a3, v3, 'go', lw=5, alpha=0.6, label='g = 3')\n",
      "ax.plot(a15, v15, 'ro', lw=5, alpha=0.6, label='g = 15')\n",
      "ax.axis([0, 1, 0, 1])\n",
      "ax.set_xlabel(\"Analytic\")\n",
      "ax.set_ylabel(\"Variational\")"
     ],
     "language": "python",
     "metadata": {},
     "outputs": []
    },
    {
     "cell_type": "code",
     "collapsed": false,
     "input": [],
     "language": "python",
     "metadata": {},
     "outputs": []
    }
   ],
   "metadata": {}
  }
 ]
}