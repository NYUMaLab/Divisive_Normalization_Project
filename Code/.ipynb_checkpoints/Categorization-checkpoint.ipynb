{
 "metadata": {
  "name": "",
  "signature": "sha256:1b19fec113846e378ec72a3d98f0d9450284757ca31c95e416246b2e9a7ce3f2"
 },
 "nbformat": 3,
 "nbformat_minor": 0,
 "worksheets": []
}