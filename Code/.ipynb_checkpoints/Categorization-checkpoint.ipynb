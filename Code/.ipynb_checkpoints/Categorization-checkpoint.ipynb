{
 "metadata": {
  "name": "",
  "signature": "sha256:1698f3f3b10d7bfabb384d4b5fd2b4771536fc246c3dfe69f85cbafbbe64bd4b"
 },
 "nbformat": 3,
 "nbformat_minor": 0,
 "worksheets": [
  {
   "cells": [
    {
     "cell_type": "markdown",
     "metadata": {},
     "source": [
      "Variational Inference!\n",
      "Generate input responses:"
     ]
    },
    {
     "cell_type": "code",
     "collapsed": false,
     "input": [
      "import numpy as np\n",
      "import scipy as sp\n",
      "import math\n",
      "import random\n",
      "from scipy.stats import norm, poisson, entropy\n",
      "import operator\n",
      "\n",
      "def prod(factors):\n",
      "    return reduce(operator.mul, factors, 1)\n",
      "C = random.randint(0, 1)\n",
      "tau_0 = 1/float(3)\n",
      "tau_1 = 1/float(12)\n",
      "d_tau = tau_0 - tau_1\n",
      "mean = 0\n",
      "sd = 1/tau_0\n",
      "if C == 1:\n",
      "    sd = 1/tau_1\n",
      "s = random.gauss(mean, sd)\n",
      "sigma_tc = 10\n",
      "sigma_tc_2 = sigma_tc**2\n",
      "class Neuron(object):    \n",
      "    def __init__(self, s_pref):\n",
      "        self.s_pref = s_pref\n",
      "    \n",
      "    def response(self, s, g):\n",
      "        f_s = self.f(s, g)\n",
      "        r = np.random.poisson(f_s, 1)[0]\n",
      "        return r\n",
      "    \n",
      "    def f(self, s, g):\n",
      "        num = float(- math.pow((s - self.s_pref), 2))\n",
      "        denom = 2 * sigma_tc_2\n",
      "        return g * math.exp(num/denom)\n",
      "\n",
      "print C\n",
      "print s\n",
      "responses = []\n",
      "neurons = []\n",
      "min_angle = -60\n",
      "max_angle = 60\n",
      "step = 3\n",
      "g = 1\n",
      "for x in np.arange(min_angle, max_angle + 1, step):\n",
      "    n = Neuron(x)\n",
      "    neurons.append(n)\n",
      "    responses.append(n.response(s, g))\n",
      "print responses\n",
      "print len(neurons)"
     ],
     "language": "python",
     "metadata": {},
     "outputs": [
      {
       "output_type": "stream",
       "stream": "stdout",
       "text": [
        "1\n",
        "-1.33536932963\n",
        "[0, 0, 0, 0, 0, 0, 0, 0, 0, 0, 0, 1, 0, 0, 0, 0, 0, 0, 2, 3, 1, 0, 0, 0, 0, 0, 0, 0, 0, 0, 0, 0, 0, 0, 0, 0, 0, 0, 0, 0, 0]\n",
        "41\n"
       ]
      }
     ],
     "prompt_number": 78
    },
    {
     "cell_type": "markdown",
     "metadata": {},
     "source": [
      "Plot them:"
     ]
    },
    {
     "cell_type": "code",
     "collapsed": false,
     "input": [
      "%matplotlib inline\n",
      "import matplotlib.pyplot as plt\n",
      "fig, ax = plt.subplots(1, 1)\n",
      "x = np.arange(min_angle, max_angle + 1, step)\n",
      "ax.plot(x, responses,'r-', lw=5, alpha=0.6, label='responses')"
     ],
     "language": "python",
     "metadata": {},
     "outputs": [
      {
       "metadata": {},
       "output_type": "pyout",
       "prompt_number": 79,
       "text": [
        "[<matplotlib.lines.Line2D at 0x10b551710>]"
       ]
      },
      {
       "metadata": {},
       "output_type": "display_data",
       "png": "[encoded data removed]",
       "text": [
        "<matplotlib.figure.Figure at 0x10a9127d0>"
       ]
      }
     ],
     "prompt_number": 79
    },
    {
     "cell_type": "markdown",
     "metadata": {},
     "source": [
      "Run inference algorithm:"
     ]
    },
    {
     "cell_type": "code",
     "collapsed": false,
     "input": [
      "p = random.random()\n",
      "tau = random.random() * .5\n",
      "eta = sum([neurons[i].s_pref * (responses[i]/float(sigma_tc_2)) for i in range(len(neurons))])\n",
      "print p\n",
      "print tau\n",
      "print eta\n",
      "\n",
      "\"\"\"\n",
      "for n in range(10):\n",
      "    tau += sum([(responses[i]/sigma_tc_2) for i in range(len(neurons))]) + (tau_0 - (d_tau * p)) - tau\n",
      "    prefact = math.sqrt(tau_0/tau_1)\n",
      "    xpnt = ((eta/tau)**2 + 1/tau * d_tau)/2\n",
      "    p += 1 - (p * (1 + prefact * math.exp(xpnt)))\n",
      "    print \"update\"\n",
      "    print p\n",
      "    print tau\n",
      "\"\"\"\n",
      "\n",
      "for n in range(10):\n",
      "    tau = sum([(responses[i]/sigma_tc_2) for i in range(len(neurons))]) + (tau_0 - (d_tau * p))\n",
      "    prefact = math.sqrt(tau_0/tau_1)\n",
      "    xpnt = ((eta/tau)**2 + 1/tau * d_tau)/2\n",
      "    p = 1/(1 + prefact * math.exp(xpnt))\n",
      "    print \"update\"\n",
      "    print p\n",
      "    print tau\n",
      "\n",
      "%matplotlib inline\n",
      "fig, ax = plt.subplots(2, sharex=True, sharey=True)\n",
      "#Variational\n",
      "x = np.linspace(norm.ppf(0.01, loc=0, scale=(1/tau_1)), norm.ppf(0.99, loc=0, scale=(1/tau_1)), 100)\n",
      "ax[0].set_ylabel(\"Probability\")\n",
      "ax[0].set_title(\"Variational Inference\")\n",
      "ax[0].plot(x, norm.pdf(x, loc=(eta/tau), scale=(1/tau)) * (1 - p), 'r-', lw=5, alpha=0.6, label='C_0')\n",
      "ax[0].plot(x, norm.pdf(x, loc=(eta/tau), scale=(1/tau)) * p, 'b-', lw=5, alpha=0.6, label='C_1')\n",
      "ax[0].legend()\n",
      "\n",
      "#Analytic\n",
      "def r_sc(x, tau):\n",
      "    r_s = [prod([poisson.pmf(responses[i], mu = neurons[i].f(s, g)) for i in range(len(neurons))]) for s in x]\n",
      "    return r_s * norm.pdf(x, loc=mean, scale=(1/tau))\n",
      "p_r = sum(r_sc(x, tau_0)) + sum(r_sc(x, tau_1))\n",
      "ax[1].set_xlabel(\"Degrees\")\n",
      "ax[1].set_ylabel(\"Probability\")\n",
      "ax[1].set_title(\"Exact Inference\")\n",
      "ax[1].plot(x, r_sc(x, tau_0)/p_r, 'r-', lw=5, alpha=0.6, label='C_0')\n",
      "ax[1].plot(x, r_sc(x, tau_1)/p_r, 'b-', lw=5, alpha=0.6, label='C_1')"
     ],
     "language": "python",
     "metadata": {},
     "outputs": [
      {
       "output_type": "stream",
       "stream": "stdout",
       "text": [
        "0.359287015389\n",
        "0.158658418943\n",
        "-0.48\n",
        "update\n",
        "0.0411226795897\n",
        "0.243511579486\n",
        "update\n",
        "0.101203779394\n",
        "0.323052663436\n",
        "update\n",
        "0.0900468233762\n",
        "0.308032388485\n",
        "update\n",
        "0.092144334674\n",
        "0.310821627489\n",
        "update\n",
        "0.0917508131469\n",
        "0.310297249665\n",
        "update\n",
        "0.0918246723304\n",
        "0.310395630047\n",
        "update\n",
        "0.0918108108887\n",
        "0.310377165251\n",
        "update\n",
        "0.0918134123558\n",
        "0.310380630611\n",
        "update\n",
        "0.0918129241228\n",
        "0.310379980244\n",
        "update\n",
        "0.0918130157525\n",
        "0.310380102303\n"
       ]
      },
      {
       "metadata": {},
       "output_type": "pyout",
       "prompt_number": 80,
       "text": [
        "[<matplotlib.lines.Line2D at 0x10c9e4a10>]"
       ]
      },
      {
       "metadata": {},
       "output_type": "display_data",
       "png": "[encoded data removed]",
       "text": [
        "<matplotlib.figure.Figure at 0x10c8a1410>"
       ]
      }
     ],
     "prompt_number": 80
    },
    {
     "cell_type": "markdown",
     "metadata": {},
     "source": [
      "Compute Entropy:"
     ]
    },
    {
     "cell_type": "code",
     "collapsed": false,
     "input": [
      "v_C0 = [norm.pdf(stim, loc=(eta/tau), scale=(1/tau)) * (1 - p) for stim in x] \n",
      "v_C1 = [norm.pdf(stim, loc=(eta/tau), scale=(1/tau)) * p for stim in x]\n",
      "a_C0 = list(r_sc(x, tau_0)/p_r)\n",
      "a_C1 = list(r_sc(x, tau_1)/p_r)\n",
      "variational = v_C0 + v_C1\n",
      "analytic = a_C0 + a_C1\n",
      "print entropy(analytic, variational)"
     ],
     "language": "python",
     "metadata": {},
     "outputs": [
      {
       "output_type": "stream",
       "stream": "stdout",
       "text": [
        "0.142476494534\n"
       ]
      }
     ],
     "prompt_number": 65
    },
    {
     "cell_type": "markdown",
     "metadata": {},
     "source": [
      "Compare analytic vs variational posteriors:"
     ]
    },
    {
     "cell_type": "code",
     "collapsed": false,
     "input": [
      "import numpy as np\n",
      "import scipy as sp\n",
      "import math\n",
      "import random\n",
      "from scipy.stats import norm, poisson, entropy\n",
      "\n",
      "class Neuron(object):    \n",
      "    def __init__(self, s_pref):\n",
      "        self.s_pref = s_pref\n",
      "    \n",
      "    def response(self, s, g):\n",
      "        f_s = self.f(s, g)\n",
      "        r = np.random.poisson(f_s, 1)[0]\n",
      "        return r\n",
      "    \n",
      "    def f(self, s, g):\n",
      "        num = float(- math.pow((s - self.s_pref), 2))\n",
      "        denom = 2 * sigma_tc_2\n",
      "        return g * math.exp(num/denom)\n",
      "\n",
      "tau_0 = 1/float(3)\n",
      "tau_1 = 1/float(12)\n",
      "d_tau = tau_0 - tau_1\n",
      "sigma_tc = 10\n",
      "sigma_tc_2 = sigma_tc**2\n",
      "min_angle = -60\n",
      "max_angle = 60\n",
      "step = 3\n",
      "samples = np.linspace(norm.ppf(0.01, loc=0, scale=(1/tau_1)), norm.ppf(0.99, loc=0, scale=(1/tau_1)), 100)\n",
      "\n",
      "def r_sc(x, tau, neurons, responses):\n",
      "        r_s = [prod([poisson.pmf(responses[i], mu = neurons[i].f(s, g)) for i in range(len(neurons))]) for s in x]\n",
      "        return r_s * norm.pdf(x, loc=mean, scale=(1/tau))\n",
      "\n",
      "def run_trial(g):\n",
      "    #generate stimulus\n",
      "    C = random.randint(0, 1)\n",
      "    mean = 0\n",
      "    sd = 1/tau_0\n",
      "    if C == 1:\n",
      "        sd = 1/tau_1\n",
      "    s = random.gauss(mean, sd)\n",
      "    \n",
      "    #generate input responses\n",
      "    responses = []\n",
      "    neurons = []\n",
      "    for x in np.arange(min_angle, max_angle + 1, step):\n",
      "        n = Neuron(x)\n",
      "        neurons.append(n)\n",
      "        responses.append(n.response(s, g))\n",
      "    \n",
      "    #variational inference\n",
      "    p = random.random()\n",
      "    tau = random.random() * .5\n",
      "    eta = sum([neurons[i].s_pref * (responses[i]/float(sigma_tc_2)) for i in range(len(neurons))])\n",
      "\n",
      "    for n in range(10):\n",
      "        tau = sum([(responses[i]/sigma_tc_2) for i in range(len(neurons))]) + (tau_0 - (d_tau * p))\n",
      "        prefact = math.sqrt(tau_0/tau_1)\n",
      "        xpnt = ((eta/tau)**2 + 1/tau * d_tau)/2\n",
      "        p = 1/(1 + prefact * math.exp(xpnt))\n",
      "    \n",
      "    p_r = sum(r_sc(samples, tau_0, neurons, responses)) + sum(r_sc(samples, tau_1, neurons, responses))\n",
      "    \n",
      "    #variational posterior\n",
      "    v_C0 = 1 - p\n",
      "    \n",
      "    #analytic posterior\n",
      "    a_C0 = sum(r_sc(samples, tau_0, neurons, responses)/p_r)\n",
      "    \n",
      "    return (v_C0, a_C0)\n",
      "\n",
      "v1 = [0] * 100\n",
      "a1 = [0] * 100\n",
      "v3 = [0] * 100\n",
      "a3 = [0] * 100\n",
      "v15 = [0] * 100\n",
      "a15 = [0] * 100\n",
      "for i in range(100):\n",
      "    v1[i], a1[i] = run_trial(1)\n",
      "    #v3[i], a3[i] = run_trial(3)\n",
      "    #v15[i], a15[i] = run_trial(15)  \n",
      "\n",
      "%matplotlib inline\n",
      "fig, ax = plt.subplots(1, 1)\n",
      "ax.plot(a1, v1, 'bo', lw=5, alpha=0.6, label='g = 1')\n",
      "#ax.plot(a3, v3, 'go', lw=5, alpha=0.6, label='g = 3')\n",
      "#ax.plot(a15, v15, 'ro', lw=5, alpha=0.6, label='g = 15')\n",
      "ax.axis([0, 1, 0, 1])\n",
      "ax.set_xlabel(\"Analytic\")\n",
      "ax.set_ylabel(\"Variational\")"
     ],
     "language": "python",
     "metadata": {},
     "outputs": [
      {
       "metadata": {},
       "output_type": "pyout",
       "prompt_number": 77,
       "text": [
        "<matplotlib.text.Text at 0x10c2130d0>"
       ]
      },
      {
       "metadata": {},
       "output_type": "display_data",
       "png": "[encoded data removed]",
       "text": [
        "<matplotlib.figure.Figure at 0x10c15f850>"
       ]
      }
     ],
     "prompt_number": 77
    }
   ],
   "metadata": {}
  }
 ]
}