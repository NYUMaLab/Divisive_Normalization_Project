{
 "cells": [
  {
   "cell_type": "code",
   "execution_count": 60,
   "metadata": {
    "collapsed": true
   },
   "outputs": [],
   "source": [
    "import numpy as np\n",
    "import math\n",
    "from scipy.stats import poisson, norm, bernoulli, gamma\n",
    "from scipy.special import psi\n",
    "\n",
    "#nneuron = 41\n",
    "#sprefs = np.linspace(-60, 60, nneuron)\n",
    "\n",
    "nneuron = 5\n",
    "sprefs = np.linspace(-20, 20, nneuron)\n",
    "\n",
    "sig0_sq      = float(3**2)\n",
    "sig1_sq      = float(12**2)\n",
    "sigtc_sq     = float(10**2)\n",
    "ndatapergain = 3000\n",
    "mu = 0\n",
    "gain = 15\n",
    "\n",
    "def generate_popcode_data(ndatapergain, nneuron, sig0_sq, sig1_sq, sigtc_sq, gain, noise):\n",
    "    s = np.random.normal(mu, np.sqrt(sig0_sq), ndatapergain)\n",
    "    sprefs_data = np.tile(sprefs, (ndatapergain, 1))\n",
    "    r = gain * np.exp(-np.square((np.transpose(np.tile(s, (nneuron, 1))) - sprefs_data))/(2 * sigtc_sq))\n",
    "    if noise == \"poisson\":\n",
    "        r = np.random.poisson(r) + 0.0\n",
    "    return r, s"
   ]
  },
  {
   "cell_type": "code",
   "execution_count": 174,
   "metadata": {
    "collapsed": false
   },
   "outputs": [
    {
     "name": "stdout",
     "output_type": "stream",
     "text": [
      "[[0.6969427133382502, -0.37935546891369676], [0.85389184324407796, -0.25765440177195348], [-1.4777025824315555, 0.469582419311106], [-1.178914654856754, 0.072699839966671731], [0.14897976043659034, -0.61112255724146602]]\n",
      "[-1.79375924 -2.04973398         nan         nan -0.90006411]\n"
     ]
    },
    {
     "ename": "ValueError",
     "evalue": "cannot convert float NaN to integer",
     "output_type": "error",
     "traceback": [
      "\u001b[0;31m---------------------------------------------------------------------------\u001b[0m",
      "\u001b[0;31mValueError\u001b[0m                                Traceback (most recent call last)",
      "\u001b[0;32m<ipython-input-174-1e7fd18e05bb>\u001b[0m in \u001b[0;36m<module>\u001b[0;34m()\u001b[0m\n\u001b[1;32m     84\u001b[0m                     \u001b[0mgWlj\u001b[0m \u001b[0;34m=\u001b[0m \u001b[0mg_W\u001b[0m\u001b[0;34m[\u001b[0m\u001b[0ml\u001b[0m\u001b[0;34m]\u001b[0m\u001b[0;34m[\u001b[0m\u001b[0mt\u001b[0m\u001b[0;34m]\u001b[0m\u001b[0;34m[\u001b[0m\u001b[0mj\u001b[0m\u001b[0;34m]\u001b[0m\u001b[0;34m\u001b[0m\u001b[0m\n\u001b[1;32m     85\u001b[0m                     \u001b[0;31m#T[l][j] = gWlj * pzl #???\u001b[0m\u001b[0;34m\u001b[0m\u001b[0;34m\u001b[0m\u001b[0m\n\u001b[0;32m---> 86\u001b[0;31m                     \u001b[0mT\u001b[0m\u001b[0;34m[\u001b[0m\u001b[0ml\u001b[0m\u001b[0;34m]\u001b[0m\u001b[0;34m[\u001b[0m\u001b[0mt\u001b[0m\u001b[0;34m]\u001b[0m\u001b[0;34m[\u001b[0m\u001b[0mj\u001b[0m\u001b[0;34m]\u001b[0m \u001b[0;34m=\u001b[0m \u001b[0mgWlj\u001b[0m \u001b[0;34m*\u001b[0m \u001b[0mp_z\u001b[0m\u001b[0;34m[\u001b[0m\u001b[0ml\u001b[0m\u001b[0;34m]\u001b[0m\u001b[0;34m[\u001b[0m\u001b[0mt\u001b[0m\u001b[0;34m]\u001b[0m\u001b[0;34m[\u001b[0m\u001b[0mj\u001b[0m\u001b[0;34m]\u001b[0m \u001b[0;31m#???\u001b[0m\u001b[0;34m\u001b[0m\u001b[0m\n\u001b[0m\u001b[1;32m     87\u001b[0m             \u001b[0;32mprint\u001b[0m \u001b[0mT\u001b[0m\u001b[0;34m\u001b[0m\u001b[0m\n\u001b[1;32m     88\u001b[0m         \u001b[0mlam_normal\u001b[0m \u001b[0;34m+=\u001b[0m \u001b[0mlist\u001b[0m\u001b[0;34m(\u001b[0m\u001b[0mrho\u001b[0m \u001b[0;34m*\u001b[0m \u001b[0mS\u001b[0m\u001b[0;34m[\u001b[0m\u001b[0;36m0\u001b[0m\u001b[0;34m]\u001b[0m\u001b[0;34m[\u001b[0m\u001b[0;36m0\u001b[0m\u001b[0;34m]\u001b[0m\u001b[0;34m)\u001b[0m\u001b[0;34m\u001b[0m\u001b[0m\n",
      "\u001b[0;31mValueError\u001b[0m: cannot convert float NaN to integer"
     ]
    }
   ],
   "source": [
    "#simple version\n",
    "r, actual = generate_popcode_data(ndatapergain, nneuron, sig0_sq, sig1_sq, sigtc_sq, 1, \"poisson\")\n",
    "def norm_g(zTw):\n",
    "    return zTw + 3\n",
    "\n",
    "def relu(zTw):\n",
    "    return max(0.000000000000001, zTw)\n",
    "\n",
    "def g_norm(z, loc, scale):\n",
    "    d_loc = (z - loc)/scale\n",
    "    d_scale = -(1/(2 * scale)) + ((z - loc)**2)/(2 * scale**2)\n",
    "    return [d_loc, d_scale]\n",
    "\n",
    "L = 1\n",
    "s = 1000\n",
    "z = [None]*L\n",
    "W = [None]*L\n",
    "p_z = [None]*(L + 1)\n",
    "q_z = [None]*L\n",
    "p_W = [None]*L\n",
    "q_W = [None]*L\n",
    "g = [None]*L\n",
    "g_W = [None]*L\n",
    "\n",
    "xi_normal = np.random.rand(nneuron, 2) #[mu, sigma]\n",
    "#train_data = r[1:3000]\n",
    "train_data = [r[1]]\n",
    "actual = actual[1:3000]\n",
    "rho = .001\n",
    "rhoW = .01\n",
    "\n",
    "num = 1\n",
    "for i in range(len(train_data)):\n",
    "    n = train_data[i]\n",
    "    true = actual[i]\n",
    "    converged = False\n",
    "    lam_normal = np.random.rand(1, 2)[0] * 3 #[mu, sigma]\n",
    "    while not converged:\n",
    "        #normal\n",
    "        z_loc, z_scale = lam_normal\n",
    "        z[0] = np.random.normal(loc=z_loc, scale=z_scale, size=s)\n",
    "        W[0] = [None]*len(xi_normal)\n",
    "        for i in range(len(xi_normal)):\n",
    "            W_loc, W_scale = xi_normal[i]\n",
    "            W[0][i] = np.random.normal(loc=W_loc, scale=W_scale, size=s).tolist()\n",
    "        p_z[0] = [None] * s\n",
    "        p_z[1] = [None] * s\n",
    "        q_z[0] = [None] * s\n",
    "        g[0] = [None] * s\n",
    "        g_W[0] = [None] * s\n",
    "        params = z[0] * W[0]\n",
    "        params_a = np.array(params)\n",
    "        for t in range(s):\n",
    "            lam_p = params_a[:, t]\n",
    "            p_z[0][t] = [None] * len(lam_p)\n",
    "            g_W[0][t] = [None] * len(lam_p)\n",
    "            for i in range(len(n)):\n",
    "                p_z[0][t][i] = poisson.pmf(n[i], lam_p[i])\n",
    "                g_W[0][t][i] = g_norm(W[0][i][t], W_loc, W_scale)\n",
    "            np.concatenate(g_W[0][t])\n",
    "            q_z[0][t] = norm.pdf(x=z[0][t], loc=z_loc, scale=z_scale)\n",
    "            g[0][t] = g_norm(z[0][t], z_loc, z_scale)\n",
    "            p_z[1][t] = [norm.pdf(x=z[0][t], loc=mu, scale=np.sqrt(sig0_sq))]\n",
    "        p_z[0] = np.log(p_z[0])\n",
    "        p_z[1] = np.log(p_z[1])\n",
    "        q_z[0] = np.log(q_z[0])\n",
    "        \n",
    "        l = 0\n",
    "        S = [None] * L\n",
    "        T = [None] * L\n",
    "        for l in range(L):\n",
    "            S[l] = [None] * s\n",
    "            T[l] = [None] * s\n",
    "            for t in range(s):\n",
    "                pzl = np.sum(p_z[l][t])\n",
    "                glk = np.asarray(g[l][t])\n",
    "                S[l][t] = glk * (pzl + p_z[l+1][t] + q_z[l][t]) #???\n",
    "                W_a = np.array(W)\n",
    "                lenW = len(W_a[l, :, t])\n",
    "                T[l][t] = [None] * lenW\n",
    "                print g_W[l][t]\n",
    "                print p_z[l][t]\n",
    "                for j in range(lenW):\n",
    "                    gWlj = g_W[l][t][j]\n",
    "                    #T[l][j] = gWlj * pzl #???\n",
    "                    T[l][t][j] = gWlj * p_z[l][t][j] #???\n",
    "            print T\n",
    "        lam_normal += list(rho * S[0][0])\n",
    "        lam_normal[1] = relu(lam_normal[1])\n",
    "        print \"data\", n\n",
    "        print \"current\", xi_normal\n",
    "        print \"sampled params\", params\n",
    "        print \"prob\", p_z\n",
    "        print \"update\", T\n",
    "        for m in range(len(xi_normal)):\n",
    "            rT0n = rhoW * T[0][m]\n",
    "            rT0n = [rT0n[0][0], rT0n[1][0]]\n",
    "            xi_normal[m] += rT0n\n",
    "            xi_normal[m][1] = relu(xi_normal[m][1])\n",
    "        num += 1\n",
    "        if num > 1000:\n",
    "            converged = True\n",
    "            print \"x\", n\n",
    "            print \"lambda\", lam_normal\n",
    "            print \"true\", true\n",
    "            print \"xi\", xi_normal\n",
    "            num = 1\n",
    "            rhoW = rhoW * .9\n",
    "            rho = .001"
   ]
  },
  {
   "cell_type": "code",
   "execution_count": null,
   "metadata": {
    "collapsed": true
   },
   "outputs": [],
   "source": []
  },
  {
   "cell_type": "code",
   "execution_count": null,
   "metadata": {
    "collapsed": true
   },
   "outputs": [],
   "source": []
  }
 ],
 "metadata": {
  "kernelspec": {
   "display_name": "Python 2",
   "language": "python",
   "name": "python2"
  },
  "language_info": {
   "codemirror_mode": {
    "name": "ipython",
    "version": 2
   },
   "file_extension": ".py",
   "mimetype": "text/x-python",
   "name": "python",
   "nbconvert_exporter": "python",
   "pygments_lexer": "ipython2",
   "version": "2.7.9"
  }
 },
 "nbformat": 4,
 "nbformat_minor": 0
}
