{
 "cells": [
  {
   "cell_type": "code",
   "execution_count": 3,
   "metadata": {
    "collapsed": true
   },
   "outputs": [],
   "source": [
    "nneuron = 41\n",
    "\n",
    "sprefs = np.linspace(-60, 60, nneuron)\n",
    "\n",
    "sig0_sq      = float(3**2)\n",
    "sig1_sq      = float(12**2)\n",
    "sigtc_sq     = float(10**2)\n",
    "ndatapergain = 3000\n",
    "mu = 0\n",
    "\n",
    "tau_0 = 1/sig0_sq\n",
    "tau_1 = 1/sig1_sq\n",
    "d_tau = tau_0 - tau_1\n",
    "sig_tc = 10\n",
    "min_angle = -60\n",
    "max_angle = 60\n",
    "step = 3\n",
    "prefact = np.sqrt(tau_0/tau_1)\n",
    "\n",
    "def generate_popcode_data(ndatapergain, nneuron, sig0_sq, sig1_sq, sigtc_sq, gain, noise):\n",
    "    s_s0 = np.random.normal(mu, np.sqrt(sig0_sq), ndatapergain/2)\n",
    "    s_s1 = np.random.normal(mu, np.sqrt(sig1_sq), ndatapergain/2)\n",
    "    s = np.concatenate((s_s0, s_s1), axis=1)\n",
    "    sprefs_data = np.tile(sprefs, (ndatapergain, 1))\n",
    "    r = gain * np.exp(-np.square((np.transpose(np.tile(s, (nneuron, 1))) - sprefs_data))/(2 * sigtc_sq))\n",
    "    if noise == \"poisson\":\n",
    "        r = np.random.poisson(r) + 0.0\n",
    "    ar = np.sum(r, axis=1)/sigtc_sq\n",
    "    br = np.sum(r*sprefs_data, axis=1)/sigtc_sq\n",
    "    \n",
    "    term_1 = (1 + sig1_sq * ar) / (1 + sig0_sq  * ar)\n",
    "    term_2_num = (sig1_sq - sig0_sq) * br**2\n",
    "    term_2_denom = 2 * (1 + sig0_sq  * ar) * (1 + sig1_sq * ar)\n",
    "    xpnt_a = .5 * np.log(term_1) - term_2_num/term_2_denom\n",
    "    p = 1/(1 + np.exp(-xpnt_a))\n",
    "    return r, p, ar, br"
   ]
  },
  {
   "cell_type": "code",
   "execution_count": 13,
   "metadata": {
    "collapsed": false
   },
   "outputs": [
    {
     "name": "stderr",
     "output_type": "stream",
     "text": [
      "/Users/ocnc2015/anaconda/lib/python2.7/site-packages/IPython/kernel/__main__.py:25: RuntimeWarning: invalid value encountered in log\n",
      "/Users/ocnc2015/anaconda/lib/python2.7/site-packages/IPython/kernel/__main__.py:25: RuntimeWarning: divide by zero encountered in log\n"
     ]
    }
   ],
   "source": [
    "r, p, ar, br = generate_popcode_data(ndatapergain, nneuron, sig0_sq, sig1_sq, sigtc_sq, 1, \"poisson\")\n",
    "k_l = [nneuron, 1, 1]\n",
    "L = len(k_l)\n",
    "\"\"\"\n",
    "#order effects?\n",
    "tau = np.random.random_sample()\n",
    "eta = np.random.random_sample()\n",
    "p = np.random.random_sample()\n",
    "lmbda_poisson = [[np.log(spref)] for spref in sprefs]\n",
    "lmbda_normal = [[tau, eta]]\n",
    "lmbda_bernoulli = [[p]]\n",
    "lmbda = [lmbda_poisson, lmbda_normal, lmbda_bernoulli]\n",
    "\"\"\"\n",
    "#[poisson, normal, normal]\n",
    "xi_poisson = np.random.rand(nneuron, 1) #[ln lmbda]\n",
    "xi_normal1 = np.random.rand(1, 2) #[tau, eta]\n",
    "xi_normal2 = np.random.rand(1, 2) #[tau, eta]\n",
    "xi = [xi_poisson, xi_normal1, xi_normal2]\n",
    "q_W = [np.random.poisson, np.random.normal, np.random.normal]\n",
    "train_data = r\n",
    "for n in train_data:\n",
    "    converged = False\n",
    "    lmbda_poisson = np.random.rand(nneuron, 1) #[ln lmbda]\n",
    "    lmbda_normal = np.random.rand(1, 2) #[tau, eta]\n",
    "    lmbda_bernoulli = np.random.rand(1, 1) #[p]\n",
    "    lmbda = [lmbda_poisson, lmbda_normal, lmbda_bernoulli]\n",
    "    while not converged:\n",
    "        for l in range(L):\n",
    "            z1 = \n",
    "    "
   ]
  },
  {
   "cell_type": "code",
   "execution_count": 21,
   "metadata": {
    "collapsed": false
   },
   "outputs": [
    {
     "name": "stdout",
     "output_type": "stream",
     "text": [
      "[1]\n"
     ]
    }
   ],
   "source": [
    "x = np.random.poisson\n",
    "print x(1, 1)"
   ]
  },
  {
   "cell_type": "code",
   "execution_count": null,
   "metadata": {
    "collapsed": true
   },
   "outputs": [],
   "source": []
  }
 ],
 "metadata": {
  "kernelspec": {
   "display_name": "Python 2",
   "language": "python",
   "name": "python2"
  },
  "language_info": {
   "codemirror_mode": {
    "name": "ipython",
    "version": 2
   },
   "file_extension": ".py",
   "mimetype": "text/x-python",
   "name": "python",
   "nbconvert_exporter": "python",
   "pygments_lexer": "ipython2",
   "version": "2.7.9"
  }
 },
 "nbformat": 4,
 "nbformat_minor": 0
}
