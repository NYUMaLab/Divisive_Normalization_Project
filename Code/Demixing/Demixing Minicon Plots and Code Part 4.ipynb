{
 "cells": [
  {
   "cell_type": "code",
   "execution_count": 2,
   "metadata": {
    "collapsed": true
   },
   "outputs": [],
   "source": [
    "import numpy as np\n",
    "import math\n",
    "import sys\n",
    "import time\n",
    "import theano\n",
    "import theano.tensor as T\n",
    "import pystan\n",
    "import matplotlib.pyplot as plt\n",
    "import argparse\n",
    "from scipy.stats import poisson\n",
    "import matplotlib.patches as mpatches\n",
    "from functools import partial\n",
    "import pickle\n",
    "\n",
    "nneuron = 61\n",
    "min_angle = -90\n",
    "max_angle = 90\n",
    "sprefs = np.linspace(min_angle, max_angle, nneuron)\n",
    "ndata = 3000\n",
    "eps = np.finfo(np.float64).eps\n",
    "\n",
    "r_max = 10\n",
    "sigtc_sq = float(10**2)\n",
    "sigtc = 10\n",
    "c_50 = 13.1"
   ]
  },
  {
   "cell_type": "code",
   "execution_count": 3,
   "metadata": {
    "collapsed": true
   },
   "outputs": [],
   "source": [
    "def cartesian(arrays, out=None):\n",
    "    \"\"\"Generate a cartesian product of input arrays.\n",
    "    Parameters\n",
    "    ----------\n",
    "    arrays : list of array-like\n",
    "        1-D arrays to form the cartesian product of.\n",
    "    out : ndarray\n",
    "        Array to place the cartesian product in.\n",
    "    Returns\n",
    "    -------\n",
    "    out : ndarray\n",
    "        2-D array of shape (M, len(arrays)) containing cartesian products\n",
    "        formed of input arrays.\n",
    "    Examples\n",
    "    --------\n",
    "    >>> cartesian(([1, 2, 3], [4, 5], [6, 7]))\n",
    "    array([[1, 4, 6],\n",
    "           [1, 4, 7],\n",
    "           [1, 5, 6],\n",
    "           [1, 5, 7],\n",
    "           [2, 4, 6],\n",
    "           [2, 4, 7],\n",
    "           [2, 5, 6],\n",
    "           [2, 5, 7],\n",
    "           [3, 4, 6],\n",
    "           [3, 4, 7],\n",
    "           [3, 5, 6],\n",
    "           [3, 5, 7]])\n",
    "    \"\"\"\n",
    "    arrays = [np.asarray(x) for x in arrays]\n",
    "    shape = (len(x) for x in arrays)\n",
    "    dtype = arrays[0].dtype\n",
    "\n",
    "    ix = np.indices(shape)\n",
    "    ix = ix.reshape(len(arrays), -1).T\n",
    "\n",
    "    if out is None:\n",
    "        out = np.empty_like(ix, dtype=dtype)\n",
    "\n",
    "    for n, arr in enumerate(arrays):\n",
    "        out[:, n] = arrays[n][ix[:, n]]\n",
    "\n",
    "    return out"
   ]
  },
  {
   "cell_type": "code",
   "execution_count": 22,
   "metadata": {
    "collapsed": true
   },
   "outputs": [],
   "source": [
    "def random_s(ndata, sort):\n",
    "    s = np.random.rand(2, ndata) * 120 - 60\n",
    "    if sort:\n",
    "        s = np.sort(s, axis=0)\n",
    "    return s[0], s[1]\n",
    "\n",
    "def random_c(ndata, ndims, low, high, sort):\n",
    "    c_range = high - low\n",
    "    if ndims == 1:\n",
    "        c = np.random.rand(ndims, ndata)[0] * c_range + low\n",
    "    else:\n",
    "        c = np.random.rand(ndims, ndata) * c_range + low\n",
    "    if sort:\n",
    "        c = np.sort(c, axis=0)\n",
    "    return c\n",
    "    \n",
    "def generate_popcode_data(ndata, nneuron, sigtc_sq, r_max, noise, sort, s_0, s_1, c_0, c_1, c_50=13.1):\n",
    "    c_rms = np.sqrt(np.square(c_0) + np.square(c_1))\n",
    "    sprefs_data = np.tile(sprefs, (ndata, 1))\n",
    "    s_0t = np.exp(-np.square((np.transpose(np.tile(s_0, (nneuron, 1))) - sprefs_data))/(2 * sigtc_sq))\n",
    "    stim_0 = c_0 * s_0t.T\n",
    "    s_1t = np.exp(-np.square((np.transpose(np.tile(s_1, (nneuron, 1))) - sprefs_data))/(2 * sigtc_sq))\n",
    "    stim_1 = c_1 * s_1t.T\n",
    "    #r = r_max * (stim_0 + stim_1)/(c_50 + c_rms)\n",
    "    r = r_max * (stim_0 + stim_1)\n",
    "    r = r.T\n",
    "    s = np.array((s_0, s_1)).T\n",
    "    s = s/90\n",
    "    c = np.array((c_0, c_1)).T\n",
    "    if noise == \"poisson\":\n",
    "        r = np.random.poisson(r) + 0.0\n",
    "    return r, s, c\n",
    "\n",
    "def generate_trainset(ndata, highlow=False, discrete_c=None, low=.3, high=.7, r_max=10):\n",
    "    s_0, s_1 = random_s(ndata, True)\n",
    "    if highlow:\n",
    "        c_arr = np.concatenate((np.ones((ndata/2, 2)) * low, np.ones((ndata/2, 2)) * high), axis=0)\n",
    "        np.random.shuffle(c_arr)\n",
    "        c_0, c_1 = c_arr.T\n",
    "    elif discrete_c:\n",
    "        if type(discrete_c) == int:\n",
    "            cs = np.linspace(low, high, discrete_c)\n",
    "            perm_cs = cartesian((cs, cs))\n",
    "        else:\n",
    "            perm_cs = cartesian(discrete_c)\n",
    "        c_arr = np.repeat(perm_cs, ndata/(discrete_c**2), axis=0)\n",
    "        np.random.shuffle(c_arr)\n",
    "        c_0, c_1 = c_arr.T\n",
    "        print ndata/(discrete_c**2), \"trials per contrast level\"\n",
    "        if ndata%(discrete_c**2) != 0:\n",
    "            print \"Not divisible, only generated\", ndata / (discrete_c**2) * (discrete_c**2), \"trials\"\n",
    "        ndata = ndata / (discrete_c**2) * (discrete_c**2)\n",
    "    else:\n",
    "        c_0, c_1 = np.ones((2, ndata)) * .5\n",
    "    r, s, c = generate_popcode_data(ndata, nneuron, sigtc_sq, r_max, \"poisson\", True, s_0, s_1, c_0, c_1)\n",
    "    return r, s, c\n",
    "\n",
    "def generate_testset(ndata, stim_0=None, stim_1=None, con_0=None, con_1=None, discrete_c=None, low=.5, high=.5, r_max=10):\n",
    "    if con_0:\n",
    "        c_0 = np.ones(ndata) * con_0\n",
    "        c_1 = np.ones(ndata) * con_1\n",
    "    else:\n",
    "        c_range = high - low\n",
    "        if discrete_c:\n",
    "            if type(discrete_c) == int:\n",
    "                cs = np.linspace(low, high, discrete_c)\n",
    "                perm_cs = cartesian((cs, cs))\n",
    "            else:\n",
    "                perm_cs = cartesian(discrete_c)\n",
    "            c_0, c_1 = np.repeat(perm_cs, ndata/(discrete_c**2), axis=0).T\n",
    "            print ndata/(discrete_c**2), \"trials per contrast level\"\n",
    "            if ndata%(discrete_c**2) != 0:\n",
    "                print \"Not divisible, only generated\", ndata / (discrete_c**2) * (discrete_c**2), \"trials\"\n",
    "            ndata = ndata / (discrete_c**2) * (discrete_c**2)\n",
    "        else:\n",
    "            c_0, c_1 = np.random.rand(2, ndata) * c_range + low\n",
    "    if not stim_0:\n",
    "        s_0, s_1 = random_s(ndata, True)\n",
    "    else:\n",
    "        s_0, s_1 = np.ones((2, ndata))\n",
    "        s_0 = s_0 * stim_0\n",
    "        s_1 = s_1 * stim_1\n",
    "    r, s, c = generate_popcode_data(ndata, nneuron, sigtc_sq, r_max, \"poisson\", True, s_0, s_1, c_0, c_1)\n",
    "    return r, s, c\n",
    "\n",
    "def generate_trainset_cat(ndata, c_0=4, c_1=1, crange=.5, r_max=1):\n",
    "    numvec = np.random.binomial(1, .5, size=ndata).astype(int)\n",
    "    s_0, s_1 = np.random.rand(2, ndata) * 120 - 60\n",
    "    r, numvec, s, c  = generate_popcode_data_cat(ndata, numvec, nneuron, sigtc_sq, c_50, r_max, \"poisson\", s_0, s_1, c_0, c_1)\n",
    "    y = s_0\n",
    "    return r, y, s, c, numvec \n",
    "    \n",
    "def generate_popcode_data_cat(ndata, numvec, nneuron, sigtc_sq, c_50, r_max, noise, s_0, s_1, c_0, c_1):\n",
    "    c0vec = c_0 * np.ones(ndata)\n",
    "    c1vec = c_1 * numvec\n",
    "    c_rms = np.sqrt(np.square(c0vec) + np.square(c1vec))\n",
    "    sprefs_data = np.tile(sprefs, (ndata, 1))\n",
    "    s_0t = np.exp(-np.square((np.transpose(np.tile(s_0, (nneuron, 1))) - sprefs_data))/(2 * sigtc_sq))\n",
    "    stim_0 = c0vec * s_0t.T\n",
    "    s_1t = np.exp(-np.square((np.transpose(np.tile(s_1, (nneuron, 1))) - sprefs_data))/(2 * sigtc_sq))\n",
    "    stim_1 = c1vec * s_1t.T\n",
    "    r = r_max * (stim_0 + stim_1)\n",
    "    r = r.T\n",
    "    s = np.array((s_0, s_1)).T\n",
    "    s = s/90\n",
    "    c = np.array((c_0, c_1)).T\n",
    "    if noise == \"poisson\":\n",
    "        r = np.random.poisson(r) + 0.0\n",
    "    return r, numvec, s, c"
   ]
  },
  {
   "cell_type": "code",
   "execution_count": 19,
   "metadata": {
    "collapsed": true
   },
   "outputs": [],
   "source": [
    "def lik_means(s_1, s_2, cat, c_0=4, c_1=1, sprefs=sprefs, sigtc_sq=sigtc_sq, r_max=1):\n",
    "    c0vec = c_0 * np.ones(len(cat))\n",
    "    c1vec = c_1 * cat\n",
    "    sprefs_data = np.tile(sprefs, (len(s_1), 1))\n",
    "    s_0t = np.exp(-np.square((np.transpose(np.tile(s_1, (nneuron, 1))) - sprefs_data))/(2 * sigtc_sq))\n",
    "    stim_0 = c0vec * s_0t.T\n",
    "    s_1t = np.exp(-np.square((np.transpose(np.tile(s_2, (nneuron, 1))) - sprefs_data))/(2 * sigtc_sq))\n",
    "    stim_1 = c1vec * s_1t.T\n",
    "    r = r_max * (stim_0 + stim_1)\n",
    "    return r.T\n",
    "def posterior(r, means, s1_grid):\n",
    "    liks = poisson.pmf(r, mu=means)\n",
    "    #p_s = 2/14400\n",
    "    #logp_s = np.log(p_s)\n",
    "    logp_s = -3.8573325\n",
    "    #p_cat = 1/2\n",
    "    #logp_cat = np.log(p_cat)\n",
    "    logp_cat = -0.301029996\n",
    "    loglik = np.sum(np.log(liks), axis=1)\n",
    "    mean = np.sum(s1_grid * np.exp(loglik + logp_s + logp_cat)/np.sum(np.exp(loglik + logp_s + logp_cat)))\n",
    "    expsquare = np.sum(np.square(s1_grid) * np.exp(loglik + logp_s + logp_cat)/np.sum(np.exp(loglik + logp_s + logp_cat)))\n",
    "    var = expsquare - np.square(mean)\n",
    "    return mean, var\n",
    "def posterior_setup(high=4, low=1, num_s=100, r_max=10):\n",
    "    grid = np.linspace(-60, 60, num_s)\n",
    "    cats = [0, 1]\n",
    "    s1_grid, s2_grid, cat_grid = cartesian((grid, grid, cats)).T\n",
    "    means = lik_means(s1_grid, s2_grid, cat_grid, c_0=high, c_1=low, r_max=r_max)\n",
    "    partial_post = partial(posterior, means=means, s1_grid=s1_grid)\n",
    "    return partial_post\n",
    "def get_posteriors(r, post_func):\n",
    "    posteriors = {'mean': None, 'var': None}\n",
    "    p = np.array([post_func(r[i]) for i in range(len(r))]).T\n",
    "    posteriors['mean'], posteriors['var'] = p\n",
    "    return posteriors\n",
    "def get_posteriors_pool(r, post_func):\n",
    "    pool = mp.Pool(processes=8)\n",
    "    posteriors = {'mean_s1': None, 'mean_s2': None, 'var_s1': None, 'var_s2': None}\n",
    "    p = np.array(pool.map(post_func, r)).T\n",
    "    posteriors['mean_s1'], posteriors['mean_s2'], posteriors['var_s1'], posteriors['var_s2'] = p\n",
    "    return posteriors"
   ]
  },
  {
   "cell_type": "code",
   "execution_count": null,
   "metadata": {
    "collapsed": false
   },
   "outputs": [],
   "source": [
    "import os\n",
    "import pickle\n",
    "num_deltas = 30\n",
    "nn_stats = {'mean': [],  \n",
    "            'bias': [], \n",
    "            'var': [], \n",
    "            'mse': [],\n",
    "            }\n",
    "for i in range(400):\n",
    "    file_name = 'output_nn_runs_cat/nn_runs_cat_' + str(i) + '.pkl'\n",
    "    if os.path.isfile(file_name):\n",
    "        pkl_file = open(file_name, 'rb')\n",
    "        nn, nnx, valid_mse, stats = pickle.load(pkl_file)\n",
    "        nn_stats['mean'].append(stats['mean'])\n",
    "        nn_stats['bias'].append(stats['bias'])\n",
    "        nn_stats['var'].append(stats['var'])\n",
    "        nn_stats['mse'].append(stats['mse'])\n",
    "        print valid_mse[99]\n",
    "for ind in range(len(nn_stats['mean'])):\n",
    "    nn_stats['mean'] = np.array(nn_stats['mean'])\n",
    "    nn_stats['bias'] = np.array(nn_stats['bias'])\n",
    "    nn_stats['var'] = np.array(nn_stats['var'])\n",
    "    nn_stats['mse'] = np.array(nn_stats['mse'])"
   ]
  },
  {
   "cell_type": "code",
   "execution_count": 1,
   "metadata": {
    "collapsed": false
   },
   "outputs": [],
   "source": [
    "import demixing as dm\n",
    "td = dm.generate_trainset_cat(27000, c_0=4, c_1=1, r_max=1)\n",
    "vd = dm.generate_trainset_cat(900, c_0=4, c_1=1, r_max=1)\n",
    "nn, nnx, valid_mse = dm.train_nn(td, valid_dataset=vd, n_hidden=20, learning_rate=0.0001, n_epochs=100, rho=.9, mu=.99, nesterov=True, n_out=1)"
   ]
  },
  {
   "cell_type": "code",
   "execution_count": 11,
   "metadata": {
    "collapsed": false
   },
   "outputs": [],
   "source": [
    "import pickle\n",
    "#file_name = 'output_nn_runs_cat/nn_runs_cat_1.pkl'\n",
    "file_name = 'nn_runs_cat_1.pkl'\n",
    "pkl_file = open(file_name, 'rb')\n",
    "nn, nnx, valid_mse, stats = pickle.load(pkl_file)"
   ]
  },
  {
   "cell_type": "code",
   "execution_count": 8,
   "metadata": {
    "collapsed": false
   },
   "outputs": [],
   "source": [
    "test_data = dm.generate_testset_cat(4500, -0, -30, c_0=4, c_1=1, r_max=1)\n",
    "nn_preds, true = dm.test_nn(nn, nnx, test_data)\n",
    "#nn_preds = nn_preds.T * 90"
   ]
  },
  {
   "cell_type": "code",
   "execution_count": 9,
   "metadata": {
    "collapsed": false
   },
   "outputs": [
    {
     "name": "stdout",
     "output_type": "stream",
     "text": [
      "[ 0.01418736  0.00887847  0.0176113  ...,  0.00862302  0.01710742\n",
      "  0.03765172]\n"
     ]
    }
   ],
   "source": [
    "print nn_preds"
   ]
  },
  {
   "cell_type": "code",
   "execution_count": 13,
   "metadata": {
    "collapsed": false
   },
   "outputs": [],
   "source": [
    "hus = dm.get_hu_responses(r[0], nn)\n",
    "nn_params = nn.get_params()\n",
    "b = nn_params['b', 2]\n",
    "W = nn_params['W', 2]\n",
    "out = np.dot(hus, W) + b"
   ]
  },
  {
   "cell_type": "code",
   "execution_count": 6,
   "metadata": {
    "collapsed": false
   },
   "outputs": [
    {
     "name": "stdout",
     "output_type": "stream",
     "text": [
      "[-0.14600754 -0.14101548 -0.09135801 ..., -0.11698805 -0.16822256\n",
      " -0.09904596]\n"
     ]
    }
   ],
   "source": [
    "print nn_preds"
   ]
  },
  {
   "cell_type": "code",
   "execution_count": null,
   "metadata": {
    "collapsed": true
   },
   "outputs": [],
   "source": []
  }
 ],
 "metadata": {
  "kernelspec": {
   "display_name": "Python 2",
   "language": "python",
   "name": "python2"
  },
  "language_info": {
   "codemirror_mode": {
    "name": "ipython",
    "version": 2
   },
   "file_extension": ".py",
   "mimetype": "text/x-python",
   "name": "python",
   "nbconvert_exporter": "python",
   "pygments_lexer": "ipython2",
   "version": "2.7.10"
  }
 },
 "nbformat": 4,
 "nbformat_minor": 0
}
