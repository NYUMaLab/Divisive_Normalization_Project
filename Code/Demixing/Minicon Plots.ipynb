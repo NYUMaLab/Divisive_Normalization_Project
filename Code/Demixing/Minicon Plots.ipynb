{
 "cells": [
  {
   "cell_type": "code",
   "execution_count": null,
   "metadata": {
    "collapsed": true
   },
   "outputs": [],
   "source": [
    "import numpy as np\n",
    "import theano\n",
    "import theano.tensor as T\n",
    "import matplotlib.pyplot as plt\n",
    "from scipy.stats import poisson\n",
    "import matplotlib.patches as mpatches\n",
    "from functools import partial\n",
    "import pickle\n",
    "import os\n",
    "\n",
    "nneuron = 61\n",
    "min_angle = -90\n",
    "max_angle = 90\n",
    "sprefs = np.linspace(min_angle, max_angle, nneuron)\n",
    "eps = np.finfo(np.float64).eps\n",
    "sigtc_sq = float(10**2)"
   ]
  },
  {
   "cell_type": "code",
   "execution_count": null,
   "metadata": {
    "collapsed": true
   },
   "outputs": [],
   "source": [
    "posts = {}\n",
    "testsets = {}\n",
    "for s_i in range(91):\n",
    "    file_name = 'output_post/post_' + str(s_i) + '.pkl'\n",
    "    if os.path.isfile(file_name):\n",
    "        pkl_file = open(file_name, 'rb')\n",
    "        p, r, c, delta_s = pickle.load(pkl_file)\n",
    "        posts[c, delta_s] = p\n",
    "        testsets[c, delta_s] = r"
   ]
  },
  {
   "cell_type": "code",
   "execution_count": null,
   "metadata": {
    "collapsed": true
   },
   "outputs": [],
   "source": [
    "s1 = -30\n",
    "ndata = 900\n",
    "num_deltas = 30\n",
    "c = 2\n",
    "post_stats = {'mean_s1': np.zeros(num_deltas), \n",
    "                'mean_s2': np.zeros(num_deltas), \n",
    "                'bias_s1': np.zeros(num_deltas), \n",
    "                'bias_s2': np.zeros(num_deltas), \n",
    "                'var_s1': np.zeros(num_deltas), \n",
    "                'var_s2': np.zeros(num_deltas), \n",
    "                'cov': np.zeros(num_deltas), \n",
    "                'corr': np.zeros(num_deltas),\n",
    "                'mse': np.zeros(num_deltas),\n",
    "                }\n",
    "for delta_s in range(num_deltas):\n",
    "    post_means = np.array((posts[c, delta_s]['mean_s1'], posts[c, delta_s]['mean_s2']))\n",
    "    stats = get_statistics(s1, s1 + delta_s, post_means)\n",
    "    post_stats['mean_s1'][delta_s] = stats['mean_s1']\n",
    "    post_stats['mean_s2'][delta_s] = stats['mean_s2']\n",
    "    post_stats['bias_s1'][delta_s] = stats['bias_s1']\n",
    "    post_stats['bias_s2'][delta_s] = stats['bias_s2']\n",
    "    post_stats['var_s1'][delta_s] = stats['var_s1']\n",
    "    post_stats['var_s2'][delta_s] = stats['var_s2']\n",
    "    post_stats['cov'][delta_s] = stats['cov']\n",
    "    post_stats['corr'][delta_s] = stats['corr']\n",
    "    post_stats['mse'][delta_s] = stats['mse']"
   ]
  },
  {
   "cell_type": "code",
   "execution_count": 3,
   "metadata": {
    "collapsed": false
   },
   "outputs": [
    {
     "data": {
      "text/plain": [
       "2"
      ]
     },
     "execution_count": 3,
     "metadata": {},
     "output_type": "execute_result"
    }
   ],
   "source": [
    "%matplotlib inline\n",
    "f, ax = plt.subplots(2, 3, sharex='col', sharey='row')\n",
    "s = range(0, 30)\n",
    "for i in range(len(c_arr)):\n",
    "    neg_sd = np.mean(nn_stats['bias_s2'][i], axis=0) - np.std(nn_stats['bias_s2'][i], axis=0)\n",
    "    pos_sd = np.mean(nn_stats['bias_s2'][i], axis=0) + np.std(nn_stats['bias_s2'][i], axis=0)\n",
    "    ax[0, i].plot(post_stats['bias_s2'][i], c='k', linewidth=2, label=\"Posterior mean\")\n",
    "    ax[0, i].plot(np.mean(nn_stats['bias_s2'][i], axis=0), c='m', label=\"Neural Net\")\n",
    "    ax[0, i].set_title(r'$C_1 = C_2 = $' + str(c_arr[i]), fontsize=20) #Change\n",
    "    ax[0, i].fill_between(s, pos_sd, neg_sd, facecolor='m', alpha=.5, edgecolor=\"None\", label=\"Posterior\")\n",
    "    ax[0, i].set_ylim(-5, 10)\n",
    "ax[0, 0].set_ylabel('Bias' ,fontsize=30)\n",
    "ax[0, 2].legend(loc='upper right')\n",
    "for i in range(len(c_arr)):\n",
    "    neg_sd = np.mean(nn_stats['var_s2'][i], axis=0) - np.std(nn_stats['bias_s2'][i], axis=0)\n",
    "    pos_sd = np.mean(nn_stats['var_s2'][i], axis=0) + np.std(nn_stats['bias_s2'][i], axis=0)\n",
    "    ax[1, i].plot(post_stats['var_s2'][i], c='k', linewidth=2, label=\"Posterior mean\")\n",
    "    ax[1, i].plot(np.mean(nn_stats['var_s2'][i], axis=0), c='m', label=\"Neural Net\")\n",
    "    #ax[1, i].set_title(\"Contrast = \" + str(c_arr[i]))\n",
    "    ax[1, i].fill_between(s, pos_sd, neg_sd, facecolor='m', alpha=.5, edgecolor=\"None\", label=\"Posterior\")\n",
    "ax[1, 1].set_xlabel(r'$\\Delta s$',fontsize=30)\n",
    "ax[1, 0].set_ylabel('Variance' ,fontsize=30)\n",
    "f.set_size_inches(15,15)\n",
    "plt.tight_layout()"
   ]
  },
  {
   "cell_type": "code",
   "execution_count": null,
   "metadata": {
    "collapsed": true
   },
   "outputs": [],
   "source": []
  }
 ],
 "metadata": {
  "kernelspec": {
   "display_name": "Python 2",
   "language": "python",
   "name": "python2"
  },
  "language_info": {
   "codemirror_mode": {
    "name": "ipython",
    "version": 2
   },
   "file_extension": ".py",
   "mimetype": "text/x-python",
   "name": "python",
   "nbconvert_exporter": "python",
   "pygments_lexer": "ipython2",
   "version": "2.7.10"
  }
 },
 "nbformat": 4,
 "nbformat_minor": 0
}
