{
 "cells": [
  {
   "cell_type": "code",
   "execution_count": 1,
   "metadata": {
    "collapsed": true
   },
   "outputs": [],
   "source": [
    "%matplotlib inline\n",
    "import numpy as np\n",
    "import theano\n",
    "import theano.tensor as T\n",
    "import matplotlib.pyplot as plt\n",
    "from scipy.stats import poisson, kurtosis\n",
    "import matplotlib.patches as mpatches\n",
    "from functools import partial\n",
    "import pickle\n",
    "import os\n",
    "import demixing as dm\n",
    "from demixing import MLP, HiddenLayer\n",
    "\n",
    "nneuron = 61\n",
    "min_angle = -90\n",
    "max_angle = 90\n",
    "sprefs = np.linspace(min_angle, max_angle, nneuron)\n",
    "eps = np.finfo(np.float64).eps\n",
    "sigtc_sq = float(10**2)"
   ]
  },
  {
   "cell_type": "code",
   "execution_count": null,
   "metadata": {
    "collapsed": false
   },
   "outputs": [],
   "source": [
    "pkl_file = open('readout.pkl', 'rb')\n",
    "posts, testsets = pickle.load(pkl_file)"
   ]
  },
  {
   "cell_type": "code",
   "execution_count": 31,
   "metadata": {
    "collapsed": true
   },
   "outputs": [],
   "source": [
    "posts = {}\n",
    "testsets = {}\n",
    "for s_i in range(31):\n",
    "    #file_name = 'Minicon_Outputs/output_post_2/post_2_' + str(s_i) + '.pkl'\n",
    "    file_name = 'output_post_3/post_3_' + str(s_i) + '.pkl'\n",
    "    if os.path.isfile(file_name):\n",
    "        pkl_file = open(file_name, 'rb')\n",
    "        p, r, c, delta_s = pickle.load(pkl_file)\n",
    "        posts[delta_s] = p\n",
    "        testsets[delta_s] = r"
   ]
  },
  {
   "cell_type": "code",
   "execution_count": 28,
   "metadata": {
    "collapsed": true
   },
   "outputs": [],
   "source": [
    "nns = {}\n",
    "for i in range(0, 200):\n",
    "    #file_name = 'Minicon_Outputs/output_nn_tests_2/nn_tests_2_' + str(i) + '.pkl'\n",
    "    file_name = 'output_nn_runs_2/nn_runs_2_' + str(i) + '.pkl'\n",
    "    if os.path.isfile(file_name):\n",
    "        pkl_file = open(file_name, 'rb')\n",
    "        nn, nnx, valid_mse, _, _ = pickle.load(pkl_file)\n",
    "        nns[i] = (nn, nnx, valid_mse)"
   ]
  },
  {
   "cell_type": "code",
   "execution_count": null,
   "metadata": {
    "collapsed": false
   },
   "outputs": [],
   "source": [
    "for i in range(1, len(nns) + 1):\n",
    "    print i\n",
    "    nn, nnx, valid_mse = nns[i]\n",
    "    x = []\n",
    "    y = []\n",
    "    for s_i in range(31):\n",
    "        x.append(dm.get_hu_responses(testsets[s_i], nn))\n",
    "        y.append(np.array((1/posts[s_i]['var_s1'], 1/posts[s_i]['var_s2'])))\n",
    "    y = np.concatenate(y, axis=1).T\n",
    "    x = np.concatenate(x)\n",
    "    inds = range(len(x))\n",
    "    np.random.shuffle(inds)\n",
    "    x_shuf = x[inds]\n",
    "    y_shuf = y[inds]\n",
    "    validset = x_shuf[0:2000], y_shuf[0:2000]\n",
    "    trainset = x_shuf[2000:], y_shuf[2000:]\n",
    "    \n",
    "    hus, vpost = validset\n",
    "    weights = np.linalg.lstsq(trainset[0], trainset[1])[0]\n",
    "    lin_preds = np.dot(hus, weights)\n",
    "    sum_preds = np.sum(hus, axis=1)\n",
    "    kurt_preds = kurtosis(hus, axis=1)\n",
    "    vp = np.concatenate((vpost.T[0], vpost.T[1]))\n",
    "    lin_preds = np.concatenate((lin_preds.T[0], lin_preds.T[1]))\n",
    "    sum_preds = np.concatenate((sum_preds, sum_preds))\n",
    "    kurt_preds = np.concatenate((kurt_preds, kurt_preds))\n",
    "\n",
    "    lin_corr = np.corrcoef(vp, lin_preds)\n",
    "    sum_corr = np.corrcoef(vp, sum_preds)\n",
    "    kurt_corr = np.corrcoef(vp, kurt_preds)"
   ]
  },
  {
   "cell_type": "code",
   "execution_count": 29,
   "metadata": {
    "collapsed": false
   },
   "outputs": [
    {
     "name": "stdout",
     "output_type": "stream",
     "text": [
      "0\n",
      "1\n",
      "2\n",
      "3\n",
      "4\n",
      "5\n",
      "6\n",
      "7\n",
      "8\n",
      "9\n",
      "10\n",
      "11\n",
      "12\n",
      "13\n",
      "14\n",
      "15\n",
      "16\n",
      "17\n",
      "18\n",
      "19\n",
      "20\n",
      "21\n",
      "22\n",
      "23\n",
      "24\n",
      "25\n",
      "26\n",
      "27\n",
      "28\n",
      "29\n",
      "30\n",
      "31\n",
      "32\n",
      "33\n",
      "34\n",
      "35\n",
      "36\n",
      "37\n",
      "38\n",
      "39\n",
      "40\n",
      "41\n",
      "42\n",
      "43\n",
      "44\n",
      "45\n",
      "46\n",
      "47\n",
      "48\n",
      "49\n",
      "50\n",
      "51\n",
      "52\n",
      "53\n",
      "54\n",
      "55\n",
      "56\n",
      "57\n",
      "58\n",
      "59\n",
      "60\n",
      "61\n",
      "62\n",
      "63\n",
      "64\n",
      "65\n",
      "66\n",
      "67\n",
      "68\n",
      "69\n",
      "70\n",
      "71\n",
      "72\n",
      "73\n",
      "74\n",
      "75\n",
      "76\n",
      "77\n",
      "78\n",
      "79\n",
      "80\n",
      "81\n",
      "82\n",
      "83\n",
      "84\n",
      "85\n",
      "86\n",
      "87\n",
      "88\n",
      "89\n",
      "90\n",
      "91\n",
      "92\n",
      "93\n",
      "94\n",
      "95\n",
      "96\n",
      "97\n",
      "98\n",
      "99\n",
      "100\n",
      "101\n",
      "102\n",
      "103\n",
      "104\n",
      "105\n",
      "106\n",
      "107\n",
      "108\n",
      "109\n",
      "110\n",
      "111\n",
      "112\n",
      "113\n",
      "114\n",
      "115\n",
      "116\n",
      "117\n",
      "118\n",
      "119\n",
      "120\n",
      "121\n",
      "122\n",
      "123\n",
      "124\n",
      "125\n",
      "126\n",
      "127\n",
      "128\n",
      "129\n",
      "130\n",
      "131\n",
      "132\n",
      "133\n",
      "134\n",
      "135\n",
      "136\n",
      "137\n",
      "138\n",
      "139\n",
      "140\n",
      "141\n",
      "142\n",
      "143\n",
      "144\n",
      "145\n",
      "146\n",
      "147\n",
      "148\n",
      "149\n",
      "150\n",
      "151\n",
      "152\n",
      "153\n",
      "154\n",
      "155\n",
      "156\n",
      "157\n",
      "158\n",
      "159\n",
      "160\n",
      "161\n",
      "162\n",
      "163\n",
      "164\n",
      "165\n",
      "166\n",
      "167\n",
      "168\n",
      "169\n",
      "170\n",
      "171\n",
      "172\n",
      "173\n",
      "174\n",
      "175\n",
      "176\n",
      "177\n",
      "178\n",
      "179\n",
      "180\n",
      "181\n",
      "182\n",
      "183\n",
      "184\n",
      "185\n",
      "186\n",
      "187\n",
      "188\n",
      "189\n",
      "190\n",
      "191\n",
      "192\n",
      "193\n",
      "194\n",
      "195\n",
      "196\n",
      "197\n",
      "198\n",
      "199\n"
     ]
    }
   ],
   "source": [
    "lin_corrs1 = np.zeros(200)\n",
    "lin_corrs2 = np.zeros(200)\n",
    "\n",
    "x2 = []\n",
    "y = []\n",
    "for s_i in range(31):\n",
    "    x2.append(testsets[s_i])\n",
    "    y.append(np.array((1/posts[s_i]['var_s1'], 1/posts[s_i]['var_s2'])))\n",
    "y = np.concatenate(y, axis=1).T\n",
    "x2 = np.concatenate(x2)\n",
    "for i in range(0, 200):\n",
    "    print i\n",
    "    nn, nnx, valid_mse = nns[i]\n",
    "    x1 = []\n",
    "    for s_i in range(31):\n",
    "        x1.append(dm.get_hu_responses(testsets[s_i], nn))      \n",
    "    x1 = np.concatenate(x1)\n",
    "    inds = range(len(x))\n",
    "    np.random.shuffle(inds)\n",
    "    x1_shuf = x1[inds]\n",
    "    x2_shuf = x2[inds]\n",
    "    y_shuf = y[inds]\n",
    "    validset1 = x1_shuf[0:2000], y_shuf[0:2000]\n",
    "    trainset1 = x1_shuf[2000:], y_shuf[2000:]\n",
    "    validset2 = x2_shuf[0:2000], y_shuf[0:2000]\n",
    "    trainset2 = x2_shuf[2000:], y_shuf[2000:]\n",
    "    \n",
    "    hus, vpost = validset1\n",
    "    inputs, vpost = validset2\n",
    "    weights1 = np.linalg.lstsq(trainset1[0], trainset1[1])[0]\n",
    "    weights2 = np.linalg.lstsq(trainset2[0], trainset2[1])[0]\n",
    "    lin_preds1 = np.dot(hus, weights1)\n",
    "    lin_preds2 = np.dot(inputs, weights2)\n",
    "    vp = np.concatenate((vpost.T[0], vpost.T[1]))\n",
    "    lin_preds1 = np.concatenate((lin_preds1.T[0], lin_preds1.T[1]))\n",
    "    lin_preds2 = np.concatenate((lin_preds2.T[0], lin_preds2.T[1]))\n",
    "\n",
    "    lin_corrs1[i] = np.corrcoef(vp, lin_preds1)[0, 1]\n",
    "    lin_corrs2[i] = np.corrcoef(vp, lin_preds2)[0, 1]"
   ]
  },
  {
   "cell_type": "code",
   "execution_count": 39,
   "metadata": {
    "collapsed": false
   },
   "outputs": [
    {
     "data": {
      "text/plain": [
       "0.14483858247563405"
      ]
     },
     "execution_count": 39,
     "metadata": {},
     "output_type": "execute_result"
    }
   ],
   "source": [
    "np.mean(lin_corrs1 - lin_corrs2)"
   ]
  },
  {
   "cell_type": "code",
   "execution_count": 38,
   "metadata": {
    "collapsed": false
   },
   "outputs": [
    {
     "data": {
      "text/plain": [
       "array([ 0.67216138,  0.60160745,  0.6908572 ,  0.67458535,  0.44306168,\n",
       "        0.67206579,  0.67044499,  0.66353416,  0.64587395,  0.62281688,\n",
       "        0.63281637,  0.65690644,  0.64373559,  0.69099701,  0.6456014 ,\n",
       "        0.65174826,  0.6903543 ,  0.67805748,  0.64676645,  0.68819446,\n",
       "        0.63653439,  0.66032935,  0.69229795,  0.59427785,  0.68649242,\n",
       "        0.62103585,  0.64054691,  0.66153746,  0.66842892,  0.70251546,\n",
       "        0.4460853 ,  0.66124992,  0.66355753,  0.6396038 ,  0.65931336,\n",
       "        0.68133755,  0.60830205,  0.69641675,  0.66584967,  0.62653081,\n",
       "        0.64449835,  0.65093137,  0.65604053,  0.67742595,  0.65497473,\n",
       "        0.67562996,  0.65790981,  0.6496472 ,  0.67478576,  0.66174989,\n",
       "        0.63099614,  0.67665299,  0.66165093,  0.67075622,  0.64159055,\n",
       "        0.54748562,  0.68626058,  0.66135856,  0.69218924,  0.68354712,\n",
       "        0.70718138,  0.68941184,  0.67873863,  0.65470138,  0.59303042,\n",
       "        0.66108682,  0.6239161 ,  0.50129741,  0.55654064,  0.4432324 ,\n",
       "        0.64849013,  0.59423637,  0.66731403,  0.6612862 ,  0.67402149,\n",
       "        0.59549136,  0.61941837,  0.6345385 ,  0.69818177,  0.64056856,\n",
       "        0.67675794,  0.68314878,  0.64786715,  0.66119315,  0.6563408 ,\n",
       "        0.67568203,  0.62530468,  0.71025341,  0.70219779,  0.66186823,\n",
       "        0.6515732 ,  0.6366711 ,  0.6476453 ,  0.68322559,  0.68905693,\n",
       "        0.66641241,  0.69231336,  0.69286526,  0.68296173,  0.64997339,\n",
       "        0.65254552,  0.69269976,  0.66935233,  0.64590145,  0.65456273,\n",
       "        0.62686998,  0.66816423,  0.64372157,  0.63085319,  0.65532635,\n",
       "        0.61738908,  0.6486897 ,  0.64941746,  0.64239882,  0.6472466 ,\n",
       "        0.63270906,  0.67427884,  0.63923622,  0.64040699,  0.64177721,\n",
       "        0.66335116,  0.64896492,  0.68711493,  0.52333214,  0.65652252,\n",
       "        0.66127372,  0.67923973,  0.68063716,  0.65259109,  0.6418723 ,\n",
       "        0.63455541,  0.67875316,  0.65493829,  0.66531276,  0.67064145,\n",
       "        0.65244232,  0.65599472,  0.70322498,  0.64985569,  0.6591894 ,\n",
       "        0.66082995,  0.66336071,  0.47657533,  0.59482068,  0.63947996,\n",
       "        0.65901827,  0.65784991,  0.69246074,  0.64181003,  0.61138247,\n",
       "        0.69416348,  0.67333334,  0.67715222,  0.67664005,  0.6768227 ,\n",
       "        0.49266   ,  0.68703183,  0.68147993,  0.68761843,  0.67702793,\n",
       "        0.62830464,  0.60996983,  0.58863419,  0.6586243 ,  0.68234782,\n",
       "        0.66585875,  0.63428944,  0.60982614,  0.66940654,  0.66108139,\n",
       "        0.70639886,  0.68733815,  0.62969677,  0.67248831,  0.69099107,\n",
       "        0.66585845,  0.70562577,  0.68877577,  0.65917399,  0.63589734,\n",
       "        0.65217914,  0.56906338,  0.65266676,  0.66673146,  0.66011403,\n",
       "        0.67260673,  0.67252729,  0.68883528,  0.69813119,  0.65483296,\n",
       "        0.70116009,  0.68586382,  0.66863048,  0.6375601 ,  0.65887728,\n",
       "        0.69424084,  0.6773278 ,  0.65884066,  0.62101966,  0.64989542])"
      ]
     },
     "execution_count": 38,
     "metadata": {},
     "output_type": "execute_result"
    }
   ],
   "source": [
    "lin_corrs2"
   ]
  },
  {
   "cell_type": "code",
   "execution_count": 41,
   "metadata": {
    "collapsed": false
   },
   "outputs": [
    {
     "data": {
      "text/plain": [
       "array([ 0.83242001,  0.72315026,  0.82090456,  0.85136288,  0.5349494 ,\n",
       "        0.79468366,  0.82869738,  0.84949768,  0.78386463,  0.7833485 ,\n",
       "        0.69768106,  0.81355695,  0.7322944 ,  0.83716005,  0.77431337,\n",
       "        0.79161608,  0.81753902,  0.85730901,  0.8012477 ,  0.86956482,\n",
       "        0.80251526,  0.76951002,  0.84962828,  0.66265171,  0.85256264,\n",
       "        0.78267495,  0.70700863,  0.85139602,  0.82846623,  0.80441147,\n",
       "        0.5408431 ,  0.81386204,  0.8155565 ,  0.75746067,  0.84461864,\n",
       "        0.84617551,  0.79492337,  0.86884891,  0.80703061,  0.73501817,\n",
       "        0.83700891,  0.77400137,  0.84290623,  0.83790684,  0.80300168,\n",
       "        0.81211911,  0.81368979,  0.76504155,  0.83337167,  0.83768287,\n",
       "        0.73552042,  0.84611362,  0.8523619 ,  0.82258737,  0.79449986,\n",
       "        0.72240352,  0.83725338,  0.82951635,  0.79576923,  0.82191297,\n",
       "        0.82660613,  0.8362714 ,  0.83311743,  0.85054474,  0.69599263,\n",
       "        0.85811433,  0.7398037 ,  0.52284967,  0.73720069,  0.54591077,\n",
       "        0.80005988,  0.71028054,  0.83044596,  0.85290589,  0.80232629,\n",
       "        0.69878754,  0.7399494 ,  0.79787307,  0.86133637,  0.85675548,\n",
       "        0.86761791,  0.80166727,  0.78055313,  0.85444194,  0.85174615,\n",
       "        0.86003306,  0.74581182,  0.87072055,  0.8455308 ,  0.77921003,\n",
       "        0.81727619,  0.79873481,  0.79453207,  0.84280743,  0.85526629,\n",
       "        0.79606733,  0.8316592 ,  0.84312884,  0.80591443,  0.81972307,\n",
       "        0.84533577,  0.82884254,  0.80337998,  0.77638304,  0.82670993,\n",
       "        0.69840208,  0.82124088,  0.79881205,  0.77612508,  0.83049155,\n",
       "        0.70059158,  0.79996825,  0.76266787,  0.7804314 ,  0.80130274,\n",
       "        0.85331331,  0.86152267,  0.70642365,  0.74917923,  0.82316277,\n",
       "        0.81507193,  0.84736312,  0.81511104,  0.60042202,  0.85020035,\n",
       "        0.79464683,  0.79134138,  0.78059431,  0.82829321,  0.81503076,\n",
       "        0.83825916,  0.83932452,  0.81106467,  0.83850314,  0.80039491,\n",
       "        0.79457527,  0.81097   ,  0.79583344,  0.79855183,  0.79036626,\n",
       "        0.85009735,  0.84718813,  0.53331726,  0.6946337 ,  0.84383807,\n",
       "        0.82150461,  0.81155574,  0.79449063,  0.79818002,  0.68054215,\n",
       "        0.84219797,  0.72865916,  0.83524764,  0.82852235,  0.82871487,\n",
       "        0.57993155,  0.84442729,  0.82766224,  0.80956243,  0.79268449,\n",
       "        0.68968609,  0.78063672,  0.6861401 ,  0.81403082,  0.8011478 ,\n",
       "        0.79090723,  0.78511798,  0.75644721,  0.8309851 ,  0.84636566,\n",
       "        0.82411438,  0.843236  ,  0.74752673,  0.81272616,  0.8489297 ,\n",
       "        0.83727451,  0.85236   ,  0.8388892 ,  0.86831547,  0.76727931,\n",
       "        0.80699345,  0.68669063,  0.84242549,  0.78773975,  0.8234268 ,\n",
       "        0.84659406,  0.83061947,  0.82462766,  0.85026017,  0.80299237,\n",
       "        0.85404476,  0.77450506,  0.8435276 ,  0.79046454,  0.82953614,\n",
       "        0.85696501,  0.84299452,  0.81327559,  0.74096361,  0.79229677])"
      ]
     },
     "execution_count": 41,
     "metadata": {},
     "output_type": "execute_result"
    }
   ],
   "source": [
    "lin_corrs1"
   ]
  },
  {
   "cell_type": "code",
   "execution_count": 38,
   "metadata": {
    "collapsed": false
   },
   "outputs": [],
   "source": [
    "in_corrs = np.zeros(201)\n",
    "hu_corrs = np.zeros(201)\n",
    "top2_corrs = np.zeros(201)\n",
    "for i in range(201):\n",
    "    file_name = 'output_post_readoutt2/post_readoutt2_2_' + str(i) + '.pkl'\n",
    "    if os.path.isfile(file_name):\n",
    "        pkl_file = open(file_name, 'rb')\n",
    "        hu_corrs[i], top2_corrs[i], in_corrs[i], lin_preds_hus, lin_preds_top2, lin_preds_ins, weights_hus, weights_top2, weights_ins, sort_acts = pickle.load(pkl_file)"
   ]
  },
  {
   "cell_type": "code",
   "execution_count": 40,
   "metadata": {
    "collapsed": false
   },
   "outputs": [
    {
     "data": {
      "text/plain": [
       "(array([ 0.38824793,  0.49146123,  0.16345331,  0.31597994,  0.23999606,\n",
       "         0.21926598,  0.08242616,  0.16157655,  0.31682509,  0.40101945,\n",
       "         0.09091302,  0.29515735,  0.35969628,  0.38425458,  0.32704808,\n",
       "         0.28624101,  0.17777761,  0.21171444,  0.11625638,  0.24964991,\n",
       "         0.23363709,  0.03498055,  0.30664979,  0.28791036,  0.40760566,\n",
       "         0.19060695,  0.33848829,  0.3496278 ,  0.34631485,  0.22690007,\n",
       "         0.15305101,  0.37269119,  0.23928375,  0.34380986,  0.27681183,\n",
       "         0.24087671,  0.35180481,  0.19563466,  0.14973164,  0.08427954,\n",
       "         0.41083691,  0.3392105 ,  0.3139579 ,  0.19507934,  0.21460677,\n",
       "         0.30186354,  0.25481872,  0.29196753,  0.28148589,  0.33803861,\n",
       "         0.32585994,  0.19907264,  0.18462415,  0.3817493 ,  0.14199593,\n",
       "         0.35092098,  0.36504595,  0.03035684,  0.27374714,  0.34543487,\n",
       "         0.42934289,  0.24686766,  0.13999865,  0.27071676,  0.27370018,\n",
       "         0.21497778,  0.3789258 ,  0.44333951,  0.18092038,  0.13906528,\n",
       "         0.39335866,  0.19681505,  0.32291256,  0.23793008,  0.27097662,\n",
       "         0.27050594,  0.25840177,  0.33719592,  0.26781559,  0.27458551,\n",
       "         0.40501791,  0.36292503,  0.17203227,  0.27802179,  0.11890756,\n",
       "         0.28691562,  0.24380255,  0.22616654,  0.19891043,  0.37687626,\n",
       "         0.36736665,  0.43613238,  0.13101345,  0.3530509 ,  0.22833791,\n",
       "         0.06961132,  0.39400919,  0.37596879,  0.32536432,  0.09905235,\n",
       "         0.29186952,  0.36884095,  0.37442031,  0.17653782,  0.2369777 ,\n",
       "         0.37413823,  0.23377101,  0.2356858 ,  0.13202632,  0.16397685,\n",
       "         0.41709925,  0.26881238,  0.42999884,  0.05575924,  0.23462497,\n",
       "         0.35502496,  0.26127095,  0.3166711 ,  0.17517741,  0.43399895,\n",
       "         0.1521102 ,  0.35602946,  0.34571774,  0.15903716,  0.43722494,\n",
       "         0.19533122,  0.07580207,  0.35165333,  0.16418576,  0.16019478,\n",
       "         0.40567137,  0.17527987,  0.40310298,  0.33346039,  0.28827267,\n",
       "         0.21915904,  0.21320463,  0.22243534,  0.32689698,  0.26847204,\n",
       "         0.36767095,  0.20660511,  0.37741317,  0.23630785,  0.31418225,\n",
       "         0.28473416,  0.15719031,  0.32488527,  0.20025371,  0.21417656,\n",
       "         0.37878411,  0.42051839,  0.35427734,  0.35642484,  0.24685227,\n",
       "         0.35110292,  0.45532308,  0.21113401,  0.21880544,  0.32784909,\n",
       "         0.21685391,  0.41022706,  0.12745954,  0.27671268,  0.23726112,\n",
       "         0.07318252,  0.29660067,  0.33241007,  0.20548559,  0.09966445,\n",
       "         0.27473457,  0.29824001,  0.35651689,  0.14373312,  0.30497273,\n",
       "         0.38479194,  0.02804177,  0.38103086,  0.3723283 ,  0.18903042,\n",
       "         0.23072337,  0.17464658,  0.05812468,  0.32756771,  0.32963052,\n",
       "         0.25458033,  0.44108361,  0.19681114,  0.24040026,  0.19093668,\n",
       "         0.39506205,  0.3063335 ,  0.17309986,  0.30762778,  0.18872798,\n",
       "         0.27887895,  0.18275918,  0.331519  ,  0.40548699,  0.25222231,\n",
       "         0.32647666]),\n",
       " array([ 0.67920564,  0.69118994,  0.50933963,  0.64359502,  0.6464301 ,\n",
       "         0.69352115,  0.49401306,  0.65159777,  0.66279234,  0.69010793,\n",
       "         0.66845753,  0.63598383,  0.67517442,  0.66482092,  0.68537136,\n",
       "         0.66063055,  0.6607057 ,  0.66660545,  0.68778986,  0.67890801,\n",
       "         0.65064701,  0.63106515,  0.69451039,  0.62456142,  0.68571178,\n",
       "         0.6554636 ,  0.65014592,  0.69001121,  0.5738561 ,  0.66758553,\n",
       "         0.6378475 ,  0.66179187,  0.55512178,  0.67526567,  0.64702125,\n",
       "         0.67374056,  0.66638227,  0.66699583,  0.42874498,  0.68188057,\n",
       "         0.6824484 ,  0.66824124,  0.65296082,  0.68451382,  0.6369932 ,\n",
       "         0.65767514,  0.66895052,  0.67675087,  0.48208153,  0.66381767,\n",
       "         0.65638923,  0.65595606,  0.61453603,  0.68660372,  0.48162885,\n",
       "         0.65388336,  0.66852253,  0.41791918,  0.68301377,  0.67943886,\n",
       "         0.69139866,  0.66017997,  0.63076183,  0.66328524,  0.61656315,\n",
       "         0.6992241 ,  0.67031502,  0.65236556,  0.65022906,  0.67251274,\n",
       "         0.66683031,  0.68929104,  0.69972091,  0.66134437,  0.70798378,\n",
       "         0.68431106,  0.67827076,  0.68041809,  0.64792589,  0.67435735,\n",
       "         0.66872271,  0.70153427,  0.64454031,  0.63410775,  0.65581345,\n",
       "         0.65894734,  0.68262691,  0.66419642,  0.69216004,  0.66032574,\n",
       "         0.66923371,  0.69738426,  0.66081651,  0.67617729,  0.53033754,\n",
       "         0.67988178,  0.67810186,  0.66090142,  0.62402351,  0.63612941,\n",
       "         0.6565968 ,  0.66900983,  0.67816449,  0.63461246,  0.64719537,\n",
       "         0.69012255,  0.66443879,  0.69033637,  0.6560614 ,  0.46924482,\n",
       "         0.61227109,  0.67901573,  0.68935481,  0.58825074,  0.67019266,\n",
       "         0.66412322,  0.65983636,  0.65093375,  0.65041488,  0.67409817,\n",
       "         0.66276713,  0.69983274,  0.66640048,  0.68334912,  0.61309604,\n",
       "         0.60125869,  0.59488158,  0.66211875,  0.61243945,  0.63781062,\n",
       "         0.66325597,  0.67499184,  0.65733833,  0.66053049,  0.64170256,\n",
       "         0.61517637,  0.43522721,  0.68124138,  0.65166341,  0.57947039,\n",
       "         0.67317453,  0.65253265,  0.64810073,  0.6788117 ,  0.63903376,\n",
       "         0.61300082,  0.6672379 ,  0.63752784,  0.67365634,  0.66844365,\n",
       "         0.69635547,  0.69029493,  0.5663162 ,  0.65917079,  0.65898249,\n",
       "         0.63793205,  0.70203452,  0.64134459,  0.62909366,  0.67255681,\n",
       "         0.67834246,  0.66160096,  0.68114414,  0.5806004 ,  0.68103671,\n",
       "         0.66087618,  0.61345349,  0.64512143,  0.67179288,  0.65083998,\n",
       "         0.67310168,  0.68295326,  0.65569387,  0.6817208 ,  0.63132527,\n",
       "         0.66563114,  0.64783774,  0.65924989,  0.61292665,  0.65015653,\n",
       "         0.69670166,  0.68070016,  0.65532929,  0.69147285,  0.67605939,\n",
       "         0.66278687,  0.66507483,  0.67204466,  0.56511402,  0.66947772,\n",
       "         0.62452705,  0.69155206,  0.60034466,  0.67092636,  0.61474944,\n",
       "         0.6753349 ,  0.63642473,  0.6974381 ,  0.67246725,  0.59984712,\n",
       "         0.68096349]))"
      ]
     },
     "execution_count": 40,
     "metadata": {},
     "output_type": "execute_result"
    }
   ],
   "source": [
    "top2_corrs, in_corrs"
   ]
  },
  {
   "cell_type": "code",
   "execution_count": 23,
   "metadata": {
    "collapsed": true
   },
   "outputs": [],
   "source": [
    "nns = {}\n",
    "for i in range(201):\n",
    "    file_name = 'output_nn_runs_cov/nn_runs_2_' + str(i) + '.pkl'\n",
    "    if os.path.isfile(file_name):\n",
    "        pkl_file = open(file_name, 'rb')\n",
    "        nn, nnx, valid_mse, _, _ = pickle.load(pkl_file)\n",
    "        nns[i] = (nn, nnx, valid_mse)"
   ]
  },
  {
   "cell_type": "code",
   "execution_count": 32,
   "metadata": {
    "collapsed": false
   },
   "outputs": [
    {
     "name": "stdout",
     "output_type": "stream",
     "text": [
      "0\n",
      "1\n",
      "2\n",
      "3\n",
      "4\n",
      "5\n",
      "6\n",
      "7\n",
      "8\n",
      "9\n",
      "10\n",
      "11\n",
      "12\n",
      "13\n",
      "14\n",
      "15\n",
      "16\n",
      "17\n",
      "18\n",
      "19\n",
      "20\n",
      "21\n",
      "22\n",
      "23\n",
      "24\n",
      "25\n",
      "26\n",
      "27\n",
      "28\n",
      "29\n",
      "30\n",
      "31\n",
      "32\n",
      "33\n",
      "34\n",
      "35\n",
      "36\n",
      "37\n",
      "38\n",
      "39\n",
      "40\n",
      "41\n",
      "42\n",
      "43\n",
      "44\n",
      "45\n",
      "46\n",
      "47\n",
      "48\n",
      "49\n",
      "50\n",
      "51\n",
      "52\n",
      "53\n",
      "54\n",
      "55\n",
      "56\n",
      "57\n",
      "58\n",
      "59\n",
      "60\n",
      "61\n",
      "62\n"
     ]
    },
    {
     "ename": "LinAlgError",
     "evalue": "SVD did not converge in Linear Least Squares",
     "output_type": "error",
     "traceback": [
      "\u001b[0;31m---------------------------------------------------------------------------\u001b[0m",
      "\u001b[0;31mLinAlgError\u001b[0m                               Traceback (most recent call last)",
      "\u001b[0;32m<ipython-input-32-80ce0846fd90>\u001b[0m in \u001b[0;36m<module>\u001b[0;34m()\u001b[0m\n\u001b[1;32m     28\u001b[0m     \u001b[0mhus\u001b[0m\u001b[0;34m,\u001b[0m \u001b[0mvpost\u001b[0m \u001b[0;34m=\u001b[0m \u001b[0mvalidset1\u001b[0m\u001b[0;34m\u001b[0m\u001b[0m\n\u001b[1;32m     29\u001b[0m     \u001b[0minputs\u001b[0m\u001b[0;34m,\u001b[0m \u001b[0mvpost\u001b[0m \u001b[0;34m=\u001b[0m \u001b[0mvalidset2\u001b[0m\u001b[0;34m\u001b[0m\u001b[0m\n\u001b[0;32m---> 30\u001b[0;31m     \u001b[0mweights1\u001b[0m \u001b[0;34m=\u001b[0m \u001b[0mnp\u001b[0m\u001b[0;34m.\u001b[0m\u001b[0mlinalg\u001b[0m\u001b[0;34m.\u001b[0m\u001b[0mlstsq\u001b[0m\u001b[0;34m(\u001b[0m\u001b[0mtrainset1\u001b[0m\u001b[0;34m[\u001b[0m\u001b[0;36m0\u001b[0m\u001b[0;34m]\u001b[0m\u001b[0;34m,\u001b[0m \u001b[0mtrainset1\u001b[0m\u001b[0;34m[\u001b[0m\u001b[0;36m1\u001b[0m\u001b[0;34m]\u001b[0m\u001b[0;34m)\u001b[0m\u001b[0;34m[\u001b[0m\u001b[0;36m0\u001b[0m\u001b[0;34m]\u001b[0m\u001b[0;34m\u001b[0m\u001b[0m\n\u001b[0m\u001b[1;32m     31\u001b[0m     \u001b[0mweights2\u001b[0m \u001b[0;34m=\u001b[0m \u001b[0mnp\u001b[0m\u001b[0;34m.\u001b[0m\u001b[0mlinalg\u001b[0m\u001b[0;34m.\u001b[0m\u001b[0mlstsq\u001b[0m\u001b[0;34m(\u001b[0m\u001b[0mtrainset2\u001b[0m\u001b[0;34m[\u001b[0m\u001b[0;36m0\u001b[0m\u001b[0;34m]\u001b[0m\u001b[0;34m,\u001b[0m \u001b[0mtrainset2\u001b[0m\u001b[0;34m[\u001b[0m\u001b[0;36m1\u001b[0m\u001b[0;34m]\u001b[0m\u001b[0;34m)\u001b[0m\u001b[0;34m[\u001b[0m\u001b[0;36m0\u001b[0m\u001b[0;34m]\u001b[0m\u001b[0;34m\u001b[0m\u001b[0m\n\u001b[1;32m     32\u001b[0m     \u001b[0mlin_preds1\u001b[0m \u001b[0;34m=\u001b[0m \u001b[0mnp\u001b[0m\u001b[0;34m.\u001b[0m\u001b[0mdot\u001b[0m\u001b[0;34m(\u001b[0m\u001b[0mhus\u001b[0m\u001b[0;34m,\u001b[0m \u001b[0mweights1\u001b[0m\u001b[0;34m)\u001b[0m\u001b[0;34m\u001b[0m\u001b[0m\n",
      "\u001b[0;32m/Users/DavidHalpern/anaconda/lib/python2.7/site-packages/numpy/linalg/linalg.pyc\u001b[0m in \u001b[0;36mlstsq\u001b[0;34m(a, b, rcond)\u001b[0m\n\u001b[1;32m   1867\u001b[0m                                  0, work, lwork, iwork, 0)\n\u001b[1;32m   1868\u001b[0m     \u001b[0;32mif\u001b[0m \u001b[0mresults\u001b[0m\u001b[0;34m[\u001b[0m\u001b[0;34m'info'\u001b[0m\u001b[0;34m]\u001b[0m \u001b[0;34m>\u001b[0m \u001b[0;36m0\u001b[0m\u001b[0;34m:\u001b[0m\u001b[0;34m\u001b[0m\u001b[0m\n\u001b[0;32m-> 1869\u001b[0;31m         \u001b[0;32mraise\u001b[0m \u001b[0mLinAlgError\u001b[0m\u001b[0;34m(\u001b[0m\u001b[0;34m'SVD did not converge in Linear Least Squares'\u001b[0m\u001b[0;34m)\u001b[0m\u001b[0;34m\u001b[0m\u001b[0m\n\u001b[0m\u001b[1;32m   1870\u001b[0m     \u001b[0mresids\u001b[0m \u001b[0;34m=\u001b[0m \u001b[0marray\u001b[0m\u001b[0;34m(\u001b[0m\u001b[0;34m[\u001b[0m\u001b[0;34m]\u001b[0m\u001b[0;34m,\u001b[0m \u001b[0mresult_real_t\u001b[0m\u001b[0;34m)\u001b[0m\u001b[0;34m\u001b[0m\u001b[0m\n\u001b[1;32m   1871\u001b[0m     \u001b[0;32mif\u001b[0m \u001b[0mis_1d\u001b[0m\u001b[0;34m:\u001b[0m\u001b[0;34m\u001b[0m\u001b[0m\n",
      "\u001b[0;31mLinAlgError\u001b[0m: SVD did not converge in Linear Least Squares"
     ]
    }
   ],
   "source": [
    "lin_corrs1 = np.zeros(200)\n",
    "lin_corrs2 = np.zeros(200)\n",
    "\n",
    "x2 = []\n",
    "y = []\n",
    "for s_i in range(31):\n",
    "    x2.append(testsets[s_i])\n",
    "    y.append(np.array((1/posts[s_i]['var_s1'], 1/posts[s_i]['var_s2'])))\n",
    "y = np.concatenate(y, axis=1).T\n",
    "x2 = np.concatenate(x2)\n",
    "for i in range(201):\n",
    "    print i\n",
    "    nn, nnx, valid_mse = nns[i]\n",
    "    x1 = []\n",
    "    for s_i in range(31):\n",
    "        x1.append(dm.get_hu_responses(testsets[s_i], nn))      \n",
    "    x1 = np.concatenate(x1)\n",
    "    inds = range(len(x1))\n",
    "    np.random.shuffle(inds)\n",
    "    x1_shuf = x1[inds]\n",
    "    x2_shuf = x2[inds]\n",
    "    y_shuf = y[inds]\n",
    "    validset1 = x1_shuf[0:2000], y_shuf[0:2000]\n",
    "    trainset1 = x1_shuf[2000:], y_shuf[2000:]\n",
    "    validset2 = x2_shuf[0:2000], y_shuf[0:2000]\n",
    "    trainset2 = x2_shuf[2000:], y_shuf[2000:]\n",
    "    \n",
    "    hus, vpost = validset1\n",
    "    inputs, vpost = validset2\n",
    "    weights1 = np.linalg.lstsq(trainset1[0], trainset1[1])[0]\n",
    "    weights2 = np.linalg.lstsq(trainset2[0], trainset2[1])[0]\n",
    "    lin_preds1 = np.dot(hus, weights1)\n",
    "    lin_preds2 = np.dot(inputs, weights2)\n",
    "    vp = np.concatenate((vpost.T[0], vpost.T[1]))\n",
    "    lin_preds1 = np.concatenate((lin_preds1.T[0], lin_preds1.T[1]))\n",
    "    lin_preds2 = np.concatenate((lin_preds2.T[0], lin_preds2.T[1]))\n",
    "    sum_preds = np.sum(hus, axis=1)\n",
    "    kurt_preds = kurtosis(hus, axis=1)\n",
    "    sum_preds = np.concatenate((sum_preds, sum_preds))\n",
    "    kurt_preds = np.concatenate((kurt_preds, kurt_preds))\n",
    "\n",
    "    sum_corr = np.corrcoef(vp, sum_preds)\n",
    "    kurt_corr = np.corrcoef(vp, kurt_preds)\n",
    "    lin_corrs1[i] = np.corrcoef(vp, lin_preds1)[0, 1]\n",
    "    lin_corrs2[i] = np.corrcoef(vp, lin_preds2)[0, 1]"
   ]
  },
  {
   "cell_type": "code",
   "execution_count": 41,
   "metadata": {
    "collapsed": false
   },
   "outputs": [
    {
     "data": {
      "text/plain": [
       "array([[ 1.        ,  0.06988951],\n",
       "       [ 0.06988951,  1.        ]])"
      ]
     },
     "execution_count": 41,
     "metadata": {},
     "output_type": "execute_result"
    }
   ],
   "source": [
    "posts = {}\n",
    "testsets = {}\n",
    "for s_i in range(60):\n",
    "    file_name = 'output_post_4/post_3_' + str(s_i) + '.pkl'\n",
    "    if os.path.isfile(file_name):\n",
    "        pkl_file = open(file_name, 'rb')\n",
    "        p, r, c, s, delta_s = pickle.load(pkl_file)\n",
    "        for i in range(len(p)):\n",
    "            posts[c[i]].append(p)\n",
    "            testsets[c[i]].append(r)"
   ]
  },
  {
   "cell_type": "code",
   "execution_count": 59,
   "metadata": {
    "collapsed": false
   },
   "outputs": [
    {
     "name": "stdout",
     "output_type": "stream",
     "text": [
      "{'var_s1': array([  3.03066998,  10.59772675,  16.9948458 , ...,  25.61028366,\n",
      "         8.3886189 ,  24.26021268]), 'mean_s1': array([-12.09122169, -14.43172437,  10.82170894, ..., -24.27855888,\n",
      "       -27.26971158,  29.71705808]), 'mean_s2': array([ 58.0406785 ,  -1.83678521,  20.66475155, ..., -13.58762485,\n",
      "        33.85746067,  45.46728772]), 'var_s2': array([  3.05169817,  13.31603863,  26.53719181, ...,  15.34052388,\n",
      "         5.93613481,  11.82192002])}\n"
     ]
    },
    {
     "ename": "KeyError",
     "evalue": "0",
     "output_type": "error",
     "traceback": [
      "\u001b[0;31m---------------------------------------------------------------------------\u001b[0m",
      "\u001b[0;31mKeyError\u001b[0m                                  Traceback (most recent call last)",
      "\u001b[0;32m<ipython-input-59-d32e2d914989>\u001b[0m in \u001b[0;36m<module>\u001b[0;34m()\u001b[0m\n\u001b[1;32m     13\u001b[0m             \u001b[0mposts\u001b[0m\u001b[0;34m[\u001b[0m\u001b[0;36m1\u001b[0m\u001b[0;34m]\u001b[0m \u001b[0;34m=\u001b[0m \u001b[0;36m1\u001b[0m\u001b[0;34m\u001b[0m\u001b[0m\n\u001b[1;32m     14\u001b[0m             \u001b[0;32mprint\u001b[0m \u001b[0mp\u001b[0m\u001b[0;34m\u001b[0m\u001b[0m\n\u001b[0;32m---> 15\u001b[0;31m             \u001b[0mposts\u001b[0m\u001b[0;34m[\u001b[0m\u001b[0mtc_i\u001b[0m\u001b[0;34m]\u001b[0m \u001b[0;34m=\u001b[0m \u001b[0mp\u001b[0m\u001b[0;34m[\u001b[0m\u001b[0mi\u001b[0m\u001b[0;34m]\u001b[0m\u001b[0;34m\u001b[0m\u001b[0m\n\u001b[0m\u001b[1;32m     16\u001b[0m             \u001b[0mtestsets\u001b[0m\u001b[0;34m[\u001b[0m\u001b[0mtc_i\u001b[0m\u001b[0;34m]\u001b[0m \u001b[0;34m=\u001b[0m \u001b[0mr\u001b[0m\u001b[0;34m[\u001b[0m\u001b[0mi\u001b[0m\u001b[0;34m]\u001b[0m\u001b[0;34m\u001b[0m\u001b[0m\n",
      "\u001b[0;31mKeyError\u001b[0m: 0"
     ]
    }
   ],
   "source": [
    "posts = {}\n",
    "testsets = {}\n",
    "file_name = 'output_post_4/post_3_1.pkl'\n",
    "if os.path.isfile(file_name):\n",
    "    pkl_file = open(file_name, 'rb')\n",
    "    p, r, c, s, delta_s = pickle.load(pkl_file)\n",
    "    for i in range(len(p)):\n",
    "        tc_i = tuple(c[i])\n",
    "        if tc_i in posts:\n",
    "            posts[tc_i].append(p[i])\n",
    "            testsets[tc_i].append(r[i])\n",
    "        else:\n",
    "            posts[1] = 1\n",
    "            print p\n",
    "            posts[tc_i] = p[i]\n",
    "            testsets[tc_i] = r[i]"
   ]
  },
  {
   "cell_type": "code",
   "execution_count": 70,
   "metadata": {
    "collapsed": false
   },
   "outputs": [
    {
     "data": {
      "text/plain": [
       "[[1], [1]]"
      ]
     },
     "execution_count": 70,
     "metadata": {},
     "output_type": "execute_result"
    }
   ],
   "source": [
    "[[dm.cartesian([[1, 2, 4], [1, 2, 4]])[i][0]], [dm.cartesian([[1, 2, 4], [1, 2, 4]])[i][1]]]"
   ]
  },
  {
   "cell_type": "code",
   "execution_count": 66,
   "metadata": {
    "collapsed": false
   },
   "outputs": [
    {
     "data": {
      "text/plain": [
       "[[1], [1]]"
      ]
     },
     "execution_count": 66,
     "metadata": {},
     "output_type": "execute_result"
    }
   ],
   "source": [
    "\n",
    "c_arr = dm.cartesian([[1, 2, 4], [1, 2, 4]])\n",
    "for i in len(c_arr)"
   ]
  },
  {
   "cell_type": "code",
   "execution_count": null,
   "metadata": {
    "collapsed": true
   },
   "outputs": [],
   "source": []
  }
 ],
 "metadata": {
  "kernelspec": {
   "display_name": "Python 2",
   "language": "python",
   "name": "python2"
  },
  "language_info": {
   "codemirror_mode": {
    "name": "ipython",
    "version": 2
   },
   "file_extension": ".py",
   "mimetype": "text/x-python",
   "name": "python",
   "nbconvert_exporter": "python",
   "pygments_lexer": "ipython2",
   "version": "2.7.10"
  }
 },
 "nbformat": 4,
 "nbformat_minor": 0
}
