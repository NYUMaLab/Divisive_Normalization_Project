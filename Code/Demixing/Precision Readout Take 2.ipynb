{
 "cells": [
  {
   "cell_type": "code",
   "execution_count": 11,
   "metadata": {
    "collapsed": true
   },
   "outputs": [],
   "source": [
    "%matplotlib inline\n",
    "import numpy as np\n",
    "import theano\n",
    "import theano.tensor as T\n",
    "import matplotlib.pyplot as plt\n",
    "from scipy.stats import poisson, kurtosis\n",
    "import matplotlib.patches as mpatches\n",
    "from functools import partial\n",
    "import pickle\n",
    "import os\n",
    "import demixing as dm\n",
    "from demixing import MLP, HiddenLayer\n",
    "\n",
    "nneuron = 61\n",
    "min_angle = -90\n",
    "max_angle = 90\n",
    "sprefs = np.linspace(min_angle, max_angle, nneuron)\n",
    "eps = np.finfo(np.float64).eps\n",
    "sigtc_sq = float(10**2)"
   ]
  },
  {
   "cell_type": "code",
   "execution_count": 2,
   "metadata": {
    "collapsed": true
   },
   "outputs": [],
   "source": [
    "pkl_file = open('readout.pkl', 'rb')\n",
    "posts, testsets = pickle.load(pkl_file)"
   ]
  },
  {
   "cell_type": "code",
   "execution_count": 7,
   "metadata": {
    "collapsed": true
   },
   "outputs": [],
   "source": [
    "nns = {}\n",
    "for i in range(1, 401):\n",
    "    file_name = 'Minicon_Outputs/output_nn_tests_2/nn_tests_2_' + str(i) + '.pkl'\n",
    "    if os.path.isfile(file_name):\n",
    "        pkl_file = open(file_name, 'rb')\n",
    "        nn, nnx, valid_mse, _, _ = pickle.load(pkl_file)\n",
    "        nns[i] = (nn, nnx, valid_mse)"
   ]
  },
  {
   "cell_type": "code",
   "execution_count": 12,
   "metadata": {
    "collapsed": false
   },
   "outputs": [
    {
     "name": "stdout",
     "output_type": "stream",
     "text": [
      "1\n",
      "2\n",
      "3\n",
      "4\n",
      "5\n",
      "6\n",
      "7\n",
      "8\n",
      "9\n",
      "10\n",
      "11\n",
      "12\n",
      "13\n",
      "14\n",
      "15\n",
      "16\n",
      "17\n",
      "18\n",
      "19\n",
      "20\n",
      "21\n",
      "22\n",
      "23\n",
      "24\n",
      "25\n",
      "26\n",
      "27\n"
     ]
    },
    {
     "ename": "KeyboardInterrupt",
     "evalue": "",
     "output_type": "error",
     "traceback": [
      "\u001b[0;31m---------------------------------------------------------------------------\u001b[0m",
      "\u001b[0;31mKeyboardInterrupt\u001b[0m                         Traceback (most recent call last)",
      "\u001b[0;32m<ipython-input-12-7aec3ec7a488>\u001b[0m in \u001b[0;36m<module>\u001b[0;34m()\u001b[0m\n\u001b[1;32m     11\u001b[0m     \u001b[0minds\u001b[0m \u001b[0;34m=\u001b[0m \u001b[0mrange\u001b[0m\u001b[0;34m(\u001b[0m\u001b[0mlen\u001b[0m\u001b[0;34m(\u001b[0m\u001b[0mx\u001b[0m\u001b[0;34m)\u001b[0m\u001b[0;34m)\u001b[0m\u001b[0;34m\u001b[0m\u001b[0m\n\u001b[1;32m     12\u001b[0m     \u001b[0mnp\u001b[0m\u001b[0;34m.\u001b[0m\u001b[0mrandom\u001b[0m\u001b[0;34m.\u001b[0m\u001b[0mshuffle\u001b[0m\u001b[0;34m(\u001b[0m\u001b[0minds\u001b[0m\u001b[0;34m)\u001b[0m\u001b[0;34m\u001b[0m\u001b[0m\n\u001b[0;32m---> 13\u001b[0;31m     \u001b[0mx_shuf\u001b[0m \u001b[0;34m=\u001b[0m \u001b[0mx\u001b[0m\u001b[0;34m[\u001b[0m\u001b[0minds\u001b[0m\u001b[0;34m]\u001b[0m\u001b[0;34m\u001b[0m\u001b[0m\n\u001b[0m\u001b[1;32m     14\u001b[0m     \u001b[0my_shuf\u001b[0m \u001b[0;34m=\u001b[0m \u001b[0my\u001b[0m\u001b[0;34m[\u001b[0m\u001b[0minds\u001b[0m\u001b[0;34m]\u001b[0m\u001b[0;34m\u001b[0m\u001b[0m\n\u001b[1;32m     15\u001b[0m     \u001b[0mvalidset\u001b[0m \u001b[0;34m=\u001b[0m \u001b[0mx_shuf\u001b[0m\u001b[0;34m[\u001b[0m\u001b[0;36m0\u001b[0m\u001b[0;34m:\u001b[0m\u001b[0;36m2000\u001b[0m\u001b[0;34m]\u001b[0m\u001b[0;34m,\u001b[0m \u001b[0my_shuf\u001b[0m\u001b[0;34m[\u001b[0m\u001b[0;36m0\u001b[0m\u001b[0;34m:\u001b[0m\u001b[0;36m2000\u001b[0m\u001b[0;34m]\u001b[0m\u001b[0;34m\u001b[0m\u001b[0m\n",
      "\u001b[0;31mKeyboardInterrupt\u001b[0m: "
     ]
    }
   ],
   "source": [
    "for i in range(1, len(nns) + 1):\n",
    "    print i\n",
    "    nn, nnx, valid_mse = nns[i]\n",
    "    x = []\n",
    "    y = []\n",
    "    for s_i in range(31):\n",
    "        x.append(dm.get_hu_responses(testsets[s_i], nn))\n",
    "        y.append(np.array((1/posts[s_i]['var_s1'], 1/posts[s_i]['var_s2'])))\n",
    "    y = np.concatenate(y, axis=1).T\n",
    "    x = np.concatenate(x)\n",
    "    inds = range(len(x))\n",
    "    np.random.shuffle(inds)\n",
    "    x_shuf = x[inds]\n",
    "    y_shuf = y[inds]\n",
    "    validset = x_shuf[0:2000], y_shuf[0:2000]\n",
    "    trainset = x_shuf[2000:], y_shuf[2000:]\n",
    "    \n",
    "    hus, vpost = validset\n",
    "    weights = np.linalg.lstsq(trainset[0], trainset[1])[0]\n",
    "    lin_preds = np.dot(hus, weights)\n",
    "    sum_preds = np.sum(hus, axis=1)\n",
    "    kurt_preds = kurtosis(hus, axis=1)\n",
    "    vp = np.concatenate((vpost.T[0], vpost.T[1]))\n",
    "    lin_preds = np.concatenate((lin_preds.T[0], lin_preds.T[1]))\n",
    "    sum_preds = np.concatenate((sum_preds, sum_preds))\n",
    "    kurt_preds = np.concatenate((kurt_preds, kurt_preds))\n",
    "\n",
    "    lin_corr = np.corrcoef(vp, lin_preds)\n",
    "    sum_corr = np.corrcoef(vp, sum_preds)\n",
    "    kurt_corr = np.corrcoef(vp, kurt_preds)"
   ]
  },
  {
   "cell_type": "code",
   "execution_count": null,
   "metadata": {
    "collapsed": true
   },
   "outputs": [],
   "source": []
  }
 ],
 "metadata": {
  "kernelspec": {
   "display_name": "Python 2",
   "language": "python",
   "name": "python2"
  },
  "language_info": {
   "codemirror_mode": {
    "name": "ipython",
    "version": 2
   },
   "file_extension": ".py",
   "mimetype": "text/x-python",
   "name": "python",
   "nbconvert_exporter": "python",
   "pygments_lexer": "ipython2",
   "version": "2.7.10"
  }
 },
 "nbformat": 4,
 "nbformat_minor": 0
}
