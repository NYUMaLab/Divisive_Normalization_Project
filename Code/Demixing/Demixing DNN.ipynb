{
 "metadata": {
  "name": "",
  "signature": "sha256:1bfc75fd548025625e1b29f73cc82f7b92af77e7d665e594a4ddeec8f3e82e38"
 },
 "nbformat": 3,
 "nbformat_minor": 0,
 "worksheets": [
  {
   "cells": [
    {
     "cell_type": "code",
     "collapsed": false,
     "input": [
      "import numpy as np\n",
      "import math\n",
      "import os\n",
      "import sys\n",
      "import time\n",
      "import theano\n",
      "import theano.tensor as T\n",
      "import pystan\n",
      "import matplotlib.pyplot as plt\n",
      "import argparse\n",
      "\n",
      "nneuron = 61\n",
      "min_angle = -90\n",
      "max_angle = 90\n",
      "sprefs = np.linspace(min_angle, max_angle, nneuron)\n",
      "ndata = 3000\n",
      "\n",
      "r_max = 10\n",
      "sigtc_sq = float(10**2)\n",
      "sigtc = 10\n",
      "c_50 = 13.1"
     ],
     "language": "python",
     "metadata": {},
     "outputs": [],
     "prompt_number": 38
    },
    {
     "cell_type": "code",
     "collapsed": false,
     "input": [
      "def random_s(ndata, sort):\n",
      "    s = np.random.rand(2, ndata) * 120 - 60\n",
      "    if sort:\n",
      "        s = np.sort(s, axis=0)\n",
      "    return s[0], s[1]\n",
      "\n",
      "def generate_trainset(ndata):\n",
      "    s_0, s_1 = random_s(ndata, True)\n",
      "    c_0, c_1 = np.ones((2, ndata)) * .5\n",
      "    r, s, c = generate_popcode_data(ndata, nneuron, sigtc_sq, c_50, r_max, \"poisson\", True, s_0, s_1, c_0, c_1)\n",
      "    return r, s, c\n",
      "\n",
      "def generate_s1set(ndata):\n",
      "    s_0, s_1 = random_s(ndata, True)\n",
      "    c_0 = np.ones(ndata)\n",
      "    c_1 = np.zeros(ndata)\n",
      "    r, s, c = generate_popcode_data(ndata, nneuron, sigtc_sq, c_50, r_max, \"poisson\", True, s_0, s_1, c_0, c_1)\n",
      "    return r, s, c\n",
      "    \n",
      "def generate_popcode_data(ndata, nneuron, sigtc_sq, c_50, r_max, noise, sort, s_0, s_1, c_0, c_1):\n",
      "    c_rms = np.sqrt(np.square(c_0) + np.square(c_1))\n",
      "    sprefs_data = np.tile(sprefs, (ndata, 1))\n",
      "    s_0t = np.exp(-np.square((np.transpose(np.tile(s_0, (nneuron, 1))) - sprefs_data))/(2 * sigtc_sq))\n",
      "    stim_0 = c_0 * s_0t.T\n",
      "    s_1t = np.exp(-np.square((np.transpose(np.tile(s_1, (nneuron, 1))) - sprefs_data))/(2 * sigtc_sq))\n",
      "    stim_1 = c_1 * s_1t.T\n",
      "    #r = r_max * (stim_0 + stim_1)/(c_50 + c_rms)\n",
      "    r = r_max * (stim_0 + stim_1)\n",
      "    r = r.T\n",
      "    s = np.array((s_0, s_1)).T\n",
      "    s = s/90\n",
      "    c = np.array((c_0, c_1)).T\n",
      "    if noise == \"poisson\":\n",
      "        r = np.random.poisson(r) + 0.0\n",
      "    return r, s, c\n",
      "\n",
      "def generate_s_data(stim_0, stim_1, ndata):\n",
      "    c_0, c_1 = np.ones((2, ndata)) * .5\n",
      "    s_0, s_1 = np.ones((2, ndata))\n",
      "    s_0 = s_0 * stim_0\n",
      "    s_1 = s_1 * stim_1\n",
      "    r, s, c = generate_popcode_data(ndata, nneuron, sigtc_sq, c_50, r_max, \"poisson\", True, s_0, s_1, c_0, c_1)\n",
      "    return r, s, c"
     ],
     "language": "python",
     "metadata": {},
     "outputs": [],
     "prompt_number": 183
    },
    {
     "cell_type": "code",
     "collapsed": false,
     "input": [
      "neurons_code = \"\"\"\n",
      "    data {\n",
      "        int<lower=0> N; // number of neurons\n",
      "        int r[N]; // neural response\n",
      "        real sprefs[N]; // preferred stimuli\n",
      "        real<lower=0> c_1;\n",
      "        real<lower=0> c_2;\n",
      "        int r_max;\n",
      "        //real c_rms;\n",
      "        //real c_50;\n",
      "        //real<lower=0> sig_tc;\n",
      "        real<lower=0> sigtc_sq;\n",
      "    }\n",
      "    parameters {\n",
      "        real s_1;\n",
      "        real s_2;\n",
      "        //real<lower=s_1> s_2;\n",
      "    }\n",
      "    transformed parameters {\n",
      "        real lambda[N];\n",
      "        for (n in 1:N)\n",
      "            // lambda[n] <- r_max * ((c_1 * exp(normal_log(s_1, sprefs[n], sig_tc)) + c_2 * exp(normal_log(s_2, sprefs[n], sig_tc)))/(c_rms + c_50));\n",
      "            // lambda[n] <- r_max * (c_1 * exp(normal_log(s_1, sprefs[n], sig_tc)) + c_2 * exp(normal_log(s_2, sprefs[n], sig_tc)));\n",
      "            lambda[n] <- r_max * (c_1 * exp(- square(s_1 - sprefs[n])/(2 * sigtc_sq)) + c_2 * exp(- square(s_2 - sprefs[n])/(2 * sigtc_sq)));\n",
      "    }\n",
      "    model {\n",
      "        s_1 ~ uniform(-60, 60);\n",
      "        s_2 ~ uniform(-60, 60);\n",
      "        //s_2 ~ uniform(s_1, 60);\n",
      "        r ~ poisson(lambda);\n",
      "    }\n",
      "    \"\"\""
     ],
     "language": "python",
     "metadata": {},
     "outputs": [],
     "prompt_number": 121
    },
    {
     "cell_type": "code",
     "collapsed": false,
     "input": [
      "def fisher_inf(s_0, s_1, c_0, c_1):\n",
      "    fs_0 = np.exp(-np.square((np.transpose(np.tile(s_0, (nneuron, 1))) - sprefs))/(2 * sigtc_sq))[0]\n",
      "    qs_0 = r_max * c_0 * fs_0\n",
      "    df_s0 = ((-s_0 + sprefs)/sigtc_sq) * qs_0\n",
      "    fs_1 = np.exp(-np.square((np.transpose(np.tile(s_1, (nneuron, 1))) - sprefs))/(2 * sigtc_sq))[0]\n",
      "    qs_1 = r_max * c_1 * fs_1\n",
      "    df_s1 = ((-s_1 + sprefs)/sigtc_sq) * qs_1\n",
      "    Q = qs_0 + qs_1\n",
      "    Q_inv = 1/Q\n",
      "    J_11 = np.sum(np.square(df_s0) * Q_inv)\n",
      "    J_22 = np.sum(np.square(df_s1) * Q_inv)\n",
      "    J_12 = J_21 = np.sum(df_s0 * df_s1 * Q_inv)\n",
      "    return J_11, J_22, J_12, J_21\n",
      "\n",
      "def fit_optimal(r, init, sm, N=61, sprefs=sprefs, c_1=.5, c_2=.5, c_50=13.1, r_max=10, c_rms=0.707106781, sig_tc=10, sigtc_sq=10**2, random_init=False):\n",
      "    neurons_dat = {'N': 61,\n",
      "                   'r': r[0].astype(int),\n",
      "                   'sprefs': sprefs,\n",
      "                   'c_1': .5,\n",
      "                   'c_2': .5,\n",
      "                   'c_50': 13.1,\n",
      "                   'r_max': r_max,\n",
      "                   'c_rms': 0.707106781,\n",
      "                   'sig_tc': 10,\n",
      "                   'sigtc_sq': sigtc_sq}\n",
      "\n",
      "    optimal = np.zeros((2, ndata))\n",
      "    print init\n",
      "    for i in range(len(r)):\n",
      "        neurons_dat['r'] = r[i].astype(int)\n",
      "        if random_init:\n",
      "            op = sm.optimizing(data=neurons_dat)\n",
      "        else:     \n",
      "            op = sm.optimizing(data=neurons_dat, init=init)\n",
      "        optimal[0][i], optimal[1][i] = op['s_1'], op['s_2']\n",
      "        optimal = np.sort(optimal, axis=0)\n",
      "    return optimal"
     ],
     "language": "python",
     "metadata": {},
     "outputs": [],
     "prompt_number": 348
    },
    {
     "cell_type": "code",
     "collapsed": false,
     "input": [
      "\"\"\"\n",
      "Multilayer ReLU net\n",
      "\"\"\"\n",
      "\n",
      "def relu(x):\n",
      "    return theano.tensor.switch(x<0, 0, x)\n",
      "\n",
      "class HiddenLayer(object):\n",
      "    def __init__(self, rng, input, n_in, n_out, W=None, b=None,\n",
      "                 activation=T.nnet.sigmoid):\n",
      "        \"\"\"\n",
      "        Typical hidden layer of a MLP: units are fully-connected and have\n",
      "        sigmoidal activation function. Weight matrix W is of shape (n_in,n_out)\n",
      "        and the bias vector b is of shape (n_out,).\n",
      "\n",
      "        :type rng: np.random.RandomState\n",
      "        :param rng: a random number generator used to initialize weights\n",
      "\n",
      "        :type input: theano.tensor.dmatrix\n",
      "        :param input: a symbolic tensor of shape (n_examples, n_in)\n",
      "\n",
      "        :type n_in: int\n",
      "        :param n_in: dimensionality of input\n",
      "\n",
      "        :type n_out: int\n",
      "        :param n_out: number of hidden units\n",
      "\n",
      "        :type activation: theano.Op or function\n",
      "        :param activation: Non linearity to be applied in the hidden\n",
      "                           layer\n",
      "        \"\"\"\n",
      "        self.input = input\n",
      "        if W is None:\n",
      "            W_values = (1/np.sqrt(n_in)) * np.random.randn(n_in, n_out)\n",
      "            \n",
      "            W = theano.shared(value=W_values, name='W', borrow=True)\n",
      "\n",
      "        if b is None:\n",
      "            b_values = np.zeros((n_out,), dtype=theano.config.floatX)\n",
      "            b = theano.shared(value=b_values, name='b', borrow=True)\n",
      "\n",
      "        self.W = W\n",
      "        self.b = b\n",
      "\n",
      "        lin_output = T.dot(input, self.W) + self.b\n",
      "        self.output = (\n",
      "            lin_output if activation is None\n",
      "            else activation(lin_output)\n",
      "        )\n",
      "        # parameters of the model\n",
      "        self.params = [self.W, self.b]\n",
      "\n",
      "class COMLayer(object):\n",
      "    def __init__(self, rng, input, n_in, n_out, W=None):\n",
      "        \"\"\"\n",
      "        Layer with Center of Mass decoder\n",
      "        Params same as above\n",
      "        \"\"\"\n",
      "        self.input = input\n",
      "        if W is None:\n",
      "            W_values = (1/np.sqrt(n_in)) * np.random.randn(n_in, n_out)\n",
      "\n",
      "            W = theano.shared(value=W_values, name='W', borrow=True)\n",
      "\n",
      "        self.W = W\n",
      "        \n",
      "        self.ones = np.ones((n_in, n_out))\n",
      "        \n",
      "        self.output = T.dot(input, self.W)/T.dot(input, self.ones)\n",
      "        \n",
      "        # parameters of the model\n",
      "        self.params = [self.W]\n",
      "\n",
      "class MLP(object):\n",
      "\n",
      "\n",
      "    def __init__(self, rng, input, n_in, n_hidden, n_out):\n",
      "        \"\"\"Initialize the parameters for the multilayer perceptron\n",
      "\n",
      "        :type rng: np.random.RandomState\n",
      "        :param rng: a random number generator used to initialize weights\n",
      "\n",
      "        :type input: theano.tensor.TensorType\n",
      "        :param input: symbolic variable that describes the input of the\n",
      "        architecture (one minibatch)\n",
      "\n",
      "        :type n_in: int\n",
      "        :param n_in: number of input units, the dimension of the space in\n",
      "        which the datapoints lie\n",
      "\n",
      "        :type n_hidden: int\n",
      "        :param n_hidden: number of hidden units\n",
      "\n",
      "        :type n_out: int\n",
      "        :param n_out: number of output units, the dimension of the space in\n",
      "        which the labels lie\n",
      "\n",
      "        \"\"\"\n",
      "\n",
      "        self.hiddenLayer1 = HiddenLayer(\n",
      "            rng=rng,\n",
      "            input=input,\n",
      "            n_in=n_in,\n",
      "            n_out=n_hidden,\n",
      "            #activation=T.nnet.sigmoid\n",
      "            activation=relu\n",
      "        )\n",
      "        \n",
      "        self.hiddenLayer2 = HiddenLayer(\n",
      "            rng=rng,\n",
      "            input=self.hiddenLayer1.output,\n",
      "            n_in=n_hidden,\n",
      "            n_out=n_out,\n",
      "            #activation=relu\n",
      "            activation=None\n",
      "        )\n",
      "        \n",
      "        self.y_pred = self.hiddenLayer2.output\n",
      "        \n",
      "        # the parameters of the model are the parameters of the two layers it is made out of\n",
      "        self.params = self.hiddenLayer1.params + self.hiddenLayer2.params\n",
      "    \n",
      "    def get_params(self):\n",
      "\n",
      "        params = {}\n",
      "        for param in self.params:\n",
      "            name = param.name\n",
      "            if name in params:\n",
      "                name = name, 2\n",
      "            params[name] = param.get_value()\n",
      "        return params\n",
      "    \n",
      "    def mse(self, y):\n",
      "        # error between output and target\n",
      "        return T.mean((self.y_pred[0] - y[0]) ** 2 + (self.y_pred[1] - y[1]) ** 2)\n",
      "    \n",
      "    def mse_s1(self, y):\n",
      "        # error between output and target\n",
      "        return T.mean((self.y_pred[0] - y[0]) ** 2)\n",
      "    \n",
      "    def sym_mse(self, y):\n",
      "        # error between output and target\n",
      "        return T.mean(((self.y_pred[0] - y[0]) ** 2 + (self.y_pred[1] - y[1]) ** 2)\n",
      "                      * ((self.y_pred[1] - y[0]) ** 2 + (self.y_pred[0] - y[1]) ** 2))\n",
      "        \n",
      "class COMMLP(object):\n",
      "\n",
      "\n",
      "    def __init__(self, rng, input, n_in, n_hidden, n_out):\n",
      "        \"\"\"\n",
      "        Params same as above\n",
      "        \"\"\"\n",
      "\n",
      "        self.hiddenLayer1 = HiddenLayer(\n",
      "            rng=rng,\n",
      "            input=input,\n",
      "            n_in=n_in,\n",
      "            n_out=n_hidden,\n",
      "            activation=T.nnet.sigmoid\n",
      "        )\n",
      "        \n",
      "        self.hiddenLayer2 = COMLayer(\n",
      "            rng=rng,\n",
      "            input=self.hiddenLayer1.output,\n",
      "            n_in=n_hidden,\n",
      "            n_out=n_out,\n",
      "        )\n",
      "        \n",
      "        self.y_pred = self.hiddenLayer2.output\n",
      "        \n",
      "        # the parameters of the model are the parameters of the two layers it is made out of\n",
      "        self.params = self.hiddenLayer1.params + self.hiddenLayer2.params\n",
      "    \n",
      "    def get_params(self):\n",
      "\n",
      "        params = {}\n",
      "        for param in self.params:\n",
      "            name = param.name\n",
      "            if name in params:\n",
      "                name = name, 2\n",
      "            params[name] = param.get_value()\n",
      "        return params\n",
      "    \n",
      "    def mse(self, y):\n",
      "        # error between output and target\n",
      "        return T.mean((self.y_pred[0] - y[0]) ** 2 + (self.y_pred[1] - y[1]) ** 2)\n",
      "    \n",
      "    def sym_mse(self, y):\n",
      "        # error between output and target\n",
      "        return T.mean(((self.y_pred[0] - y[0]) ** 2 + (self.y_pred[1] - y[1]) ** 2)\n",
      "                      * ((self.y_pred[1] - y[0]) ** 2 + (self.y_pred[0] - y[1]) ** 2))\n",
      "        \n",
      "\n",
      "def shared_dataset(data_xy, borrow=True):\n",
      "        \"\"\" Function that loads the dataset into shared variables\n",
      "        \"\"\"\n",
      "        data_x, data_y, _ = data_xy\n",
      "        shared_x = theano.shared(np.asarray(data_x,\n",
      "                                               dtype='float32'),\n",
      "                                 borrow=borrow)\n",
      "        shared_y = theano.shared(np.asarray(data_y,\n",
      "                                               dtype='float32'),\n",
      "                                 borrow=borrow)\n",
      "        return shared_x, shared_y\n",
      "\n",
      "def train_nn(dataset, n_hidden=20, learning_rate=0.01, n_epochs=10, batch_size=20, test_data=None, COM=False, n_in=61, n_out=2):\n",
      "    \"\"\"\n",
      "    Demonstrate stochastic gradient descent optimization for a multilayer\n",
      "    perceptron\n",
      "\n",
      "    :type learning_rate: float\n",
      "    :param learning_rate: learning rate used (factor for the stochastic\n",
      "    gradient\n",
      "\n",
      "    :type n_epochs: int\n",
      "    :param n_epochs: maximal number of epochs to run the optimizer\n",
      "\n",
      "   \"\"\"\n",
      "    train_set_x, train_set_y = shared_dataset(dataset)\n",
      "\n",
      "    # compute number of minibatches for training, validation and testing\n",
      "    n_train_batches = train_set_x.get_value(borrow=True).shape[0] / batch_size\n",
      "    \n",
      "    test_batch_size = 1\n",
      "    \n",
      "    ######################\n",
      "    # BUILD ACTUAL MODEL #\n",
      "    ######################\n",
      "    print '... building the model'\n",
      "\n",
      "    # allocate symbolic variables for the data\n",
      "    index = T.lscalar()  # index to a [mini]batch\n",
      "    x = T.fmatrix('x')   # input data from visual neurons\n",
      "    y = T.fmatrix('y')  # posterior\n",
      "\n",
      "    rng = np.random.RandomState(1234)\n",
      "\n",
      "    # construct the MLP class\n",
      "    nn = MLP(rng=rng, input=x, n_in=n_in, n_hidden=n_hidden, n_out=n_out)\n",
      "    \n",
      "    if COM == True:\n",
      "        nn = COMMLP(rng=rng, input=x, n_in=n_in, n_hidden=n_hidden, n_out=n_out)\n",
      "\n",
      "    cost = nn.mse(y)\n",
      "\n",
      "    # compute the gradient of cost with respect to theta (sotred in params)\n",
      "    # the resulting gradients will be stored in a list gparams\n",
      "    gparams = [T.grad(cost, param) for param in nn.params]\n",
      "\n",
      "    # specify how to update the parameters of the model as a list of\n",
      "    # (variable, update expression) pairs\n",
      "\n",
      "    updates = [\n",
      "        (param, param - learning_rate * gparam)\n",
      "        for param, gparam in zip(nn.params, gparams)\n",
      "    ]\n",
      "    \n",
      "    def inspect_inputs(i, node, fn):\n",
      "        print i, node, \"input(s) value(s):\", [input[0] for input in fn.inputs]\n",
      "\n",
      "    def inspect_outputs(i, node, fn):\n",
      "        print \"output(s) value(s):\", [output[0] for output in fn.outputs]\n",
      "\n",
      "    # compiling a Theano function `train_model` that returns the cost, but\n",
      "    # in the same time updates the parameter of the model based on the rules\n",
      "    # defined in `updates`\n",
      "    train_model = theano.function(\n",
      "        inputs=[index],\n",
      "        outputs=cost,\n",
      "        updates=updates,\n",
      "        givens={\n",
      "            x: train_set_x[index * batch_size: (index + 1) * batch_size],\n",
      "            y: train_set_y[index * batch_size: (index + 1) * batch_size]\n",
      "        }\n",
      "    )\n",
      "\n",
      "    ###############\n",
      "    # TRAIN MODEL #\n",
      "    ###############\n",
      "    print '... training'\n",
      "\n",
      "    start_time = time.clock()\n",
      "\n",
      "    epoch = 0\n",
      "    done_looping = False\n",
      "\n",
      "    while (epoch < n_epochs) and (not done_looping):\n",
      "        epoch = epoch + 1\n",
      "        for minibatch_index in xrange(n_train_batches):\n",
      "            \n",
      "            minibatch_avg_cost = train_model(minibatch_index)\n",
      "\n",
      "    end_time = time.clock()\n",
      "    \n",
      "    return nn, x\n",
      "\n",
      "def test_nn(nn, nnx, test_data):\n",
      "    print 'testing'\n",
      "    test_batch_size = 1\n",
      "    test_set_x, test_set_y = shared_dataset(test_data)\n",
      "    index = T.lscalar()  # index to a [mini]batch\n",
      "    x = nnx   # input data from visual neurons\n",
      "    test_model = theano.function(\n",
      "        inputs=[index],\n",
      "        outputs=nn.y_pred,\n",
      "        givens={\n",
      "            x: test_set_x[index * test_batch_size: (index + 1) * test_batch_size]\n",
      "        },\n",
      "    )\n",
      "    \n",
      "    true_ys = test_set_y.get_value()\n",
      "    pred_ys = np.zeros((len(true_ys), 2))\n",
      "    for i in range(len(true_ys)):\n",
      "        pred_ys[i] = test_model(i)\n",
      "        #print test_model(i)[0], true_ys[i]\n",
      "        #print test_model(i)[0] * 90, true_ys[i]\n",
      "    \n",
      "    #print nn.get_params()\n",
      "    return pred_ys, true_ys"
     ],
     "language": "python",
     "metadata": {},
     "outputs": [],
     "prompt_number": 85
    },
    {
     "cell_type": "code",
     "collapsed": false,
     "input": [
      "def test_models(s_0, s_1, nn, nnx, sm):\n",
      "    init = {'s_1':s_0,\n",
      "            's_2':s_1}\n",
      "    test_data = generate_s_data(s_0, s_1, 3000)\n",
      "    #print test_data\n",
      "    nn_preds, _ = test_nn(nn, nnx, test_data)\n",
      "    nn_preds = nn_preds.T * 90\n",
      "    r, s, c = test_data\n",
      "    opt_preds = fit_optimal(r, init, sm, random_init=True)\n",
      "    return nn_preds, opt_preds"
     ],
     "language": "python",
     "metadata": {},
     "outputs": [],
     "prompt_number": 349
    },
    {
     "cell_type": "code",
     "collapsed": false,
     "input": [
      "def plot_trials(nn, optimal, s_1, s_2, ntraindata):\n",
      "    plt.rc('text', usetex=True)\n",
      "    fig, ax = plt.subplots(1, 1)\n",
      "    ax.scatter(nn[0], nn[1], c='b', label='Neural Net')\n",
      "    ax.scatter(optimal[0], optimal[1], c='r', label='MLE')\n",
      "    ax.set_xlabel(r'\\hat{s_1}',fontsize=16)\n",
      "    ax.set_ylabel(r'\\hat{s_2}',fontsize=16)\n",
      "    ax.legend()\n",
      "    name = \"{s_1}_{s_2}_{ntraindata}.pdf\".format(s_1=s_1, s_2=s_2, ntraindata=ntraindata)\n",
      "    plt.show()\n",
      "    #fig.savefig(name)\n",
      "\n",
      "def get_contours(nn, optimal):\n",
      "    nn1 = nn[0]\n",
      "    nn2 = nn[1]\n",
      "    opt1 = optimal[0]\n",
      "    opt2 = optimal[1]\n",
      "    xmin = nn1.min()\n",
      "    xmax = nn1.max()\n",
      "    ymin = nn2.min()\n",
      "    ymax = nn2.max()\n",
      "    X, Y = np.mgrid[xmin:xmax:100j, ymin:ymax:100j]\n",
      "    positions = np.vstack([X.ravel(), Y.ravel()])\n",
      "    values_nn = np.vstack([nn1, nn2])\n",
      "    kernel_nn = stats.gaussian_kde(values_nn)\n",
      "    Z_nn = np.reshape(kernel_nn(positions).T, X.shape)\n",
      "    values_opt = np.vstack([opt1, opt2])\n",
      "    kernel_opt = stats.gaussian_kde(values_opt)\n",
      "    Z_opt = np.reshape(kernel_opt(positions).T, X.shape)\n",
      "    \"\"\"\n",
      "    plt.contour(X, Y, Z_nn, colors='b')\n",
      "    plt.contour(X, Y, Z_opt, colors='r')\n",
      "    \"\"\"\n",
      "    return X, Y, Z_nn, Z_opt"
     ],
     "language": "python",
     "metadata": {},
     "outputs": [],
     "prompt_number": 119
    },
    {
     "cell_type": "code",
     "collapsed": false,
     "input": [
      "#Setting up models\n",
      "sm = pystan.StanModel(model_code=neurons_code)"
     ],
     "language": "python",
     "metadata": {},
     "outputs": [],
     "prompt_number": 122
    },
    {
     "cell_type": "code",
     "collapsed": false,
     "input": [
      "train_data1 = generate_trainset(3000)\n",
      "train_data2 = generate_trainset(20000)\n",
      "train_data3 = generate_trainset(100000)\n",
      "nn1, nnx1 = train_nn(train_data1, n_hidden=50, learning_rate=.001, n_epochs=100)\n",
      "nn2, nnx2 = train_nn(train_data2, n_hidden=50, learning_rate=.001, n_epochs=100)\n",
      "nn3, nnx3 = train_nn(train_data3, n_hidden=50, learning_rate=.001, n_epochs=100)"
     ],
     "language": "python",
     "metadata": {},
     "outputs": [
      {
       "output_type": "stream",
       "stream": "stdout",
       "text": [
        "... building the model\n",
        "... training"
       ]
      },
      {
       "output_type": "stream",
       "stream": "stdout",
       "text": [
        "\n",
        "... building the model"
       ]
      },
      {
       "output_type": "stream",
       "stream": "stdout",
       "text": [
        "\n",
        "... training"
       ]
      },
      {
       "output_type": "stream",
       "stream": "stdout",
       "text": [
        "\n",
        "... building the model"
       ]
      },
      {
       "output_type": "stream",
       "stream": "stdout",
       "text": [
        "\n",
        "... training"
       ]
      },
      {
       "output_type": "stream",
       "stream": "stdout",
       "text": [
        "\n"
       ]
      }
     ],
     "prompt_number": 90
    },
    {
     "cell_type": "code",
     "collapsed": false,
     "input": [
      "s_arr = [-50, -30, -10, 0, 10, 30, 50]\n",
      "def test_combs(s_arr):\n",
      "    l_sarr = len(s_arr)\n",
      "    nn = [[None] * l_sarr for k in range(l_sarr)]\n",
      "    opt = [[None] * l_sarr for k in range(l_sarr)]\n",
      "    for i in range(l_sarr):\n",
      "        for j in range(i+1, l_sarr):\n",
      "            s1 = s_arr[i]\n",
      "            s2 = s_arr[j]\n",
      "            nn[i][j], opt[i][j] = test_models(s1, s2, nn2, nnx2, sm)\n",
      "    return nn, opt"
     ],
     "language": "python",
     "metadata": {},
     "outputs": [
      {
       "output_type": "stream",
       "stream": "stdout",
       "text": [
        "testing\n",
        "{'s_1': -50, 's_2': -30}"
       ]
      },
      {
       "output_type": "stream",
       "stream": "stdout",
       "text": [
        "\n",
        "testing"
       ]
      },
      {
       "output_type": "stream",
       "stream": "stdout",
       "text": [
        "\n",
        "{'s_1': -50, 's_2': -10}"
       ]
      },
      {
       "output_type": "stream",
       "stream": "stdout",
       "text": [
        "\n",
        "testing"
       ]
      },
      {
       "output_type": "stream",
       "stream": "stdout",
       "text": [
        "\n",
        "{'s_1': -50, 's_2': 0}"
       ]
      },
      {
       "output_type": "stream",
       "stream": "stdout",
       "text": [
        "\n",
        "testing"
       ]
      },
      {
       "output_type": "stream",
       "stream": "stdout",
       "text": [
        "\n",
        "{'s_1': -50, 's_2': 10}"
       ]
      },
      {
       "output_type": "stream",
       "stream": "stdout",
       "text": [
        "\n",
        "testing"
       ]
      },
      {
       "output_type": "stream",
       "stream": "stdout",
       "text": [
        "\n",
        "{'s_1': -50, 's_2': 30}"
       ]
      },
      {
       "output_type": "stream",
       "stream": "stdout",
       "text": [
        "\n",
        "testing"
       ]
      },
      {
       "output_type": "stream",
       "stream": "stdout",
       "text": [
        "\n",
        "{'s_1': -50, 's_2': 50}"
       ]
      },
      {
       "output_type": "stream",
       "stream": "stdout",
       "text": [
        "\n",
        "testing"
       ]
      },
      {
       "output_type": "stream",
       "stream": "stdout",
       "text": [
        "\n",
        "{'s_1': -30, 's_2': -10}"
       ]
      },
      {
       "output_type": "stream",
       "stream": "stdout",
       "text": [
        "\n",
        "testing"
       ]
      },
      {
       "output_type": "stream",
       "stream": "stdout",
       "text": [
        "\n",
        "{'s_1': -30, 's_2': 0}"
       ]
      },
      {
       "output_type": "stream",
       "stream": "stdout",
       "text": [
        "\n",
        "testing"
       ]
      },
      {
       "output_type": "stream",
       "stream": "stdout",
       "text": [
        "\n",
        "{'s_1': -30, 's_2': 10}"
       ]
      },
      {
       "output_type": "stream",
       "stream": "stdout",
       "text": [
        "\n",
        "testing"
       ]
      },
      {
       "output_type": "stream",
       "stream": "stdout",
       "text": [
        "\n",
        "{'s_1': -30, 's_2': 30}"
       ]
      },
      {
       "output_type": "stream",
       "stream": "stdout",
       "text": [
        "\n",
        "testing"
       ]
      },
      {
       "output_type": "stream",
       "stream": "stdout",
       "text": [
        "\n",
        "{'s_1': -30, 's_2': 50}"
       ]
      },
      {
       "output_type": "stream",
       "stream": "stdout",
       "text": [
        "\n",
        "testing"
       ]
      },
      {
       "output_type": "stream",
       "stream": "stdout",
       "text": [
        "\n",
        "{'s_1': -10, 's_2': 0}"
       ]
      },
      {
       "output_type": "stream",
       "stream": "stdout",
       "text": [
        "\n",
        "testing"
       ]
      },
      {
       "output_type": "stream",
       "stream": "stdout",
       "text": [
        "\n",
        "{'s_1': -10, 's_2': 10}"
       ]
      },
      {
       "output_type": "stream",
       "stream": "stdout",
       "text": [
        "\n",
        "testing"
       ]
      },
      {
       "output_type": "stream",
       "stream": "stdout",
       "text": [
        "\n",
        "{'s_1': -10, 's_2': 30}"
       ]
      },
      {
       "output_type": "stream",
       "stream": "stdout",
       "text": [
        "\n",
        "testing"
       ]
      },
      {
       "output_type": "stream",
       "stream": "stdout",
       "text": [
        "\n",
        "{'s_1': -10, 's_2': 50}"
       ]
      },
      {
       "output_type": "stream",
       "stream": "stdout",
       "text": [
        "\n",
        "testing"
       ]
      },
      {
       "output_type": "stream",
       "stream": "stdout",
       "text": [
        "\n",
        "{'s_1': 0, 's_2': 10}"
       ]
      },
      {
       "output_type": "stream",
       "stream": "stdout",
       "text": [
        "\n",
        "testing"
       ]
      },
      {
       "output_type": "stream",
       "stream": "stdout",
       "text": [
        "\n",
        "{'s_1': 0, 's_2': 30}"
       ]
      },
      {
       "output_type": "stream",
       "stream": "stdout",
       "text": [
        "\n",
        "testing"
       ]
      },
      {
       "output_type": "stream",
       "stream": "stdout",
       "text": [
        "\n",
        "{'s_1': 0, 's_2': 50}"
       ]
      },
      {
       "output_type": "stream",
       "stream": "stdout",
       "text": [
        "\n",
        "testing"
       ]
      },
      {
       "output_type": "stream",
       "stream": "stdout",
       "text": [
        "\n",
        "{'s_1': 10, 's_2': 30}"
       ]
      },
      {
       "output_type": "stream",
       "stream": "stdout",
       "text": [
        "\n",
        "testing"
       ]
      },
      {
       "output_type": "stream",
       "stream": "stdout",
       "text": [
        "\n",
        "{'s_1': 10, 's_2': 50}"
       ]
      },
      {
       "output_type": "stream",
       "stream": "stdout",
       "text": [
        "\n",
        "testing"
       ]
      },
      {
       "output_type": "stream",
       "stream": "stdout",
       "text": [
        "\n",
        "{'s_1': 30, 's_2': 50}"
       ]
      },
      {
       "output_type": "stream",
       "stream": "stdout",
       "text": [
        "\n"
       ]
      },
      {
       "ename": "TypeError",
       "evalue": "list indices must be integers, not tuple",
       "output_type": "pyerr",
       "traceback": [
        "\u001b[0;31m---------------------------------------------------------------------------\u001b[0m\n\u001b[0;31mTypeError\u001b[0m                                 Traceback (most recent call last)",
        "\u001b[0;32m<ipython-input-153-360bf65062cd>\u001b[0m in \u001b[0;36m<module>\u001b[0;34m()\u001b[0m\n\u001b[1;32m     14\u001b[0m \u001b[0;32mfor\u001b[0m \u001b[0mi\u001b[0m \u001b[0;32min\u001b[0m \u001b[0mrange\u001b[0m\u001b[0;34m(\u001b[0m\u001b[0ml_sarr\u001b[0m\u001b[0;34m)\u001b[0m\u001b[0;34m:\u001b[0m\u001b[0;34m\u001b[0m\u001b[0m\n\u001b[1;32m     15\u001b[0m     \u001b[0;32mfor\u001b[0m \u001b[0mj\u001b[0m \u001b[0;32min\u001b[0m \u001b[0mrange\u001b[0m\u001b[0;34m(\u001b[0m\u001b[0mi\u001b[0m\u001b[0;34m+\u001b[0m\u001b[0;36m1\u001b[0m\u001b[0;34m,\u001b[0m \u001b[0ml_sarr\u001b[0m\u001b[0;34m)\u001b[0m\u001b[0;34m:\u001b[0m\u001b[0;34m\u001b[0m\u001b[0m\n\u001b[0;32m---> 16\u001b[0;31m         \u001b[0mX\u001b[0m\u001b[0;34m,\u001b[0m \u001b[0mY\u001b[0m\u001b[0;34m,\u001b[0m \u001b[0mZ_nn\u001b[0m\u001b[0;34m,\u001b[0m \u001b[0mZ_opt\u001b[0m \u001b[0;34m=\u001b[0m \u001b[0mget_contours\u001b[0m\u001b[0;34m(\u001b[0m\u001b[0mnn\u001b[0m\u001b[0;34m[\u001b[0m\u001b[0mi\u001b[0m\u001b[0;34m,\u001b[0m \u001b[0mj\u001b[0m\u001b[0;34m]\u001b[0m\u001b[0;34m,\u001b[0m \u001b[0mopt\u001b[0m\u001b[0;34m[\u001b[0m\u001b[0mi\u001b[0m\u001b[0;34m,\u001b[0m \u001b[0mj\u001b[0m\u001b[0;34m]\u001b[0m\u001b[0;34m)\u001b[0m\u001b[0;34m\u001b[0m\u001b[0m\n\u001b[0m\u001b[1;32m     17\u001b[0m         \u001b[0mplt\u001b[0m\u001b[0;34m.\u001b[0m\u001b[0mcontour\u001b[0m\u001b[0;34m(\u001b[0m\u001b[0mX\u001b[0m\u001b[0;34m,\u001b[0m \u001b[0mY\u001b[0m\u001b[0;34m,\u001b[0m \u001b[0mZ_nn\u001b[0m\u001b[0;34m,\u001b[0m \u001b[0mcolors\u001b[0m\u001b[0;34m=\u001b[0m\u001b[0;34m'b'\u001b[0m\u001b[0;34m,\u001b[0m \u001b[0mlevels\u001b[0m\u001b[0;34m=\u001b[0m\u001b[0;34m[\u001b[0m\u001b[0;36m0.003\u001b[0m\u001b[0;34m]\u001b[0m\u001b[0;34m)\u001b[0m\u001b[0;34m\u001b[0m\u001b[0m\n\u001b[1;32m     18\u001b[0m         \u001b[0mplt\u001b[0m\u001b[0;34m.\u001b[0m\u001b[0mcontour\u001b[0m\u001b[0;34m(\u001b[0m\u001b[0mX\u001b[0m\u001b[0;34m,\u001b[0m \u001b[0mY\u001b[0m\u001b[0;34m,\u001b[0m \u001b[0mZ_opt\u001b[0m\u001b[0;34m,\u001b[0m \u001b[0mcolors\u001b[0m\u001b[0;34m=\u001b[0m\u001b[0;34m'r'\u001b[0m\u001b[0;34m,\u001b[0m \u001b[0mlevels\u001b[0m\u001b[0;34m=\u001b[0m\u001b[0;34m[\u001b[0m\u001b[0;36m0.003\u001b[0m\u001b[0;34m]\u001b[0m\u001b[0;34m)\u001b[0m\u001b[0;34m\u001b[0m\u001b[0m\n",
        "\u001b[0;31mTypeError\u001b[0m: list indices must be integers, not tuple"
       ]
      },
      {
       "metadata": {},
       "output_type": "display_data",
       "png": "[encoded data removed]",
       "text": [
        "<matplotlib.figure.Figure at 0x13274d350>"
       ]
      }
     ],
     "prompt_number": 153
    },
    {
     "cell_type": "code",
     "collapsed": false,
     "input": [
      "def plot_contours(nn, opt):\n",
      "    axes().set_aspect('equal')\n",
      "    plt.xlim(-60, 60)\n",
      "    plt.ylim(-60, 60)\n",
      "    axes().set_xlabel(r'\\hat{s_1}',fontsize=16)\n",
      "    axes().set_ylabel(r'\\hat{s_2}',fontsize=16)\n",
      "    for i in range(l_sarr):\n",
      "        for j in range(i+1, l_sarr):\n",
      "            X, Y, Z_nn, Z_opt = get_contours(nn[i][j], opt[i][j])\n",
      "            plt.contour(X, Y, Z_nn, colors='b', levels=[0.003])\n",
      "            plt.contour(X, Y, Z_opt, colors='r', levels=[0.003])\n",
      "            #plt.scatter(nn[i][j][0], nn[i][j][1], c='g', label='Neural Net')\n",
      "            #plt.scatter(opt[i][j][0], opt[i][j][1], c='y', label='MLE')\n",
      "    fig.savefig(\"stimplot.pdf\")\n",
      "plt.figure(figsize=(10,10))\n",
      "plot_contours(nn, opt)"
     ],
     "language": "python",
     "metadata": {},
     "outputs": [
      {
       "metadata": {},
       "output_type": "display_data",
       "png": "[encoded data removed]",
       "text": [
        "<matplotlib.figure.Figure at 0x13d613910>"
       ]
      }
     ],
     "prompt_number": 226
    },
    {
     "cell_type": "code",
     "collapsed": false,
     "input": [
      "def python_relu(x):\n",
      "    return x * (x > 0)\n",
      "nn_params = nn2.get_params()\n",
      "hl_outW = nn_params[('W', 2)]\n",
      "b = nn_params['b']\n",
      "W = nn_params['W']\n",
      "r, _, _ = generate_s_data(-10, 0, 3000)\n",
      "trials = python_relu(np.dot(r, W) + b)\n",
      "hl_cov = np.cov(trials.T)\n",
      "print hl_cov\n",
      "WTQ = np.dot(hl_outW.T, hl_cov)\n",
      "cov = np.dot(WTQ, hl_outW)\n",
      "approx_cov = np.dot(hl_outW.T, hl_outW)\n",
      "imgplot = plt.imshow(cov, extent=[0, 1, 0, 1])\n",
      "plt.colorbar()\n",
      "print cov\n",
      "print approx_cov"
     ],
     "language": "python",
     "metadata": {},
     "outputs": [
      {
       "output_type": "stream",
       "stream": "stdout",
       "text": [
        "[[  4.84906446e-03  -5.59789096e-03  -7.72031720e-05 ...,   0.00000000e+00\n",
        "   -7.10152170e-03  -7.32197789e-04]\n",
        " [ -5.59789096e-03   1.30788603e+00   1.62660230e-02 ...,   0.00000000e+00\n",
        "   -7.67838309e-02  -3.74670943e-01]\n",
        " [ -7.72031720e-05   1.62660230e-02   6.69873766e-03 ...,   0.00000000e+00\n",
        "    4.19320618e-03  -1.20062681e-02]\n",
        " ..., \n",
        " [  0.00000000e+00   0.00000000e+00   0.00000000e+00 ...,   0.00000000e+00\n",
        "    0.00000000e+00   0.00000000e+00]\n",
        " [ -7.10152170e-03  -7.67838309e-02   4.19320618e-03 ...,   0.00000000e+00\n",
        "    1.40218719e+00   1.52110528e-01]\n",
        " [ -7.32197789e-04  -3.74670943e-01  -1.20062681e-02 ...,   0.00000000e+00\n",
        "    1.52110528e-01   1.19940935e+00]]\n",
        "[[ 0.00093214 -0.00043296]\n",
        " [-0.00043296  0.00162746]]"
       ]
      },
      {
       "output_type": "stream",
       "stream": "stdout",
       "text": [
        "\n",
        "[[ 0.0967043  -0.02647319]\n",
        " [-0.02647319  0.05968003]]\n"
       ]
      },
      {
       "metadata": {},
       "output_type": "display_data",
       "png": "[encoded data removed]",
       "text": [
        "<matplotlib.figure.Figure at 0x13d42d790>"
       ]
      }
     ],
     "prompt_number": 225
    },
    {
     "cell_type": "code",
     "collapsed": false,
     "input": [
      "nn1_1 = np.mean(np.square(nn_preds1[0] - s1))\n",
      "nn1_2 = np.mean(np.square(nn_preds1[1] - s2))\n",
      "nn2_1 = np.mean(np.square(nn_preds2[0] - s1))\n",
      "nn2_2 = np.mean(np.square(nn_preds2[1] - s2))\n",
      "nn3_1 = np.mean(np.square(nn_preds3[0] - s1))\n",
      "nn3_2 = np.mean(np.square(nn_preds3[1] - s2))\n",
      "opt1_1 = np.mean(np.square(opt_preds1[0] - s1))\n",
      "opt1_2 = np.mean(np.square(opt_preds1[1] - s2))\n",
      "opt2_1 = np.mean(np.square(opt_preds2[0] - s1))\n",
      "opt2_2 = np.mean(np.square(opt_preds2[1] - s2))\n",
      "opt3_1 = np.mean(np.square(opt_preds3[0] - s1))\n",
      "opt3_2 = np.mean(np.square(opt_preds3[1] - s2))"
     ],
     "language": "python",
     "metadata": {},
     "outputs": [],
     "prompt_number": 20
    },
    {
     "cell_type": "code",
     "collapsed": false,
     "input": [
      "%matplotlib inline\n",
      "plot1 = [nn1_1, nn2_1, nn3_1, opt1_1]\n",
      "plot2 = [nn1_2, nn2_2, nn3_2, opt1_2]\n",
      "def plot_MSEs()\n",
      "ind = np.arange(4)\n",
      "width = 0.35\n",
      "fig, ax = plt.subplots()\n",
      "rects1 = ax.bar(ind, plot1, width)\n",
      "rects2 = ax.bar(ind+width, plot2, width, color='y')\n",
      "ax.set_xticks(ind+width)\n",
      "ax.set_xticklabels(('NN 3000', 'NN 20000', 'NN 100000', 'Optimal'))\n",
      "ax.legend((rects1[0], rects2[0]), ('s 1', 's 2'))\n",
      "fig.savefig('mse.pdf')"
     ],
     "language": "python",
     "metadata": {},
     "outputs": [
      {
       "metadata": {},
       "output_type": "display_data",
       "png": "[encoded data removed]",
       "text": [
        "<matplotlib.figure.Figure at 0x113f7a0d0>"
       ]
      }
     ],
     "prompt_number": 21
    },
    {
     "cell_type": "code",
     "collapsed": false,
     "input": [
      "def get_statistics(s1, s2, nn_preds, opt_preds):\n",
      "    bias_nn = np.mean(nn_preds[0]) - s1 + np.mean(nn_preds[1]) - s2\n",
      "    bias_opt = np.mean(opt_preds[0]) - s1 + np.mean(opt_preds[1]) - s2\n",
      "    covmat_nn = np.cov(nn_preds)\n",
      "    covmat_opt = np.cov(opt_preds)\n",
      "    var_s1_nn = covmat_nn[0, 0]\n",
      "    var_s2_nn = covmat_nn[1, 1]\n",
      "    cov_nn = covmat_nn[0, 1]\n",
      "    var_s1_opt = covmat_opt[0, 0]\n",
      "    var_s2_opt = covmat_opt[1, 1]\n",
      "    cov_opt = covmat_opt[0, 1]\n",
      "    nn_stats = {'bias': bias_nn, 'var_s1': var_s1_nn, 'var_s2': var_s2_nn, 'cov': cov_nn}\n",
      "    opt_stats = {'bias': bias_opt, 'var_s1': var_s1_opt, 'var_s2': var_s2_opt, 'cov': cov_opt}\n",
      "    return nn_stats, opt_stats"
     ],
     "language": "python",
     "metadata": {},
     "outputs": [],
     "prompt_number": 365
    },
    {
     "cell_type": "code",
     "collapsed": false,
     "input": [
      "s1 = -30\n",
      "num_deltas = 60\n",
      "bias_nn = [None] * num_deltas\n",
      "var_s1_nn = [None] * num_deltas\n",
      "var_s2_nn = [None] * num_deltas\n",
      "cov_nn = [None] * num_deltas\n",
      "bias_opt = [None] * num_deltas\n",
      "var_s1_opt = [None] * num_deltas\n",
      "var_s2_opt = [None] * num_deltas\n",
      "cov_opt = [None] * num_deltas\n",
      "var_s1_fisher = [None] * num_deltas\n",
      "var_s2_fisher = [None] * num_deltas\n",
      "cov_fisher = [None] * num_deltas\n",
      "for delta_s in range(num_deltas):\n",
      "    nn_preds, opt_preds = test_models(s1, s1 + delta_s, nn2, nnx2, sm)\n",
      "    nn_stats, opt_stats = get_statistics(s1, s1 + delta_s, nn_preds, opt_preds)\n",
      "    Js1, Js2, Jcov, _ = fisher_inf(s1, s1 + delta_s, .5, .5)\n",
      "    bias_nn[delta_s] = nn_stats['bias']\n",
      "    var_s1_nn[delta_s] = nn_stats['var_s1']\n",
      "    var_s2_nn[delta_s] = nn_stats['var_s2']\n",
      "    cov_nn[delta_s] = nn_stats['cov']\n",
      "    bias_opt[delta_s] = opt_stats['bias']\n",
      "    var_s1_opt[delta_s] = opt_stats['var_s1']\n",
      "    var_s2_opt[delta_s] = opt_stats['var_s2']\n",
      "    cov_opt[delta_s] = opt_stats['cov']\n",
      "    var_s1_fisher[delta_s] = 1/Js1\n",
      "    var_s2_fisher[delta_s] = 1/Js2\n",
      "    cov_fisher[delta_s] = 1/Jcov"
     ],
     "language": "python",
     "metadata": {},
     "outputs": [
      {
       "output_type": "stream",
       "stream": "stdout",
       "text": [
        "testing\n",
        "{'s_1': -30, 's_2': -30}"
       ]
      },
      {
       "output_type": "stream",
       "stream": "stdout",
       "text": [
        "\n",
        "[  2.08757055e-15   6.30176209e-14   1.58015772e-12   3.28912885e-11\n",
        "   5.67907521e-10   8.12646703e-09   9.62684388e-08   9.42866386e-07\n",
        "   7.62234365e-06   5.07575885e-05   2.77672059e-04   1.24354288e-03\n",
        "   4.53760070e-03   1.34010841e-02   3.17227550e-02   5.92870638e-02\n",
        "   8.52939931e-02   9.00837584e-02   6.27908693e-02   2.05634517e-02\n",
        "   0.00000000e+00   2.05634517e-02   6.27908693e-02   9.00837584e-02\n",
        "   8.52939931e-02   5.92870638e-02   3.17227550e-02   1.34010841e-02\n",
        "   4.53760070e-03   1.24354288e-03   2.77672059e-04   5.07575885e-05\n",
        "   7.62234365e-06   9.42866386e-07   9.62684388e-08   8.12646703e-09\n",
        "   5.67907521e-10   3.28912885e-11   1.58015772e-12   6.30176209e-14\n",
        "   2.08757055e-15   5.74742246e-17   1.31571022e-18   2.50540481e-20\n",
        "   3.96989536e-22   5.23597939e-24   5.74980260e-26   5.25834515e-28\n",
        "   4.00571399e-30   2.54231394e-32   1.34453463e-34   5.92619811e-37\n",
        "   2.17722355e-39   6.66819400e-42   1.70271693e-44   3.62536700e-47\n",
        "   6.43693540e-50   9.53153509e-53   1.17716907e-55   1.21266294e-58\n",
        "   1.04207051e-61]"
       ]
      },
      {
       "output_type": "stream",
       "stream": "stdout",
       "text": [
        "\n",
        "testing\n",
        "{'s_1': -30, 's_2': -29}"
       ]
      },
      {
       "output_type": "stream",
       "stream": "stdout",
       "text": [
        "\n",
        "[  1.15896837e-15   3.60824330e-14   9.33208902e-13   2.00379088e-11\n",
        "   3.56943633e-10   5.27039428e-09   6.44359060e-08   6.51477194e-07\n",
        "   5.43838892e-06   3.74091040e-05   2.11501184e-04   9.79544225e-04\n",
        "   3.69958402e-03   1.13232216e-02   2.78296352e-02   5.41592974e-02\n",
        "   8.15443251e-02   9.10219241e-02   6.86458274e-02   2.64749071e-02\n",
        "  -0.00000000e+00   1.40560120e-02   5.52842531e-02   8.71784224e-02\n",
        "   8.77149765e-02   6.39689790e-02   3.56901890e-02   1.56668254e-02\n",
        "   5.50049880e-03   1.56084000e-03   3.60517040e-04   6.81212684e-05\n",
        "   1.05688713e-05   1.35012046e-06   1.42315009e-07   1.23994661e-08\n",
        "   8.94178287e-10   5.34317537e-11   2.64807386e-12   1.08931017e-13\n",
        "   3.72174950e-15   1.05671607e-16   2.49455196e-18   4.89812032e-20\n",
        "   8.00249601e-22   1.08822268e-23   1.23204702e-25   1.16161207e-27\n",
        "   9.12251606e-30   5.96860865e-32   3.25396631e-34   1.47843910e-36\n",
        "   5.59895046e-39   1.76758038e-41   4.65235189e-44   1.02101883e-46\n",
        "   1.86855438e-49   2.85185841e-52   3.63025116e-55   3.85447562e-58\n",
        "   3.41385230e-61]"
       ]
      },
      {
       "output_type": "stream",
       "stream": "stdout",
       "text": [
        "\n",
        "testing\n",
        "{'s_1': -30, 's_2': -28}"
       ]
      },
      {
       "output_type": "stream",
       "stream": "stdout",
       "text": [
        "\n",
        "[  6.36857594e-16   2.04483166e-14   5.45469878e-13   1.20814850e-11\n",
        "   2.22022912e-10   3.38248749e-09   4.26770174e-08   4.45383186e-07\n",
        "   3.83876657e-06   2.72731209e-05   1.59330282e-04   7.62939478e-04\n",
        "   2.98154344e-03   9.45276589e-03   2.41044088e-02   4.87914102e-02\n",
        "   7.67270801e-02   9.01441974e-02   7.27836792e-02   3.16374306e-02\n",
        "  -0.00000000e+00   7.13422068e-03   4.62630951e-02   8.22222098e-02\n",
        "   8.85690501e-02   6.79852174e-02   3.96167184e-02   1.80880617e-02\n",
        "   6.58890396e-03   1.93673472e-03   4.62870771e-04   9.04268084e-05\n",
        "   1.44967643e-05   1.91271858e-06   2.08169023e-07   1.87213371e-08\n",
        "   1.39325634e-09   8.59016038e-11   4.39199837e-12   1.86362984e-13\n",
        "   6.56727788e-15   1.92303666e-16   4.68143624e-18   9.47859821e-20\n",
        "   1.59677148e-21   2.23880031e-23   2.61327688e-25   2.54016737e-27\n",
        "   2.05656928e-29   1.38712424e-31   7.79572183e-34   3.65120701e-36\n",
        "   1.42534225e-38   4.63833328e-41   1.25839544e-43   2.84663920e-46\n",
        "   5.36971767e-49   8.44722827e-52   1.10830054e-54   1.21287287e-57\n",
        "   1.10718128e-60]"
       ]
      },
      {
       "output_type": "stream",
       "stream": "stdout",
       "text": [
        "\n",
        "testing\n",
        "{'s_1': -30, 's_2': -27}"
       ]
      },
      {
       "output_type": "stream",
       "stream": "stdout",
       "text": [
        "\n",
        "[  3.46383456e-16   1.14696874e-14   3.15559471e-13   7.20925955e-12\n",
        "   1.36671907e-10   2.14827413e-09   2.79700249e-08   3.01277737e-07\n",
        "   2.68083040e-06   1.96695649e-05   1.18718003e-04   5.87619870e-04\n",
        "   2.37543702e-03   7.79799773e-03   2.06184216e-02   4.33676031e-02\n",
        "   7.11113944e-02   8.76561662e-02   7.52092913e-02   3.59332298e-02\n",
        "  -0.00000000e+00   0.00000000e+00   3.59332298e-02   7.52092913e-02\n",
        "   8.76561662e-02   7.11113944e-02   4.33676031e-02   2.06184216e-02\n",
        "   7.79799773e-03   2.37543702e-03   5.87619870e-04   1.18718003e-04\n",
        "   1.96695649e-05   2.68083040e-06   3.01277737e-07   2.79700249e-08\n",
        "   2.14827413e-09   1.36671907e-10   7.20925955e-12   3.15559471e-13\n",
        "   1.14696874e-14   3.46383456e-16   8.69594300e-18   1.81559542e-19\n",
        "   3.15375886e-21   4.55919843e-23   5.48687962e-25   5.49858587e-27\n",
        "   4.58949090e-29   3.19120393e-31   1.84884535e-33   8.92635346e-36\n",
        "   3.59202701e-38   1.20491282e-40   3.36957666e-43   7.85682746e-46\n",
        "   1.52762080e-48   2.47697145e-51   3.34966092e-54   3.77823941e-57\n",
        "   3.55482811e-60]"
       ]
      },
      {
       "output_type": "stream",
       "stream": "stdout",
       "text": [
        "\n",
        "testing\n",
        "{'s_1': -30, 's_2': -26}"
       ]
      },
      {
       "output_type": "stream",
       "stream": "stdout",
       "text": [
        "\n",
        "[  1.86474551e-16   6.36769136e-15   1.80682059e-13   4.25764158e-12\n",
        "   8.32627523e-11   1.35024233e-09   1.81398705e-08   2.01655955e-07\n",
        "   1.85233018e-06   1.40338390e-05   8.74969484e-05   4.47586619e-04\n",
        "   1.87114225e-03   6.35784189e-03   1.74214977e-02   3.80453897e-02\n",
        "   6.49609360e-02   8.38026531e-02   7.59925489e-02   3.92838373e-02\n",
        "  -0.00000000e+00  -7.13422068e-03   2.45619226e-02   6.62180591e-02\n",
        "   8.48291237e-02   7.31298191e-02   4.67923543e-02   2.31970824e-02\n",
        "   9.11641683e-03   2.87951482e-03   7.37554461e-04   1.54138169e-04\n",
        "   2.63983327e-05   3.71714432e-06   4.31409204e-07   4.13484876e-08\n",
        "   3.27786382e-09   2.15191817e-10   1.17114105e-11   5.28823659e-13\n",
        "   1.98262754e-14   6.17537192e-16   1.59882848e-17   3.44232114e-19\n",
        "   6.16566643e-21   9.19041031e-23   1.14036867e-24   1.17821720e-26\n",
        "   1.01385662e-28   7.26757056e-31   4.34054748e-33   2.16030534e-35\n",
        "   8.96121441e-38   3.09855513e-40   8.93195007e-43   2.14672946e-45\n",
        "   4.30226678e-48   7.19030961e-51   1.00222667e-53   1.16516466e-56\n",
        "   1.12990988e-59]"
       ]
      },
      {
       "output_type": "stream",
       "stream": "stdout",
       "text": [
        "\n",
        "testing\n",
        "{'s_1': -30, 's_2': -25}"
       ]
      },
      {
       "output_type": "stream",
       "stream": "stdout",
       "text": [
        "\n",
        "[  9.93649026e-17   3.49907099e-15   1.02394535e-13   2.48863382e-12\n",
        "   5.02017303e-11   8.39865755e-10   1.16419914e-08   1.33560234e-07\n",
        "   1.26634781e-06   9.90599106e-06   6.37896821e-05   3.37180630e-04\n",
        "   1.45738013e-03   5.12386844e-03   1.45436825e-02   3.29527002e-02\n",
        "   5.85224666e-02   7.88519969e-02   7.52597508e-02   4.16517991e-02\n",
        "  -0.00000000e+00  -1.40560120e-02   1.24665643e-02   5.54127477e-02\n",
        "   8.00064719e-02   7.38418782e-02   4.97301728e-02   2.57491571e-02\n",
        "   1.05253175e-02   3.44929565e-03   9.15178582e-04   1.97899254e-04\n",
        "   3.50421686e-05   5.09861116e-06   6.11178353e-07   6.04818448e-08\n",
        "   4.94908354e-09   3.35299311e-10   1.88282973e-11   8.77087566e-13\n",
        "   3.39194839e-14   1.08968600e-15   2.90958553e-17   6.46008069e-19\n",
        "   1.19314902e-20   1.83380099e-22   2.34608024e-24   2.49909925e-26\n",
        "   2.21706158e-28   1.63839255e-30   1.00875748e-32   5.17557278e-35\n",
        "   2.21309412e-37   7.88808825e-40   2.34384595e-42   5.80659984e-45\n",
        "   1.19948829e-47   2.06629965e-50   2.96860371e-53   3.55719910e-56\n",
        "   3.55544350e-59]"
       ]
      },
      {
       "output_type": "stream",
       "stream": "stdout",
       "text": [
        "\n",
        "testing\n",
        "{'s_1': -30, 's_2': -24}"
       ]
      },
      {
       "output_type": "stream",
       "stream": "stdout",
       "text": [
        "\n",
        "[  5.24083763e-17   1.90312608e-15   5.74342294e-14   1.43969814e-12\n",
        "   2.99563591e-11   5.17000939e-10   7.39402261e-09   8.75338369e-08\n",
        "   8.56616088e-07   6.91792050e-06   4.60055633e-05   2.51235423e-04\n",
        "   1.12248159e-03   4.08225706e-03   1.19977163e-02   2.81870702e-02\n",
        "   5.20169246e-02   7.30807877e-02   7.31825388e-02   4.30399002e-02\n",
        "  -0.00000000e+00  -2.05634517e-02   0.00000000e+00   4.30399002e-02\n",
        "   7.31825388e-02   7.30807877e-02   5.20169246e-02   2.81870702e-02\n",
        "   1.19977163e-02   4.08225706e-03   1.12248159e-03   2.51235423e-04\n",
        "   4.60055633e-05   6.91792050e-06   8.56616088e-07   8.75338369e-08\n",
        "   7.39402261e-09   5.17000939e-10   2.99563591e-11   1.43969814e-12\n",
        "   5.74342294e-14   1.90312608e-15   5.24083763e-17   1.19998416e-18\n",
        "   2.28543910e-20   3.62191219e-22   4.77766833e-24   5.24715035e-26\n",
        "   4.79917334e-28   3.65627736e-30   2.32073721e-32   1.22744678e-34\n",
        "   5.41050133e-37   1.98788930e-39   6.08867424e-42   1.55481994e-44\n",
        "   3.31063119e-47   5.87837671e-50   8.70480400e-53   1.07510648e-55\n",
        "   1.10756182e-58]"
       ]
      },
      {
       "output_type": "stream",
       "stream": "stdout",
       "text": [
        "\n",
        "testing\n",
        "{'s_1': -30, 's_2': -23}"
       ]
      },
      {
       "output_type": "stream",
       "stream": "stdout",
       "text": [
        "\n",
        "[  2.73606078e-17   1.02454253e-15   3.18860866e-14   8.24337877e-13\n",
        "   1.76916144e-11   3.14965395e-10   4.64732231e-09   5.67697908e-08\n",
        "   5.73363757e-07   4.77996405e-06   3.28240443e-05   1.85164275e-04\n",
        "   8.54987668e-04   3.21561194e-03   9.78194476e-03   2.38166136e-02\n",
        "   4.56332383e-02   6.67599955e-02   6.99653108e-02   4.34881338e-02\n",
        "  -0.00000000e+00  -2.64749071e-02  -1.24665643e-02   2.94196403e-02\n",
        "   6.44336037e-02   7.07238230e-02   5.34933722e-02   3.04130107e-02\n",
        "   1.34982211e-02   4.77245034e-03   1.36067694e-03   3.15339586e-04\n",
        "   5.97315753e-05   9.28447416e-06   1.18775348e-06   1.25342494e-07\n",
        "   1.09306893e-08   7.88846566e-10   4.71667039e-11   2.33878331e-12\n",
        "   9.62499375e-14   3.28970622e-15   9.34343745e-17   2.20628039e-18\n",
        "   4.33313241e-20   7.08091628e-22   9.63080089e-24   1.09054440e-25\n",
        "   1.02834960e-27   8.07702003e-30   5.28519073e-32   2.88168561e-34\n",
        "   1.30941878e-36   4.95928961e-39   1.56576414e-41   4.12145960e-44\n",
        "   9.04567341e-47   1.65553813e-49   2.52688564e-52   3.21674464e-55\n",
        "   3.41559056e-58]"
       ]
      },
      {
       "output_type": "stream",
       "stream": "stdout",
       "text": [
        "\n",
        "testing\n",
        "{'s_1': -30, 's_2': -22}"
       ]
      },
      {
       "output_type": "stream",
       "stream": "stdout",
       "text": [
        "\n",
        "[  1.41387520e-17   5.45938136e-16   1.75215277e-14   4.67161454e-13\n",
        "   1.03409245e-11   1.89902536e-10   2.89068620e-09   3.64342963e-08\n",
        "   3.79748755e-07   3.26782831e-06   2.31693330e-05   1.34994082e-04\n",
        "   6.44088246e-04   2.50454980e-03   7.88339799e-03   1.98824046e-02\n",
        "   3.95248527e-02   6.01432161e-02   6.58320980e-02   4.30687766e-02\n",
        "  -0.00000000e+00  -3.16374306e-02  -2.45619226e-02   1.49321306e-02\n",
        "   5.39194757e-02   6.67030769e-02   5.40142328e-02   3.23224659e-02\n",
        "   1.49832556e-02   5.51001077e-03   1.62991940e-03   3.91282340e-04\n",
        "   7.66898572e-05   1.23245704e-05   1.62917891e-06   1.77572982e-07\n",
        "   1.59886925e-08   1.19104019e-09   7.34924009e-11   3.76003451e-12\n",
        "   1.59636623e-13   5.62814419e-15   1.64871252e-16   4.01504075e-18\n",
        "   8.13183427e-20   1.37026361e-21   1.92167396e-23   2.24357679e-25\n",
        "   2.18121727e-27   1.76625082e-29   1.19148717e-31   6.69713193e-34\n",
        "   3.13705294e-36   1.22476421e-38   3.98601451e-41   1.08151818e-43\n",
        "   2.44672683e-46   4.61570306e-49   7.26158287e-52   9.52802432e-55\n",
        "   1.04276555e-57]"
       ]
      },
      {
       "output_type": "stream",
       "stream": "stdout",
       "text": [
        "\n",
        "testing\n",
        "{'s_1': -30, 's_2': -21}"
       ]
      },
      {
       "output_type": "stream",
       "stream": "stdout",
       "text": [
        "\n",
        "[  7.23201859e-18   2.87946050e-16   9.52986566e-15   2.62036038e-13\n",
        "   5.98232236e-12   1.13318576e-10   1.77943614e-09   2.31400283e-08\n",
        "   2.48882953e-07   2.21050985e-06   1.61804713e-05   9.73586727e-05\n",
        "   4.79914231e-04   1.92901701e-03   6.28081253e-03   1.64018603e-02\n",
        "   3.38087559e-02   5.34575065e-02   6.10138204e-02   4.18800538e-02\n",
        "  -0.00000000e+00  -3.59332298e-02  -3.59332298e-02   0.00000000e+00\n",
        "   4.18800538e-02   6.10138204e-02   5.34575065e-02   3.38087559e-02\n",
        "   1.64018603e-02   6.28081253e-03   1.92901701e-03   4.79914231e-04\n",
        "   9.73586727e-05   1.61804713e-05   2.21050985e-06   2.48882953e-07\n",
        "   2.31400283e-08   1.77943614e-09   1.13318576e-10   5.98232236e-12\n",
        "   2.62036038e-13   9.52986566e-15   2.87946050e-16   7.23201859e-18\n",
        "   1.51051864e-19   2.62469648e-21   3.79546876e-23   4.56892547e-25\n",
        "   4.57972007e-27   3.82332359e-29   2.65895227e-31   1.54073537e-33\n",
        "   7.43988291e-36   2.99426415e-38   1.00452167e-40   2.80949006e-43\n",
        "   6.55154440e-46   1.27395079e-48   2.06583395e-51   2.79389209e-54\n",
        "   3.15159192e-57]"
       ]
      },
      {
       "output_type": "stream",
       "stream": "stdout",
       "text": [
        "\n",
        "testing\n",
        "{'s_1': -30, 's_2': -20}"
       ]
      },
      {
       "output_type": "stream",
       "stream": "stdout",
       "text": [
        "\n",
        "[  3.66162461e-18   1.50326713e-16   5.13037614e-15   1.45476032e-13\n",
        "   3.42533950e-12   6.69236384e-11   1.08406149e-09   1.45440683e-08\n",
        "   1.61412246e-07   1.47957323e-06   1.11799595e-05   6.94634552e-05\n",
        "   3.53703986e-04   1.46932098e-03   4.94742382e-03   1.33727193e-02\n",
        "   2.85666466e-02   4.68970272e-02   5.57367059e-02   4.00389359e-02\n",
        "  -0.00000000e+00  -3.92838373e-02  -4.62630951e-02  -1.49321306e-02\n",
        "   2.86268349e-02   5.37196494e-02   5.17334219e-02   3.47683831e-02\n",
        "   1.76971196e-02   7.06632782e-03   2.25515879e-03   5.81754064e-04\n",
        "   1.22200298e-04   2.10080036e-05   2.96670388e-06   3.45092274e-07\n",
        "   3.31349448e-08   2.63056589e-09   1.72902915e-10   9.41924972e-12\n",
        "   4.25676392e-13   1.59704236e-14   4.97737863e-16   1.28933423e-17\n",
        "   2.77722638e-19   4.97635547e-21   7.42022310e-23   9.21001804e-25\n",
        "   9.51828662e-27   8.19248024e-29   5.87384615e-31   3.50883342e-33\n",
        "   1.74666664e-35   7.24654792e-38   2.50603184e-40   7.22488772e-43\n",
        "   1.73665933e-45   3.48082953e-48   5.81804645e-51   8.11028690e-54\n",
        "   9.42963946e-57]"
       ]
      },
      {
       "output_type": "stream",
       "stream": "stdout",
       "text": [
        "\n",
        "testing\n",
        "{'s_1': -30, 's_2': -19}"
       ]
      },
      {
       "output_type": "stream",
       "stream": "stdout",
       "text": [
        "\n",
        "[  1.83508640e-18   7.76821965e-17   2.73377425e-15   7.99396413e-14\n",
        "   1.94117804e-12   3.91175318e-11   6.53614743e-10   9.04657236e-09\n",
        "   1.03592800e-07   9.79946997e-07   7.64319309e-06   4.90317985e-05\n",
        "   2.57868020e-04   1.10688423e-03   3.85340942e-03   1.07772504e-02\n",
        "   2.38477911e-02   4.06194730e-02   5.02124772e-02   3.76736289e-02\n",
        "  -0.00000000e+00  -4.16517991e-02  -5.52842531e-02  -2.94196403e-02\n",
        "   1.45297371e-02   4.49537999e-02   4.87923061e-02   3.51069200e-02\n",
        "   1.88082183e-02   7.84374438e-03   2.60368329e-03   6.96868011e-04\n",
        "   1.51629611e-04   2.69723473e-05   3.93811756e-06   4.73344903e-07\n",
        "   4.69423481e-08   3.84781855e-09   2.61057511e-10   1.46765243e-11\n",
        "   6.84354945e-13   2.64879601e-14   8.51547305e-16   2.27511716e-17\n",
        "   5.05406163e-19   9.33894791e-21   1.43592457e-22   1.83771340e-24\n",
        "   1.95819692e-26   1.73769499e-28   1.28446947e-30   7.91027274e-33\n",
        "   4.05931060e-35   1.73609885e-37   6.18898743e-40   1.83926216e-42\n",
        "   4.55719291e-45   9.41515198e-48   1.62209340e-50   2.33067613e-53\n",
        "   2.79306703e-56]"
       ]
      },
      {
       "output_type": "stream",
       "stream": "stdout",
       "text": [
        "\n",
        "testing\n",
        "{'s_1': -30, 's_2': -18}"
       ]
      },
      {
       "output_type": "stream",
       "stream": "stdout",
       "text": [
        "\n",
        "[  9.10353592e-19   3.97347015e-17   1.44188406e-15   4.34787454e-14\n",
        "   1.08882828e-12   2.26298612e-11   3.90024764e-10   5.56885000e-09\n",
        "   6.57935125e-08   6.42245957e-07   5.17020847e-06   3.42417111e-05\n",
        "   1.85976213e-04   8.24746454e-04   2.96791555e-03   8.58638491e-03\n",
        "   1.96730802e-02   3.47450719e-02   4.46306998e-02   3.49162809e-02\n",
        "  -0.00000000e+00  -4.30399002e-02  -6.27908693e-02  -4.30399002e-02\n",
        "   0.00000000e+00   3.49162809e-02   4.46306998e-02   3.47450719e-02\n",
        "   1.96730802e-02   8.58638491e-03   2.96791555e-03   8.24746454e-04\n",
        "   1.85976213e-04   3.42417111e-05   5.17020847e-06   6.42245957e-07\n",
        "   6.57935125e-08   5.56885000e-09   3.90024764e-10   2.26298612e-11\n",
        "   1.08882828e-12   4.34787454e-14   1.44188406e-15   3.97347015e-17\n",
        "   9.10353592e-19   1.73474452e-20   2.75046797e-22   3.62963954e-24\n",
        "   3.98776446e-26   3.64849330e-28   2.78043319e-30   1.76527604e-32\n",
        "   9.33880872e-35   4.11735869e-37   1.51306374e-39   4.63515297e-42\n",
        "   1.18383476e-44   2.52107368e-47   4.47703664e-50   6.63049636e-53\n",
        "   8.19007971e-56]"
       ]
      },
      {
       "output_type": "stream",
       "stream": "stdout",
       "text": [
        "\n",
        "testing\n",
        "{'s_1': -30, 's_2': -17}"
       ]
      },
      {
       "output_type": "stream",
       "stream": "stdout",
       "text": [
        "\n",
        "[  4.47030314e-19   2.01179738e-17   7.52757998e-16   2.34066592e-14\n",
        "   6.04490965e-13   1.29573354e-11   2.30340667e-10   3.39263415e-09\n",
        "   4.13528162e-08   4.16526568e-07   3.46060527e-06   2.36594433e-05\n",
        "   1.32690288e-04   6.07850506e-04   2.26064392e-03   6.76353338e-03\n",
        "   1.60398012e-02   2.93577851e-02   3.91534750e-02   3.18963551e-02\n",
        "  -0.00000000e+00  -4.34881338e-02  -6.86458274e-02  -5.54127477e-02\n",
        "  -1.45297371e-02   2.38667938e-02   3.92951225e-02   3.36244914e-02\n",
        "   2.02314806e-02   9.26445401e-03   3.33910049e-03   9.64187566e-04\n",
        "   2.25441154e-04   4.29786807e-05   6.71276850e-06   8.61952084e-07\n",
        "   9.12269504e-08   7.97421397e-09   5.76579183e-10   3.45289282e-11\n",
        "   1.71437526e-12   7.06310309e-14   2.41635088e-15   6.86846214e-17\n",
        "   1.62299091e-18   3.18948612e-20   5.21481491e-22   7.09602341e-24\n",
        "   8.03851646e-26   7.58286630e-28   5.95781221e-30   3.89964123e-32\n",
        "   2.12679768e-34   9.66635249e-37   3.66183088e-39   1.15635544e-41\n",
        "   3.04435076e-44   6.68276954e-47   1.22326556e-49   1.86735898e-52\n",
        "   2.37746821e-55]"
       ]
      },
      {
       "output_type": "stream",
       "stream": "stdout",
       "text": [
        "\n",
        "testing\n",
        "{'s_1': -30, 's_2': -16}"
       ]
      },
      {
       "output_type": "stream",
       "stream": "stdout",
       "text": [
        "\n",
        "[  2.17289825e-19   1.00824700e-17   3.88992039e-16   1.24724817e-14\n",
        "   3.32170119e-13   7.34306626e-12   1.34636409e-10   2.04552576e-09\n",
        "   2.57219120e-08   2.67322676e-07   2.29201886e-06   1.61748076e-05\n",
        "   9.36613859e-05   4.43153632e-04   1.70301191e-03   5.26792614e-03\n",
        "   1.29266868e-02   2.45082434e-02   3.39124592e-02   2.87350136e-02\n",
        "  -0.00000000e+00  -4.30687766e-02  -7.27836792e-02  -6.62180591e-02\n",
        "  -2.86268349e-02   1.21137471e-02   3.28830343e-02   3.17128930e-02\n",
        "   2.04284728e-02   9.84611494e-03   3.70645849e-03   1.11319835e-03\n",
        "   2.70050074e-04   5.33291711e-05   8.61857829e-06   1.14418856e-06\n",
        "   1.25131205e-07   1.12970862e-08   8.43382060e-10   5.21335113e-11\n",
        "   2.67123931e-12   1.13552680e-13   4.00767114e-15   1.17508047e-16\n",
        "   2.86387687e-18   5.80430156e-20   9.78645619e-22   1.37318707e-23\n",
        "   1.60395879e-25   1.56002294e-27   1.26370282e-29   8.52758134e-32\n",
        "   4.79462766e-34   2.24649204e-36   8.77286739e-39   2.85577746e-41\n",
        "   7.75009851e-44   1.75363523e-46   3.30876049e-49   5.20626762e-52\n",
        "   6.83219778e-55]"
       ]
      },
      {
       "output_type": "stream",
       "stream": "stdout",
       "text": [
        "\n",
        "testing\n",
        "{'s_1': -30, 's_2': -15}"
       ]
      },
      {
       "output_type": "stream",
       "stream": "stdout",
       "text": [
        "\n",
        "[  1.04548919e-19   5.00173331e-18   1.98970720e-16   6.57840439e-15\n",
        "   1.80665560e-13   4.11880726e-12   7.78884329e-11   1.22060542e-09\n",
        "   1.58337836e-08   1.69781083e-07   1.50216272e-06   1.09413862e-05\n",
        "   6.54091062e-05   3.19605489e-04   1.26892496e-03   4.05738353e-03\n",
        "   1.02988707e-02   2.02179160e-02   2.90080286e-02   2.55407388e-02\n",
        "  -0.00000000e+00  -4.18800538e-02  -7.52092913e-02  -7.52092913e-02\n",
        "  -4.18800538e-02   0.00000000e+00   2.55407388e-02   2.90080286e-02\n",
        "   2.02179160e-02   1.02988707e-02   4.05738353e-03   1.26892496e-03\n",
        "   3.19605489e-04   6.54091062e-05   1.09413862e-05   1.50216272e-06\n",
        "   1.69781083e-07   1.58337836e-08   1.22060542e-09   7.78884329e-11\n",
        "   4.11880726e-12   1.80665560e-13   6.57840439e-15   1.98970720e-16\n",
        "   5.00173331e-18   1.04548919e-19   1.81787086e-21   2.63029627e-23\n",
        "   3.16795440e-25   3.17690420e-27   2.65329147e-29   1.84592712e-31\n",
        "   1.06998097e-33   5.16825677e-36   2.08058669e-38   6.98171289e-41\n",
        "   1.95311429e-43   4.55546733e-46   8.85979218e-49   1.43694875e-51\n",
        "   1.94367900e-54]"
       ]
      },
      {
       "output_type": "stream",
       "stream": "stdout",
       "text": [
        "\n",
        "testing\n",
        "{'s_1': -30, 's_2': -14}"
       ]
      },
      {
       "output_type": "stream",
       "stream": "stdout",
       "text": [
        "\n",
        "[  4.97942895e-20   2.45610764e-18   1.00740350e-16   3.43435831e-15\n",
        "   9.72607914e-14   2.28666157e-12   4.45971162e-11   7.20864654e-10\n",
        "   9.64619895e-09   1.06711523e-07   9.74222842e-07   7.32346072e-06\n",
        "   4.51946761e-05   2.28032089e-04   9.35216725e-04   3.09048531e-03\n",
        "   8.11246601e-03   1.64840152e-02   2.45102808e-02   2.24062962e-02\n",
        "  -0.00000000e+00  -4.00389359e-02  -7.59925489e-02  -8.22222098e-02\n",
        "  -5.39194757e-02  -1.21137471e-02   1.74582038e-02   2.55401336e-02\n",
        "   1.95658579e-02   1.05911937e-02   4.37779618e-03   1.42762416e-03\n",
        "   3.73641665e-04   7.92891957e-05   1.37331438e-05   1.95034120e-06\n",
        "   2.27861549e-07   2.19545627e-08   1.74782384e-09   1.15143584e-10\n",
        "   6.28452816e-12   2.84460435e-13   1.06865890e-14   3.33440869e-16\n",
        "   8.64589755e-18   1.86391251e-19   3.34232147e-21   4.98697252e-23\n",
        "   6.19341903e-25   6.40398824e-27   5.51448305e-29   3.95538622e-31\n",
        "   2.36367674e-33   1.17700628e-35   4.88460829e-38   1.68967448e-40\n",
        "   4.87253461e-43   1.17148448e-45   2.34852118e-48   3.92619062e-51\n",
        "   5.47401919e-54]"
       ]
      },
      {
       "output_type": "stream",
       "stream": "stdout",
       "text": [
        "\n",
        "testing\n",
        "{'s_1': -30, 's_2': -13}"
       ]
      },
      {
       "output_type": "stream",
       "stream": "stdout",
       "text": [
        "\n",
        "[  2.34758537e-20   1.19385013e-18   5.04877660e-17   1.77472448e-15\n",
        "   5.18264237e-14   1.25652936e-12   2.52736824e-11   4.21352555e-10\n",
        "   5.81599652e-09   6.63757552e-08   6.25246688e-07   4.85045498e-06\n",
        "   3.08973960e-05   1.60959794e-04   6.81820093e-04   2.32815669e-03\n",
        "   6.31857186e-03   1.32846847e-02   2.04614866e-02   1.94070285e-02\n",
        "  -0.00000000e+00  -3.76736289e-02  -7.52597508e-02  -8.71784224e-02\n",
        "  -6.44336037e-02  -2.38667938e-02   8.86102538e-03   2.13725530e-02\n",
        "   1.84535121e-02   1.06943193e-02   4.65265243e-03   1.58468716e-03\n",
        "   4.31386279e-04   9.49784582e-05   1.70404760e-05   2.50405899e-06\n",
        "   3.02472240e-07   3.01139177e-08   2.47614583e-09   1.68424452e-10\n",
        "   9.48869649e-12   4.43229622e-13   1.71807039e-14   5.53032821e-16\n",
        "   1.47917032e-17   3.28899927e-19   6.08243492e-21   9.35887256e-23\n",
        "   1.19851957e-24   1.27781454e-26   1.13449449e-28   8.38971180e-31\n",
        "   5.16879490e-33   2.65342910e-35   1.13519900e-37   4.04805427e-40\n",
        "   1.20333888e-42   2.98228451e-45   6.16278844e-48   1.06197908e-50\n",
        "   1.52617730e-53]"
       ]
      },
      {
       "output_type": "stream",
       "stream": "stdout",
       "text": [
        "\n",
        "testing\n",
        "{'s_1': -30, 's_2': -12}"
       ]
      },
      {
       "output_type": "stream",
       "stream": "stdout",
       "text": [
        "\n",
        "[  1.09558745e-20   5.74420546e-19   2.50460791e-17   9.07777463e-16\n",
        "   2.73349909e-14   6.83419630e-13   1.41762886e-11   2.43756428e-10\n",
        "   3.47051943e-09   4.08593011e-08   3.97104584e-07   3.17893224e-06\n",
        "   2.09004243e-05   1.12407436e-04   4.91733404e-04   1.73472430e-03\n",
        "   4.86659621e-03   1.05840926e-02   1.68795703e-02   1.66003779e-02\n",
        "  -0.00000000e+00  -3.49162809e-02  -7.31825388e-02  -9.00837584e-02\n",
        "  -7.31825388e-02  -3.49162809e-02   0.00000000e+00   1.66003779e-02\n",
        "   1.68795703e-02   1.05840926e-02   4.86659621e-03   1.73472430e-03\n",
        "   4.91733404e-04   1.12407436e-04   2.09004243e-05   3.17893224e-06\n",
        "   3.97104584e-07   4.08593011e-08   3.47051943e-09   2.43756428e-10\n",
        "   1.41762886e-11   6.83419630e-13   2.73349909e-14   9.07777463e-16\n",
        "   2.50460791e-17   5.74420546e-19   1.09558745e-20   1.73844560e-22\n",
        "   2.29572621e-24   2.52379190e-26   2.31033803e-28   1.76151785e-30\n",
        "   1.11886575e-32   5.92145806e-35   2.61162728e-37   9.60042762e-40\n",
        "   2.94188419e-42   7.51570125e-45   1.60092480e-47   2.84363706e-50\n",
        "   4.21230472e-53]"
       ]
      },
      {
       "output_type": "stream",
       "stream": "stdout",
       "text": [
        "\n",
        "testing\n",
        "{'s_1': -30, 's_2': -11}"
       ]
      },
      {
       "output_type": "stream",
       "stream": "stdout",
       "text": [
        "\n",
        "[  5.06125674e-21   2.73583537e-19   1.22989097e-17   4.59614457e-16\n",
        "   1.42706571e-14   3.67917019e-13   7.87033046e-12   1.39569296e-10\n",
        "   2.04961796e-09   2.48921519e-08   2.49589850e-07   2.06168637e-06\n",
        "   1.39894008e-05   7.76683550e-05   3.50841895e-04   1.27851782e-03\n",
        "   3.70685788e-03   8.33713656e-03   1.37622044e-02   1.40264590e-02\n",
        "  -0.00000000e+00  -3.18963551e-02  -6.99653108e-02  -9.10219241e-02\n",
        "  -8.00064719e-02  -4.49537999e-02  -8.86102538e-03   1.13470790e-02\n",
        "   1.48616263e-02   1.02427398e-02   5.00472961e-03   1.87171594e-03\n",
        "   5.53232470e-04   1.31412329e-04   2.53355829e-05   3.99005509e-06\n",
        "   5.15582913e-07   5.48368726e-08   4.81209913e-09   3.49042606e-10\n",
        "   2.09570100e-11   1.04277031e-12   4.30393232e-14   1.47468050e-15\n",
        "   4.19729414e-17   9.92932027e-19   1.95322838e-20   3.19629088e-22\n",
        "   4.35263650e-24   4.93406748e-26   4.65716831e-28   3.66106039e-30\n",
        "   2.39746527e-32   1.30809921e-34   5.94765673e-37   2.25389927e-39\n",
        "   7.11978092e-42   1.87498062e-44   4.11693998e-47   7.53780870e-50\n",
        "   1.15093257e-52]"
       ]
      },
      {
       "output_type": "stream",
       "stream": "stdout",
       "text": [
        "\n",
        "testing\n",
        "{'s_1': -30, 's_2': -10}"
       ]
      },
      {
       "output_type": "stream",
       "stream": "stdout",
       "text": [
        "\n",
        "[  2.31449982e-21   1.28982804e-19   5.97818055e-18   2.30343722e-16\n",
        "   7.37444440e-15   1.96048408e-13   4.32477697e-12   7.90954744e-11\n",
        "   1.19802207e-09   1.50082607e-08   1.55247664e-07   1.32317014e-06\n",
        "   9.26542264e-06   5.30980665e-05   2.47646897e-04   9.32103885e-04\n",
        "   2.79248892e-03   6.49356145e-03   1.10911416e-02   1.17094620e-02\n",
        "  -0.00000000e+00  -2.87350136e-02  -6.58320980e-02  -9.01441974e-02\n",
        "  -8.48291237e-02  -5.37196494e-02  -1.74582038e-02   5.75928405e-03\n",
        "   1.24365401e-02   9.66042600e-03   5.05346025e-03   1.98923004e-03\n",
        "   6.14097476e-04   1.51721505e-04   3.03488335e-05   4.95097400e-06\n",
        "   6.61961112e-07   7.27925873e-08   6.60050302e-09   4.94489417e-10\n",
        "   3.06545342e-11   1.57442702e-12   6.70613577e-14   2.37082655e-15\n",
        "   6.96147844e-17   1.69874276e-18   3.44660314e-20   5.81668503e-22\n",
        "   8.16843689e-24   9.54816137e-26   9.29264260e-28   7.53189882e-30\n",
        "   5.08522848e-32   2.86049966e-34   1.34083273e-36   5.23813588e-39\n",
        "   1.70572853e-41   4.63052037e-44   1.04806223e-46   1.97800730e-49\n",
        "   3.11310997e-52]"
       ]
      },
      {
       "output_type": "stream",
       "stream": "stdout",
       "text": [
        "\n",
        "testing\n",
        "{'s_1': -30, 's_2': -9}"
       ]
      },
      {
       "output_type": "stream",
       "stream": "stdout",
       "text": [
        "\n",
        "[  1.04771974e-21   6.01945912e-20   2.87639935e-18   1.14269407e-16\n",
        "   3.77205280e-15   1.03402494e-13   2.35222318e-12   4.43655283e-11\n",
        "   6.93067069e-10   8.95572415e-09   9.55666877e-08   8.40367391e-07\n",
        "   6.07245111e-06   3.59179822e-05   1.72946001e-04   6.72239819e-04\n",
        "   2.08070118e-03   5.00137408e-03   8.83646639e-03   9.65964454e-03\n",
        "  -0.00000000e+00  -2.55407388e-02  -6.10138204e-02  -8.76561662e-02\n",
        "  -8.76561662e-02  -6.10138204e-02  -2.55407388e-02   0.00000000e+00\n",
        "   9.65964454e-03   8.83646639e-03   5.00137408e-03   2.08070118e-03\n",
        "   6.72239819e-04   1.72946001e-04   3.59179822e-05   6.07245111e-06\n",
        "   8.40367391e-07   9.55666877e-08   8.95572415e-09   6.93067069e-10\n",
        "   4.43655283e-11   2.35222318e-12   1.03402494e-13   3.77205280e-15\n",
        "   1.14269407e-16   2.87639935e-18   6.01945912e-20   1.04771974e-21\n",
        "   1.51731772e-23   1.82892002e-25   1.83537558e-27   1.53383136e-29\n",
        "   1.06770303e-31   6.19199477e-34   2.99223551e-36   1.20508022e-38\n",
        "   4.04533195e-41   1.13205473e-43   2.64123780e-46   5.13832492e-49\n",
        "   8.33590327e-52]"
       ]
      },
      {
       "output_type": "stream",
       "stream": "stdout",
       "text": [
        "\n",
        "testing\n",
        "{'s_1': -30, 's_2': -8}"
       ]
      },
      {
       "output_type": "stream",
       "stream": "stdout",
       "text": [
        "\n",
        "[  4.69487415e-22   2.78079382e-20   1.36996407e-18   5.61121407e-17\n",
        "   1.90981829e-15   5.39828799e-14   1.26631267e-12   2.46306617e-11\n",
        "   3.96834183e-10   5.28906793e-09   5.82207832e-08   5.28191261e-07\n",
        "   3.93826881e-06   2.40411889e-05   1.19497712e-04   4.79629593e-04\n",
        "   1.53350798e-03   3.80951740e-03   6.96052367e-03   7.87567461e-03\n",
        "  -0.00000000e+00  -2.24062962e-02  -5.57367059e-02  -8.38026531e-02\n",
        "  -8.85690501e-02  -6.67030769e-02  -3.28830343e-02  -5.75928405e-03\n",
        "   6.60278641e-03   7.78007136e-03   4.84007228e-03   2.13975977e-03\n",
        "   7.25326776e-04   1.94575644e-04   4.19906890e-05   7.36105096e-06\n",
        "   1.05479197e-06   1.24079533e-07   1.20193907e-08   9.60982211e-10\n",
        "   6.35284153e-11   3.47732515e-12   1.57772832e-13   5.93914958e-15\n",
        "   1.85630150e-16   4.82035296e-18   1.04051183e-19   1.86788916e-21\n",
        "   2.78972710e-23   3.46758424e-25   3.58819876e-27   3.09188989e-29\n",
        "   2.21906652e-31   1.32679836e-33   6.61009647e-36   2.74442051e-38\n",
        "   9.49725481e-41   2.73973451e-43   6.58923170e-46   1.32137220e-48\n",
        "   2.20965063e-51]"
       ]
      },
      {
       "output_type": "stream",
       "stream": "stdout",
       "text": [
        "\n",
        "testing\n",
        "{'s_1': -30, 's_2': -7}"
       ]
      },
      {
       "output_type": "stream",
       "stream": "stdout",
       "text": [
        "\n",
        "[  2.08254909e-22   1.27164993e-20   6.45878803e-19   2.72746542e-17\n",
        "   9.57138414e-16   2.78959647e-14   6.74767870e-13   1.35346437e-11\n",
        "   2.24890350e-10   3.09151277e-09   3.51031400e-08   3.28540843e-07\n",
        "   2.52754239e-06   1.59228961e-05   8.16947578e-05   3.38553582e-04\n",
        "   1.11800455e-03   2.86982546e-03   5.42135634e-03   6.34710979e-03\n",
        "  -0.00000000e+00  -1.94070285e-02  -5.02124772e-02  -7.88519969e-02\n",
        "  -8.77149765e-02  -7.07238230e-02  -3.92951225e-02  -1.13470790e-02\n",
        "   3.35128737e-03   6.51053712e-03   4.56490755e-03   2.16059444e-03\n",
        "   7.70865806e-04   2.15982283e-04   4.84801584e-05   8.81761084e-06\n",
        "   1.30881591e-06   1.59306725e-07   1.59550045e-08   1.31812870e-09\n",
        "   9.00008436e-11   5.08640223e-12   2.38213351e-13   9.25403571e-15\n",
        "   2.98435415e-16   7.99486099e-18   1.78014395e-19   3.29601634e-21\n",
        "   5.07681073e-23   6.50749103e-25   6.94370333e-27   6.16937715e-29\n",
        "   4.56528511e-31   2.81425258e-33   1.44546978e-35   6.18698928e-38\n",
        "   2.20719318e-40   6.56374594e-43   1.62730064e-45   3.36385835e-48\n",
        "   5.79837622e-51]"
       ]
      },
      {
       "output_type": "stream",
       "stream": "stdout",
       "text": [
        "\n",
        "testing\n",
        "{'s_1': -30, 's_2': -6}"
       ]
      },
      {
       "output_type": "stream",
       "stream": "stdout",
       "text": [
        "\n",
        "[  9.14451232e-23   5.75646072e-21   3.01423207e-19   1.31231897e-17\n",
        "   4.74819274e-16   1.42688786e-14   3.55895165e-13   7.36142068e-12\n",
        "   1.26143490e-10   1.78846931e-09   2.09467336e-08   2.02241755e-07\n",
        "   1.60528426e-06   1.04356824e-05   5.52621037e-05   2.36431342e-04\n",
        "   8.06312673e-04   2.13832512e-03   4.17555625e-03   5.05683041e-03\n",
        "  -0.00000000e+00  -1.66003779e-02  -4.46306998e-02  -7.30807877e-02\n",
        "  -8.52939931e-02  -7.30807877e-02  -4.46306998e-02  -1.66003779e-02\n",
        "   0.00000000e+00   5.05683041e-03   4.17555625e-03   2.13832512e-03\n",
        "   8.06312673e-04   2.36431342e-04   5.52621037e-05   1.04356824e-05\n",
        "   1.60528426e-06   2.02241755e-07   2.09467336e-08   1.78846931e-09\n",
        "   1.26143490e-10   7.36142068e-12   3.55895165e-13   1.42688786e-14\n",
        "   4.74819274e-16   1.31231897e-17   3.01423207e-19   5.75646072e-21\n",
        "   9.14451232e-23   1.20879081e-24   1.33004434e-26   1.21850422e-28\n",
        "   9.29696168e-31   5.90885153e-33   3.12894331e-35   1.38070384e-37\n",
        "   5.07784622e-40   1.55666806e-42   3.97837226e-45   8.47731137e-48\n",
        "   1.50626042e-50]"
       ]
      },
      {
       "output_type": "stream",
       "stream": "stdout",
       "text": [
        "\n",
        "testing\n",
        "{'s_1': -30, 's_2': -5}"
       ]
      },
      {
       "output_type": "stream",
       "stream": "stdout",
       "text": [
        "\n",
        "[  3.97485556e-23   2.57949314e-21   1.39247692e-19   6.25027898e-18\n",
        "   2.33160622e-16   7.22443897e-15   1.85800606e-13   3.96299994e-12\n",
        "   7.00317963e-11   1.02403618e-09   1.23707134e-08   1.23208972e-07\n",
        "   1.00896004e-06   6.76802858e-06   3.69889006e-05   1.63363155e-04\n",
        "   5.75287878e-04   1.57597769e-03   3.18049678e-03   3.98328769e-03\n",
        "  -0.00000000e+00  -1.40264590e-02  -3.91534750e-02  -6.67599955e-02\n",
        "  -8.15443251e-02  -7.38418782e-02  -4.87923061e-02  -2.13725530e-02\n",
        "  -3.35128737e-03   3.45656312e-03   3.67637064e-03   2.06936094e-03\n",
        "   8.29199039e-04   2.55102388e-04   6.21735068e-05   1.22000588e-05\n",
        "   1.94593239e-06   2.53844903e-07   2.71963063e-08   2.40028735e-09\n",
        "   1.74906088e-10   1.05410531e-11   5.26124910e-13   2.17716352e-14\n",
        "   7.47609548e-16   2.13185641e-17   5.05133700e-19   9.95050448e-21\n",
        "   1.63029624e-22   2.22247222e-24   2.52172908e-26   2.38220196e-28\n",
        "   1.87407707e-30   1.22806944e-32   6.70458716e-35   3.05008933e-37\n",
        "   1.15641640e-39   3.65460076e-42   9.62823046e-45   2.11487844e-47\n",
        "   3.87350095e-50]"
       ]
      },
      {
       "output_type": "stream",
       "stream": "stdout",
       "text": [
        "\n",
        "testing\n",
        "{'s_1': -30, 's_2': -4}"
       ]
      },
      {
       "output_type": "stream",
       "stream": "stdout",
       "text": [
        "\n",
        "[  1.71032678e-23   1.14420982e-21   6.36776149e-20   2.94673619e-18\n",
        "   1.13333322e-16   3.62065234e-15   9.60135350e-14   2.11172571e-12\n",
        "   3.84827424e-11   5.80332708e-10   7.23080493e-09   7.42865617e-08\n",
        "   6.27584376e-07   4.34365453e-06   2.44983900e-05   1.11683422e-04\n",
        "   4.06075385e-04   1.14896711e-03   2.39596508e-03   3.10247088e-03\n",
        "  -0.00000000e+00  -1.17094620e-02  -3.39124592e-02  -6.01432161e-02\n",
        "  -7.67270801e-02  -7.31298191e-02  -5.17334219e-02  -2.55401336e-02\n",
        "  -6.60278641e-03   1.75440119e-03   3.07646889e-03   1.95171494e-03\n",
        "   8.37272883e-04   2.71118776e-04   6.90136528e-05   1.40855223e-05\n",
        "   2.33098162e-06   3.14977985e-07   3.49175597e-08   3.18623434e-09\n",
        "   2.39909473e-10   1.49335328e-11   7.69580872e-13   3.28719092e-14\n",
        "   1.16488150e-15   3.42736055e-17   8.37796266e-19   1.70236703e-20\n",
        "   2.87676762e-22   4.04450701e-24   4.73243857e-26   4.60991846e-28\n",
        "   3.73942433e-30   2.52650701e-32   1.42210016e-34   6.66981482e-37\n",
        "   2.60701152e-39   8.49341210e-42   2.30669279e-44   5.22298076e-47\n",
        "   9.86089197e-50]"
       ]
      },
      {
       "output_type": "stream",
       "stream": "stdout",
       "text": [
        "\n",
        "testing\n",
        "{'s_1': -30, 's_2': -3}"
       ]
      },
      {
       "output_type": "stream",
       "stream": "stdout",
       "text": [
        "\n",
        "[  7.28509417e-24   5.02424687e-22   2.88253615e-20   1.37520332e-18\n",
        "   5.45302859e-17   1.79614097e-15   4.91112420e-14   1.11379484e-12\n",
        "   2.09305588e-11   3.25515048e-10   4.18308888e-09   4.43282514e-08\n",
        "   3.86325683e-07   2.75872733e-06   1.60559622e-05   7.55478198e-05\n",
        "   2.83585682e-04   8.28643086e-04   1.78524875e-03   2.38953886e-03\n",
        "  -0.00000000e+00  -9.65964454e-03  -2.90080286e-02  -5.34575065e-02\n",
        "  -7.11113944e-02  -7.11113944e-02  -5.34575065e-02  -2.90080286e-02\n",
        "  -9.65964454e-03   0.00000000e+00   2.38953886e-03   1.78524875e-03\n",
        "   8.28643086e-04   2.83585682e-04   7.55478198e-05   1.60559622e-05\n",
        "   2.75872733e-06   3.86325683e-07   4.43282514e-08   4.18308888e-09\n",
        "   3.25515048e-10   2.09305588e-11   1.11379484e-12   4.91112420e-14\n",
        "   1.79614097e-15   5.45302859e-17   1.37520332e-18   2.88253615e-20\n",
        "   5.02424687e-22   7.28509417e-24   8.79068174e-26   8.83015256e-28\n",
        "   7.38567962e-30   5.14509790e-32   2.98586516e-34   1.44378477e-36\n",
        "   5.81787143e-39   1.95398576e-41   5.47058803e-44   1.27689754e-46\n",
        "   2.48505861e-49]"
       ]
      },
      {
       "output_type": "stream",
       "stream": "stdout",
       "text": [
        "\n",
        "testing\n",
        "{'s_1': -30, 's_2': -2}"
       ]
      },
      {
       "output_type": "stream",
       "stream": "stdout",
       "text": [
        "\n",
        "[  3.07178572e-24   2.18389509e-22   1.29167601e-20   6.35299087e-19\n",
        "   2.59715440e-17   8.81997356e-16   2.48653858e-14   5.81473915e-13\n",
        "   1.12679069e-11   1.80718034e-10   2.39513999e-09   2.61793607e-08\n",
        "   2.35355901e-07   1.73392695e-06   1.04130431e-05   5.05668553e-05\n",
        "   1.95944629e-04   5.91220179e-04   1.31575511e-03   1.82009778e-03\n",
        "  -0.00000000e+00  -7.87567461e-03  -2.45102808e-02  -4.68970272e-02\n",
        "  -6.49609360e-02  -6.79852174e-02  -5.40142328e-02  -3.17128930e-02\n",
        "  -1.24365401e-02  -1.75440119e-03   1.63335355e-03   1.57182318e-03\n",
        "   8.01918106e-04   2.91634974e-04   8.15138512e-05   1.80640151e-05\n",
        "   3.22514947e-06   4.68305630e-07   5.56388598e-08   5.43113637e-09\n",
        "   4.36870597e-10   2.90215703e-11   1.59487836e-12   7.26018511e-14\n",
        "   2.74057458e-15   8.58586932e-17   2.23401175e-18   4.83063718e-20\n",
        "   8.68481404e-22   1.29879661e-23   1.61624706e-25   1.67417369e-27\n",
        "   1.44391626e-29   1.03714637e-31   6.20568943e-34   3.09369006e-36\n",
        "   1.28521607e-38   4.44995985e-41   1.28433387e-43   3.09027485e-46\n",
        "   6.19960344e-49]"
       ]
      },
      {
       "output_type": "stream",
       "stream": "stdout",
       "text": [
        "\n",
        "testing\n",
        "{'s_1': -30, 's_2': -1}"
       ]
      },
      {
       "output_type": "stream",
       "stream": "stdout",
       "text": [
        "\n",
        "[  1.28217598e-24   9.39700626e-23   5.72960768e-21   2.90520654e-19\n",
        "   1.22444596e-17   4.28716006e-16   1.24617175e-14   3.00480001e-13\n",
        "   6.00422133e-12   9.93052575e-11   1.35735251e-09   1.53020965e-08\n",
        "   1.41903469e-07   1.07852186e-06   6.68298919e-06   3.34913048e-05\n",
        "   1.33957787e-04   4.17321433e-04   9.59251739e-04   1.37113508e-03\n",
        "  -0.00000000e+00  -6.34710979e-03  -2.04614866e-02  -4.06194730e-02\n",
        "  -5.85224666e-02  -6.39689790e-02  -5.34933722e-02  -3.36244914e-02\n",
        "  -1.48616263e-02  -3.45656312e-03   8.29019264e-04   1.31533667e-03\n",
        "   7.56327965e-04   2.94474600e-04   8.66316296e-05   2.00513648e-05\n",
        "   3.72358160e-06   5.60971093e-07   6.90382819e-08   6.97308033e-09\n",
        "   5.79918940e-10   3.98073600e-11   2.25946763e-12   1.06197207e-13\n",
        "   4.13785725e-15   1.33779997e-16   3.59159449e-18   8.01191802e-20\n",
        "   1.48582829e-21   2.29181418e-23   2.94128427e-25   3.14186176e-27\n",
        "   2.79419475e-29   2.06946150e-31   1.27669636e-33   6.56198069e-36\n",
        "   2.81045971e-38   1.00319371e-40   2.98483407e-43   7.40355640e-46\n",
        "   1.53107663e-48]"
       ]
      },
      {
       "output_type": "stream",
       "stream": "stdout",
       "text": [
        "\n",
        "testing\n",
        "{'s_1': -30, 's_2': 0}"
       ]
      },
      {
       "output_type": "stream",
       "stream": "stdout",
       "text": [
        "\n",
        "[  5.29793441e-25   4.00263133e-23   2.51588153e-21   1.31511880e-19\n",
        "   5.71432948e-18   2.06276547e-16   6.18203549e-15   1.53696518e-13\n",
        "   3.16682735e-12   5.40116010e-11   7.61354065e-10   8.85240721e-09\n",
        "   8.46765892e-08   6.63911834e-07   4.24447773e-06   2.19498148e-05\n",
        "   9.06152280e-05   2.91439441e-04   6.91819040e-04   1.02164143e-03\n",
        "  -0.00000000e+00  -5.05683041e-03  -1.68795703e-02  -3.47450719e-02\n",
        "  -5.20169246e-02  -5.92870638e-02  -5.20169246e-02  -3.47450719e-02\n",
        "  -1.68795703e-02  -5.05683041e-03   0.00000000e+00   1.02164143e-03\n",
        "   6.91819040e-04   2.91439441e-04   9.06152280e-05   2.19498148e-05\n",
        "   4.24447773e-06   6.63911834e-07   8.46765892e-08   8.85240721e-09\n",
        "   7.61354065e-10   5.40116010e-11   3.16682735e-12   1.53696518e-13\n",
        "   6.18203549e-15   2.06276547e-16   5.71432948e-18   1.31511880e-19\n",
        "   2.51588153e-21   4.00263133e-23   5.29793441e-25   5.83612578e-27\n",
        "   5.35219139e-29   4.08736166e-31   2.59992462e-33   1.37776438e-35\n",
        "   6.08367553e-38   2.23875191e-40   6.86687893e-43   1.75583880e-45\n",
        "   3.74312689e-48]"
       ]
      },
      {
       "output_type": "stream",
       "stream": "stdout",
       "text": [
        "\n",
        "testing\n",
        "{'s_1': -30, 's_2': 1}"
       ]
      },
      {
       "output_type": "stream",
       "stream": "stdout",
       "text": [
        "\n",
        "[  2.16705011e-25   1.68772366e-23   1.09358108e-21   5.89310010e-20\n",
        "   2.63983388e-18   9.82448623e-17   3.03569656e-15   7.78176863e-14\n",
        "   1.65329146e-12   2.90769921e-11   4.22685251e-10   5.06868374e-09\n",
        "   5.00082657e-08   4.04465906e-07   2.66775706e-06   1.42354824e-05\n",
        "   6.06520100e-05   2.01371214e-04   4.93598973e-04   7.52965059e-04\n",
        "  -0.00000000e+00  -3.98328769e-03  -1.37622044e-02  -2.93577851e-02\n",
        "  -4.56332383e-02  -5.41592974e-02  -4.97301728e-02  -3.51069200e-02\n",
        "  -1.84535121e-02  -6.51053712e-03  -8.29019264e-04   6.98336273e-04\n",
        "   6.09112428e-04   2.82040083e-04   9.31872493e-05   2.36831975e-05\n",
        "   4.77531703e-06   7.76160397e-07   1.02645320e-07   1.11111499e-08\n",
        "   9.88508223e-10   7.24884470e-11   4.39101045e-12   2.20082948e-13\n",
        "   9.13899144e-15   3.14739362e-16   8.99729121e-18   2.13640472e-19\n",
        "   4.21618680e-21   6.91886958e-23   9.44523038e-25   1.07302499e-26\n",
        "   1.01476141e-28   7.99088000e-31   5.24091558e-33   2.86348425e-35\n",
        "   1.30358810e-37   4.94558871e-40   1.56384638e-42   4.12219533e-45\n",
        "   9.05890298e-48]"
       ]
      },
      {
       "output_type": "stream",
       "stream": "stdout",
       "text": [
        "\n",
        "testing\n",
        "{'s_1': -30, 's_2': 2}"
       ]
      },
      {
       "output_type": "stream",
       "stream": "stdout",
       "text": [
        "\n",
        "[  8.77477396e-26   7.04462787e-24   4.70553202e-22   2.61405735e-20\n",
        "   1.20718931e-18   4.63182031e-17   1.47557325e-15   3.89996773e-14\n",
        "   8.54347903e-13   1.54939775e-11   2.32267177e-10   2.87247952e-09\n",
        "   2.92303283e-08   2.43865207e-07   1.65937458e-06   9.13619333e-06\n",
        "   4.01708776e-05   1.37667679e-04   3.48414074e-04   5.48949450e-04\n",
        "  -0.00000000e+00  -3.10247088e-03  -1.10911416e-02  -2.45082434e-02\n",
        "  -3.95248527e-02  -4.87914102e-02  -4.67923543e-02  -3.47683831e-02\n",
        "  -1.95658579e-02  -7.78007136e-03  -1.63335355e-03   3.54445137e-04\n",
        "   5.09718856e-04   2.66005718e-04   9.40946059e-05   2.51701271e-05\n",
        "   5.30068334e-06   8.96112445e-07   1.22956150e-07   1.37870312e-08\n",
        "   1.26915378e-09   9.62239704e-11   6.02291786e-12   3.11791989e-13\n",
        "   1.33679148e-14   4.75209308e-16   1.40190532e-17   3.43467282e-19\n",
        "   6.99281311e-21   1.18370435e-22   1.66667457e-24   1.95271601e-26\n",
        "   1.90436636e-28   1.54635525e-30   1.04574179e-32   5.89104558e-35\n",
        "   2.76502164e-37   1.08148180e-39   3.52551687e-42   9.58011723e-45\n",
        "   2.17029560e-47]"
       ]
      },
      {
       "output_type": "stream",
       "stream": "stdout",
       "text": [
        "\n",
        "testing\n",
        "{'s_1': -30, 's_2': 3}"
       ]
      },
      {
       "output_type": "stream",
       "stream": "stdout",
       "text": [
        "\n",
        "[  3.51729394e-26   2.91083105e-24   2.00430960e-22   1.14783751e-20\n",
        "   5.46466262e-19   2.16161008e-17   7.09971521e-16   1.93470434e-14\n",
        "   4.37001790e-13   8.17204246e-12   1.26328881e-10   1.61120560e-09\n",
        "   1.69100207e-08   1.45519162e-07   1.02147065e-06   5.80254853e-06\n",
        "   2.63275298e-05   9.31247700e-05   2.43317488e-04   3.95906170e-04\n",
        "  -0.00000000e+00  -2.38953886e-03  -8.83646639e-03  -2.02179160e-02\n",
        "  -3.38087559e-02  -4.33676031e-02  -4.33676031e-02  -3.38087559e-02\n",
        "  -2.02179160e-02  -8.83646639e-03  -2.38953886e-03   0.00000000e+00\n",
        "   3.95906170e-04   2.43317488e-04   9.31247700e-05   2.63275298e-05\n",
        "   5.80254853e-06   1.02147065e-06   1.45519162e-07   1.69100207e-08\n",
        "   1.61120560e-09   1.26328881e-10   8.17204246e-12   4.37001790e-13\n",
        "   1.93470434e-14   7.09971521e-16   2.16161008e-17   5.46466262e-19\n",
        "   1.14783751e-20   2.00430960e-22   2.91083105e-24   3.51729394e-26\n",
        "   3.53743177e-28   2.96199443e-30   2.06542857e-32   1.19968028e-34\n",
        "   5.80548543e-37   2.34103493e-39   7.86763069e-42   2.20399204e-44\n",
        "   5.14710636e-47]"
       ]
      },
      {
       "output_type": "stream",
       "stream": "stdout",
       "text": [
        "\n",
        "testing\n",
        "{'s_1': -30, 's_2': 4}"
       ]
      },
      {
       "output_type": "stream",
       "stream": "stdout",
       "text": [
        "\n",
        "[  1.39568763e-26   1.19063700e-24   8.45124234e-23   4.98931834e-21\n",
        "   2.44873724e-19   9.98593366e-18   3.38143407e-16   9.50039080e-15\n",
        "   2.21257245e-13   4.26634185e-12   6.80087949e-11   8.94502143e-10\n",
        "   9.68228697e-09   8.59406475e-08   6.22296562e-07   3.64704230e-06\n",
        "   1.70746355e-05   6.23317361e-05   1.68121164e-04   2.82471091e-04\n",
        "  -0.00000000e+00  -1.82009778e-03  -6.96052367e-03  -1.64840152e-02\n",
        "  -2.85666466e-02  -3.80453897e-02  -3.96167184e-02  -3.23224659e-02\n",
        "  -2.04284728e-02  -9.66042600e-03  -3.07646889e-03  -3.54445137e-04\n",
        "   2.70619055e-04   2.14229007e-04   9.01213568e-05   2.70748099e-05\n",
        "   6.26077733e-06   1.14922177e-06   1.70122303e-07   2.04983988e-08\n",
        "   2.02231398e-09   1.64019796e-10   1.09676191e-11   6.05931179e-13\n",
        "   2.77036487e-14   1.04956105e-15   3.29821197e-17   8.60418727e-19\n",
        "   1.86465699e-20   3.35887982e-22   5.03160514e-24   6.27068004e-26\n",
        "   6.50389113e-28   5.61586351e-30   4.03795731e-32   2.41830974e-34\n",
        "   1.20658629e-36   5.01628542e-39   1.73802489e-41   5.01931810e-44\n",
        "   1.20838985e-46]"
       ]
      },
      {
       "output_type": "stream",
       "stream": "stdout",
       "text": [
        "\n",
        "testing\n",
        "{'s_1': -30, 's_2': 5}"
       ]
      },
      {
       "output_type": "stream",
       "stream": "stdout",
       "text": [
        "\n",
        "[  5.48246281e-27   4.82110243e-25   3.52758326e-23   2.14683644e-21\n",
        "   1.08620920e-19   4.56654203e-18   1.59419990e-16   4.61789322e-15\n",
        "   1.10886889e-13   2.20465677e-12   3.62391933e-11   4.91532381e-10\n",
        "   5.48705984e-09   5.02331626e-08   3.75202155e-07   2.26850090e-06\n",
        "   1.09583340e-05   4.12833893e-05   1.14936241e-04   1.99386362e-04\n",
        "  -0.00000000e+00  -1.37113508e-03  -5.42135634e-03  -1.32846847e-02\n",
        "  -2.38477911e-02  -3.29527002e-02  -3.56901890e-02  -3.04130107e-02\n",
        "  -2.02314806e-02  -1.02427398e-02  -3.67637064e-03  -6.98336273e-04\n",
        "   1.37354469e-04   1.79271608e-04   8.49978344e-05   2.73384352e-05\n",
        "   6.65385496e-06   1.27565576e-06   1.96413929e-07   2.45544969e-08\n",
        "   2.50934478e-09   2.10586355e-10   1.45588421e-11   8.31123897e-13\n",
        "   3.92478191e-14   1.53522878e-15   4.97980621e-17   1.34065417e-18\n",
        "   2.99778718e-20   5.57091513e-22   8.60824565e-24   1.10650376e-25\n",
        "   1.18359335e-27   1.05390897e-29   7.81405364e-32   4.82535452e-34\n",
        "   2.48230973e-36   1.06399695e-38   3.80064415e-41   1.13154916e-43\n",
        "   2.80833766e-46]"
       ]
      },
      {
       "output_type": "stream",
       "stream": "stdout",
       "text": [
        "\n",
        "testing\n",
        "{'s_1': -30, 's_2': 6}"
       ]
      },
      {
       "output_type": "stream",
       "stream": "stdout",
       "text": [
        "\n",
        "[  2.13192583e-27   1.93249814e-25   1.45759280e-23   9.14439616e-22\n",
        "   4.76956508e-20   2.06716638e-18   7.43992285e-17   2.22189760e-15\n",
        "   5.50090053e-14   1.12768926e-12   1.91137638e-11   2.67341846e-10\n",
        "   3.07775268e-09   2.90603585e-08   2.23890500e-07   1.39643400e-06\n",
        "   6.95982041e-06   2.70566571e-05   7.77481766e-05   1.39242908e-04\n",
        "  -0.00000000e+00  -1.02164143e-03  -4.17555625e-03  -1.05840926e-02\n",
        "  -1.96730802e-02  -2.81870702e-02  -3.17227550e-02  -2.81870702e-02\n",
        "  -1.96730802e-02  -1.05840926e-02  -4.17555625e-03  -1.02164143e-03\n",
        "   0.00000000e+00   1.39242908e-04   7.77481766e-05   2.70566571e-05\n",
        "   6.95982041e-06   1.39643400e-06   2.23890500e-07   2.90603585e-08\n",
        "   3.07775268e-09   2.67341846e-10   1.91137638e-11   1.12768926e-12\n",
        "   5.50090053e-14   2.22189760e-15   7.43992285e-17   2.06716638e-18\n",
        "   4.76956508e-20   9.14439616e-22   1.45759280e-23   1.93249814e-25\n",
        "   2.13192583e-27   1.95767536e-29   1.49675718e-31   9.53048368e-34\n",
        "   5.05509248e-36   2.23398570e-38   8.22708320e-41   2.52519312e-43\n",
        "   6.46083310e-46]"
       ]
      },
      {
       "output_type": "stream",
       "stream": "stdout",
       "text": [
        "\n",
        "testing\n",
        "{'s_1': -30, 's_2': 7}"
       ]
      },
      {
       "output_type": "stream",
       "stream": "stdout",
       "text": [
        "\n",
        "[  8.20688632e-28   7.66829212e-26   5.96209088e-24   3.85576699e-22\n",
        "   2.07319227e-20   9.26305545e-19   3.43700174e-17   1.05823966e-15\n",
        "   2.70122435e-14   5.70957429e-13   9.97863762e-12   1.43922724e-10\n",
        "   1.70869340e-09   1.66392895e-08   1.32225161e-07   8.50730345e-07\n",
        "   4.37441571e-06   1.75475087e-05   5.20396327e-05   9.62104283e-05\n",
        "  -0.00000000e+00  -7.52965059e-04  -3.18049678e-03  -8.33713656e-03\n",
        "  -1.60398012e-02  -2.38166136e-02  -2.78296352e-02  -2.57491571e-02\n",
        "  -1.88082183e-02  -1.06943193e-02  -4.56490755e-03  -1.31533667e-03\n",
        "  -1.37354469e-04   9.51785725e-05   6.84534219e-05   2.61840394e-05\n",
        "   7.15736785e-06   1.50671076e-06   2.51891561e-07   3.39736367e-08\n",
        "   3.73086484e-09   3.35555656e-10   2.48164600e-11   1.51346084e-12\n",
        "   7.62735354e-14   3.18160606e-15   1.09985443e-16   3.15410858e-18\n",
        "   7.50974652e-20   1.48550314e-21   2.44267604e-23   3.34047817e-25\n",
        "   3.80082671e-27   3.59936480e-29   2.83781224e-31   1.86323007e-33\n",
        "   1.01900312e-35   4.64301659e-38   1.76286979e-40   5.57836109e-43\n",
        "   1.47137449e-45]"
       ]
      },
      {
       "output_type": "stream",
       "stream": "stdout",
       "text": [
        "\n",
        "testing\n",
        "{'s_1': -30, 's_2': 8}"
       ]
      },
      {
       "output_type": "stream",
       "stream": "stdout",
       "text": [
        "\n",
        "[  3.12748791e-28   3.01221603e-26   2.41415736e-24   1.60941298e-22\n",
        "   8.92066694e-21   4.10889985e-19   1.57173214e-17   4.98914229e-16\n",
        "   1.31299500e-14   2.86145175e-13   5.15651857e-12   7.66907196e-11\n",
        "   9.38933620e-10   9.42967066e-09   7.72869206e-08   5.12932062e-07\n",
        "   2.72093526e-06   1.12618194e-05   3.44667508e-05   6.57743777e-05\n",
        "  -0.00000000e+00  -5.48949450e-04  -2.39596508e-03  -6.49356145e-03\n",
        "  -1.29266868e-02  -1.98824046e-02  -2.41044088e-02  -2.31970824e-02\n",
        "  -1.76971196e-02  -1.05911937e-02  -4.84007228e-03  -1.57182318e-03\n",
        "  -2.70619055e-04   4.83085062e-05   5.72833491e-05   2.46954410e-05\n",
        "   7.22705856e-06   1.60130833e-06   2.79603928e-07   3.92241072e-08\n",
        "   4.46910563e-09   4.16367015e-10   3.18620556e-11   2.00902650e-12\n",
        "   1.04620393e-13   4.50738821e-15   1.60879463e-16   4.76223167e-18\n",
        "   1.17012481e-19   2.38822598e-21   4.05133307e-23   5.71500662e-25\n",
        "   6.70681495e-27   6.55020839e-29   5.32562051e-31   3.60562992e-33\n",
        "   2.03325951e-35   9.55207711e-38   3.73919729e-40   1.21985396e-42\n",
        "   3.31704932e-45]"
       ]
      },
      {
       "output_type": "stream",
       "stream": "stdout",
       "text": [
        "\n",
        "testing\n",
        "{'s_1': -30, 's_2': 9}"
       ]
      },
      {
       "output_type": "stream",
       "stream": "stdout",
       "text": [
        "\n",
        "[  1.17984429e-28   1.17133876e-26   9.67694563e-25   6.65007342e-23\n",
        "   3.79973579e-21   1.80422567e-19   7.11486246e-18   2.32836758e-16\n",
        "   6.31747056e-15   1.41951511e-13   2.63757637e-12   4.04492530e-11\n",
        "   5.10680998e-10   5.28920679e-09   4.47112128e-08   3.06076643e-07\n",
        "   1.67494159e-06   7.15256904e-06   2.25891109e-05   4.44928240e-05\n",
        "  -0.00000000e+00  -3.95906170e-04  -1.78524875e-03  -5.00137408e-03\n",
        "  -1.02988707e-02  -1.64018603e-02  -2.06184216e-02  -2.06184216e-02\n",
        "  -1.64018603e-02  -1.02988707e-02  -5.00137408e-03  -1.78524875e-03\n",
        "  -3.95906170e-04   0.00000000e+00   4.44928240e-05   2.25891109e-05\n",
        "   7.15256904e-06   1.67494159e-06   3.06076643e-07   4.47112128e-08\n",
        "   5.28920679e-09   5.10680998e-10   4.04492530e-11   2.63757637e-12\n",
        "   1.41951511e-13   6.31747056e-15   2.32836758e-16   7.11486246e-18\n",
        "   1.80422567e-19   3.79973579e-21   6.65007342e-23   9.67694563e-25\n",
        "   1.17133876e-26   1.17984429e-28   9.89253938e-31   6.90646973e-33\n",
        "   4.01585967e-35   1.94522998e-37   7.85088084e-40   2.64056292e-42\n",
        "   7.40240935e-45]"
       ]
      },
      {
       "output_type": "stream",
       "stream": "stdout",
       "text": [
        "\n",
        "testing\n",
        "{'s_1': -30, 's_2': 10}"
       ]
      },
      {
       "output_type": "stream",
       "stream": "stdout",
       "text": [
        "\n",
        "[  4.40622317e-29   4.50908933e-27   3.83988188e-25   2.72012472e-23\n",
        "   1.60217204e-21   7.84244822e-20   3.18819840e-18   1.07562990e-16\n",
        "   3.00886860e-15   6.97054739e-14   1.33542446e-12   2.11171616e-11\n",
        "   2.74923666e-10   2.93643891e-09   2.56006069e-08   1.80762620e-07\n",
        "   1.02040171e-06   4.49556289e-06   1.46500958e-05   2.97806369e-05\n",
        "  -0.00000000e+00  -2.82471091e-04  -1.31575511e-03  -3.80951740e-03\n",
        "  -8.11246601e-03  -1.33727193e-02  -1.74214977e-02  -1.80880617e-02\n",
        "  -1.49832556e-02  -9.84611494e-03  -5.05346025e-03  -1.95171494e-03\n",
        "  -5.09718856e-04  -4.83085062e-05   3.04127768e-05   1.98885942e-05\n",
        "   6.92188799e-06   1.72248311e-06   3.30247597e-07   5.03030596e-08\n",
        "   6.18346087e-09   6.19049670e-10   5.07701127e-11   3.42451174e-12\n",
        "   1.90511749e-13   8.75958056e-15   3.33406382e-16   1.05180029e-17\n",
        "   2.75291033e-19   5.98273682e-21   1.08030151e-22   1.62169045e-24\n",
        "   2.02475307e-26   2.10344263e-28   1.81883364e-30   1.30944849e-32\n",
        "   7.85109208e-35   3.92118527e-37   1.63169218e-39   5.65810322e-42\n",
        "   1.63525364e-44]"
       ]
      },
      {
       "output_type": "stream",
       "stream": "stdout",
       "text": [
        "\n",
        "testing\n",
        "{'s_1': -30, 's_2': 11}"
       ]
      },
      {
       "output_type": "stream",
       "stream": "stdout",
       "text": [
        "\n",
        "[  1.62900309e-29   1.71832797e-27   1.50836113e-25   1.10142721e-23\n",
        "   6.68753188e-22   3.37449978e-20   1.41421888e-18   4.91882812e-17\n",
        "   1.41855140e-15   3.38820204e-14   6.69271031e-13   1.09124151e-11\n",
        "   1.46495933e-10   1.61358452e-09   1.45081490e-08   1.05657548e-07\n",
        "   6.15232259e-07   2.79629015e-06   9.40228817e-06   1.97242321e-05\n",
        "  -0.00000000e+00  -1.99386362e-04  -9.59251739e-04  -2.86982546e-03\n",
        "  -6.31857186e-03  -1.07772504e-02  -1.45436825e-02  -1.56668254e-02\n",
        "  -1.34982211e-02  -9.26445401e-03  -5.00472961e-03  -2.06936094e-03\n",
        "  -6.09112428e-04  -9.51785725e-05   1.54362035e-05   1.66432189e-05\n",
        "   6.52836919e-06   1.73925478e-06   3.50981914e-07   5.58372539e-08\n",
        "   7.13908653e-09   7.41543444e-10   6.29970019e-11   4.39675858e-12\n",
        "   2.52892670e-13   1.20150555e-14   4.72337544e-16   1.53850420e-17\n",
        "   4.15648238e-19   9.32195081e-21   1.73678806e-22   2.68967642e-24\n",
        "   3.46401821e-26   3.71166632e-28   3.30995608e-30   2.45739504e-32\n",
        "   1.51930419e-34   7.82410488e-37   3.35687999e-39   1.20013199e-41\n",
        "   3.57590804e-44]"
       ]
      },
      {
       "output_type": "stream",
       "stream": "stdout",
       "text": [
        "\n",
        "testing\n",
        "{'s_1': -30, 's_2': 12}"
       ]
      },
      {
       "output_type": "stream",
       "stream": "stdout",
       "text": [
        "\n",
        "[  5.96199775e-30   6.48238939e-28   5.86545530e-26   4.41497782e-24\n",
        "   2.76327945e-22   1.43735975e-20   6.20986177e-19   2.22663802e-17\n",
        "   6.62019421e-16   1.63023215e-14   3.32013406e-13   5.58173656e-12\n",
        "   7.72668598e-11   8.77620031e-10   8.13778158e-09   6.11238882e-08\n",
        "   3.67121181e-07   1.72132823e-06   5.97154980e-06   1.29270342e-05\n",
        "  -0.00000000e+00  -1.39242908e-04  -6.91819040e-04  -2.13832512e-03\n",
        "  -4.86659621e-03  -8.58638491e-03  -1.19977163e-02  -1.34010841e-02\n",
        "  -1.19977163e-02  -8.58638491e-03  -4.86659621e-03  -2.13832512e-03\n",
        "  -6.91819040e-04  -1.39242908e-04   0.00000000e+00   1.29270342e-05\n",
        "   5.97154980e-06   1.72132823e-06   3.67121181e-07   6.11238882e-08\n",
        "   8.13778158e-09   8.77620031e-10   7.72668598e-11   5.58173656e-12\n",
        "   3.32013406e-13   1.63023215e-14   6.62019421e-16   2.22663802e-17\n",
        "   6.20986177e-19   1.43735975e-20   2.76327945e-22   4.41497782e-24\n",
        "   5.86545530e-26   6.48238939e-28   5.96199775e-30   4.56470324e-32\n",
        "   2.91017898e-34   1.54532695e-36   6.83610857e-39   2.51981709e-41\n",
        "   7.74060704e-44]"
       ]
      },
      {
       "output_type": "stream",
       "stream": "stdout",
       "text": [
        "\n",
        "testing\n",
        "{'s_1': -30, 's_2': 13}"
       ]
      },
      {
       "output_type": "stream",
       "stream": "stdout",
       "text": [
        "\n",
        "[  2.16011572e-30   2.42090034e-28   2.25791743e-26   1.75189507e-24\n",
        "   1.13028297e-22   6.06067821e-21   2.69924767e-19   9.97765428e-18\n",
        "   3.05831384e-16   7.76442769e-15   1.63035614e-13   2.82607459e-12\n",
        "   4.03383657e-11   4.72464253e-10   4.51789832e-09   3.49981255e-08\n",
        "   2.16814278e-07   1.04866120e-06   3.75326369e-06   8.38378678e-06\n",
        "  -0.00000000e+00  -9.62104283e-05  -4.93598973e-04  -1.57597769e-03\n",
        "  -3.70685788e-03  -6.76353338e-03  -9.78194476e-03  -1.13232216e-02\n",
        "  -1.05253175e-02  -7.84374438e-03  -4.65265243e-03  -2.16059444e-03\n",
        "  -7.56327965e-04  -1.79271608e-04  -1.54362035e-05   8.83618905e-06\n",
        "   5.25765408e-06   1.66581282e-06   3.77541543e-07   6.59508579e-08\n",
        "   9.15554033e-09   1.02600056e-09   9.36632147e-11   7.00594876e-12\n",
        "   4.31071426e-13   2.18791880e-14   9.17932644e-16   3.18839402e-17\n",
        "   9.18012743e-19   2.19314166e-20   4.35082190e-22   7.17211208e-24\n",
        "   9.82949909e-26   1.12053304e-27   1.06291316e-29   8.39262349e-32\n",
        "   5.51762278e-34   3.02114744e-36   1.37801948e-38   5.23707582e-41\n",
        "   1.65862943e-43]"
       ]
      },
      {
       "output_type": "stream",
       "stream": "stdout",
       "text": [
        "\n",
        "testing\n",
        "{'s_1': -30, 's_2': 14}"
       ]
      },
      {
       "output_type": "stream",
       "stream": "stdout",
       "text": [
        "\n",
        "[  7.74779895e-31   8.95019155e-29   8.60449283e-27   6.88169716e-25\n",
        "   4.57671815e-23   2.52975198e-21   1.16144990e-19   4.42588112e-18\n",
        "   1.39855913e-16   3.66059181e-15   7.92473777e-14   1.41633608e-12\n",
        "   2.08450832e-11   2.51757488e-10   2.48260257e-09   1.98338274e-08\n",
        "   1.26730100e-07   6.32270798e-07   2.33457179e-06   5.38063233e-06\n",
        "  -0.00000000e+00  -6.57743777e-05  -3.48414074e-04  -1.14896711e-03\n",
        "  -2.79248892e-03  -5.26792614e-03  -7.88339799e-03  -9.45276589e-03\n",
        "  -9.11641683e-03  -7.06632782e-03  -4.37779618e-03  -2.13975977e-03\n",
        "  -8.01918106e-04  -2.14229007e-04  -3.04127768e-05   4.48486547e-06\n",
        "   4.39972211e-06   1.57110908e-06   3.81217634e-07   7.00915269e-08\n",
        "   1.01628059e-08   1.18456426e-09   1.12196721e-10   8.69318077e-12\n",
        "   5.53456123e-13   2.90432810e-14   1.25907988e-15   4.51700472e-17\n",
        "   1.34280859e-18   3.31131552e-20   6.77919637e-22   1.15305205e-23\n",
        "   1.63028474e-25   1.91704703e-27   1.87558193e-29   1.52730929e-31\n",
        "   1.03547249e-33   5.84637389e-36   2.74961988e-38   1.07742351e-40\n",
        "   3.51809459e-43]"
       ]
      },
      {
       "output_type": "stream",
       "stream": "stdout",
       "text": [
        "\n",
        "testing\n",
        "{'s_1': -30, 's_2': 15}"
       ]
      },
      {
       "output_type": "stream",
       "stream": "stdout",
       "text": [
        "\n",
        "[  2.75103787e-31   3.27568573e-29   3.24604347e-27   2.67603602e-25\n",
        "   1.83453877e-23   1.04529022e-21   4.94716680e-20   1.94341274e-18\n",
        "   6.33094888e-17   1.70835042e-15   3.81298463e-14   7.02619036e-13\n",
        "   1.06623293e-11   1.32785328e-10   1.35027432e-09   1.11250136e-08\n",
        "   7.33145587e-08   3.77288412e-07   1.43710563e-06   3.41732920e-06\n",
        "  -0.00000000e+00  -4.44928240e-05  -2.43317488e-04  -8.28643086e-04\n",
        "  -2.08070118e-03  -4.05738353e-03  -6.28081253e-03  -7.79799773e-03\n",
        "  -7.79799773e-03  -6.28081253e-03  -4.05738353e-03  -2.08070118e-03\n",
        "  -8.28643086e-04  -2.43317488e-04  -4.44928240e-05   0.00000000e+00\n",
        "   3.41732920e-06   1.43710563e-06   3.77288412e-07   7.33145587e-08\n",
        "   1.11250136e-08   1.35027432e-09   1.32785328e-10   1.06623293e-11\n",
        "   7.02619036e-13   3.81298463e-14   1.70835042e-15   6.33094888e-17\n",
        "   1.94341274e-18   4.94716680e-20   1.04529022e-21   1.83453877e-23\n",
        "   2.67603602e-25   3.24604347e-27   3.27568573e-29   2.75103787e-31\n",
        "   1.92342889e-33   1.11985437e-35   5.43073204e-38   2.19411599e-40\n",
        "   7.38664993e-43]"
       ]
      },
      {
       "output_type": "stream",
       "stream": "stdout",
       "text": [
        "\n",
        "testing\n",
        "{'s_1': -30, 's_2': 16}"
       ]
      },
      {
       "output_type": "stream",
       "stream": "stdout",
       "text": [
        "\n",
        "[  9.67013321e-32   1.18682706e-29   1.21226098e-27   1.03014481e-25\n",
        "   7.27958225e-24   4.27562160e-22   2.08599038e-20   8.44745424e-19\n",
        "   2.83692358e-17   7.89202183e-16   1.81603849e-14   3.45021990e-13\n",
        "   5.39841635e-12   6.93226454e-11   7.26916351e-10   6.17633686e-09\n",
        "   4.19782216e-08   2.22818837e-07   8.75508165e-07   2.14787418e-06\n",
        "  -0.00000000e+00  -2.97806369e-05  -1.68121164e-04  -5.91220179e-04\n",
        "  -1.53350798e-03  -3.09048531e-03  -4.94742382e-03  -6.35784189e-03\n",
        "  -6.58890396e-03  -5.51001077e-03  -3.70645849e-03  -1.98923004e-03\n",
        "  -8.37272883e-04  -2.66005718e-04  -5.72833491e-05  -4.48486547e-06\n",
        "   2.33589287e-06   1.26530039e-06   3.65120296e-07   7.53955180e-08\n",
        "   1.20035589e-08   1.51914756e-09   1.55235541e-10   1.29249208e-11\n",
        "   8.81896326e-13   4.95060949e-14   2.29276056e-15   8.77826913e-17\n",
        "   2.78283470e-18   7.31346740e-20   1.59491702e-21   2.88850679e-23\n",
        "   4.34720876e-25   5.43981323e-27   5.66228575e-29   4.90458818e-31\n",
        "   3.53639955e-33   2.12321443e-35   1.06171980e-37   4.42288848e-40\n",
        "   1.53520849e-42]"
       ]
      },
      {
       "output_type": "stream",
       "stream": "stdout",
       "text": [
        "\n",
        "testing\n",
        "{'s_1': -30, 's_2': 17}"
       ]
      },
      {
       "output_type": "stream",
       "stream": "stdout",
       "text": [
        "\n",
        "[  3.36501300e-32   4.25685408e-30   4.48179045e-28   3.92568549e-26\n",
        "   2.85952517e-24   1.73127575e-22   8.70700952e-21   3.63482571e-19\n",
        "   1.25840064e-17   3.60900148e-16   8.56183598e-15   1.67706228e-13\n",
        "   2.70550957e-12   3.58228770e-11   3.87344933e-10   3.39392095e-09\n",
        "   2.37895256e-08   1.30239825e-07   5.27871389e-07   1.33600164e-06\n",
        "  -0.00000000e+00  -1.97242321e-05  -1.14936241e-04  -4.17321433e-04\n",
        "  -1.11800455e-03  -2.32815669e-03  -3.85340942e-03  -5.12386844e-03\n",
        "  -5.50049880e-03  -4.77245034e-03  -3.33910049e-03  -1.87171594e-03\n",
        "  -8.29199039e-04  -2.82040083e-04  -6.84534219e-05  -8.83618905e-06\n",
        "   1.18559768e-06   1.05883157e-06   3.44362708e-07   7.61296380e-08\n",
        "   1.27571922e-08   1.68627970e-09   1.79226486e-10   1.54824253e-11\n",
        "   1.09428208e-12   6.35612795e-14   3.04349912e-15   1.20406896e-16\n",
        "   3.94244795e-18   1.06976585e-19   2.40808588e-21   4.50070244e-23\n",
        "   6.98895655e-25   9.02227512e-27   9.68723605e-29   8.65447646e-31\n",
        "   6.43562276e-33   3.98456040e-35   2.05458722e-37   8.82517427e-40\n",
        "   3.15838412e-42]"
       ]
      },
      {
       "output_type": "stream",
       "stream": "stdout",
       "text": [
        "\n",
        "testing\n",
        "{'s_1': -30, 's_2': 18}"
       ]
      },
      {
       "output_type": "stream",
       "stream": "stdout",
       "text": [
        "\n",
        "[  1.15920476e-32   1.51149596e-30   1.64029305e-28   1.48096419e-26\n",
        "   1.11196296e-24   6.93967244e-23   3.59772498e-21   1.54824493e-19\n",
        "   5.52566092e-18   1.63371025e-16   3.99569710e-15   8.06917894e-14\n",
        "   1.34215498e-12   1.83235206e-11   2.04298686e-10   1.84593554e-09\n",
        "   1.33438086e-08   7.53449675e-08   3.14991233e-07   8.22410129e-07\n",
        "  -0.00000000e+00  -1.29270342e-05  -7.77481766e-05  -2.91439441e-04\n",
        "  -8.06312673e-04  -1.73472430e-03  -2.96791555e-03  -4.08225706e-03\n",
        "  -4.53760070e-03  -4.08225706e-03  -2.96791555e-03  -1.73472430e-03\n",
        "  -8.06312673e-04  -2.91439441e-04  -7.77481766e-05  -1.29270342e-05\n",
        "   0.00000000e+00   8.22410129e-07   3.14991233e-07   7.53449675e-08\n",
        "   1.33438086e-08   1.84593554e-09   2.04298686e-10   1.83235206e-11\n",
        "   1.34215498e-12   8.06917894e-14   3.99569710e-15   1.63371025e-16\n",
        "   5.52566092e-18   1.54824493e-19   3.59772498e-21   6.93967244e-23\n",
        "   1.11196296e-24   1.48096419e-26   1.64029305e-28   1.51149596e-30\n",
        "   1.15920476e-32   7.40147005e-35   3.93549664e-37   1.74304663e-39\n",
        "   6.43188222e-42]"
       ]
      },
      {
       "output_type": "stream",
       "stream": "stdout",
       "text": [
        "\n",
        "testing\n",
        "{'s_1': -30, 's_2': 19}"
       ]
      },
      {
       "output_type": "stream",
       "stream": "stdout",
       "text": [
        "\n",
        "[  3.95324186e-33   5.31303746e-31   5.94301265e-29   5.53077960e-27\n",
        "   4.28052115e-25   2.75371212e-23   1.47160189e-21   6.52822950e-20\n",
        "   2.40184531e-18   7.32072116e-17   1.84588176e-15   3.84316775e-14\n",
        "   6.59066948e-13   9.27733426e-12   1.06657306e-10   9.93754161e-10\n",
        "   7.40815784e-09   4.31407867e-08   1.86027394e-07   5.01025650e-07\n",
        "  -0.00000000e+00  -8.38378678e-06  -5.20396327e-05  -2.01371214e-04\n",
        "  -5.75287878e-04  -1.27851782e-03  -2.26064392e-03  -3.21561194e-03\n",
        "  -3.69958402e-03  -3.44929565e-03  -2.60368329e-03  -1.58468716e-03\n",
        "  -7.70865806e-04  -2.94474600e-04  -8.49978344e-05  -1.66432189e-05\n",
        "  -1.18559768e-06   5.62153027e-07   2.77334192e-07   7.29149796e-08\n",
        "   1.37225591e-08   1.99170956e-09   2.29849479e-10   2.14215055e-11\n",
        "   1.62696596e-12   1.01280764e-13   5.18783522e-15   2.19258672e-16\n",
        "   7.66168541e-18   2.21698131e-19   5.31856826e-21   1.05886399e-22\n",
        "   1.75080114e-24   2.40581982e-26   2.74885039e-28   2.61274210e-30\n",
        "   2.06664620e-32   1.36082781e-34   7.46159809e-37   3.40769367e-39\n",
        "   1.29653573e-41]"
       ]
      },
      {
       "output_type": "stream",
       "stream": "stdout",
       "text": [
        "\n",
        "testing\n",
        "{'s_1': -30, 's_2': 20}"
       ]
      },
      {
       "output_type": "stream",
       "stream": "stdout",
       "text": [
        "\n",
        "[  1.33464915e-33   1.84883080e-31   2.13161114e-29   2.04475732e-27\n",
        "   1.63122500e-25   1.08169794e-23   5.95877959e-22   2.72490981e-20\n",
        "   1.03348167e-18   3.24732053e-17   8.44117027e-16   1.81188736e-14\n",
        "   3.20355325e-13   4.64949626e-12   5.51157783e-11   5.29532234e-10\n",
        "   4.07081133e-09   2.44483642e-08   1.08734861e-07   3.02084111e-07\n",
        "  -0.00000000e+00  -5.38063233e-06  -3.44667508e-05  -1.37667679e-04\n",
        "  -4.06075385e-04  -9.32103885e-04  -1.70301191e-03  -2.50454980e-03\n",
        "  -2.98154344e-03  -2.87951482e-03  -2.25515879e-03  -1.42762416e-03\n",
        "  -7.25326776e-04  -2.91634974e-04  -9.01213568e-05  -1.98885942e-05\n",
        "  -2.33589287e-06   2.85324441e-07   2.32079433e-07   6.87696633e-08\n",
        "   1.38561745e-08   2.11675737e-09   2.55136841e-10   2.47321014e-11\n",
        "   1.94890006e-12   1.25672056e-13   6.66070400e-15   2.91052448e-16\n",
        "   1.05091305e-17   3.14080222e-19   7.77965140e-21   1.59872607e-22\n",
        "   2.72799600e-24   3.86780831e-26   4.55914264e-28   4.46997036e-30\n",
        "   3.64673653e-32   2.47646634e-34   1.40029136e-36   6.59439888e-39\n",
        "   2.58703194e-41]"
       ]
      },
      {
       "output_type": "stream",
       "stream": "stdout",
       "text": [
        "\n",
        "testing\n",
        "{'s_1': -30, 's_2': 21}"
       ]
      },
      {
       "output_type": "stream",
       "stream": "stdout",
       "text": [
        "\n",
        "[  4.46068962e-34   6.36899014e-32   7.56878566e-30   7.48361903e-28\n",
        "   6.15379357e-26   4.20632088e-24   2.38852641e-22   1.12592918e-20\n",
        "   4.40208933e-19   1.42590456e-17   3.82111963e-16   8.45584181e-15\n",
        "   1.54138846e-13   2.30653206e-12   2.81919036e-11   2.79293028e-10\n",
        "   2.21409262e-09   1.37133585e-08   6.29041429e-08   1.80259526e-07\n",
        "  -0.00000000e+00  -3.41732920e-06  -2.25891109e-05  -9.31247700e-05\n",
        "  -2.83585682e-04  -6.72239819e-04  -1.26892496e-03  -1.92901701e-03\n",
        "  -2.37543702e-03  -2.37543702e-03  -1.92901701e-03  -1.26892496e-03\n",
        "  -6.72239819e-04  -2.83585682e-04  -9.31247700e-05  -2.25891109e-05\n",
        "  -3.41732920e-06   0.00000000e+00   1.80259526e-07   6.29041429e-08\n",
        "   1.37133585e-08   2.21409262e-09   2.79293028e-10   2.81919036e-11\n",
        "   2.30653206e-12   1.54138846e-13   8.45584181e-15   3.82111963e-16\n",
        "   1.42590456e-17   4.40208933e-19   1.12592918e-20   2.38852641e-22\n",
        "   4.20632088e-24   6.15379357e-26   7.48361903e-28   7.56878566e-30\n",
        "   6.36899014e-32   4.46068962e-34   2.60109361e-36   1.26313618e-38\n",
        "   5.10960710e-41]"
       ]
      },
      {
       "output_type": "stream",
       "stream": "stdout",
       "text": [
        "\n",
        "testing\n",
        "{'s_1': -30, 's_2': 22}"
       ]
      },
      {
       "output_type": "stream",
       "stream": "stdout",
       "text": [
        "\n",
        "[  1.47590601e-34   2.17201993e-32   2.66049284e-30   2.71142053e-28\n",
        "   2.29818359e-26   1.61923069e-24   9.47784521e-23   4.60546462e-21\n",
        "   1.85615654e-19   6.19799557e-18   1.71225903e-16   3.90632317e-15\n",
        "   7.34128522e-14   1.13262557e-12   1.42737697e-11   1.45809269e-10\n",
        "   1.19195048e-09   7.61332294e-09   3.60174582e-08   1.06457598e-07\n",
        "  -0.00000000e+00  -2.14787418e-06  -1.46500958e-05  -6.23317361e-05\n",
        "  -1.95944629e-04  -4.79629593e-04  -9.35216725e-04  -1.46932098e-03\n",
        "  -1.87114225e-03  -1.93673472e-03  -1.62991940e-03  -1.11319835e-03\n",
        "  -6.14097476e-04  -2.71118776e-04  -9.40946059e-05  -2.46954410e-05\n",
        "  -4.39972211e-06  -2.85324441e-07   1.23215212e-07   5.53839849e-08\n",
        "   1.32710822e-08   2.27693739e-09   3.01348873e-10   3.17177486e-11\n",
        "   2.69650088e-12   1.86847762e-13   1.06133985e-14   4.96117161e-16\n",
        "   1.91369272e-17   6.10378091e-19   1.61225391e-20   3.53099273e-22\n",
        "   6.41805755e-24   9.68923352e-26   1.21571063e-27   1.26839892e-29\n",
        "   1.10093107e-31   7.95257885e-34   4.78234798e-36   2.39487297e-38\n",
        "   9.98939184e-41]"
       ]
      },
      {
       "output_type": "stream",
       "stream": "stdout",
       "text": [
        "\n",
        "testing\n",
        "{'s_1': -30, 's_2': 23}"
       ]
      },
      {
       "output_type": "stream",
       "stream": "stdout",
       "text": [
        "\n",
        "[  4.83434712e-35   7.33292994e-33   9.25798310e-31   9.72519248e-29\n",
        "   8.49650151e-27   6.17057944e-25   3.72303465e-23   1.86483510e-21\n",
        "   7.74767363e-20   2.66691396e-18   7.59522700e-17   1.78635164e-15\n",
        "   3.46109844e-14   5.50539870e-13   7.15354619e-12   7.53477810e-11\n",
        "   6.35143202e-10   4.18355035e-09   2.04114946e-08   6.22255240e-08\n",
        "  -0.00000000e+00  -1.33600164e-06  -9.40228817e-06  -4.12833893e-05\n",
        "  -1.33957787e-04  -3.38553582e-04  -6.81820093e-04  -1.10688423e-03\n",
        "  -1.45738013e-03  -1.56084000e-03  -1.36067694e-03  -9.64187566e-04\n",
        "  -5.53232470e-04  -2.55102388e-04  -9.31872493e-05  -2.61840394e-05\n",
        "  -5.25765408e-06  -5.62153027e-07   6.25386857e-08   4.63465529e-08\n",
        "   1.25166030e-08   2.29910774e-09   3.20268808e-10   3.52072418e-11\n",
        "   3.11323278e-12   2.23820058e-13   1.31694071e-14   6.36968874e-16\n",
        "   2.54030979e-17   8.37223491e-19   2.28408360e-20   5.16490364e-22\n",
        "   9.69030588e-24   1.50971973e-25   1.95448372e-27   2.10372003e-29\n",
        "   1.88351130e-31   1.40328615e-33   8.70302889e-36   4.49437226e-38\n",
        "   1.93309730e-40]"
       ]
      },
      {
       "output_type": "stream",
       "stream": "stdout",
       "text": [
        "\n",
        "testing\n",
        "{'s_1': -30, 's_2': 24}"
       ]
      },
      {
       "output_type": "stream",
       "stream": "stdout",
       "text": [
        "\n",
        "[  1.56761714e-35   2.45082571e-33   3.18925903e-31   3.45315785e-29\n",
        "   3.10963945e-27   2.32785005e-25   1.44774967e-23   7.47503378e-22\n",
        "   3.20132863e-20   1.13596534e-18   3.33507849e-17   8.08639453e-16\n",
        "   1.61524946e-14   2.64892054e-13   3.54874651e-12   3.85406402e-11\n",
        "   3.34995789e-10   2.27541077e-09   1.14490336e-08   3.59980527e-08\n",
        "  -0.00000000e+00  -8.22410129e-07  -5.97154980e-06  -2.70566571e-05\n",
        "  -9.06152280e-05  -2.36431342e-04  -4.91733404e-04  -8.24746454e-04\n",
        "  -1.12248159e-03  -1.24354288e-03  -1.12248159e-03  -8.24746454e-04\n",
        "  -4.91733404e-04  -2.36431342e-04  -9.06152280e-05  -2.70566571e-05\n",
        "  -5.97154980e-06  -8.22410129e-07   0.00000000e+00   3.59980527e-08\n",
        "   1.14490336e-08   2.27541077e-09   3.34995789e-10   3.85406402e-11\n",
        "   3.54874651e-12   2.64892054e-13   1.61524946e-14   8.08639453e-16\n",
        "   3.33507849e-17   1.13596534e-18   3.20132863e-20   7.47503378e-22\n",
        "   1.44774967e-23   2.32785005e-25   3.10963945e-27   3.45315785e-29\n",
        "   3.18925903e-31   2.45082571e-33   1.56761714e-35   8.34846465e-38\n",
        "   3.70278655e-40]"
       ]
      },
      {
       "output_type": "stream",
       "stream": "stdout",
       "text": [
        "\n",
        "testing\n",
        "{'s_1': -30, 's_2': 25}"
       ]
      },
      {
       "output_type": "stream",
       "stream": "stdout",
       "text": [
        "\n",
        "[  5.03229172e-36   8.10903404e-34   1.08763462e-31   1.21381450e-29\n",
        "   1.12666615e-27   8.69354283e-26   5.57313806e-24   2.96614736e-22\n",
        "   1.30946120e-20   4.78983803e-19   1.44966236e-17   3.62354582e-16\n",
        "   7.46192580e-15   1.26162105e-13   1.74261658e-12   1.95134118e-11\n",
        "   1.74889761e-10   1.22496093e-09   6.35622484e-09   2.06116529e-08\n",
        "  -0.00000000e+00  -5.01025650e-07  -3.75326369e-06  -1.75475087e-05\n",
        "  -6.06520100e-05  -1.63363155e-04  -3.50841895e-04  -6.07850506e-04\n",
        "  -8.54987668e-04  -9.79544225e-04  -9.15178582e-04  -6.96868011e-04\n",
        "  -4.31386279e-04  -2.15982283e-04  -8.66316296e-05  -2.73384352e-05\n",
        "  -6.52836919e-06  -1.05883157e-06  -6.25386857e-08   2.46062319e-08\n",
        "   1.00803075e-08   2.20202537e-09   3.44504304e-10   4.15842048e-11\n",
        "   3.99257359e-12   3.09677748e-13   1.95801224e-14   1.01496846e-15\n",
        "   4.33011743e-17   1.52456809e-18   4.43884872e-20   1.07037393e-21\n",
        "   2.14022904e-23   3.55186303e-25   4.89617055e-27   5.60963977e-29\n",
        "   5.34465222e-31   4.23644898e-33   2.79476940e-35   1.53494141e-37\n",
        "   7.02038588e-40]"
       ]
      },
      {
       "output_type": "stream",
       "stream": "stdout",
       "text": [
        "\n",
        "testing\n",
        "{'s_1': -30, 's_2': 26}"
       ]
      },
      {
       "output_type": "stream",
       "stream": "stdout",
       "text": [
        "\n",
        "[  1.59924806e-36   2.65612343e-34   3.67194994e-32   4.22383173e-30\n",
        "   4.04107185e-28   3.21404696e-26   2.12381666e-24   1.16514558e-22\n",
        "   5.30224291e-21   1.99929806e-19   6.23770175e-18   1.60733000e-16\n",
        "   3.41231966e-15   5.94799754e-14   8.47040661e-13   9.77948327e-12\n",
        "   9.03752931e-11   6.52733165e-10   3.49277009e-09   1.16808532e-08\n",
        "  -0.00000000e+00  -3.02084111e-07  -2.33457179e-06  -1.12618194e-05\n",
        "  -4.01708776e-05  -1.11683422e-04  -2.47646897e-04  -4.43153632e-04\n",
        "  -6.44088246e-04  -7.62939478e-04  -7.37554461e-04  -5.81754064e-04\n",
        "  -3.73641665e-04  -1.94575644e-04  -8.15138512e-05  -2.70748099e-05\n",
        "  -6.92188799e-06  -1.26530039e-06  -1.23215212e-07   1.24890537e-08\n",
        "   8.43542595e-09   2.07683721e-09   3.47858714e-10   4.41950340e-11\n",
        "   4.43182476e-12   3.57537031e-13   2.34545177e-14   1.25940178e-15\n",
        "   5.55947313e-17   2.02377069e-18   6.08853508e-20   1.51640107e-21\n",
        "   3.13058609e-23   5.36278132e-25   7.62892675e-27   9.01855208e-29\n",
        "   8.86444455e-31   7.24786475e-33   4.93155901e-35   2.79332235e-37\n",
        "   1.31749065e-39]"
       ]
      },
      {
       "output_type": "stream",
       "stream": "stdout",
       "text": [
        "\n",
        "testing\n",
        "{'s_1': -30, 's_2': 27}"
       ]
      },
      {
       "output_type": "stream",
       "stream": "stdout",
       "text": [
        "\n",
        "[  5.03142071e-37   8.61292019e-35   1.22724605e-32   1.45505704e-30\n",
        "   1.43487741e-28   1.17631089e-26   8.01209477e-25   4.53081769e-23\n",
        "   2.12535923e-21   8.26107351e-20   2.65693347e-18   7.05781631e-17\n",
        "   1.54467701e-15   2.77585281e-14   4.07553299e-13   4.85142700e-12\n",
        "   4.62272626e-11   3.44273324e-10   1.89969906e-09   6.55192003e-09\n",
        "  -0.00000000e+00  -1.80259526e-07  -1.43710563e-06  -7.15256904e-06\n",
        "  -2.63275298e-05  -7.55478198e-05  -1.72946001e-04  -3.19605489e-04\n",
        "  -4.79914231e-04  -5.87619870e-04  -5.87619870e-04  -4.79914231e-04\n",
        "  -3.19605489e-04  -1.72946001e-04  -7.55478198e-05  -2.63275298e-05\n",
        "  -7.15256904e-06  -1.43710563e-06  -1.80259526e-07   0.00000000e+00\n",
        "   6.55192003e-09   1.89969906e-09   3.44273324e-10   4.62272626e-11\n",
        "   4.85142700e-12   4.07553299e-13   2.77585281e-14   1.54467701e-15\n",
        "   7.05781631e-17   2.65693347e-18   8.26107351e-20   2.12535923e-21\n",
        "   4.53081769e-23   8.01209477e-25   1.17631089e-26   1.43487741e-28\n",
        "   1.45505704e-30   1.22724605e-32   8.61292019e-35   5.03142071e-37\n",
        "   2.44728819e-39]"
       ]
      },
      {
       "output_type": "stream",
       "stream": "stdout",
       "text": [
        "\n",
        "testing\n",
        "{'s_1': -30, 's_2': 28}"
       ]
      },
      {
       "output_type": "stream",
       "stream": "stdout",
       "text": [
        "\n",
        "[  1.56707854e-37   2.76487964e-35   4.06058251e-33   4.96218839e-31\n",
        "   5.04371672e-29   4.26193994e-27   2.99218109e-25   1.74414631e-23\n",
        "   8.43357885e-22   3.37908303e-20   1.12030540e-18   3.06782903e-17\n",
        "   6.92175963e-16   1.28235348e-14   1.94108435e-13   2.38229953e-12\n",
        "   2.34052056e-11   1.79733242e-10   1.02269760e-09   3.63746657e-09\n",
        "  -0.00000000e+00  -1.06457598e-07  -8.75508165e-07  -4.49556289e-06\n",
        "  -1.70746355e-05  -5.05668553e-05  -1.19497712e-04  -2.28032089e-04\n",
        "  -3.53703986e-04  -4.47586619e-04  -4.62870771e-04  -3.91282340e-04\n",
        "  -2.70050074e-04  -1.51721505e-04  -6.90136528e-05  -2.51701271e-05\n",
        "  -7.22705856e-06  -1.57110908e-06  -2.32079433e-07  -1.24890537e-08\n",
        "   4.47852178e-09   1.67259101e-09   3.33169994e-10   4.75393765e-11\n",
        "   5.23454548e-12   4.58524307e-13   3.24517038e-14   1.87246401e-15\n",
        "   8.85865875e-17   3.44964413e-18   1.10871068e-19   2.94694771e-21\n",
        "   6.48782240e-23   1.18443942e-24   1.79483001e-26   2.25923443e-28\n",
        "   2.36373377e-30   2.05665432e-32   1.48881240e-34   8.97008608e-37\n",
        "   4.49956267e-39]"
       ]
      },
      {
       "output_type": "stream",
       "stream": "stdout",
       "text": [
        "\n",
        "testing\n",
        "{'s_1': -30, 's_2': 29}"
       ]
      },
      {
       "output_type": "stream",
       "stream": "stdout",
       "text": [
        "\n",
        "[  4.83188684e-38   8.78670918e-36   1.33004847e-33   1.67527836e-31\n",
        "   1.75511257e-29   1.52865208e-27   1.10622455e-25   6.64660906e-24\n",
        "   3.31283172e-22   1.36825123e-20   4.67620073e-19   1.32004549e-17\n",
        "   3.07034944e-16   5.86416980e-15   9.15137311e-14   1.15797393e-12\n",
        "   1.17299230e-11   9.28781902e-11   5.44955047e-10   1.99880192e-09\n",
        "  -0.00000000e+00  -6.22255240e-08  -5.27871389e-07  -2.79629015e-06\n",
        "  -1.09583340e-05  -3.34913048e-05  -8.16947578e-05  -1.60959794e-04\n",
        "  -2.57868020e-04  -3.37180630e-04  -3.60517040e-04  -3.15339586e-04\n",
        "  -2.25441154e-04  -1.31412329e-04  -6.21735068e-05  -2.36831975e-05\n",
        "  -7.15736785e-06  -1.66581282e-06  -2.77334192e-07  -2.46062319e-08\n",
        "   2.27310299e-09   1.39966144e-09   3.14228824e-10   4.80022635e-11\n",
        "   5.56319201e-12   5.08969800e-13   3.74669666e-14   2.24297578e-15\n",
        "   1.09920761e-16   4.42902627e-18   1.47174548e-19   4.04217302e-21\n",
        "   9.19131205e-23   1.73251999e-24   2.70992457e-26   3.52020703e-28\n",
        "   3.80014707e-30   3.41109157e-32   2.54711220e-34   1.58283216e-36\n",
        "   8.18840956e-39]"
       ]
      },
      {
       "output_type": "stream",
       "stream": "stdout",
       "text": [
        "\n"
       ]
      }
     ],
     "prompt_number": 366
    },
    {
     "cell_type": "code",
     "collapsed": false,
     "input": [
      "plt.clf()\n",
      "plt.close()\n",
      "f, (ax1, ax2, ax3, ax4) = plt.subplots(4)\n",
      "ax1.bar(range(1, 58), bias_nn)\n",
      "ax2.bar(range(1, 59), var_s1_nn)\n",
      "ax3.bar(range(1, 59), var_s2_nn)\n",
      "ax4.bar(range(1, 59), cov_nn)\n",
      "ax1.locator_params(axis = 'y', nbins = 4)\n",
      "ax2.locator_params(axis = 'y', nbins = 4)\n",
      "ax3.locator_params(axis = 'y', nbins = 4)\n",
      "ax4.locator_params(axis = 'y', nbins = 4)\n",
      "ax1.set_title(\"NN Bias\")\n",
      "ax2.set_title(r'NN Variance $s_1$')\n",
      "ax3.set_title(r'NN Variance $s_2$')\n",
      "ax4.set_title('NN Covariance')\n",
      "ax4.set_xlabel(r'$\\Delta$ s')\n",
      "#f = plt.figure(figsize=(10,10))\n",
      "plt.tight_layout()\n",
      "fig.savefig('nn_statistics.pdf')"
     ],
     "language": "python",
     "metadata": {},
     "outputs": [
      {
       "metadata": {},
       "output_type": "display_data",
       "png": "[encoded data removed]",
       "text": [
        "<matplotlib.figure.Figure at 0x12c65bc10>"
       ]
      }
     ],
     "prompt_number": 306
    },
    {
     "cell_type": "code",
     "collapsed": false,
     "input": [
      "plt.clf()\n",
      "plt.close()\n",
      "f, (ax1, ax2, ax3, ax4) = plt.subplots(4)\n",
      "ax1.bar(range(1, 59), bias_opt)\n",
      "ax2.bar(range(1, 59), var_s1_opt)\n",
      "ax3.bar(range(1, 59), var_s2_opt)\n",
      "ax4.bar(range(1, 59), cov_opt)\n",
      "ax1.locator_params(axis = 'y', nbins = 4)\n",
      "ax2.locator_params(axis = 'y', nbins = 4)\n",
      "ax3.locator_params(axis = 'y', nbins = 4)\n",
      "ax4.locator_params(axis = 'y', nbins = 4)\n",
      "ax1.set_title(\"MLE Bias\")\n",
      "ax2.set_title(r'MLE Variance $s_1$')\n",
      "ax3.set_title(r'MLE Variance $s_2$')\n",
      "ax4.set_title('MLE Covariance')\n",
      "ax4.set_xlabel(r'$\\Delta$ s')\n",
      "#f = plt.figure(figsize=(10,10))\n",
      "plt.tight_layout()\n",
      "fig.savefig('opt_statistics.pdf')"
     ],
     "language": "python",
     "metadata": {},
     "outputs": [
      {
       "metadata": {},
       "output_type": "display_data",
       "png": "[encoded data removed]",
       "text": [
        "<matplotlib.figure.Figure at 0x137cba0d0>"
       ]
      }
     ],
     "prompt_number": 309
    },
    {
     "cell_type": "code",
     "collapsed": false,
     "input": [
      "f, (ax1, ax2, ax3, ax4) = plt.subplots(4)\n",
      "ax1.plot(range(1, 61), bias_nn, c='b', label='Neural Net')\n",
      "ax2.plot(range(1, 61), var_s1_nn, c='b', label='Neural Net')\n",
      "ax3.plot(range(1, 61), var_s2_nn, c='b', label='Neural Net')\n",
      "ax4.plot(range(1, 61), cov_nn, c='b', label='Neural Net')\n",
      "ax1.plot(range(1, 61), bias_opt, c='r', label='MLE')\n",
      "ax2.plot(range(1, 61), var_s1_opt, c='r', label='MLE')\n",
      "ax3.plot(range(1, 61), var_s2_opt, c='r', label='MLE')\n",
      "ax4.plot(range(1, 61), cov_opt, c='r', label='MLE')\n",
      "ax2.plot(range(1, 61), var_s1_fisher, c='g', label='Fisher')\n",
      "ax3.plot(range(1, 61), var_s2_fisher, c='g', label='Fisher')\n",
      "ax4.plot(range(1, 61), cov_fisher, c='g', label='Fisher')\n",
      "ax1.locator_params(axis = 'y', nbins = 4)\n",
      "ax2.locator_params(axis = 'y', nbins = 4)\n",
      "ax3.locator_params(axis = 'y', nbins = 4)\n",
      "ax4.locator_params(axis = 'y', nbins = 4)\n",
      "#ax1.legend()\n",
      "ax1.set_title(\"Bias\")\n",
      "ax2.set_title(r'Variance $s_1$')\n",
      "ax3.set_title(r'Variance $s_2$')\n",
      "ax4.set_title('Covariance')\n",
      "ax4.set_xlabel(r'$\\Delta$ s')\n",
      "f.set_size_inches(10,10)\n",
      "plt.tight_layout()\n",
      "fig.savefig('nn_statistics.pdf')"
     ],
     "language": "python",
     "metadata": {},
     "outputs": [
      {
       "metadata": {},
       "output_type": "display_data",
       "png": "[encoded data removed]",
       "text": [
        "<matplotlib.figure.Figure at 0x137a7a290>"
       ]
      }
     ],
     "prompt_number": 372
    },
    {
     "cell_type": "code",
     "collapsed": false,
     "input": [
      "def fisher_inf(s_0, s_1, c_0, c_1):\n",
      "    fs_0 = np.exp(-np.square((np.transpose(np.tile(s_0, (nneuron, 1))) - sprefs))/(2 * sigtc_sq))[0]\n",
      "    qs_0 = r_max * c_0 * fs_0\n",
      "    df_s0 = ((-s_0 + sprefs)/sigtc_sq) * qs_0\n",
      "    fs_1 = np.exp(-np.square((np.transpose(np.tile(s_1, (nneuron, 1))) - sprefs))/(2 * sigtc_sq))[0]\n",
      "    qs_1 = r_max * c_1 * fs_1\n",
      "    df_s1 = ((-s_1 + sprefs)/sigtc_sq) * qs_1\n",
      "    print df_s0 * df_s1\n",
      "    Q = qs_0 + qs_1\n",
      "    Q_inv = 1/Q\n",
      "    J_11 = np.sum(np.square(df_s0) * Q_inv)\n",
      "    J_22 = np.sum(np.square(df_s1) * Q_inv)\n",
      "    J_12 = J_21 = np.sum(df_s0 * df_s1 * Q_inv)\n",
      "    return J_11, J_22, J_12, J_21\n",
      "\n",
      "J11, J22, J12, _ = fisher_inf(-30, -14, .5, .5)\n",
      "var, cov = 1/J11, 1/J12\n",
      "print cov/var\n",
      "J11, J22, J12, _ = fisher_inf(-30, -20, .5, .5)\n",
      "var, cov = 1/J11, 1/J12\n",
      "print cov/var"
     ],
     "language": "python",
     "metadata": {},
     "outputs": [
      {
       "output_type": "stream",
       "stream": "stdout",
       "text": [
        "[  4.97942895e-20   2.45610764e-18   1.00740350e-16   3.43435831e-15\n",
        "   9.72607914e-14   2.28666157e-12   4.45971162e-11   7.20864654e-10\n",
        "   9.64619895e-09   1.06711523e-07   9.74222842e-07   7.32346072e-06\n",
        "   4.51946761e-05   2.28032089e-04   9.35216725e-04   3.09048531e-03\n",
        "   8.11246601e-03   1.64840152e-02   2.45102808e-02   2.24062962e-02\n",
        "  -0.00000000e+00  -4.00389359e-02  -7.59925489e-02  -8.22222098e-02\n",
        "  -5.39194757e-02  -1.21137471e-02   1.74582038e-02   2.55401336e-02\n",
        "   1.95658579e-02   1.05911937e-02   4.37779618e-03   1.42762416e-03\n",
        "   3.73641665e-04   7.92891957e-05   1.37331438e-05   1.95034120e-06\n",
        "   2.27861549e-07   2.19545627e-08   1.74782384e-09   1.15143584e-10\n",
        "   6.28452816e-12   2.84460435e-13   1.06865890e-14   3.33440869e-16\n",
        "   8.64589755e-18   1.86391251e-19   3.34232147e-21   4.98697252e-23\n",
        "   6.19341903e-25   6.40398824e-27   5.51448305e-29   3.95538622e-31\n",
        "   2.36367674e-33   1.17700628e-35   4.88460829e-38   1.68967448e-40\n",
        "   4.87253461e-43   1.17148448e-45   2.34852118e-48   3.92619062e-51\n",
        "   5.47401919e-54]\n",
        "56.0673569145\n",
        "[  3.66162461e-18   1.50326713e-16   5.13037614e-15   1.45476032e-13\n",
        "   3.42533950e-12   6.69236384e-11   1.08406149e-09   1.45440683e-08\n",
        "   1.61412246e-07   1.47957323e-06   1.11799595e-05   6.94634552e-05\n",
        "   3.53703986e-04   1.46932098e-03   4.94742382e-03   1.33727193e-02\n",
        "   2.85666466e-02   4.68970272e-02   5.57367059e-02   4.00389359e-02\n",
        "  -0.00000000e+00  -3.92838373e-02  -4.62630951e-02  -1.49321306e-02\n",
        "   2.86268349e-02   5.37196494e-02   5.17334219e-02   3.47683831e-02\n",
        "   1.76971196e-02   7.06632782e-03   2.25515879e-03   5.81754064e-04\n",
        "   1.22200298e-04   2.10080036e-05   2.96670388e-06   3.45092274e-07\n",
        "   3.31349448e-08   2.63056589e-09   1.72902915e-10   9.41924972e-12\n",
        "   4.25676392e-13   1.59704236e-14   4.97737863e-16   1.28933423e-17\n",
        "   2.77722638e-19   4.97635547e-21   7.42022310e-23   9.21001804e-25\n",
        "   9.51828662e-27   8.19248024e-29   5.87384615e-31   3.50883342e-33\n",
        "   1.74666664e-35   7.24654792e-38   2.50603184e-40   7.22488772e-43\n",
        "   1.73665933e-45   3.48082953e-48   5.81804645e-51   8.11028690e-54\n",
        "   9.42963946e-57]\n",
        "2.49978909608\n"
       ]
      }
     ],
     "prompt_number": 363
    },
    {
     "cell_type": "code",
     "collapsed": false,
     "input": [],
     "language": "python",
     "metadata": {},
     "outputs": []
    }
   ],
   "metadata": {}
  }
 ]
}