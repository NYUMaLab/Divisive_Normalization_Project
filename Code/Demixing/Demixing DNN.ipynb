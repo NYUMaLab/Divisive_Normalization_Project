{
 "metadata": {
  "name": "",
  "signature": "sha256:e0247e5742ca2c251d5c593311fa27ea4c74b46c618cd0eef06a371de558c0f6"
 },
 "nbformat": 3,
 "nbformat_minor": 0,
 "worksheets": [
  {
   "cells": [
    {
     "cell_type": "code",
     "collapsed": false,
     "input": [
      "import numpy as np\n",
      "import math\n",
      "import os\n",
      "import sys\n",
      "import time\n",
      "import theano\n",
      "import theano.tensor as T\n",
      "import pystan\n",
      "import matplotlib.pyplot as plt\n",
      "import argparse\n",
      "\n",
      "nneuron = 61\n",
      "min_angle = -90\n",
      "max_angle = 90\n",
      "sprefs = np.linspace(min_angle, max_angle, nneuron)\n",
      "ndata = 3000\n",
      "\n",
      "r_max = 10\n",
      "sigtc_sq = float(10**2)\n",
      "sigtc = 10\n",
      "c_50 = 13.1"
     ],
     "language": "python",
     "metadata": {},
     "outputs": [],
     "prompt_number": 38
    },
    {
     "cell_type": "code",
     "collapsed": false,
     "input": [
      "def random_s(ndata, sort):\n",
      "    s = np.random.rand(2, ndata) * 120 - 60\n",
      "    if sort:\n",
      "        s = np.sort(s, axis=0)\n",
      "    return s[0], s[1]\n",
      "\n",
      "def generate_trainset(ndata):\n",
      "    s_0, s_1 = random_s(ndata, True)\n",
      "    c_0, c_1 = np.ones((2, ndata)) * .5\n",
      "    r, s, c = generate_popcode_data(ndata, nneuron, sigtc_sq, c_50, r_max, \"poisson\", True, s_0, s_1, c_0, c_1)\n",
      "    return r, s, c\n",
      "\n",
      "def generate_s1set(ndata):\n",
      "    s_0, s_1 = random_s(ndata, True)\n",
      "    c_0 = np.ones(ndata)\n",
      "    c_1 = np.zeros(ndata)\n",
      "    r, s, c = generate_popcode_data(ndata, nneuron, sigtc_sq, c_50, r_max, \"poisson\", True, s_0, s_1, c_0, c_1)\n",
      "    return r, s, c\n",
      "    \n",
      "def generate_popcode_data(ndata, nneuron, sigtc_sq, c_50, r_max, noise, sort, s_0, s_1, c_0, c_1):\n",
      "    c_rms = np.sqrt(np.square(c_0) + np.square(c_1))\n",
      "    sprefs_data = np.tile(sprefs, (ndata, 1))\n",
      "    s_0t = np.exp(-np.square((np.transpose(np.tile(s_0, (nneuron, 1))) - sprefs_data))/(2 * sigtc_sq))\n",
      "    stim_0 = c_0 * s_0t.T\n",
      "    s_1t = np.exp(-np.square((np.transpose(np.tile(s_1, (nneuron, 1))) - sprefs_data))/(2 * sigtc_sq))\n",
      "    stim_1 = c_1 * s_1t.T\n",
      "    #r = r_max * (stim_0 + stim_1)/(c_50 + c_rms)\n",
      "    r = r_max * (stim_0 + stim_1)\n",
      "    r = r.T\n",
      "    s = np.array((s_0, s_1)).T\n",
      "    s = s/90\n",
      "    c = np.array((c_0, c_1)).T\n",
      "    if noise == \"poisson\":\n",
      "        r = np.random.poisson(r) + 0.0\n",
      "    return r, s, c\n",
      "\n",
      "def generate_s_data(stim_0, stim_1, ndata):\n",
      "    c_0, c_1 = np.ones((2, ndata)) * .5\n",
      "    s_0, s_1 = np.ones((2, ndata))\n",
      "    s_0 = s_0 * stim_0\n",
      "    s_1 = s_1 * stim_1\n",
      "    r, s, c = generate_popcode_data(ndata, nneuron, sigtc_sq, c_50, r_max, \"poisson\", True, s_0, s_1, c_0, c_1)\n",
      "    return r, s, c"
     ],
     "language": "python",
     "metadata": {},
     "outputs": [],
     "prompt_number": 183
    },
    {
     "cell_type": "code",
     "collapsed": false,
     "input": [
      "def fisher_inf(s_0, s_1, c_0, c_1):\n",
      "    fs_0 = np.exp(-np.square((np.transpose(np.tile(s_0, (nneuron, 1))) - sprefs))/(2 * sigtc_sq))[0]\n",
      "    qs_0 = r_max * c_0 * fs_0\n",
      "    df_s0 = ((-s_0 + sprefs)/sigtc_sq) * qs_0\n",
      "    fs_1 = np.exp(-np.square((np.transpose(np.tile(s_1, (nneuron, 1))) - sprefs))/(2 * sigtc_sq))[0]\n",
      "    qs_1 = r_max * c_1 * fs_1\n",
      "    df_s1 = ((-s_1 + sprefs)/sigtc_sq) * qs_1\n",
      "    Q = qs_0 + qs_1\n",
      "    Q_inv = 1/Q\n",
      "    J_11 = np.sum(np.square(df_s0) * Q_inv)\n",
      "    J_22 = np.sum(np.square(df_s1) * Q_inv)\n",
      "    J_12 = J_21 = np.sum(df_s0 * df_s1 * Q_inv)\n",
      "    return J_11, J_22, J_12, J_21\n",
      "\n",
      "def fit_optimal(r, init, sm, N=61, sprefs=sprefs, c_1=.5, c_2=.5, c_50=13.1, r_max=10, c_rms=0.707106781, sig_tc=10, sigtc_sq=10**2, random_init=False):\n",
      "    neurons_dat = {'N': 61,\n",
      "                   'r': r[0].astype(int),\n",
      "                   'sprefs': sprefs,\n",
      "                   'c_1': .5,\n",
      "                   'c_2': .5,\n",
      "                   'c_50': 13.1,\n",
      "                   'r_max': r_max,\n",
      "                   'c_rms': 0.707106781,\n",
      "                   'sig_tc': 10,\n",
      "                   'sigtc_sq': sigtc_sq}\n",
      "\n",
      "    optimal = np.zeros((2, ndata))\n",
      "    print init\n",
      "    for i in range(len(r)):\n",
      "        neurons_dat['r'] = r[i].astype(int)\n",
      "        if random_init:\n",
      "            op = sm.optimizing(data=neurons_dat)\n",
      "        else:     \n",
      "            op = sm.optimizing(data=neurons_dat, init=init)\n",
      "        optimal[0][i], optimal[1][i] = op['s_1'], op['s_2']\n",
      "        optimal = np.sort(optimal, axis=0)\n",
      "    return optimal"
     ],
     "language": "python",
     "metadata": {},
     "outputs": [],
     "prompt_number": 348
    },
    {
     "cell_type": "code",
     "collapsed": false,
     "input": [
      "\"\"\"\n",
      "Multilayer ReLU net\n",
      "\"\"\"\n",
      "\n",
      "def relu(x):\n",
      "    return theano.tensor.switch(x<0, 0, x)\n",
      "\n",
      "class HiddenLayer(object):\n",
      "    def __init__(self, rng, input, n_in, n_out, W=None, b=None,\n",
      "                 activation=T.nnet.sigmoid):\n",
      "        \"\"\"\n",
      "        Typical hidden layer of a MLP: units are fully-connected and have\n",
      "        sigmoidal activation function. Weight matrix W is of shape (n_in,n_out)\n",
      "        and the bias vector b is of shape (n_out,).\n",
      "\n",
      "        :type rng: np.random.RandomState\n",
      "        :param rng: a random number generator used to initialize weights\n",
      "\n",
      "        :type input: theano.tensor.dmatrix\n",
      "        :param input: a symbolic tensor of shape (n_examples, n_in)\n",
      "\n",
      "        :type n_in: int\n",
      "        :param n_in: dimensionality of input\n",
      "\n",
      "        :type n_out: int\n",
      "        :param n_out: number of hidden units\n",
      "\n",
      "        :type activation: theano.Op or function\n",
      "        :param activation: Non linearity to be applied in the hidden\n",
      "                           layer\n",
      "        \"\"\"\n",
      "        self.input = input\n",
      "        if W is None:\n",
      "            W_values = (1/np.sqrt(n_in)) * np.random.randn(n_in, n_out)\n",
      "            \n",
      "            W = theano.shared(value=W_values, name='W', borrow=True)\n",
      "\n",
      "        if b is None:\n",
      "            b_values = np.zeros((n_out,), dtype=theano.config.floatX)\n",
      "            b = theano.shared(value=b_values, name='b', borrow=True)\n",
      "\n",
      "        self.W = W\n",
      "        self.b = b\n",
      "\n",
      "        lin_output = T.dot(input, self.W) + self.b\n",
      "        self.output = (\n",
      "            lin_output if activation is None\n",
      "            else activation(lin_output)\n",
      "        )\n",
      "        # parameters of the model\n",
      "        self.params = [self.W, self.b]\n",
      "\n",
      "class COMLayer(object):\n",
      "    def __init__(self, rng, input, n_in, n_out, W=None):\n",
      "        \"\"\"\n",
      "        Layer with Center of Mass decoder\n",
      "        Params same as above\n",
      "        \"\"\"\n",
      "        self.input = input\n",
      "        if W is None:\n",
      "            W_values = (1/np.sqrt(n_in)) * np.random.randn(n_in, n_out)\n",
      "\n",
      "            W = theano.shared(value=W_values, name='W', borrow=True)\n",
      "\n",
      "        self.W = W\n",
      "        \n",
      "        self.ones = np.ones((n_in, n_out))\n",
      "        \n",
      "        self.output = T.dot(input, self.W)/T.dot(input, self.ones)\n",
      "        \n",
      "        # parameters of the model\n",
      "        self.params = [self.W]\n",
      "\n",
      "class MLP(object):\n",
      "\n",
      "\n",
      "    def __init__(self, rng, input, n_in, n_hidden, n_out):\n",
      "        \"\"\"Initialize the parameters for the multilayer perceptron\n",
      "\n",
      "        :type rng: np.random.RandomState\n",
      "        :param rng: a random number generator used to initialize weights\n",
      "\n",
      "        :type input: theano.tensor.TensorType\n",
      "        :param input: symbolic variable that describes the input of the\n",
      "        architecture (one minibatch)\n",
      "\n",
      "        :type n_in: int\n",
      "        :param n_in: number of input units, the dimension of the space in\n",
      "        which the datapoints lie\n",
      "\n",
      "        :type n_hidden: int\n",
      "        :param n_hidden: number of hidden units\n",
      "\n",
      "        :type n_out: int\n",
      "        :param n_out: number of output units, the dimension of the space in\n",
      "        which the labels lie\n",
      "\n",
      "        \"\"\"\n",
      "\n",
      "        self.hiddenLayer1 = HiddenLayer(\n",
      "            rng=rng,\n",
      "            input=input,\n",
      "            n_in=n_in,\n",
      "            n_out=n_hidden,\n",
      "            #activation=T.nnet.sigmoid\n",
      "            activation=relu\n",
      "        )\n",
      "        \n",
      "        self.hiddenLayer2 = HiddenLayer(\n",
      "            rng=rng,\n",
      "            input=self.hiddenLayer1.output,\n",
      "            n_in=n_hidden,\n",
      "            n_out=n_out,\n",
      "            #activation=relu\n",
      "            activation=None\n",
      "        )\n",
      "        \n",
      "        self.y_pred = self.hiddenLayer2.output\n",
      "        \n",
      "        # the parameters of the model are the parameters of the two layers it is made out of\n",
      "        self.params = self.hiddenLayer1.params + self.hiddenLayer2.params\n",
      "    \n",
      "    def get_params(self):\n",
      "\n",
      "        params = {}\n",
      "        for param in self.params:\n",
      "            name = param.name\n",
      "            if name in params:\n",
      "                name = name, 2\n",
      "            params[name] = param.get_value()\n",
      "        return params\n",
      "    \n",
      "    def mse(self, y):\n",
      "        # error between output and target\n",
      "        return T.mean((self.y_pred[0] - y[0]) ** 2 + (self.y_pred[1] - y[1]) ** 2)\n",
      "    \n",
      "    def mse_s1(self, y):\n",
      "        # error between output and target\n",
      "        return T.mean((self.y_pred[0] - y[0]) ** 2)\n",
      "    \n",
      "    def sym_mse(self, y):\n",
      "        # error between output and target\n",
      "        return T.mean(((self.y_pred[0] - y[0]) ** 2 + (self.y_pred[1] - y[1]) ** 2)\n",
      "                      * ((self.y_pred[1] - y[0]) ** 2 + (self.y_pred[0] - y[1]) ** 2))\n",
      "        \n",
      "class COMMLP(object):\n",
      "\n",
      "\n",
      "    def __init__(self, rng, input, n_in, n_hidden, n_out):\n",
      "        \"\"\"\n",
      "        Params same as above\n",
      "        \"\"\"\n",
      "\n",
      "        self.hiddenLayer1 = HiddenLayer(\n",
      "            rng=rng,\n",
      "            input=input,\n",
      "            n_in=n_in,\n",
      "            n_out=n_hidden,\n",
      "            activation=T.nnet.sigmoid\n",
      "        )\n",
      "        \n",
      "        self.hiddenLayer2 = COMLayer(\n",
      "            rng=rng,\n",
      "            input=self.hiddenLayer1.output,\n",
      "            n_in=n_hidden,\n",
      "            n_out=n_out,\n",
      "        )\n",
      "        \n",
      "        self.y_pred = self.hiddenLayer2.output\n",
      "        \n",
      "        # the parameters of the model are the parameters of the two layers it is made out of\n",
      "        self.params = self.hiddenLayer1.params + self.hiddenLayer2.params\n",
      "    \n",
      "    def get_params(self):\n",
      "\n",
      "        params = {}\n",
      "        for param in self.params:\n",
      "            name = param.name\n",
      "            if name in params:\n",
      "                name = name, 2\n",
      "            params[name] = param.get_value()\n",
      "        return params\n",
      "    \n",
      "    def mse(self, y):\n",
      "        # error between output and target\n",
      "        return T.mean((self.y_pred[0] - y[0]) ** 2 + (self.y_pred[1] - y[1]) ** 2)\n",
      "    \n",
      "    def sym_mse(self, y):\n",
      "        # error between output and target\n",
      "        return T.mean(((self.y_pred[0] - y[0]) ** 2 + (self.y_pred[1] - y[1]) ** 2)\n",
      "                      * ((self.y_pred[1] - y[0]) ** 2 + (self.y_pred[0] - y[1]) ** 2))\n",
      "        \n",
      "\n",
      "def shared_dataset(data_xy, borrow=True):\n",
      "        \"\"\" Function that loads the dataset into shared variables\n",
      "        \"\"\"\n",
      "        data_x, data_y, _ = data_xy\n",
      "        shared_x = theano.shared(np.asarray(data_x,\n",
      "                                               dtype='float32'),\n",
      "                                 borrow=borrow)\n",
      "        shared_y = theano.shared(np.asarray(data_y,\n",
      "                                               dtype='float32'),\n",
      "                                 borrow=borrow)\n",
      "        return shared_x, shared_y\n",
      "\n",
      "def train_nn(dataset, n_hidden=20, learning_rate=0.01, n_epochs=10, batch_size=20, test_data=None, COM=False, n_in=61, n_out=2):\n",
      "    \"\"\"\n",
      "    Demonstrate stochastic gradient descent optimization for a multilayer\n",
      "    perceptron\n",
      "\n",
      "    :type learning_rate: float\n",
      "    :param learning_rate: learning rate used (factor for the stochastic\n",
      "    gradient\n",
      "\n",
      "    :type n_epochs: int\n",
      "    :param n_epochs: maximal number of epochs to run the optimizer\n",
      "\n",
      "   \"\"\"\n",
      "    train_set_x, train_set_y = shared_dataset(dataset)\n",
      "\n",
      "    # compute number of minibatches for training, validation and testing\n",
      "    n_train_batches = train_set_x.get_value(borrow=True).shape[0] / batch_size\n",
      "    \n",
      "    test_batch_size = 1\n",
      "    \n",
      "    ######################\n",
      "    # BUILD ACTUAL MODEL #\n",
      "    ######################\n",
      "    print '... building the model'\n",
      "\n",
      "    # allocate symbolic variables for the data\n",
      "    index = T.lscalar()  # index to a [mini]batch\n",
      "    x = T.fmatrix('x')   # input data from visual neurons\n",
      "    y = T.fmatrix('y')  # posterior\n",
      "\n",
      "    rng = np.random.RandomState(1234)\n",
      "\n",
      "    # construct the MLP class\n",
      "    nn = MLP(rng=rng, input=x, n_in=n_in, n_hidden=n_hidden, n_out=n_out)\n",
      "    \n",
      "    if COM == True:\n",
      "        nn = COMMLP(rng=rng, input=x, n_in=n_in, n_hidden=n_hidden, n_out=n_out)\n",
      "\n",
      "    cost = nn.mse(y)\n",
      "\n",
      "    # compute the gradient of cost with respect to theta (sotred in params)\n",
      "    # the resulting gradients will be stored in a list gparams\n",
      "    gparams = [T.grad(cost, param) for param in nn.params]\n",
      "\n",
      "    # specify how to update the parameters of the model as a list of\n",
      "    # (variable, update expression) pairs\n",
      "\n",
      "    updates = [\n",
      "        (param, param - learning_rate * gparam)\n",
      "        for param, gparam in zip(nn.params, gparams)\n",
      "    ]\n",
      "    \n",
      "    def inspect_inputs(i, node, fn):\n",
      "        print i, node, \"input(s) value(s):\", [input[0] for input in fn.inputs]\n",
      "\n",
      "    def inspect_outputs(i, node, fn):\n",
      "        print \"output(s) value(s):\", [output[0] for output in fn.outputs]\n",
      "\n",
      "    # compiling a Theano function `train_model` that returns the cost, but\n",
      "    # in the same time updates the parameter of the model based on the rules\n",
      "    # defined in `updates`\n",
      "    train_model = theano.function(\n",
      "        inputs=[index],\n",
      "        outputs=cost,\n",
      "        updates=updates,\n",
      "        givens={\n",
      "            x: train_set_x[index * batch_size: (index + 1) * batch_size],\n",
      "            y: train_set_y[index * batch_size: (index + 1) * batch_size]\n",
      "        }\n",
      "    )\n",
      "\n",
      "    ###############\n",
      "    # TRAIN MODEL #\n",
      "    ###############\n",
      "    print '... training'\n",
      "\n",
      "    start_time = time.clock()\n",
      "\n",
      "    epoch = 0\n",
      "    done_looping = False\n",
      "\n",
      "    while (epoch < n_epochs) and (not done_looping):\n",
      "        epoch = epoch + 1\n",
      "        for minibatch_index in xrange(n_train_batches):\n",
      "            \n",
      "            minibatch_avg_cost = train_model(minibatch_index)\n",
      "\n",
      "    end_time = time.clock()\n",
      "    \n",
      "    return nn, x\n",
      "\n",
      "def test_nn(nn, nnx, test_data):\n",
      "    print 'testing'\n",
      "    test_batch_size = 1\n",
      "    test_set_x, test_set_y = shared_dataset(test_data)\n",
      "    index = T.lscalar()  # index to a [mini]batch\n",
      "    x = nnx   # input data from visual neurons\n",
      "    test_model = theano.function(\n",
      "        inputs=[index],\n",
      "        outputs=nn.y_pred,\n",
      "        givens={\n",
      "            x: test_set_x[index * test_batch_size: (index + 1) * test_batch_size]\n",
      "        },\n",
      "    )\n",
      "    \n",
      "    true_ys = test_set_y.get_value()\n",
      "    pred_ys = np.zeros((len(true_ys), 2))\n",
      "    for i in range(len(true_ys)):\n",
      "        pred_ys[i] = test_model(i)\n",
      "        #print test_model(i)[0], true_ys[i]\n",
      "        #print test_model(i)[0] * 90, true_ys[i]\n",
      "    \n",
      "    #print nn.get_params()\n",
      "    return pred_ys, true_ys"
     ],
     "language": "python",
     "metadata": {},
     "outputs": [],
     "prompt_number": 85
    },
    {
     "cell_type": "code",
     "collapsed": false,
     "input": [
      "def test_models(s_0, s_1, nn, nnx, sm):\n",
      "    init = {'s_1':s_0,\n",
      "            's_2':s_1}\n",
      "    test_data = generate_s_data(s_0, s_1, 3000)\n",
      "    #print test_data\n",
      "    nn_preds, _ = test_nn(nn, nnx, test_data)\n",
      "    nn_preds = nn_preds.T * 90\n",
      "    r, s, c = test_data\n",
      "    opt_preds = fit_optimal(r, init, sm, random_init=True)\n",
      "    return nn_preds, opt_preds"
     ],
     "language": "python",
     "metadata": {},
     "outputs": [],
     "prompt_number": 349
    },
    {
     "cell_type": "code",
     "collapsed": false,
     "input": [
      "def plot_trials(nn, optimal, s_1, s_2, ntraindata):\n",
      "    plt.rc('text', usetex=True)\n",
      "    fig, ax = plt.subplots(1, 1)\n",
      "    ax.scatter(nn[0], nn[1], c='b', label='Neural Net')\n",
      "    ax.scatter(optimal[0], optimal[1], c='r', label='MLE')\n",
      "    ax.set_xlabel(r'\\hat{s_1}',fontsize=16)\n",
      "    ax.set_ylabel(r'\\hat{s_2}',fontsize=16)\n",
      "    ax.legend()\n",
      "    name = \"{s_1}_{s_2}_{ntraindata}.pdf\".format(s_1=s_1, s_2=s_2, ntraindata=ntraindata)\n",
      "    plt.show()\n",
      "    #fig.savefig(name)\n",
      "\n",
      "def get_contours(nn, optimal):\n",
      "    nn1 = nn[0]\n",
      "    nn2 = nn[1]\n",
      "    opt1 = optimal[0]\n",
      "    opt2 = optimal[1]\n",
      "    xmin = nn1.min()\n",
      "    xmax = nn1.max()\n",
      "    ymin = nn2.min()\n",
      "    ymax = nn2.max()\n",
      "    X, Y = np.mgrid[xmin:xmax:100j, ymin:ymax:100j]\n",
      "    positions = np.vstack([X.ravel(), Y.ravel()])\n",
      "    values_nn = np.vstack([nn1, nn2])\n",
      "    kernel_nn = stats.gaussian_kde(values_nn)\n",
      "    Z_nn = np.reshape(kernel_nn(positions).T, X.shape)\n",
      "    values_opt = np.vstack([opt1, opt2])\n",
      "    kernel_opt = stats.gaussian_kde(values_opt)\n",
      "    Z_opt = np.reshape(kernel_opt(positions).T, X.shape)\n",
      "    \"\"\"\n",
      "    plt.contour(X, Y, Z_nn, colors='b')\n",
      "    plt.contour(X, Y, Z_opt, colors='r')\n",
      "    \"\"\"\n",
      "    return X, Y, Z_nn, Z_opt"
     ],
     "language": "python",
     "metadata": {},
     "outputs": [],
     "prompt_number": 119
    },
    {
     "cell_type": "code",
     "collapsed": false,
     "input": [
      "neurons_code = \"\"\"\n",
      "    data {\n",
      "        int<lower=0> N; // number of neurons\n",
      "        int r[N]; // neural response\n",
      "        real sprefs[N]; // preferred stimuli\n",
      "        real<lower=0> c_1;\n",
      "        real<lower=0> c_2;\n",
      "        int r_max;\n",
      "        //real c_rms;\n",
      "        //real c_50;\n",
      "        //real<lower=0> sig_tc;\n",
      "        real<lower=0> sigtc_sq;\n",
      "    }\n",
      "    parameters {\n",
      "        real s_1;\n",
      "        real s_2;\n",
      "        //real<lower=s_1> s_2;\n",
      "    }\n",
      "    transformed parameters {\n",
      "        real lambda[N];\n",
      "        for (n in 1:N)\n",
      "            // lambda[n] <- r_max * ((c_1 * exp(normal_log(s_1, sprefs[n], sig_tc)) + c_2 * exp(normal_log(s_2, sprefs[n], sig_tc)))/(c_rms + c_50));\n",
      "            // lambda[n] <- r_max * (c_1 * exp(normal_log(s_1, sprefs[n], sig_tc)) + c_2 * exp(normal_log(s_2, sprefs[n], sig_tc)));\n",
      "            lambda[n] <- r_max * (c_1 * exp(- square(s_1 - sprefs[n])/(2 * sigtc_sq)) + c_2 * exp(- square(s_2 - sprefs[n])/(2 * sigtc_sq)));\n",
      "    }\n",
      "    model {\n",
      "        s_1 ~ uniform(-60, 60);\n",
      "        s_2 ~ uniform(-60, 60);\n",
      "        //s_2 ~ uniform(s_1, 60);\n",
      "        r ~ poisson(lambda);\n",
      "    }\n",
      "    \"\"\""
     ],
     "language": "python",
     "metadata": {},
     "outputs": [],
     "prompt_number": 121
    },
    {
     "cell_type": "code",
     "collapsed": false,
     "input": [
      "#Setting up models\n",
      "sm = pystan.StanModel(model_code=neurons_code)"
     ],
     "language": "python",
     "metadata": {},
     "outputs": [],
     "prompt_number": 122
    },
    {
     "cell_type": "code",
     "collapsed": false,
     "input": [
      "train_data1 = generate_trainset(3000)\n",
      "train_data2 = generate_trainset(20000)\n",
      "train_data3 = generate_trainset(100000)\n",
      "nn1, nnx1 = train_nn(train_data1, n_hidden=50, learning_rate=.001, n_epochs=100)\n",
      "nn2, nnx2 = train_nn(train_data2, n_hidden=50, learning_rate=.001, n_epochs=100)\n",
      "nn3, nnx3 = train_nn(train_data3, n_hidden=50, learning_rate=.001, n_epochs=100)"
     ],
     "language": "python",
     "metadata": {},
     "outputs": [
      {
       "output_type": "stream",
       "stream": "stdout",
       "text": [
        "... building the model\n",
        "... training"
       ]
      },
      {
       "output_type": "stream",
       "stream": "stdout",
       "text": [
        "\n",
        "... building the model"
       ]
      },
      {
       "output_type": "stream",
       "stream": "stdout",
       "text": [
        "\n",
        "... training"
       ]
      },
      {
       "output_type": "stream",
       "stream": "stdout",
       "text": [
        "\n",
        "... building the model"
       ]
      },
      {
       "output_type": "stream",
       "stream": "stdout",
       "text": [
        "\n",
        "... training"
       ]
      },
      {
       "output_type": "stream",
       "stream": "stdout",
       "text": [
        "\n"
       ]
      }
     ],
     "prompt_number": 90
    },
    {
     "cell_type": "code",
     "collapsed": false,
     "input": [
      "s_arr = [-50, -30, -10, 0, 10, 30, 50]\n",
      "def test_combs(s_arr):\n",
      "    l_sarr = len(s_arr)\n",
      "    nn = [[None] * l_sarr for k in range(l_sarr)]\n",
      "    opt = [[None] * l_sarr for k in range(l_sarr)]\n",
      "    for i in range(l_sarr):\n",
      "        for j in range(i+1, l_sarr):\n",
      "            s1 = s_arr[i]\n",
      "            s2 = s_arr[j]\n",
      "            nn[i][j], opt[i][j] = test_models(s1, s2, nn2, nnx2, sm)\n",
      "    return nn, opt"
     ],
     "language": "python",
     "metadata": {},
     "outputs": [
      {
       "output_type": "stream",
       "stream": "stdout",
       "text": [
        "testing\n",
        "{'s_1': -50, 's_2': -30}"
       ]
      },
      {
       "output_type": "stream",
       "stream": "stdout",
       "text": [
        "\n",
        "testing"
       ]
      },
      {
       "output_type": "stream",
       "stream": "stdout",
       "text": [
        "\n",
        "{'s_1': -50, 's_2': -10}"
       ]
      },
      {
       "output_type": "stream",
       "stream": "stdout",
       "text": [
        "\n",
        "testing"
       ]
      },
      {
       "output_type": "stream",
       "stream": "stdout",
       "text": [
        "\n",
        "{'s_1': -50, 's_2': 0}"
       ]
      },
      {
       "output_type": "stream",
       "stream": "stdout",
       "text": [
        "\n",
        "testing"
       ]
      },
      {
       "output_type": "stream",
       "stream": "stdout",
       "text": [
        "\n",
        "{'s_1': -50, 's_2': 10}"
       ]
      },
      {
       "output_type": "stream",
       "stream": "stdout",
       "text": [
        "\n",
        "testing"
       ]
      },
      {
       "output_type": "stream",
       "stream": "stdout",
       "text": [
        "\n",
        "{'s_1': -50, 's_2': 30}"
       ]
      },
      {
       "output_type": "stream",
       "stream": "stdout",
       "text": [
        "\n",
        "testing"
       ]
      },
      {
       "output_type": "stream",
       "stream": "stdout",
       "text": [
        "\n",
        "{'s_1': -50, 's_2': 50}"
       ]
      },
      {
       "output_type": "stream",
       "stream": "stdout",
       "text": [
        "\n",
        "testing"
       ]
      },
      {
       "output_type": "stream",
       "stream": "stdout",
       "text": [
        "\n",
        "{'s_1': -30, 's_2': -10}"
       ]
      },
      {
       "output_type": "stream",
       "stream": "stdout",
       "text": [
        "\n",
        "testing"
       ]
      },
      {
       "output_type": "stream",
       "stream": "stdout",
       "text": [
        "\n",
        "{'s_1': -30, 's_2': 0}"
       ]
      },
      {
       "output_type": "stream",
       "stream": "stdout",
       "text": [
        "\n",
        "testing"
       ]
      },
      {
       "output_type": "stream",
       "stream": "stdout",
       "text": [
        "\n",
        "{'s_1': -30, 's_2': 10}"
       ]
      },
      {
       "output_type": "stream",
       "stream": "stdout",
       "text": [
        "\n",
        "testing"
       ]
      },
      {
       "output_type": "stream",
       "stream": "stdout",
       "text": [
        "\n",
        "{'s_1': -30, 's_2': 30}"
       ]
      },
      {
       "output_type": "stream",
       "stream": "stdout",
       "text": [
        "\n",
        "testing"
       ]
      },
      {
       "output_type": "stream",
       "stream": "stdout",
       "text": [
        "\n",
        "{'s_1': -30, 's_2': 50}"
       ]
      },
      {
       "output_type": "stream",
       "stream": "stdout",
       "text": [
        "\n",
        "testing"
       ]
      },
      {
       "output_type": "stream",
       "stream": "stdout",
       "text": [
        "\n",
        "{'s_1': -10, 's_2': 0}"
       ]
      },
      {
       "output_type": "stream",
       "stream": "stdout",
       "text": [
        "\n",
        "testing"
       ]
      },
      {
       "output_type": "stream",
       "stream": "stdout",
       "text": [
        "\n",
        "{'s_1': -10, 's_2': 10}"
       ]
      },
      {
       "output_type": "stream",
       "stream": "stdout",
       "text": [
        "\n",
        "testing"
       ]
      },
      {
       "output_type": "stream",
       "stream": "stdout",
       "text": [
        "\n",
        "{'s_1': -10, 's_2': 30}"
       ]
      },
      {
       "output_type": "stream",
       "stream": "stdout",
       "text": [
        "\n",
        "testing"
       ]
      },
      {
       "output_type": "stream",
       "stream": "stdout",
       "text": [
        "\n",
        "{'s_1': -10, 's_2': 50}"
       ]
      },
      {
       "output_type": "stream",
       "stream": "stdout",
       "text": [
        "\n",
        "testing"
       ]
      },
      {
       "output_type": "stream",
       "stream": "stdout",
       "text": [
        "\n",
        "{'s_1': 0, 's_2': 10}"
       ]
      },
      {
       "output_type": "stream",
       "stream": "stdout",
       "text": [
        "\n",
        "testing"
       ]
      },
      {
       "output_type": "stream",
       "stream": "stdout",
       "text": [
        "\n",
        "{'s_1': 0, 's_2': 30}"
       ]
      },
      {
       "output_type": "stream",
       "stream": "stdout",
       "text": [
        "\n",
        "testing"
       ]
      },
      {
       "output_type": "stream",
       "stream": "stdout",
       "text": [
        "\n",
        "{'s_1': 0, 's_2': 50}"
       ]
      },
      {
       "output_type": "stream",
       "stream": "stdout",
       "text": [
        "\n",
        "testing"
       ]
      },
      {
       "output_type": "stream",
       "stream": "stdout",
       "text": [
        "\n",
        "{'s_1': 10, 's_2': 30}"
       ]
      },
      {
       "output_type": "stream",
       "stream": "stdout",
       "text": [
        "\n",
        "testing"
       ]
      },
      {
       "output_type": "stream",
       "stream": "stdout",
       "text": [
        "\n",
        "{'s_1': 10, 's_2': 50}"
       ]
      },
      {
       "output_type": "stream",
       "stream": "stdout",
       "text": [
        "\n",
        "testing"
       ]
      },
      {
       "output_type": "stream",
       "stream": "stdout",
       "text": [
        "\n",
        "{'s_1': 30, 's_2': 50}"
       ]
      },
      {
       "output_type": "stream",
       "stream": "stdout",
       "text": [
        "\n"
       ]
      },
      {
       "ename": "TypeError",
       "evalue": "list indices must be integers, not tuple",
       "output_type": "pyerr",
       "traceback": [
        "\u001b[0;31m---------------------------------------------------------------------------\u001b[0m\n\u001b[0;31mTypeError\u001b[0m                                 Traceback (most recent call last)",
        "\u001b[0;32m<ipython-input-153-360bf65062cd>\u001b[0m in \u001b[0;36m<module>\u001b[0;34m()\u001b[0m\n\u001b[1;32m     14\u001b[0m \u001b[0;32mfor\u001b[0m \u001b[0mi\u001b[0m \u001b[0;32min\u001b[0m \u001b[0mrange\u001b[0m\u001b[0;34m(\u001b[0m\u001b[0ml_sarr\u001b[0m\u001b[0;34m)\u001b[0m\u001b[0;34m:\u001b[0m\u001b[0;34m\u001b[0m\u001b[0m\n\u001b[1;32m     15\u001b[0m     \u001b[0;32mfor\u001b[0m \u001b[0mj\u001b[0m \u001b[0;32min\u001b[0m \u001b[0mrange\u001b[0m\u001b[0;34m(\u001b[0m\u001b[0mi\u001b[0m\u001b[0;34m+\u001b[0m\u001b[0;36m1\u001b[0m\u001b[0;34m,\u001b[0m \u001b[0ml_sarr\u001b[0m\u001b[0;34m)\u001b[0m\u001b[0;34m:\u001b[0m\u001b[0;34m\u001b[0m\u001b[0m\n\u001b[0;32m---> 16\u001b[0;31m         \u001b[0mX\u001b[0m\u001b[0;34m,\u001b[0m \u001b[0mY\u001b[0m\u001b[0;34m,\u001b[0m \u001b[0mZ_nn\u001b[0m\u001b[0;34m,\u001b[0m \u001b[0mZ_opt\u001b[0m \u001b[0;34m=\u001b[0m \u001b[0mget_contours\u001b[0m\u001b[0;34m(\u001b[0m\u001b[0mnn\u001b[0m\u001b[0;34m[\u001b[0m\u001b[0mi\u001b[0m\u001b[0;34m,\u001b[0m \u001b[0mj\u001b[0m\u001b[0;34m]\u001b[0m\u001b[0;34m,\u001b[0m \u001b[0mopt\u001b[0m\u001b[0;34m[\u001b[0m\u001b[0mi\u001b[0m\u001b[0;34m,\u001b[0m \u001b[0mj\u001b[0m\u001b[0;34m]\u001b[0m\u001b[0;34m)\u001b[0m\u001b[0;34m\u001b[0m\u001b[0m\n\u001b[0m\u001b[1;32m     17\u001b[0m         \u001b[0mplt\u001b[0m\u001b[0;34m.\u001b[0m\u001b[0mcontour\u001b[0m\u001b[0;34m(\u001b[0m\u001b[0mX\u001b[0m\u001b[0;34m,\u001b[0m \u001b[0mY\u001b[0m\u001b[0;34m,\u001b[0m \u001b[0mZ_nn\u001b[0m\u001b[0;34m,\u001b[0m \u001b[0mcolors\u001b[0m\u001b[0;34m=\u001b[0m\u001b[0;34m'b'\u001b[0m\u001b[0;34m,\u001b[0m \u001b[0mlevels\u001b[0m\u001b[0;34m=\u001b[0m\u001b[0;34m[\u001b[0m\u001b[0;36m0.003\u001b[0m\u001b[0;34m]\u001b[0m\u001b[0;34m)\u001b[0m\u001b[0;34m\u001b[0m\u001b[0m\n\u001b[1;32m     18\u001b[0m         \u001b[0mplt\u001b[0m\u001b[0;34m.\u001b[0m\u001b[0mcontour\u001b[0m\u001b[0;34m(\u001b[0m\u001b[0mX\u001b[0m\u001b[0;34m,\u001b[0m \u001b[0mY\u001b[0m\u001b[0;34m,\u001b[0m \u001b[0mZ_opt\u001b[0m\u001b[0;34m,\u001b[0m \u001b[0mcolors\u001b[0m\u001b[0;34m=\u001b[0m\u001b[0;34m'r'\u001b[0m\u001b[0;34m,\u001b[0m \u001b[0mlevels\u001b[0m\u001b[0;34m=\u001b[0m\u001b[0;34m[\u001b[0m\u001b[0;36m0.003\u001b[0m\u001b[0;34m]\u001b[0m\u001b[0;34m)\u001b[0m\u001b[0;34m\u001b[0m\u001b[0m\n",
        "\u001b[0;31mTypeError\u001b[0m: list indices must be integers, not tuple"
       ]
      },
      {
       "metadata": {},
       "output_type": "display_data",
       "png": "[encoded data removed]",
       "text": [
        "<matplotlib.figure.Figure at 0x13274d350>"
       ]
      }
     ],
     "prompt_number": 153
    },
    {
     "cell_type": "code",
     "collapsed": false,
     "input": [
      "def plot_contours(nn, opt):\n",
      "    axes().set_aspect('equal')\n",
      "    plt.xlim(-60, 60)\n",
      "    plt.ylim(-60, 60)\n",
      "    axes().set_xlabel(r'\\hat{s_1}',fontsize=16)\n",
      "    axes().set_ylabel(r'\\hat{s_2}',fontsize=16)\n",
      "    for i in range(l_sarr):\n",
      "        for j in range(i+1, l_sarr):\n",
      "            X, Y, Z_nn, Z_opt = get_contours(nn[i][j], opt[i][j])\n",
      "            plt.contour(X, Y, Z_nn, colors='b', levels=[0.003])\n",
      "            plt.contour(X, Y, Z_opt, colors='r', levels=[0.003])\n",
      "            #plt.scatter(nn[i][j][0], nn[i][j][1], c='g', label='Neural Net')\n",
      "            #plt.scatter(opt[i][j][0], opt[i][j][1], c='y', label='MLE')\n",
      "    fig.savefig(\"stimplot.pdf\")\n",
      "plt.figure(figsize=(10,10))\n",
      "plot_contours(nn, opt)"
     ],
     "language": "python",
     "metadata": {},
     "outputs": [
      {
       "metadata": {},
       "output_type": "display_data",
       "png": "[encoded data removed]",
       "text": [
        "<matplotlib.figure.Figure at 0x13d613910>"
       ]
      }
     ],
     "prompt_number": 226
    },
    {
     "cell_type": "code",
     "collapsed": false,
     "input": [
      "def python_relu(x):\n",
      "    return x * (x > 0)\n",
      "nn_params = nn2.get_params()\n",
      "hl_outW = nn_params[('W', 2)]\n",
      "b = nn_params['b']\n",
      "W = nn_params['W']\n",
      "r, _, _ = generate_s_data(-10, 0, 3000)\n",
      "trials = python_relu(np.dot(r, W) + b)\n",
      "hl_cov = np.cov(trials.T)\n",
      "print hl_cov\n",
      "WTQ = np.dot(hl_outW.T, hl_cov)\n",
      "cov = np.dot(WTQ, hl_outW)\n",
      "approx_cov = np.dot(hl_outW.T, hl_outW)\n",
      "imgplot = plt.imshow(cov, extent=[0, 1, 0, 1])\n",
      "plt.colorbar()\n",
      "print cov\n",
      "print approx_cov"
     ],
     "language": "python",
     "metadata": {},
     "outputs": [
      {
       "output_type": "stream",
       "stream": "stdout",
       "text": [
        "[[  4.84906446e-03  -5.59789096e-03  -7.72031720e-05 ...,   0.00000000e+00\n",
        "   -7.10152170e-03  -7.32197789e-04]\n",
        " [ -5.59789096e-03   1.30788603e+00   1.62660230e-02 ...,   0.00000000e+00\n",
        "   -7.67838309e-02  -3.74670943e-01]\n",
        " [ -7.72031720e-05   1.62660230e-02   6.69873766e-03 ...,   0.00000000e+00\n",
        "    4.19320618e-03  -1.20062681e-02]\n",
        " ..., \n",
        " [  0.00000000e+00   0.00000000e+00   0.00000000e+00 ...,   0.00000000e+00\n",
        "    0.00000000e+00   0.00000000e+00]\n",
        " [ -7.10152170e-03  -7.67838309e-02   4.19320618e-03 ...,   0.00000000e+00\n",
        "    1.40218719e+00   1.52110528e-01]\n",
        " [ -7.32197789e-04  -3.74670943e-01  -1.20062681e-02 ...,   0.00000000e+00\n",
        "    1.52110528e-01   1.19940935e+00]]\n",
        "[[ 0.00093214 -0.00043296]\n",
        " [-0.00043296  0.00162746]]"
       ]
      },
      {
       "output_type": "stream",
       "stream": "stdout",
       "text": [
        "\n",
        "[[ 0.0967043  -0.02647319]\n",
        " [-0.02647319  0.05968003]]\n"
       ]
      },
      {
       "metadata": {},
       "output_type": "display_data",
       "png": "[encoded data removed]",
       "text": [
        "<matplotlib.figure.Figure at 0x13d42d790>"
       ]
      }
     ],
     "prompt_number": 225
    },
    {
     "cell_type": "code",
     "collapsed": false,
     "input": [
      "nn1_1 = np.mean(np.square(nn_preds1[0] - s1))\n",
      "nn1_2 = np.mean(np.square(nn_preds1[1] - s2))\n",
      "nn2_1 = np.mean(np.square(nn_preds2[0] - s1))\n",
      "nn2_2 = np.mean(np.square(nn_preds2[1] - s2))\n",
      "nn3_1 = np.mean(np.square(nn_preds3[0] - s1))\n",
      "nn3_2 = np.mean(np.square(nn_preds3[1] - s2))\n",
      "opt1_1 = np.mean(np.square(opt_preds1[0] - s1))\n",
      "opt1_2 = np.mean(np.square(opt_preds1[1] - s2))\n",
      "opt2_1 = np.mean(np.square(opt_preds2[0] - s1))\n",
      "opt2_2 = np.mean(np.square(opt_preds2[1] - s2))\n",
      "opt3_1 = np.mean(np.square(opt_preds3[0] - s1))\n",
      "opt3_2 = np.mean(np.square(opt_preds3[1] - s2))"
     ],
     "language": "python",
     "metadata": {},
     "outputs": [],
     "prompt_number": 20
    },
    {
     "cell_type": "code",
     "collapsed": false,
     "input": [
      "%matplotlib inline\n",
      "plot1 = [nn1_1, nn2_1, nn3_1, opt1_1]\n",
      "plot2 = [nn1_2, nn2_2, nn3_2, opt1_2]\n",
      "def plot_MSEs()\n",
      "ind = np.arange(4)\n",
      "width = 0.35\n",
      "fig, ax = plt.subplots()\n",
      "rects1 = ax.bar(ind, plot1, width)\n",
      "rects2 = ax.bar(ind+width, plot2, width, color='y')\n",
      "ax.set_xticks(ind+width)\n",
      "ax.set_xticklabels(('NN 3000', 'NN 20000', 'NN 100000', 'Optimal'))\n",
      "ax.legend((rects1[0], rects2[0]), ('s 1', 's 2'))\n",
      "fig.savefig('mse.pdf')"
     ],
     "language": "python",
     "metadata": {},
     "outputs": [
      {
       "metadata": {},
       "output_type": "display_data",
       "png": "[encoded data removed]",
       "text": [
        "<matplotlib.figure.Figure at 0x113f7a0d0>"
       ]
      }
     ],
     "prompt_number": 21
    },
    {
     "cell_type": "code",
     "collapsed": false,
     "input": [
      "def get_statistics(s1, s2, nn_preds, opt_preds):\n",
      "    mse_nn = np.mean(np.square(nn_preds[0] - s1) + np.square(nn_preds[1] - s2))\n",
      "    mse_opt = np.mean(np.square(opt_preds[0] - s1) + np.square(opt_preds[1] - s2))\n",
      "    covmat_nn = np.cov(nn_preds)\n",
      "    covmat_opt = np.cov(opt_preds)\n",
      "    var_s1_nn = covmat_nn[0, 0]\n",
      "    var_s2_nn = covmat_nn[1, 1]\n",
      "    cov_nn = covmat_nn[0, 1]\n",
      "    var_s1_opt = covmat_opt[0, 0]\n",
      "    var_s2_opt = covmat_opt[1, 1]\n",
      "    cov_opt = covmat_opt[0, 1]\n",
      "    bias_nn = np.sqrt(mse_nn - (var_s1_nn + var_s2_nn))\n",
      "    bias_opt = np.sqrt(mse_opt - (var_s1_opt + var_s2_opt))\n",
      "    nn_stats = {'bias': bias_nn, 'var_s1': var_s1_nn, 'var_s2': var_s2_nn, 'cov': cov_nn}\n",
      "    opt_stats = {'bias': bias_opt, 'var_s1': var_s1_opt, 'var_s2': var_s2_opt, 'cov': cov_opt}\n",
      "    return nn_stats, opt_stats"
     ],
     "language": "python",
     "metadata": {},
     "outputs": [
      {
       "output_type": "stream",
       "stream": "stdout",
       "text": [
        "testing\n",
        "{'s_1': -30, 's_2': 30}"
       ]
      },
      {
       "output_type": "stream",
       "stream": "stdout",
       "text": [
        "\n"
       ]
      }
     ],
     "prompt_number": 247
    },
    {
     "cell_type": "code",
     "collapsed": false,
     "input": [
      "s1 = -30\n",
      "s2 = 30\n",
      "nn_preds, opt_preds = test_models(s1, s2, nn2, nnx2, sm)\n",
      "get_statistics(s1, s2, nn_preds, opt_preds)"
     ],
     "language": "python",
     "metadata": {},
     "outputs": [
      {
       "output_type": "stream",
       "stream": "stdout",
       "text": [
        "testing\n",
        "{'s_1': -30, 's_2': 30}"
       ]
      },
      {
       "output_type": "stream",
       "stream": "stdout",
       "text": [
        "\n"
       ]
      },
      {
       "metadata": {},
       "output_type": "pyout",
       "prompt_number": 248,
       "text": [
        "({'bias': 1.250758969422993,\n",
        "  'cov': 2.6771044296223416,\n",
        "  'var_s1': 18.507119144023651,\n",
        "  'var_s2': 27.462639004016182},\n",
        " {'bias': nan,\n",
        "  'cov': 0.09424001313685243,\n",
        "  'var_s1': 2.444327708808097,\n",
        "  'var_s2': 2.6252172096262325})"
       ]
      }
     ],
     "prompt_number": 248
    },
    {
     "cell_type": "code",
     "collapsed": false,
     "input": [
      "s1 = -30\n",
      "num_deltas = 60\n",
      "bias_nn = [None] * num_deltas\n",
      "var_s1_nn = [None] * num_deltas\n",
      "var_s2_nn = [None] * num_deltas\n",
      "cov_nn = [None] * num_deltas\n",
      "bias_opt = [None] * num_deltas\n",
      "var_s1_opt = [None] * num_deltas\n",
      "var_s2_opt = [None] * num_deltas\n",
      "cov_opt = [None] * num_deltas\n",
      "var_s1_fisher = [None] * num_deltas\n",
      "var_s2_fisher = [None] * num_deltas\n",
      "cov_fisher = [None] * num_deltas\n",
      "for delta_s in range(num_deltas):\n",
      "    nn_preds, opt_preds = test_models(s1, s1 + delta_s, nn2, nnx2, sm)\n",
      "    nn_stats, opt_stats = get_statistics(s1, s1 + delta_s, nn_preds, opt_preds)\n",
      "    Js1, Js2, Jcov, _ = fisher_inf(s1, s1 + delta_s, .5, .5)\n",
      "    bias_nn[delta_s] = nn_stats['bias']\n",
      "    var_s1_nn[delta_s] = nn_stats['var_s1']\n",
      "    var_s2_nn[delta_s] = nn_stats['var_s2']\n",
      "    cov_nn[delta_s] = nn_stats['cov']\n",
      "    bias_opt[delta_s] = opt_stats['bias']\n",
      "    var_s1_opt[delta_s] = opt_stats['var_s1']\n",
      "    var_s2_opt[delta_s] = opt_stats['var_s2']\n",
      "    cov_opt[delta_s] = opt_stats['cov']\n",
      "    var_s1_fisher[delta_s] = 1/Js1\n",
      "    var_s2_fisher[delta_s] = 1/Js2\n",
      "    cov_fisher[delta_s] = 1/Jcov"
     ],
     "language": "python",
     "metadata": {},
     "outputs": [
      {
       "output_type": "stream",
       "stream": "stdout",
       "text": [
        "testing\n",
        "{'s_1': -30, 's_2': -30}"
       ]
      },
      {
       "output_type": "stream",
       "stream": "stdout",
       "text": [
        "\n",
        "testing"
       ]
      },
      {
       "output_type": "stream",
       "stream": "stdout",
       "text": [
        "\n",
        "{'s_1': -30, 's_2': -29}"
       ]
      },
      {
       "output_type": "stream",
       "stream": "stdout",
       "text": [
        "\n",
        "testing"
       ]
      },
      {
       "output_type": "stream",
       "stream": "stdout",
       "text": [
        "\n",
        "{'s_1': -30, 's_2': -28}"
       ]
      },
      {
       "output_type": "stream",
       "stream": "stdout",
       "text": [
        "\n",
        "testing"
       ]
      },
      {
       "output_type": "stream",
       "stream": "stdout",
       "text": [
        "\n",
        "{'s_1': -30, 's_2': -27}"
       ]
      },
      {
       "output_type": "stream",
       "stream": "stdout",
       "text": [
        "\n",
        "testing"
       ]
      },
      {
       "output_type": "stream",
       "stream": "stdout",
       "text": [
        "\n",
        "{'s_1': -30, 's_2': -26}"
       ]
      },
      {
       "output_type": "stream",
       "stream": "stdout",
       "text": [
        "\n",
        "testing"
       ]
      },
      {
       "output_type": "stream",
       "stream": "stdout",
       "text": [
        "\n",
        "{'s_1': -30, 's_2': -25}"
       ]
      },
      {
       "output_type": "stream",
       "stream": "stdout",
       "text": [
        "\n",
        "testing"
       ]
      },
      {
       "output_type": "stream",
       "stream": "stdout",
       "text": [
        "\n",
        "{'s_1': -30, 's_2': -24}"
       ]
      },
      {
       "output_type": "stream",
       "stream": "stdout",
       "text": [
        "\n",
        "testing"
       ]
      },
      {
       "output_type": "stream",
       "stream": "stdout",
       "text": [
        "\n",
        "{'s_1': -30, 's_2': -23}"
       ]
      },
      {
       "output_type": "stream",
       "stream": "stdout",
       "text": [
        "\n",
        "testing"
       ]
      },
      {
       "output_type": "stream",
       "stream": "stdout",
       "text": [
        "\n",
        "{'s_1': -30, 's_2': -22}"
       ]
      },
      {
       "output_type": "stream",
       "stream": "stdout",
       "text": [
        "\n",
        "testing"
       ]
      },
      {
       "output_type": "stream",
       "stream": "stdout",
       "text": [
        "\n",
        "{'s_1': -30, 's_2': -21}"
       ]
      },
      {
       "output_type": "stream",
       "stream": "stdout",
       "text": [
        "\n",
        "testing"
       ]
      },
      {
       "output_type": "stream",
       "stream": "stdout",
       "text": [
        "\n",
        "{'s_1': -30, 's_2': -20}"
       ]
      },
      {
       "output_type": "stream",
       "stream": "stdout",
       "text": [
        "\n",
        "testing"
       ]
      },
      {
       "output_type": "stream",
       "stream": "stdout",
       "text": [
        "\n",
        "{'s_1': -30, 's_2': -19}"
       ]
      },
      {
       "output_type": "stream",
       "stream": "stdout",
       "text": [
        "\n",
        "testing"
       ]
      },
      {
       "output_type": "stream",
       "stream": "stdout",
       "text": [
        "\n",
        "{'s_1': -30, 's_2': -18}"
       ]
      },
      {
       "output_type": "stream",
       "stream": "stdout",
       "text": [
        "\n",
        "testing"
       ]
      },
      {
       "output_type": "stream",
       "stream": "stdout",
       "text": [
        "\n",
        "{'s_1': -30, 's_2': -17}"
       ]
      },
      {
       "output_type": "stream",
       "stream": "stdout",
       "text": [
        "\n",
        "testing"
       ]
      },
      {
       "output_type": "stream",
       "stream": "stdout",
       "text": [
        "\n",
        "{'s_1': -30, 's_2': -16}"
       ]
      },
      {
       "output_type": "stream",
       "stream": "stdout",
       "text": [
        "\n",
        "testing"
       ]
      },
      {
       "output_type": "stream",
       "stream": "stdout",
       "text": [
        "\n",
        "{'s_1': -30, 's_2': -15}"
       ]
      },
      {
       "output_type": "stream",
       "stream": "stdout",
       "text": [
        "\n",
        "testing"
       ]
      },
      {
       "output_type": "stream",
       "stream": "stdout",
       "text": [
        "\n",
        "{'s_1': -30, 's_2': -14}"
       ]
      },
      {
       "output_type": "stream",
       "stream": "stdout",
       "text": [
        "\n",
        "testing"
       ]
      },
      {
       "output_type": "stream",
       "stream": "stdout",
       "text": [
        "\n",
        "{'s_1': -30, 's_2': -13}"
       ]
      },
      {
       "output_type": "stream",
       "stream": "stdout",
       "text": [
        "\n",
        "testing"
       ]
      },
      {
       "output_type": "stream",
       "stream": "stdout",
       "text": [
        "\n",
        "{'s_1': -30, 's_2': -12}"
       ]
      },
      {
       "output_type": "stream",
       "stream": "stdout",
       "text": [
        "\n",
        "testing"
       ]
      },
      {
       "output_type": "stream",
       "stream": "stdout",
       "text": [
        "\n",
        "{'s_1': -30, 's_2': -11}"
       ]
      },
      {
       "output_type": "stream",
       "stream": "stdout",
       "text": [
        "\n",
        "testing"
       ]
      },
      {
       "output_type": "stream",
       "stream": "stdout",
       "text": [
        "\n",
        "{'s_1': -30, 's_2': -10}"
       ]
      },
      {
       "output_type": "stream",
       "stream": "stdout",
       "text": [
        "\n",
        "testing"
       ]
      },
      {
       "output_type": "stream",
       "stream": "stdout",
       "text": [
        "\n",
        "{'s_1': -30, 's_2': -9}"
       ]
      },
      {
       "output_type": "stream",
       "stream": "stdout",
       "text": [
        "\n",
        "testing"
       ]
      },
      {
       "output_type": "stream",
       "stream": "stdout",
       "text": [
        "\n",
        "{'s_1': -30, 's_2': -8}"
       ]
      },
      {
       "output_type": "stream",
       "stream": "stdout",
       "text": [
        "\n",
        "testing"
       ]
      },
      {
       "output_type": "stream",
       "stream": "stdout",
       "text": [
        "\n",
        "{'s_1': -30, 's_2': -7}"
       ]
      },
      {
       "output_type": "stream",
       "stream": "stdout",
       "text": [
        "\n",
        "testing"
       ]
      },
      {
       "output_type": "stream",
       "stream": "stdout",
       "text": [
        "\n",
        "{'s_1': -30, 's_2': -6}"
       ]
      },
      {
       "output_type": "stream",
       "stream": "stdout",
       "text": [
        "\n",
        "testing"
       ]
      },
      {
       "output_type": "stream",
       "stream": "stdout",
       "text": [
        "\n",
        "{'s_1': -30, 's_2': -5}"
       ]
      },
      {
       "output_type": "stream",
       "stream": "stdout",
       "text": [
        "\n",
        "testing"
       ]
      },
      {
       "output_type": "stream",
       "stream": "stdout",
       "text": [
        "\n",
        "{'s_1': -30, 's_2': -4}"
       ]
      },
      {
       "output_type": "stream",
       "stream": "stdout",
       "text": [
        "\n",
        "testing"
       ]
      },
      {
       "output_type": "stream",
       "stream": "stdout",
       "text": [
        "\n",
        "{'s_1': -30, 's_2': -3}"
       ]
      },
      {
       "output_type": "stream",
       "stream": "stdout",
       "text": [
        "\n",
        "testing"
       ]
      },
      {
       "output_type": "stream",
       "stream": "stdout",
       "text": [
        "\n",
        "{'s_1': -30, 's_2': -2}"
       ]
      },
      {
       "output_type": "stream",
       "stream": "stdout",
       "text": [
        "\n",
        "testing"
       ]
      },
      {
       "output_type": "stream",
       "stream": "stdout",
       "text": [
        "\n",
        "{'s_1': -30, 's_2': -1}"
       ]
      },
      {
       "output_type": "stream",
       "stream": "stdout",
       "text": [
        "\n",
        "testing"
       ]
      },
      {
       "output_type": "stream",
       "stream": "stdout",
       "text": [
        "\n",
        "{'s_1': -30, 's_2': 0}"
       ]
      },
      {
       "output_type": "stream",
       "stream": "stdout",
       "text": [
        "\n",
        "testing"
       ]
      },
      {
       "output_type": "stream",
       "stream": "stdout",
       "text": [
        "\n",
        "{'s_1': -30, 's_2': 1}"
       ]
      },
      {
       "output_type": "stream",
       "stream": "stdout",
       "text": [
        "\n",
        "testing"
       ]
      },
      {
       "output_type": "stream",
       "stream": "stdout",
       "text": [
        "\n",
        "{'s_1': -30, 's_2': 2}"
       ]
      },
      {
       "output_type": "stream",
       "stream": "stdout",
       "text": [
        "\n",
        "testing"
       ]
      },
      {
       "output_type": "stream",
       "stream": "stdout",
       "text": [
        "\n",
        "{'s_1': -30, 's_2': 3}"
       ]
      },
      {
       "output_type": "stream",
       "stream": "stdout",
       "text": [
        "\n",
        "testing"
       ]
      },
      {
       "output_type": "stream",
       "stream": "stdout",
       "text": [
        "\n",
        "{'s_1': -30, 's_2': 4}"
       ]
      },
      {
       "output_type": "stream",
       "stream": "stdout",
       "text": [
        "\n",
        "testing"
       ]
      },
      {
       "output_type": "stream",
       "stream": "stdout",
       "text": [
        "\n",
        "{'s_1': -30, 's_2': 5}"
       ]
      },
      {
       "output_type": "stream",
       "stream": "stdout",
       "text": [
        "\n",
        "testing"
       ]
      },
      {
       "output_type": "stream",
       "stream": "stdout",
       "text": [
        "\n",
        "{'s_1': -30, 's_2': 6}"
       ]
      },
      {
       "output_type": "stream",
       "stream": "stdout",
       "text": [
        "\n",
        "testing"
       ]
      },
      {
       "output_type": "stream",
       "stream": "stdout",
       "text": [
        "\n",
        "{'s_1': -30, 's_2': 7}"
       ]
      },
      {
       "output_type": "stream",
       "stream": "stdout",
       "text": [
        "\n",
        "testing"
       ]
      },
      {
       "output_type": "stream",
       "stream": "stdout",
       "text": [
        "\n",
        "{'s_1': -30, 's_2': 8}"
       ]
      },
      {
       "output_type": "stream",
       "stream": "stdout",
       "text": [
        "\n",
        "testing"
       ]
      },
      {
       "output_type": "stream",
       "stream": "stdout",
       "text": [
        "\n",
        "{'s_1': -30, 's_2': 9}"
       ]
      },
      {
       "output_type": "stream",
       "stream": "stdout",
       "text": [
        "\n",
        "testing"
       ]
      },
      {
       "output_type": "stream",
       "stream": "stdout",
       "text": [
        "\n",
        "{'s_1': -30, 's_2': 10}"
       ]
      },
      {
       "output_type": "stream",
       "stream": "stdout",
       "text": [
        "\n",
        "testing"
       ]
      },
      {
       "output_type": "stream",
       "stream": "stdout",
       "text": [
        "\n",
        "{'s_1': -30, 's_2': 11}"
       ]
      },
      {
       "output_type": "stream",
       "stream": "stdout",
       "text": [
        "\n",
        "testing"
       ]
      },
      {
       "output_type": "stream",
       "stream": "stdout",
       "text": [
        "\n",
        "{'s_1': -30, 's_2': 12}"
       ]
      },
      {
       "output_type": "stream",
       "stream": "stdout",
       "text": [
        "\n",
        "testing"
       ]
      },
      {
       "output_type": "stream",
       "stream": "stdout",
       "text": [
        "\n",
        "{'s_1': -30, 's_2': 13}"
       ]
      },
      {
       "output_type": "stream",
       "stream": "stdout",
       "text": [
        "\n",
        "testing"
       ]
      },
      {
       "output_type": "stream",
       "stream": "stdout",
       "text": [
        "\n",
        "{'s_1': -30, 's_2': 14}"
       ]
      },
      {
       "output_type": "stream",
       "stream": "stdout",
       "text": [
        "\n",
        "testing"
       ]
      },
      {
       "output_type": "stream",
       "stream": "stdout",
       "text": [
        "\n",
        "{'s_1': -30, 's_2': 15}"
       ]
      },
      {
       "output_type": "stream",
       "stream": "stdout",
       "text": [
        "\n",
        "testing"
       ]
      },
      {
       "output_type": "stream",
       "stream": "stdout",
       "text": [
        "\n",
        "{'s_1': -30, 's_2': 16}"
       ]
      },
      {
       "output_type": "stream",
       "stream": "stdout",
       "text": [
        "\n",
        "testing"
       ]
      },
      {
       "output_type": "stream",
       "stream": "stdout",
       "text": [
        "\n",
        "{'s_1': -30, 's_2': 17}"
       ]
      },
      {
       "output_type": "stream",
       "stream": "stdout",
       "text": [
        "\n",
        "testing"
       ]
      },
      {
       "output_type": "stream",
       "stream": "stdout",
       "text": [
        "\n",
        "{'s_1': -30, 's_2': 18}"
       ]
      },
      {
       "output_type": "stream",
       "stream": "stdout",
       "text": [
        "\n",
        "testing"
       ]
      },
      {
       "output_type": "stream",
       "stream": "stdout",
       "text": [
        "\n",
        "{'s_1': -30, 's_2': 19}"
       ]
      },
      {
       "output_type": "stream",
       "stream": "stdout",
       "text": [
        "\n",
        "testing"
       ]
      },
      {
       "output_type": "stream",
       "stream": "stdout",
       "text": [
        "\n",
        "{'s_1': -30, 's_2': 20}"
       ]
      },
      {
       "output_type": "stream",
       "stream": "stdout",
       "text": [
        "\n",
        "testing"
       ]
      },
      {
       "output_type": "stream",
       "stream": "stdout",
       "text": [
        "\n",
        "{'s_1': -30, 's_2': 21}"
       ]
      },
      {
       "output_type": "stream",
       "stream": "stdout",
       "text": [
        "\n",
        "testing"
       ]
      },
      {
       "output_type": "stream",
       "stream": "stdout",
       "text": [
        "\n",
        "{'s_1': -30, 's_2': 22}"
       ]
      },
      {
       "output_type": "stream",
       "stream": "stdout",
       "text": [
        "\n",
        "testing"
       ]
      },
      {
       "output_type": "stream",
       "stream": "stdout",
       "text": [
        "\n",
        "{'s_1': -30, 's_2': 23}"
       ]
      },
      {
       "output_type": "stream",
       "stream": "stdout",
       "text": [
        "\n",
        "testing"
       ]
      },
      {
       "output_type": "stream",
       "stream": "stdout",
       "text": [
        "\n",
        "{'s_1': -30, 's_2': 24}"
       ]
      },
      {
       "output_type": "stream",
       "stream": "stdout",
       "text": [
        "\n",
        "testing"
       ]
      },
      {
       "output_type": "stream",
       "stream": "stdout",
       "text": [
        "\n",
        "{'s_1': -30, 's_2': 25}"
       ]
      },
      {
       "output_type": "stream",
       "stream": "stdout",
       "text": [
        "\n",
        "testing"
       ]
      },
      {
       "output_type": "stream",
       "stream": "stdout",
       "text": [
        "\n",
        "{'s_1': -30, 's_2': 26}"
       ]
      },
      {
       "output_type": "stream",
       "stream": "stdout",
       "text": [
        "\n",
        "testing"
       ]
      },
      {
       "output_type": "stream",
       "stream": "stdout",
       "text": [
        "\n",
        "{'s_1': -30, 's_2': 27}"
       ]
      },
      {
       "output_type": "stream",
       "stream": "stdout",
       "text": [
        "\n",
        "testing"
       ]
      },
      {
       "output_type": "stream",
       "stream": "stdout",
       "text": [
        "\n",
        "{'s_1': -30, 's_2': 28}"
       ]
      },
      {
       "output_type": "stream",
       "stream": "stdout",
       "text": [
        "\n",
        "testing"
       ]
      },
      {
       "output_type": "stream",
       "stream": "stdout",
       "text": [
        "\n",
        "{'s_1': -30, 's_2': 29}"
       ]
      },
      {
       "output_type": "stream",
       "stream": "stdout",
       "text": [
        "\n"
       ]
      }
     ],
     "prompt_number": 352
    },
    {
     "cell_type": "code",
     "collapsed": false,
     "input": [
      "plt.clf()\n",
      "plt.close()\n",
      "f, (ax1, ax2, ax3, ax4) = plt.subplots(4)\n",
      "ax1.bar(range(1, 58), bias_nn)\n",
      "ax2.bar(range(1, 59), var_s1_nn)\n",
      "ax3.bar(range(1, 59), var_s2_nn)\n",
      "ax4.bar(range(1, 59), cov_nn)\n",
      "ax1.locator_params(axis = 'y', nbins = 4)\n",
      "ax2.locator_params(axis = 'y', nbins = 4)\n",
      "ax3.locator_params(axis = 'y', nbins = 4)\n",
      "ax4.locator_params(axis = 'y', nbins = 4)\n",
      "ax1.set_title(\"NN Bias\")\n",
      "ax2.set_title(r'NN Variance $s_1$')\n",
      "ax3.set_title(r'NN Variance $s_2$')\n",
      "ax4.set_title('NN Covariance')\n",
      "ax4.set_xlabel(r'$\\Delta$ s')\n",
      "#f = plt.figure(figsize=(10,10))\n",
      "plt.tight_layout()\n",
      "fig.savefig('nn_statistics.pdf')"
     ],
     "language": "python",
     "metadata": {},
     "outputs": [
      {
       "metadata": {},
       "output_type": "display_data",
       "png": "[encoded data removed]",
       "text": [
        "<matplotlib.figure.Figure at 0x12c65bc10>"
       ]
      }
     ],
     "prompt_number": 306
    },
    {
     "cell_type": "code",
     "collapsed": false,
     "input": [
      "plt.clf()\n",
      "plt.close()\n",
      "f, (ax1, ax2, ax3, ax4) = plt.subplots(4)\n",
      "ax1.bar(range(1, 59), bias_opt)\n",
      "ax2.bar(range(1, 59), var_s1_opt)\n",
      "ax3.bar(range(1, 59), var_s2_opt)\n",
      "ax4.bar(range(1, 59), cov_opt)\n",
      "ax1.locator_params(axis = 'y', nbins = 4)\n",
      "ax2.locator_params(axis = 'y', nbins = 4)\n",
      "ax3.locator_params(axis = 'y', nbins = 4)\n",
      "ax4.locator_params(axis = 'y', nbins = 4)\n",
      "ax1.set_title(\"MLE Bias\")\n",
      "ax2.set_title(r'MLE Variance $s_1$')\n",
      "ax3.set_title(r'MLE Variance $s_2$')\n",
      "ax4.set_title('MLE Covariance')\n",
      "ax4.set_xlabel(r'$\\Delta$ s')\n",
      "#f = plt.figure(figsize=(10,10))\n",
      "plt.tight_layout()\n",
      "fig.savefig('opt_statistics.pdf')"
     ],
     "language": "python",
     "metadata": {},
     "outputs": [
      {
       "metadata": {},
       "output_type": "display_data",
       "png": "[encoded data removed]",
       "text": [
        "<matplotlib.figure.Figure at 0x137cba0d0>"
       ]
      }
     ],
     "prompt_number": 309
    },
    {
     "cell_type": "code",
     "collapsed": false,
     "input": [
      "f, (ax1, ax2, ax3, ax4) = plt.subplots(4)\n",
      "ax1.plot(range(1, 61), bias_nn, c='b', label='Neural Net')\n",
      "ax2.plot(range(1, 61), var_s1_nn, c='b', label='Neural Net')\n",
      "ax3.plot(range(1, 61), var_s2_nn, c='b', label='Neural Net')\n",
      "ax4.plot(range(1, 61), cov_nn, c='b', label='Neural Net')\n",
      "ax1.plot(range(1, 61), bias_opt, c='r', label='MLE')\n",
      "ax2.plot(range(1, 61), var_s1_opt, c='r', label='MLE')\n",
      "ax3.plot(range(1, 61), var_s2_opt, c='r', label='MLE')\n",
      "ax4.plot(range(1, 61), cov_opt, c='r', label='MLE')\n",
      "ax2.plot(range(1, 61), var_s1_fisher, c='g', label='Fisher')\n",
      "ax3.plot(range(1, 61), var_s2_fisher, c='g', label='Fisher')\n",
      "ax4.plot(range(1, 61), cov_fisher, c='g', label='Fisher')\n",
      "ax1.locator_params(axis = 'y', nbins = 4)\n",
      "ax2.locator_params(axis = 'y', nbins = 4)\n",
      "ax3.locator_params(axis = 'y', nbins = 4)\n",
      "ax4.locator_params(axis = 'y', nbins = 4)\n",
      "#ax1.legend()\n",
      "ax1.set_title(\"Bias\")\n",
      "ax2.set_title(r'Variance $s_1$')\n",
      "ax3.set_title(r'Variance $s_2$')\n",
      "ax4.set_title('Covariance')\n",
      "ax4.set_xlabel(r'$\\Delta$ s')\n",
      "#f = plt.figure(figsize=(10,10))\n",
      "plt.tight_layout()\n",
      "fig.savefig('nn_statistics.pdf')"
     ],
     "language": "python",
     "metadata": {},
     "outputs": [
      {
       "metadata": {},
       "output_type": "display_data",
       "png": "[encoded data removed]",
       "text": [
        "<matplotlib.figure.Figure at 0x1336df750>"
       ]
      }
     ],
     "prompt_number": 353
    },
    {
     "cell_type": "code",
     "collapsed": false,
     "input": [
      "def fisher_inf(s_0, s_1, c_0, c_1):\n",
      "    fs_0 = np.exp(-np.square((np.transpose(np.tile(s_0, (nneuron, 1))) - sprefs))/(2 * sigtc_sq))[0]\n",
      "    qs_0 = r_max * c_0 * fs_0\n",
      "    df_s0 = ((-s_0 + sprefs)/sigtc_sq) * qs_0\n",
      "    fs_1 = np.exp(-np.square((np.transpose(np.tile(s_1, (nneuron, 1))) - sprefs))/(2 * sigtc_sq))[0]\n",
      "    qs_1 = r_max * c_1 * fs_1\n",
      "    df_s1 = ((-s_1 + sprefs)/sigtc_sq) * qs_1\n",
      "    print qs_0\n",
      "    print df_s0\n",
      "    print df_s0 * df_s1\n",
      "    Q = qs_0 + qs_1\n",
      "    Q_inv = 1/Q\n",
      "    print Q_inv\n",
      "    print np.square(df_s1) * Q_inv\n",
      "    print df_s0 * df_s1 * Q_inv\n",
      "    print np.sum(df_s0 * df_s1 * Q_inv)\n",
      "    J_11 = np.sum(np.square(df_s0) * Q_inv)\n",
      "    J_22 = np.sum(np.square(df_s1) * Q_inv)\n",
      "    J_12 = J_21 = np.sum(df_s0 * df_s1 * Q_inv)\n",
      "    return J_11, J_22, J_12, J_21\n",
      "\n",
      "J11, J22, J12, _ = fisher_inf(-30, -14, .5, .5)\n",
      "print 1/J11, 1/J22, 1/J12"
     ],
     "language": "python",
     "metadata": {},
     "outputs": [
      {
       "output_type": "stream",
       "stream": "stdout",
       "text": [
        "[  7.61498987e-08   4.40408960e-07   2.32785786e-06   1.12452798e-05\n",
        "   4.96475215e-05   2.00326487e-04   7.38741801e-04   2.48977711e-03\n",
        "   7.66905340e-03   2.15892000e-02   5.55449827e-02   1.30607049e-01\n",
        "   2.80673814e-01   5.51252627e-01   9.89493495e-01   1.62326234e+00\n",
        "   2.43376128e+00   3.33488405e+00   4.17635106e+00   4.77998741e+00\n",
        "   5.00000000e+00   4.77998741e+00   4.17635106e+00   3.33488405e+00\n",
        "   2.43376128e+00   1.62326234e+00   9.89493495e-01   5.51252627e-01\n",
        "   2.80673814e-01   1.30607049e-01   5.55449827e-02   2.15892000e-02\n",
        "   7.66905340e-03   2.48977711e-03   7.38741801e-04   2.00326487e-04\n",
        "   4.96475215e-05   1.12452798e-05   2.32785786e-06   4.40408960e-07\n",
        "   7.61498987e-08   1.20336122e-08   1.73794564e-09   2.29398124e-10\n",
        "   2.76730504e-11   3.05096834e-12   3.07419821e-13   2.83099776e-14\n",
        "   2.38265237e-15   1.83271670e-16   1.28837855e-17   8.27761331e-19\n",
        "   4.86049251e-20   2.60836833e-21   1.27929604e-22   5.73438291e-24\n",
        "   2.34917743e-25   8.79545775e-27   3.00964014e-28   9.41204924e-30\n",
        "   2.69009308e-31]\n",
        "[ -4.56899392e-08  -2.51033107e-07  -1.25704324e-06  -5.73509272e-06\n",
        "  -2.38308103e-05  -9.01469191e-05  -3.10271556e-04  -9.71013072e-04\n",
        "  -2.76085922e-03  -7.12443601e-03  -1.66634948e-02  -3.52639033e-02\n",
        "  -6.73617154e-02  -1.15763052e-01  -1.78108829e-01  -2.43489351e-01\n",
        "  -2.92051354e-01  -3.00139565e-01  -2.50581063e-01  -1.43399622e-01\n",
        "   0.00000000e+00   1.43399622e-01   2.50581063e-01   3.00139565e-01\n",
        "   2.92051354e-01   2.43489351e-01   1.78108829e-01   1.15763052e-01\n",
        "   6.73617154e-02   3.52639033e-02   1.66634948e-02   7.12443601e-03\n",
        "   2.76085922e-03   9.71013072e-04   3.10271556e-04   9.01469191e-05\n",
        "   2.38308103e-05   5.73509272e-06   1.25704324e-06   2.51033107e-07\n",
        "   4.56899392e-08   7.58117567e-09   1.14704412e-09   1.58284706e-10\n",
        "   1.99245963e-11   2.28822625e-12   2.39787460e-13   2.29310818e-14\n",
        "   2.00142799e-15   1.59446353e-16   1.15954070e-17   7.69818038e-19\n",
        "   4.66607281e-20   2.58228465e-21   1.30488196e-22   6.02110206e-24\n",
        "   2.53711162e-25   9.76295810e-27   3.43098976e-28   1.10120976e-29\n",
        "   3.22811170e-31]\n",
        "[  4.97942895e-20   2.45610764e-18   1.00740350e-16   3.43435831e-15\n",
        "   9.72607914e-14   2.28666157e-12   4.45971162e-11   7.20864654e-10\n",
        "   9.64619895e-09   1.06711523e-07   9.74222842e-07   7.32346072e-06\n",
        "   4.51946761e-05   2.28032089e-04   9.35216725e-04   3.09048531e-03\n",
        "   8.11246601e-03   1.64840152e-02   2.45102808e-02   2.24062962e-02\n",
        "  -0.00000000e+00  -4.00389359e-02  -7.59925489e-02  -8.22222098e-02\n",
        "  -5.39194757e-02  -1.21137471e-02   1.74582038e-02   2.55401336e-02\n",
        "   1.95658579e-02   1.05911937e-02   4.37779618e-03   1.42762416e-03\n",
        "   3.73641665e-04   7.92891957e-05   1.37331438e-05   1.95034120e-06\n",
        "   2.27861549e-07   2.19545627e-08   1.74782384e-09   1.15143584e-10\n",
        "   6.28452816e-12   2.84460435e-13   1.06865890e-14   3.33440869e-16\n",
        "   8.64589755e-18   1.86391251e-19   3.34232147e-21   4.98697252e-23\n",
        "   6.19341903e-25   6.40398824e-27   5.51448305e-29   3.95538622e-31\n",
        "   2.36367674e-33   1.17700628e-35   4.88460829e-38   1.68967448e-40\n",
        "   4.87253461e-43   1.17148448e-45   2.34852118e-48   3.92619062e-51\n",
        "   5.47401919e-54]\n",
        "[  1.31317465e+07   2.27054774e+06   4.29558368e+05   8.89191323e+04\n",
        "   2.01394055e+04   4.99081514e+03   1.35319898e+03   4.01424753e+02\n",
        "   1.30280047e+02   4.62539656e+01   1.79623253e+01   7.62834599e+00\n",
        "   3.54168942e+00   1.79669834e+00   9.95087182e-01   6.00887207e-01\n",
        "   3.94793970e-01   2.81328082e-01   2.16405289e-01   1.78496215e-01\n",
        "   1.56489955e-01   1.44346506e-01   1.38715411e-01   1.37961353e-01\n",
        "   1.41857191e-01   1.51553620e-01   1.69765254e-01   2.01461111e-01\n",
        "   2.55661692e-01   3.49530680e-01   5.17571427e-01   8.33111460e-01\n",
        "   1.46125027e+00   2.79707334e+00   5.84877357e+00   1.33682232e+01\n",
        "   3.34115587e+01   9.13350371e+01   2.73124051e+02   8.93519801e+02\n",
        "   3.19812034e+03   1.25241163e+04   5.36624521e+04   2.51576997e+05\n",
        "   1.29048203e+06   7.24295615e+06   4.44799202e+07   2.98880273e+08\n",
        "   2.19743554e+09   1.76775065e+10   1.55600877e+11   1.49861258e+12\n",
        "   1.57925799e+13   1.82097179e+14   2.29741689e+15   3.17148654e+16\n",
        "   4.79040708e+17   7.91714249e+18   1.43169661e+20   2.83282687e+21\n",
        "   6.13303679e+22]\n",
        "[  1.55969762e-17   2.17351893e-16   2.75885362e-15   3.18864035e-14\n",
        "   3.35462999e-13   3.21124537e-12   2.79570463e-11   2.21238884e-10\n",
        "   1.59038332e-09   1.03769717e-08   6.13969775e-08   3.29004874e-07\n",
        "   1.59425855e-06   6.97151502e-06   2.74356191e-05   9.68024576e-05\n",
        "   3.04619600e-04   8.48579623e-04   2.07046527e-03   4.35785868e-03\n",
        "   7.74234584e-03   1.12531813e-02   1.27576369e-02   1.03535488e-02\n",
        "   4.83530898e-03   3.75114091e-04   1.63108663e-03   9.80612945e-03\n",
        "   2.15693557e-02   3.15293021e-02   3.57231040e-02   3.34526023e-02\n",
        "   2.67637322e-02   1.86501241e-02   1.14583165e-02   6.25738820e-03\n",
        "   3.05464825e-03   1.33846218e-03   5.28025417e-04   1.87984336e-04\n",
        "   6.05060766e-05   1.76326550e-05   4.65788202e-06   1.11642790e-06\n",
        "   2.42992614e-07   4.80583629e-08   8.64186550e-09   1.41358560e-09\n",
        "   2.10424902e-10   2.85162805e-11   3.51924627e-12   3.95631625e-13\n",
        "   4.05252986e-14   3.78314122e-15   3.21926582e-16   2.49756605e-17\n",
        "   1.76686406e-18   1.13993133e-19   6.70812453e-21   3.60099643e-22\n",
        "   1.76356347e-23]\n",
        "[  6.53885989e-13   5.57670965e-12   4.32738603e-11   3.05380161e-10\n",
        "   1.95877452e-09   1.14123052e-08   6.03487720e-08   2.89372916e-07\n",
        "   1.25670726e-06   4.93583113e-06   1.74993076e-05   5.58658922e-05\n",
        "   1.60065506e-04   4.09704877e-04   9.30622175e-04   1.85703309e-03\n",
        "   3.20275266e-03   4.63741637e-03   5.30415441e-03   3.99943906e-03\n",
        "  -0.00000000e+00  -5.77948050e-03  -1.05413376e-02  -1.13434873e-02\n",
        "  -7.64886538e-03  -1.83588223e-03   2.96379641e-03   5.14534370e-03\n",
        "   5.00224034e-03   3.70194713e-03   2.26582222e-03   1.18937005e-03\n",
        "   5.45983983e-04   2.21777696e-04   8.03220485e-05   2.60725964e-05\n",
        "   7.61320952e-06   2.00522079e-06   4.77372729e-07   1.02883072e-07\n",
        "   2.00986773e-08   3.56261556e-09   5.73468573e-10   8.38860526e-11\n",
        "   1.11573754e-11   1.35002366e-12   1.48666192e-13   1.49050771e-14\n",
        "   1.36096391e-15   1.13206544e-16   8.58058397e-18   5.92759154e-19\n",
        "   3.73285538e-20   2.14329524e-21   1.12219816e-22   5.35877986e-24\n",
        "   2.33414243e-25   9.27480955e-27   3.36236982e-28   1.11222183e-29\n",
        "   3.35723611e-31]\n",
        "0.0045849554878\n",
        "3.89004650102 3.89004641539 218.104625587\n"
       ]
      }
     ],
     "prompt_number": 343
    },
    {
     "cell_type": "code",
     "collapsed": false,
     "input": [
      "nn_preds, opt_preds = test_models(-30, -30, nn2, nnx2, sm)"
     ],
     "language": "python",
     "metadata": {},
     "outputs": [
      {
       "output_type": "stream",
       "stream": "stdout",
       "text": [
        "testing\n",
        "{'s_1': -30, 's_2': -30}"
       ]
      },
      {
       "output_type": "stream",
       "stream": "stdout",
       "text": [
        "\n"
       ]
      }
     ],
     "prompt_number": 350
    },
    {
     "cell_type": "code",
     "collapsed": false,
     "input": [
      "print opt_preds"
     ],
     "language": "python",
     "metadata": {},
     "outputs": [
      {
       "output_type": "stream",
       "stream": "stdout",
       "text": [
        "[[-31.63331131 -32.57756127 -29.40740754 ..., -31.49031849 -30.51064169\n",
        "  -31.24431459]\n",
        " [-26.99448634 -29.25406666 -29.40740729 ..., -26.62426893 -30.51063812\n",
        "  -31.2437131 ]]\n"
       ]
      }
     ],
     "prompt_number": 351
    },
    {
     "cell_type": "code",
     "collapsed": false,
     "input": [],
     "language": "python",
     "metadata": {},
     "outputs": []
    }
   ],
   "metadata": {}
  }
 ]
}