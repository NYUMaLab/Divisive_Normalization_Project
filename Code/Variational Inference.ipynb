{
 "metadata": {
  "name": "",
  "signature": "sha256:63f5a021da0ef0b38dd47af3fe17a9bae168a4b6b08162258a9aa27e48dc469b"
 },
 "nbformat": 3,
 "nbformat_minor": 0,
 "worksheets": [
  {
   "cells": [
    {
     "cell_type": "code",
     "collapsed": false,
     "input": [
      "import numpy as np\n",
      "import scipy as sp\n",
      "import math\n",
      "from scipy.stats import norm, poisson\n",
      "num_stimuli = 3\n",
      "num_neurons = 200\n",
      "max_angle = math.pi\n",
      "rho = np.ones((num_stimuli,), dtype=np.int)\n",
      "c = np.random.dirichlet(rho, 1)[0]\n",
      "s = np.random.rand(num_stimuli)*max_angle\n",
      "sigma_tc = max_angle/(num_neurons/10)\n",
      "#sigma_tc = .1\n",
      "class Neuron(object):    \n",
      "    def __init__(self, s_pref):\n",
      "        self.s_pref = s_pref\n",
      "    \n",
      "    def response(self, s, c):\n",
      "        r = 0\n",
      "        for j in range(len(s)):\n",
      "            f_i = norm.pdf((s[j] - self.s_pref), scale=sigma_tc) * c[j]\n",
      "            r_j = np.random.poisson(f_i, 1)[0]\n",
      "            \"\"\"\n",
      "            if f_i > 0:\n",
      "                r_j = poisson.pmf(1, f_i)\n",
      "            else:\n",
      "                r_j = 0\n",
      "            \"\"\"\n",
      "            r += r_j\n",
      "        return r\n",
      "\n",
      "print s\n",
      "print c\n",
      "responses = []\n",
      "neurons = []\n",
      "for x in np.arange(0, max_angle, max_angle/num_neurons):\n",
      "    n = Neuron(x)\n",
      "    neurons.append(n)\n",
      "    responses.append(n.response(s, c))\n",
      "print responses\n",
      "print neurons[0].s_pref\n"
     ],
     "language": "python",
     "metadata": {},
     "outputs": [
      {
       "output_type": "stream",
       "stream": "stdout",
       "text": [
        "[ 2.49989342  1.89054044  0.76303125]\n",
        "[ 0.10891185  0.10644116  0.78464698]\n",
        "[0, 0, 0, 0, 0, 0, 0, 0, 0, 0, 0, 0, 0, 0, 0, 0, 0, 0, 0, 0, 0, 0, 0, 0, 0, 0, 0, 0, 0, 0, 2, 0, 0, 1, 2, 0, 2, 0, 3, 3, 1, 2, 3, 5, 3, 4, 2, 2, 1, 3, 1, 3, 2, 2, 2, 1, 1, 1, 0, 1, 0, 1, 2, 1, 1, 0, 0, 0, 0, 0, 0, 0, 0, 0, 0, 0, 0, 0, 0, 0, 0, 0, 0, 0, 0, 0, 0, 0, 0, 0, 0, 0, 0, 0, 0, 0, 0, 0, 0, 0, 0, 0, 0, 0, 0, 0, 0, 0, 0, 0, 0, 0, 0, 0, 0, 0, 0, 0, 0, 0, 0, 0, 0, 0, 0, 0, 0, 0, 0, 0, 0, 0, 0, 0, 0, 0, 0, 0, 0, 0, 0, 0, 0, 0, 0, 0, 0, 0, 1, 0, 0, 0, 0, 1, 0, 0, 0, 0, 0, 0, 1, 0, 0, 0, 0, 0, 0, 0, 1, 0, 0, 0, 0, 0, 0, 0, 0, 0, 0, 0, 0, 0, 0, 0, 0, 0, 0, 0, 0, 0, 0, 0, 0, 0, 0, 0, 0, 0, 0, 0]"
       ]
      },
      {
       "output_type": "stream",
       "stream": "stdout",
       "text": [
        "\n",
        "0.0\n"
       ]
      }
     ],
     "prompt_number": 2
    },
    {
     "cell_type": "code",
     "collapsed": false,
     "input": [
      "%matplotlib inline\n",
      "from scipy.stats import norm\n",
      "import matplotlib.pyplot as plt\n",
      "fig, ax = plt.subplots(1, 1)\n",
      "x = np.arange(0, max_angle, max_angle/num_neurons)\n",
      "ax.plot(x, responses,'r-', lw=5, alpha=0.6, label='responses')"
     ],
     "language": "python",
     "metadata": {},
     "outputs": [
      {
       "metadata": {},
       "output_type": "pyout",
       "prompt_number": 3,
       "text": [
        "[<matplotlib.lines.Line2D at 0x107472950>]"
       ]
      },
      {
       "metadata": {},
       "output_type": "display_data",
       "png": "[encoded data removed]",
       "text": [
        "<matplotlib.figure.Figure at 0x1065a2890>"
       ]
      }
     ],
     "prompt_number": 3
    },
    {
     "cell_type": "markdown",
     "metadata": {},
     "source": [
      "Better for simulation form:"
     ]
    },
    {
     "cell_type": "code",
     "collapsed": false,
     "input": [
      "norm = 1/float(math.pow(sigma_tc, 2))\n",
      "def f(i, j):\n",
      "    digamma = [sp.special.psi(alpha_j) for alpha_j in alpha]\n",
      "    e = digamma[j] - sum(digamma) + (math.pow((neurons[i].s_pref  - (eta[j]/tau[j])), 2) + (1/tau[j])) * norm\n",
      "    return e\n",
      "\n",
      "alpha = np.random.rand(num_stimuli)\n",
      "eta = np.random.rand(num_stimuli) * max_angle\n",
      "tau = np.random.rand(num_stimuli) * max_angle\n",
      "#alpha = np.ones(num_stimuli)*3 \n",
      "#eta = np.ones(num_stimuli)*3\n",
      "#tau = np.ones(num_stimuli)*3\n",
      "p = np.array([[f(i, j) for j in range(num_stimuli)] for i in range(num_neurons)])\n",
      "print alpha\n",
      "print eta\n",
      "print tau\n",
      "\n",
      "\n",
      "def update(r):\n",
      "    for j in range(num_stimuli):\n",
      "        sum1 = 0\n",
      "        sum2 = 0\n",
      "        for i in range(num_neurons):\n",
      "            f_i = [f(i, k) for k in range(num_stimuli)]\n",
      "            max_f = max(f_i)\n",
      "            argmax_f = np.argmax(f_i)\n",
      "            logsum = []\n",
      "            for k in range(len(f_i)):\n",
      "                if k != argmax_f:\n",
      "                    #print f_i[k] - max_f\n",
      "                    logsum.append(math.exp(f_i[k] - max_f))\n",
      "            p[i, j] += f(i, j) - max_f + math.log(sum(logsum))\n",
      "            s = r[i] * math.exp(p[i, j])\n",
      "            sum1 += s\n",
      "            sum2 += neurons[i].s_pref * s\n",
      "        print j\n",
      "        print p\n",
      "        print sum1\n",
      "        print sum2\n",
      "        eta[j] += norm * sum2 - eta[j]\n",
      "        tau[j] += norm * sum1 - tau[j]\n",
      "        alpha[j] += rho[j] - 1 + sum1 - alpha[j]\n",
      "\n",
      "for n in range(10):\n",
      "    update(responses)\n",
      "    print \"update\"\n",
      "    print eta\n",
      "    print tau\n",
      "    print alpha"
     ],
     "language": "python",
     "metadata": {},
     "outputs": []
    },
    {
     "cell_type": "markdown",
     "metadata": {},
     "source": [
      "Original Form:"
     ]
    },
    {
     "cell_type": "code",
     "collapsed": false,
     "input": [
      "norm = 1/float(math.pow(sigma_tc, 2))\n",
      "def f(i, j):\n",
      "    digamma = [sp.special.psi(alpha_j) for alpha_j in alpha]\n",
      "    e = digamma[j] - sum(digamma) + (math.pow((neurons[i].s_pref  - (eta[j]/tau[j])), 2) + (1/tau[j])) * norm\n",
      "    return math.exp(e)\n",
      "\n",
      "alpha = np.random.rand(num_stimuli)\n",
      "eta = np.random.rand(num_stimuli) * max_angle\n",
      "tau = np.random.rand(num_stimuli) * max_angle\n",
      "p = np.array([[f(i, j) for j in range(num_stimuli)] for i in range(num_neurons)])\n",
      "pi = 1/np.sum(p, axis=1)\n",
      "print pi\n",
      "\n",
      "def update(r):\n",
      "    for j in range(num_stimuli):\n",
      "        sum1 = 0\n",
      "        sum2 = 0\n",
      "        for i in range(num_neurons):\n",
      "            func = [f(i, k) for k in range(num_stimuli)]\n",
      "            #pi[i] += 1 - pi[i] * sum(func)\n",
      "            pi[i] = float(1)/ sum(func)\n",
      "            #print \"s_pref \" + str(neurons[i].s_pref)\n",
      "            #print eta\n",
      "            #print tau\n",
      "            #print \"pij \" + str(p[i, j])\n",
      "            #print \"fij \" + str(f(i, j))\n",
      "            #print \"pi_i \" + str(pi[i])\n",
      "            #print (f(i, j) * pi[i])\n",
      "            #print (f(i, j) * pi[i]) - p[i, j]\n",
      "            p[i, j] += (f(i, j) * pi[i]) - p[i, j]\n",
      "            #print p[i, j]\n",
      "            s = r[i] * p[i, j]\n",
      "            sum1 += s\n",
      "            sum2 += neurons[i].s_pref * s\n",
      "        #print sum1\n",
      "        #print sum2\n",
      "        eta[j] += norm * sum2 - eta[j]\n",
      "        tau[j] += norm * sum1 - tau[j]\n",
      "        alpha[j] += rho[j] - 1 + sum1 - alpha[j]\n",
      "\n",
      "update(responses)\n",
      "print(eta)\n",
      "print(tau)\n",
      "print(alpha)"
     ],
     "language": "python",
     "metadata": {},
     "outputs": [
      {
       "output_type": "stream",
       "stream": "stdout",
       "text": [
        "[  1.23723042e-052   8.57399954e-052   5.82412157e-051   3.87785457e-050\n",
        "   2.53085180e-049   1.61903419e-048   1.01521830e-047   6.23989046e-047\n",
        "   3.75931402e-046   2.22000704e-045   1.28503279e-044   7.29101816e-044\n",
        "   4.05486369e-043   2.21043857e-042   1.18112197e-041   6.18621714e-041\n",
        "   3.17592092e-040   1.59818964e-039   7.88317292e-039   3.81142962e-038\n",
        "   1.80629578e-037   8.39081102e-037   3.82061365e-036   1.70520429e-035\n",
        "   7.45991399e-035   3.19893440e-034   1.34459335e-033   5.53975673e-033\n",
        "   2.23719860e-032   8.85589572e-032   3.43616935e-031   1.30686503e-030\n",
        "   4.87192981e-030   1.78026814e-029   6.37652295e-029   2.23870333e-028\n",
        "   7.70412415e-028   2.59874766e-027   8.59249046e-027   2.78476220e-026\n",
        "   8.84649590e-026   2.75466348e-025   8.40775254e-025   2.51539028e-024\n",
        "   7.37640747e-024   2.12030542e-023   5.97400826e-023   1.64985877e-022\n",
        "   4.46622364e-022   1.18507188e-021   3.08214409e-021   7.85678446e-021\n",
        "   1.96269819e-020   4.80232863e-020   1.14882267e-019   2.67003593e-019\n",
        "   5.90105549e-019   1.16127885e-018   1.75856522e-018   1.78838132e-018\n",
        "   1.30783859e-018   8.11757013e-019   4.70438914e-019   2.63367937e-019\n",
        "   1.43905011e-019   7.69734775e-020   4.03403027e-020   2.07198381e-020\n",
        "   1.04308840e-020   5.14704117e-021   2.48944167e-021   1.18020360e-021\n",
        "   5.48433637e-022   2.49806785e-022   1.11531577e-022   4.88095939e-023\n",
        "   2.09375778e-023   8.80362764e-024   3.62836467e-024   1.46579846e-024\n",
        "   5.80432441e-025   2.25290662e-025   8.57134162e-026   3.19645449e-026\n",
        "   1.16842907e-026   4.18649222e-027   1.47032159e-027   5.06160778e-028\n",
        "   1.70796416e-028   5.64915030e-029   1.83147761e-029   5.82015044e-030\n",
        "   1.81292950e-030   5.53530727e-031   1.65659620e-031   4.85965790e-032\n",
        "   1.39736173e-032   3.93845696e-033   1.08807159e-033   2.94647629e-034\n",
        "   7.82100457e-035   2.03486799e-035   5.18948246e-036   1.29725684e-036\n",
        "   3.17864480e-037   7.63435130e-038   1.79728269e-038   4.14738883e-039\n",
        "   9.38095873e-040   2.07985859e-040   4.51995905e-041   9.62829312e-042\n",
        "   2.01038029e-042   4.11453954e-043   8.25426437e-044   1.62311623e-044\n",
        "   3.12849146e-045   5.91063906e-046   1.09458128e-046   1.98689859e-047\n",
        "   3.53522856e-048   6.16557243e-049   1.05400682e-049   1.76614985e-050\n",
        "   2.90085343e-051   4.67022855e-052   7.36995087e-053   1.14000081e-053\n",
        "   1.72846202e-054   2.56879017e-055   3.74206675e-056   5.34328748e-057\n",
        "   7.47858891e-058   1.02599417e-058   1.37969863e-059   1.81860209e-060\n",
        "   2.34966121e-061   2.97568475e-062   3.69387932e-063   4.49461603e-064\n",
        "   5.36063947e-065   6.26692812e-066   7.18136396e-067   8.06627961e-068\n",
        "   8.88083328e-069   9.58403239e-070   1.01381086e-070   1.05118635e-071\n",
        "   1.06835749e-072   1.06430866e-073   1.03928032e-074   9.94745361e-076\n",
        "   9.33265583e-077   8.58247780e-078   7.73631665e-079   6.83549384e-080\n",
        "   5.91997218e-081   5.02554939e-082   4.18178341e-083   3.41077943e-084\n",
        "   2.72684120e-085   2.13688016e-086   1.64140064e-087   1.23584254e-088\n",
        "   9.12065007e-090   6.59785180e-091   4.67835775e-092   3.25160971e-093\n",
        "   2.21522328e-094   1.47928110e-095   9.68273452e-097   6.21240055e-098\n",
        "   3.90692419e-099   2.40837788e-100   1.45521910e-101   8.61878906e-103\n",
        "   5.00354982e-104   2.84724157e-105   1.58812438e-106   8.68278046e-108\n",
        "   4.65315199e-109   2.44427332e-110   1.25853821e-111   6.35180497e-113\n",
        "   3.14225926e-114   1.52370532e-115   7.24225920e-117   3.37412568e-118\n",
        "   1.54085778e-119   6.89728175e-121   3.02626872e-122   1.30152082e-123\n",
        "   5.48667029e-125   2.26715241e-126   9.18262140e-128   3.64558100e-129\n",
        "   1.41866853e-130   5.41139493e-132   2.02325972e-133   7.41494868e-135]\n",
        "[  0.  nan  nan]\n",
        "[  0.  nan  nan]\n",
        "[  0.  nan  nan]\n"
       ]
      },
      {
       "output_type": "stream",
       "stream": "stderr",
       "text": [
        "-c:4: RuntimeWarning: invalid value encountered in double_scalars\n",
        "-c:4: RuntimeWarning: divide by zero encountered in double_scalars\n"
       ]
      }
     ],
     "prompt_number": 4
    }
   ],
   "metadata": {}
  }
 ]
}