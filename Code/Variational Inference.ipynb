{
 "metadata": {
  "name": "",
  "signature": "sha256:2f7565f6a3108c840006ee51a7c2e6332ed2ccaf7bc0c51718999d103d947168"
 },
 "nbformat": 3,
 "nbformat_minor": 0,
 "worksheets": [
  {
   "cells": [
    {
     "cell_type": "code",
     "collapsed": false,
     "input": [
      "import numpy as np\n",
      "import scipy as sp\n",
      "import math\n",
      "from scipy.stats import norm, poisson\n",
      "num_stimuli = 3\n",
      "num_neurons = 200\n",
      "max_angle = math.pi\n",
      "rho = np.ones((num_stimuli,), dtype=np.int)\n",
      "c = np.random.dirichlet(rho, 1)[0]\n",
      "s = np.random.rand(num_stimuli)*max_angle\n",
      "sigma_tc = max_angle/(num_neurons/10)\n",
      "#sigma_tc = .1\n",
      "class Neuron(object):    \n",
      "    def __init__(self, s_pref):\n",
      "        self.s_pref = s_pref\n",
      "    \n",
      "    def response(self, s, c):\n",
      "        r = 0\n",
      "        for j in range(len(s)):\n",
      "            f_i = norm.pdf((s[j] - self.s_pref), scale=sigma_tc) * c[j]\n",
      "            r_j = np.random.poisson(f_i, 1)[0]\n",
      "            \"\"\"\n",
      "            if f_i > 0:\n",
      "                r_j = poisson.pmf(1, f_i)\n",
      "            else:\n",
      "                r_j = 0\n",
      "            \"\"\"\n",
      "            r += r_j\n",
      "        return r\n",
      "\n",
      "print s\n",
      "print c\n",
      "responses = []\n",
      "neurons = []\n",
      "for x in np.arange(0, max_angle, max_angle/num_neurons):\n",
      "    n = Neuron(x)\n",
      "    neurons.append(n)\n",
      "    responses.append(n.response(s, c))\n",
      "print responses\n",
      "print neurons[0].s_pref\n"
     ],
     "language": "python",
     "metadata": {},
     "outputs": [
      {
       "output_type": "stream",
       "stream": "stdout",
       "text": [
        "[ 0.94522426  2.45242922  2.41879667]\n",
        "[ 0.1990768   0.63206265  0.16886055]\n",
        "[0, 0, 0, 0, 0, 0, 0, 0, 0, 0, 0, 0, 0, 0, 0, 0, 0, 0, 0, 0, 0, 0, 0, 0, 0, 0, 0, 0, 0, 0, 0, 0, 0, 0, 0, 0, 0, 0, 0, 0, 0, 0, 0, 1, 0, 0, 0, 0, 0, 0, 0, 0, 0, 0, 0, 0, 1, 0, 0, 1, 1, 0, 1, 0, 0, 1, 2, 1, 1, 2, 0, 0, 1, 0, 0, 0, 0, 1, 1, 0, 1, 0, 0, 0, 0, 0, 0, 0, 0, 0, 0, 0, 0, 0, 0, 0, 0, 0, 0, 0, 0, 0, 0, 0, 0, 0, 0, 0, 0, 0, 0, 0, 0, 0, 0, 0, 0, 0, 0, 0, 0, 0, 0, 0, 0, 0, 0, 0, 0, 0, 0, 1, 0, 0, 0, 0, 0, 0, 0, 0, 0, 3, 0, 1, 0, 4, 1, 2, 0, 1, 0, 0, 1, 3, 2, 4, 2, 4, 1, 3, 1, 1, 1, 3, 2, 0, 2, 1, 2, 2, 0, 2, 2, 1, 0, 0, 0, 0, 0, 0, 1, 0, 0, 0, 0, 0, 0, 0, 0, 0, 0, 0, 0, 0, 0, 0, 0, 0, 0, 0]"
       ]
      },
      {
       "output_type": "stream",
       "stream": "stdout",
       "text": [
        "\n",
        "0.0\n"
       ]
      }
     ],
     "prompt_number": 1
    },
    {
     "cell_type": "code",
     "collapsed": false,
     "input": [
      "%matplotlib inline\n",
      "from scipy.stats import norm\n",
      "import matplotlib.pyplot as plt\n",
      "fig, ax = plt.subplots(1, 1)\n",
      "x = np.arange(0, max_angle, max_angle/num_neurons)\n",
      "ax.plot(x, responses,'r-', lw=5, alpha=0.6, label='responses')"
     ],
     "language": "python",
     "metadata": {},
     "outputs": [
      {
       "metadata": {},
       "output_type": "pyout",
       "prompt_number": 108,
       "text": [
        "[<matplotlib.lines.Line2D at 0x109ae1950>]"
       ]
      },
      {
       "metadata": {},
       "output_type": "display_data",
       "png": "[encoded data removed]",
       "text": [
        "<matplotlib.figure.Figure at 0x1099ebbd0>"
       ]
      }
     ],
     "prompt_number": 108
    },
    {
     "cell_type": "markdown",
     "metadata": {},
     "source": [
      "Better for simulation form:"
     ]
    },
    {
     "cell_type": "code",
     "collapsed": false,
     "input": [
      "norm = 1/float(math.pow(sigma_tc, 2))\n",
      "def f(i, j):\n",
      "    digamma = [sp.special.psi(alpha_j) for alpha_j in alpha]\n",
      "    e = digamma[j] - sum(digamma) + (math.pow((neurons[i].s_pref  - (eta[j]/tau[j])), 2) + (1/tau[j])) * norm\n",
      "    return e\n",
      "\n",
      "alpha = np.random.rand(num_stimuli)\n",
      "eta = np.random.rand(num_stimuli) * max_angle\n",
      "tau = np.random.rand(num_stimuli) * max_angle\n",
      "#alpha = np.ones(num_stimuli)*3 \n",
      "#eta = np.ones(num_stimuli)*3\n",
      "#tau = np.ones(num_stimuli)*3\n",
      "p = np.array([[f(i, j) for j in range(num_stimuli)] for i in range(num_neurons)])\n",
      "print alpha\n",
      "print eta\n",
      "print tau\n",
      "\n",
      "\n",
      "def update(r):\n",
      "    for j in range(num_stimuli):\n",
      "        sum1 = 0\n",
      "        sum2 = 0\n",
      "        for i in range(num_neurons):\n",
      "            f_i = [f(i, k) for k in range(num_stimuli)]\n",
      "            max_f = max(f_i)\n",
      "            argmax_f = np.argmax(f_i)\n",
      "            logsum = []\n",
      "            for k in range(len(f_i)):\n",
      "                if k != argmax_f:\n",
      "                    #print f_i[k] - max_f\n",
      "                    logsum.append(math.exp(f_i[k] - max_f))\n",
      "            p[i, j] += f(i, j) - max_f + math.log(sum(logsum))\n",
      "            s = r[i] * math.exp(p[i, j])\n",
      "            sum1 += s\n",
      "            sum2 += neurons[i].s_pref * s\n",
      "        print j\n",
      "        print p\n",
      "        print sum1\n",
      "        print sum2\n",
      "        eta[j] += norm * sum2 - eta[j]\n",
      "        tau[j] += norm * sum1 - tau[j]\n",
      "        alpha[j] += rho[j] - 1 + sum1 - alpha[j]\n",
      "\n",
      "for n in range(10):\n",
      "    update(responses)\n",
      "    print \"update\"\n",
      "    print eta\n",
      "    print tau\n",
      "    print alpha"
     ],
     "language": "python",
     "metadata": {},
     "outputs": []
    },
    {
     "cell_type": "markdown",
     "metadata": {},
     "source": [
      "Original Form:"
     ]
    },
    {
     "cell_type": "code",
     "collapsed": false,
     "input": [
      "norm = 1/float(math.pow(sigma_tc, 2))\n",
      "def f(i, j):\n",
      "    digamma = [sp.special.psi(alpha_j) for alpha_j in alpha]\n",
      "    e = digamma[j] - sum(digamma) + (math.pow((neurons[i].s_pref  - (eta[j]/tau[j])), 2) + (1/tau[j])) * norm\n",
      "    return math.exp(e)\n",
      "\n",
      "alpha = np.random.rand(num_stimuli)\n",
      "eta = np.random.rand(num_stimuli) * max_angle\n",
      "tau = np.random.rand(num_stimuli) * max_angle\n",
      "p = np.array([[f(i, j) for j in range(num_stimuli)] for i in range(num_neurons)])\n",
      "pi = 1/np.sum(p, axis=1)\n",
      "print pi\n",
      "\n",
      "def update(r):\n",
      "    for j in range(num_stimuli):\n",
      "        sum1 = 0\n",
      "        sum2 = 0\n",
      "        for i in range(num_neurons):\n",
      "            func = [f(i, k) for k in range(num_stimuli)]\n",
      "            pi[i] += 1 - pi[i] * sum(func)\n",
      "            #print \"s_pref \" + str(neurons[i].s_pref)\n",
      "            #print eta\n",
      "            #print tau\n",
      "            #print \"pij \" + str(p[i, j])\n",
      "            #print \"fij \" + str(f(i, j))\n",
      "            #print \"pi_i \" + str(pi[i])\n",
      "            #print (f(i, j) * pi[i])\n",
      "            #print (f(i, j) * pi[i]) - p[i, j]\n",
      "            p[i, j] += (f(i, j) * pi[i]) - p[i, j]\n",
      "            #print p[i, j]\n",
      "            s = r[i] * p[i, j]\n",
      "            sum1 += s\n",
      "            sum2 += neurons[i].s_pref * s\n",
      "        #print sum1\n",
      "        #print sum2\n",
      "        eta[j] += norm * sum2 - eta[j]\n",
      "        tau[j] += norm * sum1 - tau[j]\n",
      "        alpha[j] += rho[j] - 1 + sum1 - alpha[j]\n",
      "\n",
      "update(responses)\n",
      "print(eta)\n",
      "print(tau)\n",
      "print(alpha)"
     ],
     "language": "python",
     "metadata": {},
     "outputs": []
    }
   ],
   "metadata": {}
  }
 ]
}