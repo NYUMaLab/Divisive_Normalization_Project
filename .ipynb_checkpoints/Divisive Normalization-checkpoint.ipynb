{
 "metadata": {
  "name": "",
  "signature": "sha256:580ed6f9cb9b45fd86234abae89bb6dcbae09e6e4e89092e78c3b82b01b665a9"
 },
 "nbformat": 3,
 "nbformat_minor": 0,
 "worksheets": [
  {
   "cells": [
    {
     "cell_type": "code",
     "collapsed": false,
     "input": [
      "from numpy import *\n",
      "from scipy import integrate\n",
      "from scipy.stats import * \n",
      "import matplotlib.pyplot as plt\n",
      "fig, ax = plt.subplots(1, 1)\n",
      "x2 = lambda x: x**2\n",
      "result = integrate.quad(x2, 0, 4)\n",
      "print result"
     ],
     "language": "python",
     "metadata": {},
     "outputs": [
      {
       "ename": "SyntaxError",
       "evalue": "invalid syntax (<ipython-input-14-2af8a7c283c8>, line 1)",
       "output_type": "pyerr",
       "traceback": [
        "\u001b[0;36m  File \u001b[0;32m\"<ipython-input-14-2af8a7c283c8>\"\u001b[0;36m, line \u001b[0;32m1\u001b[0m\n\u001b[0;31m    from numpy import * as numpy\u001b[0m\n\u001b[0m                         ^\u001b[0m\n\u001b[0;31mSyntaxError\u001b[0m\u001b[0;31m:\u001b[0m invalid syntax\n"
       ]
      }
     ],
     "prompt_number": 14
    },
    {
     "cell_type": "code",
     "collapsed": false,
     "input": [
      "x = np.linspace(norm.ppf(0.01),\n",
      "              norm.ppf(0.99), 100)\n",
      "ax.plot(x, norm.pdf(x),\n",
      "         'r-', lw=5, alpha=0.6, label='norm pdf')"
     ],
     "language": "python",
     "metadata": {},
     "outputs": [
      {
       "metadata": {},
       "output_type": "pyout",
       "prompt_number": 7,
       "text": [
        "[<matplotlib.lines.Line2D at 0x10d2c3c50>]"
       ]
      }
     ],
     "prompt_number": 7
    },
    {
     "cell_type": "code",
     "collapsed": false,
     "input": [
      "r = norm.rvs(size=1000)\n",
      "ax.hist(r, normed=True, histtype='stepfilled', alpha=0.2)\n",
      "ax.legend(loc='best', frameon=False)\n",
      "plt.show()"
     ],
     "language": "python",
     "metadata": {},
     "outputs": [],
     "prompt_number": 8
    },
    {
     "cell_type": "code",
     "collapsed": false,
     "input": [
      "norm.pdf(45, loc=50, scale=1)\n",
      "inpdf = lambda c: norm.pdf(0, loc=c, scale = 1)\n",
      "result = integrate.quad(inpdf, -np.inf, np.inf)\n",
      "print result"
     ],
     "language": "python",
     "metadata": {},
     "outputs": [
      {
       "output_type": "stream",
       "stream": "stdout",
       "text": [
        "(0.9999999999999998, 1.0178191320905743e-08)\n"
       ]
      }
     ],
     "prompt_number": 21
    },
    {
     "cell_type": "code",
     "collapsed": false,
     "input": [
      "print inpdf(50)"
     ],
     "language": "python",
     "metadata": {},
     "outputs": [
      {
       "output_type": "stream",
       "stream": "stdout",
       "text": [
        "0.398942280401\n"
       ]
      }
     ],
     "prompt_number": 18
    },
    {
     "cell_type": "code",
     "collapsed": false,
     "input": [],
     "language": "python",
     "metadata": {},
     "outputs": []
    }
   ],
   "metadata": {}
  }
 ]
}